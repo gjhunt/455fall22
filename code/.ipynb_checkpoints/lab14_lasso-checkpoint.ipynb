{
 "cells": [
  {
   "cell_type": "code",
   "execution_count": 1,
   "metadata": {},
   "outputs": [
    {
     "name": "stderr",
     "output_type": "stream",
     "text": [
      "Warning message:\n",
      "\"package 'dtangle' was built under R version 4.0.5\"\n"
     ]
    }
   ],
   "source": [
    "library('dtangle')"
   ]
  },
  {
   "cell_type": "code",
   "execution_count": 2,
   "metadata": {},
   "outputs": [],
   "source": [
    "X = shen_orr_ex$data$log"
   ]
  },
  {
   "cell_type": "code",
   "execution_count": 3,
   "metadata": {},
   "outputs": [
    {
     "data": {
      "text/html": [
       "<table class=\"dataframe\">\n",
       "<caption>A data.frame: 6 × 600</caption>\n",
       "<thead>\n",
       "\t<tr><th></th><th scope=col>X1367566_at</th><th scope=col>X1367568_a_at</th><th scope=col>X1367570_at</th><th scope=col>X1367584_at</th><th scope=col>X1367614_at</th><th scope=col>X1367647_at</th><th scope=col>X1367661_at</th><th scope=col>X1367664_at</th><th scope=col>X1367804_at</th><th scope=col>X1367816_at</th><th scope=col>...</th><th scope=col>X1398282_at</th><th scope=col>X1398318_at</th><th scope=col>X1398357_at</th><th scope=col>X1398368_at</th><th scope=col>X1398514_at</th><th scope=col>X1398577_at</th><th scope=col>X1398578_at</th><th scope=col>X1398625_at</th><th scope=col>X1398634_at</th><th scope=col>X1398716_at</th></tr>\n",
       "\t<tr><th></th><th scope=col>&lt;dbl&gt;</th><th scope=col>&lt;dbl&gt;</th><th scope=col>&lt;dbl&gt;</th><th scope=col>&lt;dbl&gt;</th><th scope=col>&lt;dbl&gt;</th><th scope=col>&lt;dbl&gt;</th><th scope=col>&lt;dbl&gt;</th><th scope=col>&lt;dbl&gt;</th><th scope=col>&lt;dbl&gt;</th><th scope=col>&lt;dbl&gt;</th><th scope=col>...</th><th scope=col>&lt;dbl&gt;</th><th scope=col>&lt;dbl&gt;</th><th scope=col>&lt;dbl&gt;</th><th scope=col>&lt;dbl&gt;</th><th scope=col>&lt;dbl&gt;</th><th scope=col>&lt;dbl&gt;</th><th scope=col>&lt;dbl&gt;</th><th scope=col>&lt;dbl&gt;</th><th scope=col>&lt;dbl&gt;</th><th scope=col>&lt;dbl&gt;</th></tr>\n",
       "</thead>\n",
       "<tbody>\n",
       "\t<tr><th scope=row>GSM495209</th><td>3.396192</td><td>7.685769</td><td>5.722330</td><td>6.628653</td><td>6.659618</td><td>12.737089</td><td>5.163315</td><td>3.101658</td><td>11.459725</td><td>4.819886</td><td>...</td><td>10.524515</td><td>4.401075</td><td> 3.327705</td><td>4.043979</td><td>10.773481</td><td>12.232607</td><td> 3.410767</td><td> 2.587550</td><td>10.230386</td><td>2.275608</td></tr>\n",
       "\t<tr><th scope=row>GSM495210</th><td>2.882626</td><td>7.759002</td><td>6.005583</td><td>6.771917</td><td>6.655919</td><td>12.755694</td><td>5.491298</td><td>3.095527</td><td>11.439763</td><td>4.708422</td><td>...</td><td>10.548672</td><td>3.953334</td><td> 3.605773</td><td>3.779552</td><td>10.819626</td><td>12.097947</td><td> 3.605773</td><td> 2.429901</td><td>10.233172</td><td>1.937317</td></tr>\n",
       "\t<tr><th scope=row>GSM495211</th><td>3.072980</td><td>7.598871</td><td>5.741630</td><td>6.564820</td><td>6.741483</td><td>12.725779</td><td>5.291097</td><td>2.864352</td><td>11.425470</td><td>4.753807</td><td>...</td><td>10.536997</td><td>4.766228</td><td> 3.657362</td><td>4.435827</td><td>10.861409</td><td>12.218917</td><td> 3.309184</td><td> 2.611046</td><td>10.202474</td><td>1.919408</td></tr>\n",
       "\t<tr><th scope=row>GSM495212</th><td>3.168440</td><td>7.209959</td><td>6.396841</td><td>7.040779</td><td>5.282323</td><td> 6.056859</td><td>4.714119</td><td>2.349998</td><td> 4.009121</td><td>8.512256</td><td>...</td><td> 3.577845</td><td>3.825272</td><td>11.283218</td><td>9.241972</td><td> 2.816389</td><td> 4.849044</td><td>10.391058</td><td>10.849582</td><td> 2.787449</td><td>7.923482</td></tr>\n",
       "\t<tr><th scope=row>GSM495213</th><td>3.087147</td><td>7.321854</td><td>6.483467</td><td>7.054886</td><td>5.469455</td><td> 6.045071</td><td>4.713800</td><td>2.570193</td><td> 4.100364</td><td>8.640070</td><td>...</td><td> 3.529783</td><td>3.634708</td><td>11.322901</td><td>9.206841</td><td> 2.836462</td><td> 4.920250</td><td>10.263996</td><td>10.778257</td><td> 2.581674</td><td>8.127655</td></tr>\n",
       "\t<tr><th scope=row>GSM495214</th><td>2.768613</td><td>7.277230</td><td>6.747241</td><td>7.079465</td><td>5.277774</td><td> 5.821334</td><td>4.967451</td><td>2.819242</td><td> 4.110803</td><td>8.554801</td><td>...</td><td> 3.700635</td><td>3.726439</td><td>11.288997</td><td>9.229028</td><td> 2.599532</td><td> 5.177272</td><td>10.423879</td><td>10.999074</td><td> 2.230049</td><td>8.029409</td></tr>\n",
       "</tbody>\n",
       "</table>\n"
      ],
      "text/latex": [
       "A data.frame: 6 × 600\n",
       "\\begin{tabular}{r|lllllllllllllllllllll}\n",
       "  & X1367566\\_at & X1367568\\_a\\_at & X1367570\\_at & X1367584\\_at & X1367614\\_at & X1367647\\_at & X1367661\\_at & X1367664\\_at & X1367804\\_at & X1367816\\_at & ... & X1398282\\_at & X1398318\\_at & X1398357\\_at & X1398368\\_at & X1398514\\_at & X1398577\\_at & X1398578\\_at & X1398625\\_at & X1398634\\_at & X1398716\\_at\\\\\n",
       "  & <dbl> & <dbl> & <dbl> & <dbl> & <dbl> & <dbl> & <dbl> & <dbl> & <dbl> & <dbl> & ... & <dbl> & <dbl> & <dbl> & <dbl> & <dbl> & <dbl> & <dbl> & <dbl> & <dbl> & <dbl>\\\\\n",
       "\\hline\n",
       "\tGSM495209 & 3.396192 & 7.685769 & 5.722330 & 6.628653 & 6.659618 & 12.737089 & 5.163315 & 3.101658 & 11.459725 & 4.819886 & ... & 10.524515 & 4.401075 &  3.327705 & 4.043979 & 10.773481 & 12.232607 &  3.410767 &  2.587550 & 10.230386 & 2.275608\\\\\n",
       "\tGSM495210 & 2.882626 & 7.759002 & 6.005583 & 6.771917 & 6.655919 & 12.755694 & 5.491298 & 3.095527 & 11.439763 & 4.708422 & ... & 10.548672 & 3.953334 &  3.605773 & 3.779552 & 10.819626 & 12.097947 &  3.605773 &  2.429901 & 10.233172 & 1.937317\\\\\n",
       "\tGSM495211 & 3.072980 & 7.598871 & 5.741630 & 6.564820 & 6.741483 & 12.725779 & 5.291097 & 2.864352 & 11.425470 & 4.753807 & ... & 10.536997 & 4.766228 &  3.657362 & 4.435827 & 10.861409 & 12.218917 &  3.309184 &  2.611046 & 10.202474 & 1.919408\\\\\n",
       "\tGSM495212 & 3.168440 & 7.209959 & 6.396841 & 7.040779 & 5.282323 &  6.056859 & 4.714119 & 2.349998 &  4.009121 & 8.512256 & ... &  3.577845 & 3.825272 & 11.283218 & 9.241972 &  2.816389 &  4.849044 & 10.391058 & 10.849582 &  2.787449 & 7.923482\\\\\n",
       "\tGSM495213 & 3.087147 & 7.321854 & 6.483467 & 7.054886 & 5.469455 &  6.045071 & 4.713800 & 2.570193 &  4.100364 & 8.640070 & ... &  3.529783 & 3.634708 & 11.322901 & 9.206841 &  2.836462 &  4.920250 & 10.263996 & 10.778257 &  2.581674 & 8.127655\\\\\n",
       "\tGSM495214 & 2.768613 & 7.277230 & 6.747241 & 7.079465 & 5.277774 &  5.821334 & 4.967451 & 2.819242 &  4.110803 & 8.554801 & ... &  3.700635 & 3.726439 & 11.288997 & 9.229028 &  2.599532 &  5.177272 & 10.423879 & 10.999074 &  2.230049 & 8.029409\\\\\n",
       "\\end{tabular}\n"
      ],
      "text/markdown": [
       "\n",
       "A data.frame: 6 × 600\n",
       "\n",
       "| <!--/--> | X1367566_at &lt;dbl&gt; | X1367568_a_at &lt;dbl&gt; | X1367570_at &lt;dbl&gt; | X1367584_at &lt;dbl&gt; | X1367614_at &lt;dbl&gt; | X1367647_at &lt;dbl&gt; | X1367661_at &lt;dbl&gt; | X1367664_at &lt;dbl&gt; | X1367804_at &lt;dbl&gt; | X1367816_at &lt;dbl&gt; | ... ... | X1398282_at &lt;dbl&gt; | X1398318_at &lt;dbl&gt; | X1398357_at &lt;dbl&gt; | X1398368_at &lt;dbl&gt; | X1398514_at &lt;dbl&gt; | X1398577_at &lt;dbl&gt; | X1398578_at &lt;dbl&gt; | X1398625_at &lt;dbl&gt; | X1398634_at &lt;dbl&gt; | X1398716_at &lt;dbl&gt; |\n",
       "|---|---|---|---|---|---|---|---|---|---|---|---|---|---|---|---|---|---|---|---|---|---|\n",
       "| GSM495209 | 3.396192 | 7.685769 | 5.722330 | 6.628653 | 6.659618 | 12.737089 | 5.163315 | 3.101658 | 11.459725 | 4.819886 | ... | 10.524515 | 4.401075 |  3.327705 | 4.043979 | 10.773481 | 12.232607 |  3.410767 |  2.587550 | 10.230386 | 2.275608 |\n",
       "| GSM495210 | 2.882626 | 7.759002 | 6.005583 | 6.771917 | 6.655919 | 12.755694 | 5.491298 | 3.095527 | 11.439763 | 4.708422 | ... | 10.548672 | 3.953334 |  3.605773 | 3.779552 | 10.819626 | 12.097947 |  3.605773 |  2.429901 | 10.233172 | 1.937317 |\n",
       "| GSM495211 | 3.072980 | 7.598871 | 5.741630 | 6.564820 | 6.741483 | 12.725779 | 5.291097 | 2.864352 | 11.425470 | 4.753807 | ... | 10.536997 | 4.766228 |  3.657362 | 4.435827 | 10.861409 | 12.218917 |  3.309184 |  2.611046 | 10.202474 | 1.919408 |\n",
       "| GSM495212 | 3.168440 | 7.209959 | 6.396841 | 7.040779 | 5.282323 |  6.056859 | 4.714119 | 2.349998 |  4.009121 | 8.512256 | ... |  3.577845 | 3.825272 | 11.283218 | 9.241972 |  2.816389 |  4.849044 | 10.391058 | 10.849582 |  2.787449 | 7.923482 |\n",
       "| GSM495213 | 3.087147 | 7.321854 | 6.483467 | 7.054886 | 5.469455 |  6.045071 | 4.713800 | 2.570193 |  4.100364 | 8.640070 | ... |  3.529783 | 3.634708 | 11.322901 | 9.206841 |  2.836462 |  4.920250 | 10.263996 | 10.778257 |  2.581674 | 8.127655 |\n",
       "| GSM495214 | 2.768613 | 7.277230 | 6.747241 | 7.079465 | 5.277774 |  5.821334 | 4.967451 | 2.819242 |  4.110803 | 8.554801 | ... |  3.700635 | 3.726439 | 11.288997 | 9.229028 |  2.599532 |  5.177272 | 10.423879 | 10.999074 |  2.230049 | 8.029409 |\n",
       "\n"
      ],
      "text/plain": [
       "          X1367566_at X1367568_a_at X1367570_at X1367584_at X1367614_at\n",
       "GSM495209 3.396192    7.685769      5.722330    6.628653    6.659618   \n",
       "GSM495210 2.882626    7.759002      6.005583    6.771917    6.655919   \n",
       "GSM495211 3.072980    7.598871      5.741630    6.564820    6.741483   \n",
       "GSM495212 3.168440    7.209959      6.396841    7.040779    5.282323   \n",
       "GSM495213 3.087147    7.321854      6.483467    7.054886    5.469455   \n",
       "GSM495214 2.768613    7.277230      6.747241    7.079465    5.277774   \n",
       "          X1367647_at X1367661_at X1367664_at X1367804_at X1367816_at ...\n",
       "GSM495209 12.737089   5.163315    3.101658    11.459725   4.819886    ...\n",
       "GSM495210 12.755694   5.491298    3.095527    11.439763   4.708422    ...\n",
       "GSM495211 12.725779   5.291097    2.864352    11.425470   4.753807    ...\n",
       "GSM495212  6.056859   4.714119    2.349998     4.009121   8.512256    ...\n",
       "GSM495213  6.045071   4.713800    2.570193     4.100364   8.640070    ...\n",
       "GSM495214  5.821334   4.967451    2.819242     4.110803   8.554801    ...\n",
       "          X1398282_at X1398318_at X1398357_at X1398368_at X1398514_at\n",
       "GSM495209 10.524515   4.401075     3.327705   4.043979    10.773481  \n",
       "GSM495210 10.548672   3.953334     3.605773   3.779552    10.819626  \n",
       "GSM495211 10.536997   4.766228     3.657362   4.435827    10.861409  \n",
       "GSM495212  3.577845   3.825272    11.283218   9.241972     2.816389  \n",
       "GSM495213  3.529783   3.634708    11.322901   9.206841     2.836462  \n",
       "GSM495214  3.700635   3.726439    11.288997   9.229028     2.599532  \n",
       "          X1398577_at X1398578_at X1398625_at X1398634_at X1398716_at\n",
       "GSM495209 12.232607    3.410767    2.587550   10.230386   2.275608   \n",
       "GSM495210 12.097947    3.605773    2.429901   10.233172   1.937317   \n",
       "GSM495211 12.218917    3.309184    2.611046   10.202474   1.919408   \n",
       "GSM495212  4.849044   10.391058   10.849582    2.787449   7.923482   \n",
       "GSM495213  4.920250   10.263996   10.778257    2.581674   8.127655   \n",
       "GSM495214  5.177272   10.423879   10.999074    2.230049   8.029409   "
      ]
     },
     "metadata": {},
     "output_type": "display_data"
    }
   ],
   "source": [
    "head(X)"
   ]
  },
  {
   "cell_type": "code",
   "execution_count": 4,
   "metadata": {},
   "outputs": [
    {
     "data": {
      "text/html": [
       "<style>\n",
       ".dl-inline {width: auto; margin:0; padding: 0}\n",
       ".dl-inline>dt, .dl-inline>dd {float: none; width: auto; display: inline-block}\n",
       ".dl-inline>dt::after {content: \":\\0020\"; padding-right: .5ex}\n",
       ".dl-inline>dt:not(:first-of-type) {padding-left: .5ex}\n",
       "</style><dl class=dl-inline><dt>GSM495209</dt><dd>1</dd><dt>GSM495210</dt><dd>1</dd><dt>GSM495211</dt><dd>1</dd><dt>GSM495212</dt><dd>0</dd><dt>GSM495213</dt><dd>0</dd><dt>GSM495214</dt><dd>0</dd><dt>GSM495215</dt><dd>0</dd><dt>GSM495216</dt><dd>0</dd><dt>GSM495217</dt><dd>0</dd><dt>GSM495218</dt><dd>0.05</dd><dt>GSM495219</dt><dd>0.05</dd><dt>GSM495220</dt><dd>0.05</dd><dt>GSM495221</dt><dd>0.7</dd><dt>GSM495222</dt><dd>0.7</dd><dt>GSM495223</dt><dd>0.7</dd><dt>GSM495224</dt><dd>0.25</dd><dt>GSM495225</dt><dd>0.25</dd><dt>GSM495226</dt><dd>0.25</dd><dt>GSM495227</dt><dd>0.7</dd><dt>GSM495228</dt><dd>0.7</dd><dt>GSM495229</dt><dd>0.7</dd><dt>GSM495230</dt><dd>0.45</dd><dt>GSM495231</dt><dd>0.45</dd><dt>GSM495232</dt><dd>0.45</dd><dt>GSM495233</dt><dd>0.55</dd><dt>GSM495234</dt><dd>0.55</dd><dt>GSM495235</dt><dd>0.55</dd><dt>GSM495236</dt><dd>0.5</dd><dt>GSM495237</dt><dd>0.5</dd><dt>GSM495238</dt><dd>0.5</dd><dt>GSM495239</dt><dd>0.55</dd><dt>GSM495240</dt><dd>0.55</dd><dt>GSM495241</dt><dd>0.55</dd><dt>GSM495242</dt><dd>0.5</dd><dt>GSM495243</dt><dd>0.5</dd><dt>GSM495244</dt><dd>0.5</dd><dt>GSM495245</dt><dd>0.6</dd><dt>GSM495246</dt><dd>0.6</dd><dt>GSM495247</dt><dd>0.6</dd><dt>GSM495248</dt><dd>0.65</dd><dt>GSM495249</dt><dd>0.65</dd><dt>GSM495250</dt><dd>0.65</dd></dl>\n"
      ],
      "text/latex": [
       "\\begin{description*}\n",
       "\\item[GSM495209] 1\n",
       "\\item[GSM495210] 1\n",
       "\\item[GSM495211] 1\n",
       "\\item[GSM495212] 0\n",
       "\\item[GSM495213] 0\n",
       "\\item[GSM495214] 0\n",
       "\\item[GSM495215] 0\n",
       "\\item[GSM495216] 0\n",
       "\\item[GSM495217] 0\n",
       "\\item[GSM495218] 0.05\n",
       "\\item[GSM495219] 0.05\n",
       "\\item[GSM495220] 0.05\n",
       "\\item[GSM495221] 0.7\n",
       "\\item[GSM495222] 0.7\n",
       "\\item[GSM495223] 0.7\n",
       "\\item[GSM495224] 0.25\n",
       "\\item[GSM495225] 0.25\n",
       "\\item[GSM495226] 0.25\n",
       "\\item[GSM495227] 0.7\n",
       "\\item[GSM495228] 0.7\n",
       "\\item[GSM495229] 0.7\n",
       "\\item[GSM495230] 0.45\n",
       "\\item[GSM495231] 0.45\n",
       "\\item[GSM495232] 0.45\n",
       "\\item[GSM495233] 0.55\n",
       "\\item[GSM495234] 0.55\n",
       "\\item[GSM495235] 0.55\n",
       "\\item[GSM495236] 0.5\n",
       "\\item[GSM495237] 0.5\n",
       "\\item[GSM495238] 0.5\n",
       "\\item[GSM495239] 0.55\n",
       "\\item[GSM495240] 0.55\n",
       "\\item[GSM495241] 0.55\n",
       "\\item[GSM495242] 0.5\n",
       "\\item[GSM495243] 0.5\n",
       "\\item[GSM495244] 0.5\n",
       "\\item[GSM495245] 0.6\n",
       "\\item[GSM495246] 0.6\n",
       "\\item[GSM495247] 0.6\n",
       "\\item[GSM495248] 0.65\n",
       "\\item[GSM495249] 0.65\n",
       "\\item[GSM495250] 0.65\n",
       "\\end{description*}\n"
      ],
      "text/markdown": [
       "GSM495209\n",
       ":   1GSM495210\n",
       ":   1GSM495211\n",
       ":   1GSM495212\n",
       ":   0GSM495213\n",
       ":   0GSM495214\n",
       ":   0GSM495215\n",
       ":   0GSM495216\n",
       ":   0GSM495217\n",
       ":   0GSM495218\n",
       ":   0.05GSM495219\n",
       ":   0.05GSM495220\n",
       ":   0.05GSM495221\n",
       ":   0.7GSM495222\n",
       ":   0.7GSM495223\n",
       ":   0.7GSM495224\n",
       ":   0.25GSM495225\n",
       ":   0.25GSM495226\n",
       ":   0.25GSM495227\n",
       ":   0.7GSM495228\n",
       ":   0.7GSM495229\n",
       ":   0.7GSM495230\n",
       ":   0.45GSM495231\n",
       ":   0.45GSM495232\n",
       ":   0.45GSM495233\n",
       ":   0.55GSM495234\n",
       ":   0.55GSM495235\n",
       ":   0.55GSM495236\n",
       ":   0.5GSM495237\n",
       ":   0.5GSM495238\n",
       ":   0.5GSM495239\n",
       ":   0.55GSM495240\n",
       ":   0.55GSM495241\n",
       ":   0.55GSM495242\n",
       ":   0.5GSM495243\n",
       ":   0.5GSM495244\n",
       ":   0.5GSM495245\n",
       ":   0.6GSM495246\n",
       ":   0.6GSM495247\n",
       ":   0.6GSM495248\n",
       ":   0.65GSM495249\n",
       ":   0.65GSM495250\n",
       ":   0.65\n",
       "\n"
      ],
      "text/plain": [
       "GSM495209 GSM495210 GSM495211 GSM495212 GSM495213 GSM495214 GSM495215 GSM495216 \n",
       "     1.00      1.00      1.00      0.00      0.00      0.00      0.00      0.00 \n",
       "GSM495217 GSM495218 GSM495219 GSM495220 GSM495221 GSM495222 GSM495223 GSM495224 \n",
       "     0.00      0.05      0.05      0.05      0.70      0.70      0.70      0.25 \n",
       "GSM495225 GSM495226 GSM495227 GSM495228 GSM495229 GSM495230 GSM495231 GSM495232 \n",
       "     0.25      0.25      0.70      0.70      0.70      0.45      0.45      0.45 \n",
       "GSM495233 GSM495234 GSM495235 GSM495236 GSM495237 GSM495238 GSM495239 GSM495240 \n",
       "     0.55      0.55      0.55      0.50      0.50      0.50      0.55      0.55 \n",
       "GSM495241 GSM495242 GSM495243 GSM495244 GSM495245 GSM495246 GSM495247 GSM495248 \n",
       "     0.55      0.50      0.50      0.50      0.60      0.60      0.60      0.65 \n",
       "GSM495249 GSM495250 \n",
       "     0.65      0.65 "
      ]
     },
     "metadata": {},
     "output_type": "display_data"
    }
   ],
   "source": [
    "y = shen_orr_ex$anno$mixture[,1]\n",
    "y"
   ]
  },
  {
   "cell_type": "code",
   "execution_count": 5,
   "metadata": {},
   "outputs": [],
   "source": [
    "df = data.frame(cbind(y,X))"
   ]
  },
  {
   "cell_type": "code",
   "execution_count": 6,
   "metadata": {},
   "outputs": [
    {
     "data": {
      "text/html": [
       "<table class=\"dataframe\">\n",
       "<caption>A data.frame: 6 × 601</caption>\n",
       "<thead>\n",
       "\t<tr><th></th><th scope=col>y</th><th scope=col>X1367566_at</th><th scope=col>X1367568_a_at</th><th scope=col>X1367570_at</th><th scope=col>X1367584_at</th><th scope=col>X1367614_at</th><th scope=col>X1367647_at</th><th scope=col>X1367661_at</th><th scope=col>X1367664_at</th><th scope=col>X1367804_at</th><th scope=col>...</th><th scope=col>X1398282_at</th><th scope=col>X1398318_at</th><th scope=col>X1398357_at</th><th scope=col>X1398368_at</th><th scope=col>X1398514_at</th><th scope=col>X1398577_at</th><th scope=col>X1398578_at</th><th scope=col>X1398625_at</th><th scope=col>X1398634_at</th><th scope=col>X1398716_at</th></tr>\n",
       "\t<tr><th></th><th scope=col>&lt;dbl&gt;</th><th scope=col>&lt;dbl&gt;</th><th scope=col>&lt;dbl&gt;</th><th scope=col>&lt;dbl&gt;</th><th scope=col>&lt;dbl&gt;</th><th scope=col>&lt;dbl&gt;</th><th scope=col>&lt;dbl&gt;</th><th scope=col>&lt;dbl&gt;</th><th scope=col>&lt;dbl&gt;</th><th scope=col>&lt;dbl&gt;</th><th scope=col>...</th><th scope=col>&lt;dbl&gt;</th><th scope=col>&lt;dbl&gt;</th><th scope=col>&lt;dbl&gt;</th><th scope=col>&lt;dbl&gt;</th><th scope=col>&lt;dbl&gt;</th><th scope=col>&lt;dbl&gt;</th><th scope=col>&lt;dbl&gt;</th><th scope=col>&lt;dbl&gt;</th><th scope=col>&lt;dbl&gt;</th><th scope=col>&lt;dbl&gt;</th></tr>\n",
       "</thead>\n",
       "<tbody>\n",
       "\t<tr><th scope=row>GSM495245</th><td>0.60</td><td>11.565262</td><td>8.870303</td><td>7.001029</td><td>7.659077</td><td>7.948723</td><td>12.65228</td><td>8.051194</td><td>3.663120</td><td>10.93508</td><td>...</td><td>9.649767</td><td>5.979004</td><td>10.21558</td><td>8.246979</td><td>10.073258</td><td>11.94294</td><td>9.310983</td><td>10.023633</td><td>9.237172</td><td>7.217724</td></tr>\n",
       "\t<tr><th scope=row>GSM495246</th><td>0.60</td><td>11.539572</td><td>8.914555</td><td>7.090162</td><td>7.834538</td><td>7.908598</td><td>12.59200</td><td>8.198547</td><td>3.717454</td><td>10.92464</td><td>...</td><td>9.676873</td><td>6.070912</td><td>10.22762</td><td>8.196180</td><td>10.105497</td><td>11.88726</td><td>9.344754</td><td> 9.988609</td><td>9.347465</td><td>6.731695</td></tr>\n",
       "\t<tr><th scope=row>GSM495247</th><td>0.60</td><td>11.548155</td><td>8.887477</td><td>7.093302</td><td>7.813565</td><td>7.975642</td><td>12.59518</td><td>8.202095</td><td>3.635470</td><td>10.89393</td><td>...</td><td>9.639680</td><td>6.124330</td><td>10.22700</td><td>8.250561</td><td> 9.999937</td><td>11.98563</td><td>9.376115</td><td>10.123092</td><td>9.297599</td><td>7.074149</td></tr>\n",
       "\t<tr><th scope=row>GSM495248</th><td>0.65</td><td> 9.829747</td><td>7.720467</td><td>6.056899</td><td>6.736379</td><td>6.573709</td><td>12.67022</td><td>6.299485</td><td>3.227013</td><td>10.94865</td><td>...</td><td>9.765793</td><td>4.627772</td><td>10.23085</td><td>8.292535</td><td>10.207433</td><td>12.00831</td><td>9.328644</td><td> 9.958102</td><td>9.419154</td><td>7.047483</td></tr>\n",
       "\t<tr><th scope=row>GSM495249</th><td>0.65</td><td> 9.851467</td><td>7.664858</td><td>6.183294</td><td>6.735433</td><td>6.543160</td><td>12.68000</td><td>6.405826</td><td>3.100851</td><td>11.06752</td><td>...</td><td>9.822453</td><td>4.520327</td><td>10.16035</td><td>8.238181</td><td>10.119143</td><td>11.97799</td><td>9.305065</td><td> 9.953756</td><td>9.385342</td><td>6.968067</td></tr>\n",
       "\t<tr><th scope=row>GSM495250</th><td>0.65</td><td> 9.850309</td><td>7.699729</td><td>6.284626</td><td>6.842223</td><td>6.591180</td><td>12.63865</td><td>6.234437</td><td>2.462876</td><td>11.02859</td><td>...</td><td>9.838168</td><td>4.967616</td><td>10.10687</td><td>8.298151</td><td>10.108633</td><td>12.00717</td><td>9.331431</td><td> 9.947405</td><td>9.327041</td><td>7.217926</td></tr>\n",
       "</tbody>\n",
       "</table>\n"
      ],
      "text/latex": [
       "A data.frame: 6 × 601\n",
       "\\begin{tabular}{r|lllllllllllllllllllll}\n",
       "  & y & X1367566\\_at & X1367568\\_a\\_at & X1367570\\_at & X1367584\\_at & X1367614\\_at & X1367647\\_at & X1367661\\_at & X1367664\\_at & X1367804\\_at & ... & X1398282\\_at & X1398318\\_at & X1398357\\_at & X1398368\\_at & X1398514\\_at & X1398577\\_at & X1398578\\_at & X1398625\\_at & X1398634\\_at & X1398716\\_at\\\\\n",
       "  & <dbl> & <dbl> & <dbl> & <dbl> & <dbl> & <dbl> & <dbl> & <dbl> & <dbl> & <dbl> & ... & <dbl> & <dbl> & <dbl> & <dbl> & <dbl> & <dbl> & <dbl> & <dbl> & <dbl> & <dbl>\\\\\n",
       "\\hline\n",
       "\tGSM495245 & 0.60 & 11.565262 & 8.870303 & 7.001029 & 7.659077 & 7.948723 & 12.65228 & 8.051194 & 3.663120 & 10.93508 & ... & 9.649767 & 5.979004 & 10.21558 & 8.246979 & 10.073258 & 11.94294 & 9.310983 & 10.023633 & 9.237172 & 7.217724\\\\\n",
       "\tGSM495246 & 0.60 & 11.539572 & 8.914555 & 7.090162 & 7.834538 & 7.908598 & 12.59200 & 8.198547 & 3.717454 & 10.92464 & ... & 9.676873 & 6.070912 & 10.22762 & 8.196180 & 10.105497 & 11.88726 & 9.344754 &  9.988609 & 9.347465 & 6.731695\\\\\n",
       "\tGSM495247 & 0.60 & 11.548155 & 8.887477 & 7.093302 & 7.813565 & 7.975642 & 12.59518 & 8.202095 & 3.635470 & 10.89393 & ... & 9.639680 & 6.124330 & 10.22700 & 8.250561 &  9.999937 & 11.98563 & 9.376115 & 10.123092 & 9.297599 & 7.074149\\\\\n",
       "\tGSM495248 & 0.65 &  9.829747 & 7.720467 & 6.056899 & 6.736379 & 6.573709 & 12.67022 & 6.299485 & 3.227013 & 10.94865 & ... & 9.765793 & 4.627772 & 10.23085 & 8.292535 & 10.207433 & 12.00831 & 9.328644 &  9.958102 & 9.419154 & 7.047483\\\\\n",
       "\tGSM495249 & 0.65 &  9.851467 & 7.664858 & 6.183294 & 6.735433 & 6.543160 & 12.68000 & 6.405826 & 3.100851 & 11.06752 & ... & 9.822453 & 4.520327 & 10.16035 & 8.238181 & 10.119143 & 11.97799 & 9.305065 &  9.953756 & 9.385342 & 6.968067\\\\\n",
       "\tGSM495250 & 0.65 &  9.850309 & 7.699729 & 6.284626 & 6.842223 & 6.591180 & 12.63865 & 6.234437 & 2.462876 & 11.02859 & ... & 9.838168 & 4.967616 & 10.10687 & 8.298151 & 10.108633 & 12.00717 & 9.331431 &  9.947405 & 9.327041 & 7.217926\\\\\n",
       "\\end{tabular}\n"
      ],
      "text/markdown": [
       "\n",
       "A data.frame: 6 × 601\n",
       "\n",
       "| <!--/--> | y &lt;dbl&gt; | X1367566_at &lt;dbl&gt; | X1367568_a_at &lt;dbl&gt; | X1367570_at &lt;dbl&gt; | X1367584_at &lt;dbl&gt; | X1367614_at &lt;dbl&gt; | X1367647_at &lt;dbl&gt; | X1367661_at &lt;dbl&gt; | X1367664_at &lt;dbl&gt; | X1367804_at &lt;dbl&gt; | ... ... | X1398282_at &lt;dbl&gt; | X1398318_at &lt;dbl&gt; | X1398357_at &lt;dbl&gt; | X1398368_at &lt;dbl&gt; | X1398514_at &lt;dbl&gt; | X1398577_at &lt;dbl&gt; | X1398578_at &lt;dbl&gt; | X1398625_at &lt;dbl&gt; | X1398634_at &lt;dbl&gt; | X1398716_at &lt;dbl&gt; |\n",
       "|---|---|---|---|---|---|---|---|---|---|---|---|---|---|---|---|---|---|---|---|---|---|\n",
       "| GSM495245 | 0.60 | 11.565262 | 8.870303 | 7.001029 | 7.659077 | 7.948723 | 12.65228 | 8.051194 | 3.663120 | 10.93508 | ... | 9.649767 | 5.979004 | 10.21558 | 8.246979 | 10.073258 | 11.94294 | 9.310983 | 10.023633 | 9.237172 | 7.217724 |\n",
       "| GSM495246 | 0.60 | 11.539572 | 8.914555 | 7.090162 | 7.834538 | 7.908598 | 12.59200 | 8.198547 | 3.717454 | 10.92464 | ... | 9.676873 | 6.070912 | 10.22762 | 8.196180 | 10.105497 | 11.88726 | 9.344754 |  9.988609 | 9.347465 | 6.731695 |\n",
       "| GSM495247 | 0.60 | 11.548155 | 8.887477 | 7.093302 | 7.813565 | 7.975642 | 12.59518 | 8.202095 | 3.635470 | 10.89393 | ... | 9.639680 | 6.124330 | 10.22700 | 8.250561 |  9.999937 | 11.98563 | 9.376115 | 10.123092 | 9.297599 | 7.074149 |\n",
       "| GSM495248 | 0.65 |  9.829747 | 7.720467 | 6.056899 | 6.736379 | 6.573709 | 12.67022 | 6.299485 | 3.227013 | 10.94865 | ... | 9.765793 | 4.627772 | 10.23085 | 8.292535 | 10.207433 | 12.00831 | 9.328644 |  9.958102 | 9.419154 | 7.047483 |\n",
       "| GSM495249 | 0.65 |  9.851467 | 7.664858 | 6.183294 | 6.735433 | 6.543160 | 12.68000 | 6.405826 | 3.100851 | 11.06752 | ... | 9.822453 | 4.520327 | 10.16035 | 8.238181 | 10.119143 | 11.97799 | 9.305065 |  9.953756 | 9.385342 | 6.968067 |\n",
       "| GSM495250 | 0.65 |  9.850309 | 7.699729 | 6.284626 | 6.842223 | 6.591180 | 12.63865 | 6.234437 | 2.462876 | 11.02859 | ... | 9.838168 | 4.967616 | 10.10687 | 8.298151 | 10.108633 | 12.00717 | 9.331431 |  9.947405 | 9.327041 | 7.217926 |\n",
       "\n"
      ],
      "text/plain": [
       "          y    X1367566_at X1367568_a_at X1367570_at X1367584_at X1367614_at\n",
       "GSM495245 0.60 11.565262   8.870303      7.001029    7.659077    7.948723   \n",
       "GSM495246 0.60 11.539572   8.914555      7.090162    7.834538    7.908598   \n",
       "GSM495247 0.60 11.548155   8.887477      7.093302    7.813565    7.975642   \n",
       "GSM495248 0.65  9.829747   7.720467      6.056899    6.736379    6.573709   \n",
       "GSM495249 0.65  9.851467   7.664858      6.183294    6.735433    6.543160   \n",
       "GSM495250 0.65  9.850309   7.699729      6.284626    6.842223    6.591180   \n",
       "          X1367647_at X1367661_at X1367664_at X1367804_at ... X1398282_at\n",
       "GSM495245 12.65228    8.051194    3.663120    10.93508    ... 9.649767   \n",
       "GSM495246 12.59200    8.198547    3.717454    10.92464    ... 9.676873   \n",
       "GSM495247 12.59518    8.202095    3.635470    10.89393    ... 9.639680   \n",
       "GSM495248 12.67022    6.299485    3.227013    10.94865    ... 9.765793   \n",
       "GSM495249 12.68000    6.405826    3.100851    11.06752    ... 9.822453   \n",
       "GSM495250 12.63865    6.234437    2.462876    11.02859    ... 9.838168   \n",
       "          X1398318_at X1398357_at X1398368_at X1398514_at X1398577_at\n",
       "GSM495245 5.979004    10.21558    8.246979    10.073258   11.94294   \n",
       "GSM495246 6.070912    10.22762    8.196180    10.105497   11.88726   \n",
       "GSM495247 6.124330    10.22700    8.250561     9.999937   11.98563   \n",
       "GSM495248 4.627772    10.23085    8.292535    10.207433   12.00831   \n",
       "GSM495249 4.520327    10.16035    8.238181    10.119143   11.97799   \n",
       "GSM495250 4.967616    10.10687    8.298151    10.108633   12.00717   \n",
       "          X1398578_at X1398625_at X1398634_at X1398716_at\n",
       "GSM495245 9.310983    10.023633   9.237172    7.217724   \n",
       "GSM495246 9.344754     9.988609   9.347465    6.731695   \n",
       "GSM495247 9.376115    10.123092   9.297599    7.074149   \n",
       "GSM495248 9.328644     9.958102   9.419154    7.047483   \n",
       "GSM495249 9.305065     9.953756   9.385342    6.968067   \n",
       "GSM495250 9.331431     9.947405   9.327041    7.217926   "
      ]
     },
     "metadata": {},
     "output_type": "display_data"
    }
   ],
   "source": [
    "tail(df)"
   ]
  },
  {
   "cell_type": "code",
   "execution_count": 7,
   "metadata": {},
   "outputs": [],
   "source": [
    "X = as.matrix(X)"
   ]
  },
  {
   "cell_type": "markdown",
   "metadata": {},
   "source": [
    "# LASSO"
   ]
  },
  {
   "cell_type": "code",
   "execution_count": 8,
   "metadata": {},
   "outputs": [
    {
     "name": "stderr",
     "output_type": "stream",
     "text": [
      "Warning message:\n",
      "\"package 'glmnet' was built under R version 4.0.4\"\n",
      "Loading required package: Matrix\n",
      "\n",
      "Warning message:\n",
      "\"package 'Matrix' was built under R version 4.0.5\"\n",
      "Loaded glmnet 4.1-1\n",
      "\n"
     ]
    }
   ],
   "source": [
    "library('glmnet')"
   ]
  },
  {
   "cell_type": "code",
   "execution_count": 9,
   "metadata": {},
   "outputs": [],
   "source": [
    "lambda = 10^seq(-10,10,length.out=100)"
   ]
  },
  {
   "cell_type": "code",
   "execution_count": 10,
   "metadata": {},
   "outputs": [],
   "source": [
    "fit.lasso = glmnet(x=X,y=y,family=\"gaussian\",alpha=1,lambda=lambda)"
   ]
  },
  {
   "cell_type": "code",
   "execution_count": 11,
   "metadata": {},
   "outputs": [
    {
     "data": {
      "image/png": "[encoded data removed]",
      "text/plain": [
       "plot without title"
      ]
     },
     "metadata": {
      "image/png": {
       "height": 420,
       "width": 420
      }
     },
     "output_type": "display_data"
    }
   ],
   "source": [
    "matplot(log(fit.lasso$lambda),t(fit.lasso$beta),type='l',xlab=\"log(lam)\",ylab=\"beta\")"
   ]
  },
  {
   "cell_type": "code",
   "execution_count": 12,
   "metadata": {
    "tags": []
   },
   "outputs": [
    {
     "name": "stderr",
     "output_type": "stream",
     "text": [
      "Warning message in regularize.values(x, y, ties, missing(ties), na.rm = na.rm):\n",
      "\"collapsing to unique 'x' values\"\n",
      "Warning message in regularize.values(x, y, ties, missing(ties), na.rm = na.rm):\n",
      "\"collapsing to unique 'x' values\"\n",
      "Warning message in regularize.values(x, y, ties, missing(ties), na.rm = na.rm):\n",
      "\"collapsing to unique 'x' values\"\n",
      "Warning message in regularize.values(x, y, ties, missing(ties), na.rm = na.rm):\n",
      "\"collapsing to unique 'x' values\"\n",
      "Warning message in regularize.values(x, y, ties, missing(ties), na.rm = na.rm):\n",
      "\"collapsing to unique 'x' values\"\n",
      "Warning message in regularize.values(x, y, ties, missing(ties), na.rm = na.rm):\n",
      "\"collapsing to unique 'x' values\"\n",
      "Warning message in regularize.values(x, y, ties, missing(ties), na.rm = na.rm):\n",
      "\"collapsing to unique 'x' values\"\n",
      "Warning message in regularize.values(x, y, ties, missing(ties), na.rm = na.rm):\n",
      "\"collapsing to unique 'x' values\"\n",
      "Warning message in regularize.values(x, y, ties, missing(ties), na.rm = na.rm):\n",
      "\"collapsing to unique 'x' values\"\n",
      "Warning message in regularize.values(x, y, ties, missing(ties), na.rm = na.rm):\n",
      "\"collapsing to unique 'x' values\"\n"
     ]
    }
   ],
   "source": [
    "cv.lasso = cv.glmnet(x=X,y=y,family=\"gaussian\",alpha=1,lambda=lambda)"
   ]
  },
  {
   "cell_type": "code",
   "execution_count": 13,
   "metadata": {},
   "outputs": [
    {
     "data": {
      "image/png": "[encoded data removed]",
      "text/plain": [
       "plot without title"
      ]
     },
     "metadata": {
      "image/png": {
       "height": 420,
       "width": 420
      }
     },
     "output_type": "display_data"
    }
   ],
   "source": [
    "plot(cv.lasso)"
   ]
  },
  {
   "cell_type": "code",
   "execution_count": 14,
   "metadata": {},
   "outputs": [
    {
     "data": {
      "text/html": [
       "0.000291505306282518"
      ],
      "text/latex": [
       "0.000291505306282518"
      ],
      "text/markdown": [
       "0.000291505306282518"
      ],
      "text/plain": [
       "[1] 0.0002915053"
      ]
     },
     "metadata": {},
     "output_type": "display_data"
    }
   ],
   "source": [
    "cv.lasso$lambda.min"
   ]
  },
  {
   "cell_type": "code",
   "execution_count": 15,
   "metadata": {},
   "outputs": [
    {
     "data": {
      "text/html": [
       "0.000739072203352578"
      ],
      "text/latex": [
       "0.000739072203352578"
      ],
      "text/markdown": [
       "0.000739072203352578"
      ],
      "text/plain": [
       "[1] 0.0007390722"
      ]
     },
     "metadata": {},
     "output_type": "display_data"
    }
   ],
   "source": [
    "cv.lasso$lambda.1se"
   ]
  },
  {
   "cell_type": "code",
   "execution_count": 16,
   "metadata": {},
   "outputs": [],
   "source": [
    "best.lasso = glmnet(x=X,y=y,family=\"gaussian\",alpha=1,lambda=cv.lasso$lambda.1se)"
   ]
  },
  {
   "cell_type": "code",
   "execution_count": 17,
   "metadata": {},
   "outputs": [
    {
     "data": {
      "text/plain": [
       "\n",
       "Call:  glmnet(x = X, y = y, family = \"gaussian\", alpha = 1, lambda = cv.lasso$lambda.1se) \n",
       "\n",
       "  Df  %Dev    Lambda\n",
       "1 17 99.45 0.0007391"
      ]
     },
     "metadata": {},
     "output_type": "display_data"
    }
   ],
   "source": [
    "best.lasso"
   ]
  },
  {
   "cell_type": "code",
   "execution_count": 18,
   "metadata": {
    "collapsed": true,
    "jupyter": {
     "outputs_hidden": true
    }
   },
   "outputs": [
    {
     "data": {
      "text/plain": [
       "601 x 1 sparse Matrix of class \"dgCMatrix\"\n",
       "                         s0\n",
       "(Intercept)   -2.237811e-03\n",
       "X1367566_at    .           \n",
       "X1367568_a_at  .           \n",
       "X1367570_at    .           \n",
       "X1367584_at    .           \n",
       "X1367614_at    .           \n",
       "X1367647_at   -2.480995e-04\n",
       "X1367661_at    .           \n",
       "X1367664_at    .           \n",
       "X1367804_at    .           \n",
       "X1367816_at    .           \n",
       "X1367838_at    .           \n",
       "X1367845_at    .           \n",
       "X1367846_at    .           \n",
       "X1367851_at    .           \n",
       "X1367871_at   -2.628659e-02\n",
       "X1367917_at    .           \n",
       "X1367918_at    .           \n",
       "X1367930_at    .           \n",
       "X1367977_at    .           \n",
       "X1367988_at    .           \n",
       "X1367992_at    .           \n",
       "X1368034_at    .           \n",
       "X1368044_at    .           \n",
       "X1368048_at    .           \n",
       "X1368052_at    .           \n",
       "X1368077_at    .           \n",
       "X1368093_at    .           \n",
       "X1368097_a_at  .           \n",
       "X1368114_at    .           \n",
       "X1368145_at    .           \n",
       "X1368155_at    .           \n",
       "X1368157_at    .           \n",
       "X1368160_at    .           \n",
       "X1368161_a_at  .           \n",
       "X1368168_at    .           \n",
       "X1368170_at    .           \n",
       "X1368171_at    .           \n",
       "X1368172_a_at  .           \n",
       "X1368180_s_at  .           \n",
       "X1368187_at    .           \n",
       "X1368188_at    .           \n",
       "X1368205_at    .           \n",
       "X1368224_at    .           \n",
       "X1368245_at    .           \n",
       "X1368256_at    .           \n",
       "X1368263_a_at  .           \n",
       "X1368281_at    .           \n",
       "X1368282_at    .           \n",
       "X1368283_at    5.261157e-02\n",
       "X1368284_at    .           \n",
       "X1368288_at    .           \n",
       "X1368289_at    .           \n",
       "X1368316_at    6.909082e-02\n",
       "X1368335_at    .           \n",
       "X1368339_at    .           \n",
       "X1368344_at    .           \n",
       "X1368353_at    .           \n",
       "X1368360_at    .           \n",
       "X1368362_a_at  .           \n",
       "X1368395_at    .           \n",
       "X1368397_at    .           \n",
       "X1368401_at    .           \n",
       "X1368413_at    .           \n",
       "X1368423_at    .           \n",
       "X1368435_at    .           \n",
       "X1368442_at    .           \n",
       "X1368458_at    .           \n",
       "X1368467_at    .           \n",
       "X1368469_at    .           \n",
       "X1368473_at    .           \n",
       "X1368497_at    .           \n",
       "X1368520_at    .           \n",
       "X1368521_at    .           \n",
       "X1368524_at    .           \n",
       "X1368553_at    .           \n",
       "X1368564_at    .           \n",
       "X1368569_at    .           \n",
       "X1368577_at    .           \n",
       "X1368583_a_at  .           \n",
       "X1368587_at    .           \n",
       "X1368609_at    .           \n",
       "X1368627_at    .           \n",
       "X1368632_at    .           \n",
       "X1368656_at    .           \n",
       "X1368659_at    .           \n",
       "X1368686_at    .           \n",
       "X1368695_at    .           \n",
       "X1368706_at    .           \n",
       "X1368707_at    .           \n",
       "X1368720_at    .           \n",
       "X1368731_at    .           \n",
       "X1368741_at    .           \n",
       "X1368769_at    .           \n",
       "X1368790_at    .           \n",
       "X1368810_a_at  .           \n",
       "X1368829_at    .           \n",
       "X1368853_at    .           \n",
       "X1368858_at    .           \n",
       "X1368864_at    .           \n",
       "X1368865_at    .           \n",
       "X1368887_at    .           \n",
       "X1368901_at    .           \n",
       "X1368934_at    .           \n",
       "X1368948_at    .           \n",
       "X1369011_at    .           \n",
       "X1369029_at    .           \n",
       "X1369074_at    .           \n",
       "X1369085_s_at  .           \n",
       "X1369107_at    .           \n",
       "X1369111_at    .           \n",
       "X1369203_at    .           \n",
       "X1369206_at    .           \n",
       "X1369210_at    .           \n",
       "X1369225_at    .           \n",
       "X1369275_s_at  .           \n",
       "X1369286_at    .           \n",
       "X1369435_at    .           \n",
       "X1369492_at    .           \n",
       "X1369493_at    .           \n",
       "X1369502_a_at  .           \n",
       "X1369509_a_at  .           \n",
       "X1369520_a_at  .           \n",
       "X1369546_at    .           \n",
       "X1369581_at    .           \n",
       "X1369627_at    .           \n",
       "X1369647_at    .           \n",
       "X1369648_at    .           \n",
       "X1369651_at    .           \n",
       "X1369652_at    .           \n",
       "X1369657_at    .           \n",
       "X1369662_at    .           \n",
       "X1369671_at    .           \n",
       "X1369701_at    .           \n",
       "X1369727_at    .           \n",
       "X1369746_a_at  .           \n",
       "X1369765_at    .           \n",
       "X1369790_at    .           \n",
       "X1369837_at    .           \n",
       "X1369840_at    .           \n",
       "X1369852_at    .           \n",
       "X1369861_at    .           \n",
       "X1369926_at    .           \n",
       "X1369977_at    .           \n",
       "X1370009_at    .           \n",
       "X1370016_at    .           \n",
       "X1370027_a_at  .           \n",
       "X1370028_at    .           \n",
       "X1370041_at    .           \n",
       "X1370042_at    .           \n",
       "X1370056_at    .           \n",
       "X1370058_at    .           \n",
       "X1370059_at    .           \n",
       "X1370065_at    .           \n",
       "X1370069_at    .           \n",
       "X1370072_at    .           \n",
       "X1370097_a_at  .           \n",
       "X1370124_at    .           \n",
       "X1370131_at    .           \n",
       "X1370135_at    .           \n",
       "X1370146_at    .           \n",
       "X1370149_at    .           \n",
       "X1370151_at    .           \n",
       "X1370154_at   -2.957584e-02\n",
       "X1370155_at    .           \n",
       "X1370201_at    .           \n",
       "X1370229_at    .           \n",
       "X1370241_at    .           \n",
       "X1370255_at    .           \n",
       "X1370257_at    .           \n",
       "X1370299_at    .           \n",
       "X1370301_at    .           \n",
       "X1370341_at    .           \n",
       "X1370350_x_at  .           \n",
       "X1370359_at    .           \n",
       "X1370377_at    .           \n",
       "X1370394_at    .           \n",
       "X1370397_at    .           \n",
       "X1370399_at    .           \n",
       "X1370401_at    .           \n",
       "X1370434_a_at  .           \n",
       "X1370439_a_at  .           \n",
       "X1370455_a_at  .           \n",
       "X1370496_at    .           \n",
       "X1370500_a_at  .           \n",
       "X1370511_at    .           \n",
       "X1370517_at    .           \n",
       "X1370547_at    .           \n",
       "X1370555_at    .           \n",
       "X1370580_a_at  .           \n",
       "X1370592_at    1.618324e-02\n",
       "X1370676_at    .           \n",
       "X1370698_at    .           \n",
       "X1370725_a_at  .           \n",
       "X1370777_at    .           \n",
       "X1370789_a_at  .           \n",
       "X1370815_at    .           \n",
       "X1370836_at    .           \n",
       "X1370856_at    .           \n",
       "X1370869_at    .           \n",
       "X1370895_at    .           \n",
       "X1370936_at    .           \n",
       "X1370959_at    .           \n",
       "X1370967_at    .           \n",
       "X1370969_at    .           \n",
       "X1370973_at    .           \n",
       "X1370980_at    .           \n",
       "X1370992_a_at  .           \n",
       "X1371010_at    .           \n",
       "X1371025_at    .           \n",
       "X1371030_at    .           \n",
       "X1371031_at    .           \n",
       "X1371034_at    .           \n",
       "X1371050_at    .           \n",
       "X1371076_at    .           \n",
       "X1371083_at    .           \n",
       "X1371098_a_at  .           \n",
       "X1371100_at    .           \n",
       "X1371109_at    .           \n",
       "X1371143_at    .           \n",
       "X1371147_at    .           \n",
       "X1371258_at    .           \n",
       "X1371266_at    .           \n",
       "X1371315_at    .           \n",
       "X1371414_at    .           \n",
       "X1371527_at    .           \n",
       "X1371575_at    .           \n",
       "X1371700_at    .           \n",
       "X1371703_at    .           \n",
       "X1371923_at    .           \n",
       "X1371970_at    .           \n",
       "X1372111_at    .           \n",
       "X1372118_at    .           \n",
       "X1372163_at    .           \n",
       "X1372256_at    .           \n",
       "X1372264_at    .           \n",
       "X1372294_at    .           \n",
       "X1372345_at    .           \n",
       "X1372439_at    .           \n",
       "X1372615_at    .           \n",
       "X1372725_at    .           \n",
       "X1372936_at    .           \n",
       "X1373098_at    .           \n",
       "X1373187_at    .           \n",
       "X1373202_at    .           \n",
       "X1373266_at    .           \n",
       "X1373326_at    .           \n",
       "X1373333_at    .           \n",
       "X1373463_at    .           \n",
       "X1373617_at    .           \n",
       "X1373654_at    .           \n",
       "X1373661_a_at  .           \n",
       "X1373674_at    .           \n",
       "X1373686_at    .           \n",
       "X1373710_at    .           \n",
       "X1373740_at    .           \n",
       "X1373774_at    .           \n",
       "X1373783_at    .           \n",
       "X1373865_at    .           \n",
       "X1373896_at    .           \n",
       "X1373900_at    .           \n",
       "X1373908_at    .           \n",
       "X1373911_at    .           \n",
       "X1373945_at    .           \n",
       "X1373977_at    .           \n",
       "X1374070_at    .           \n",
       "X1374122_at    .           \n",
       "X1374187_at    .           \n",
       "X1374594_at    .           \n",
       "X1374630_at    .           \n",
       "X1374816_at    .           \n",
       "X1375170_at    .           \n",
       "X1375267_at    .           \n",
       "X1375367_at    1.285441e-02\n",
       "X1375575_at    .           \n",
       "X1375707_at    .           \n",
       "X1375861_at    .           \n",
       "X1375877_at    .           \n",
       "X1375905_at    .           \n",
       "X1375951_at    .           \n",
       "X1376082_at    .           \n",
       "X1376174_at    .           \n",
       "X1376191_at    .           \n",
       "X1376232_at    .           \n",
       "X1376239_at    .           \n",
       "X1376283_at    .           \n",
       "X1376344_at    .           \n",
       "X1376345_at    .           \n",
       "X1376434_at    .           \n",
       "X1376577_at    .           \n",
       "X1376828_at    .           \n",
       "X1376873_at    .           \n",
       "X1376893_at    .           \n",
       "X1376980_at    .           \n",
       "X1377008_at    .           \n",
       "X1377033_at    .           \n",
       "X1377125_at    .           \n",
       "X1377139_at    .           \n",
       "X1377286_at    .           \n",
       "X1377333_at    .           \n",
       "X1377445_at    .           \n",
       "X1377615_at    .           \n",
       "X1377635_at    .           \n",
       "X1377642_at    .           \n",
       "X1377722_at    .           \n",
       "X1377752_at    .           \n",
       "X1377773_at    .           \n",
       "X1377828_at    .           \n",
       "X1377874_at    .           \n",
       "X1377975_at    .           \n",
       "X1378065_at    .           \n",
       "X1378260_at    .           \n",
       "X1378292_at    .           \n",
       "X1378341_at    .           \n",
       "X1378484_at    .           \n",
       "X1378546_at    .           \n",
       "X1379240_at    .           \n",
       "X1379326_at    .           \n",
       "X1379340_at    .           \n",
       "X1379365_at    .           \n",
       "X1379374_at    .           \n",
       "X1379464_at    .           \n",
       "X1379732_at    .           \n",
       "X1379744_at    .           \n",
       "X1379772_at    .           \n",
       "X1379863_at    .           \n",
       "X1379888_at    .           \n",
       "X1379903_at    .           \n",
       "X1379906_at    .           \n",
       "X1379907_at    .           \n",
       "X1380066_at    .           \n",
       "X1380085_at    .           \n",
       "X1380104_at    .           \n",
       "X1380172_at   -4.385054e-05\n",
       "X1380278_at    .           \n",
       "X1380366_at    .           \n",
       "X1380455_at    .           \n",
       "X1380828_at    .           \n",
       "X1380866_at    .           \n",
       "X1381318_at    .           \n",
       "X1381556_at    .           \n",
       "X1381615_at    .           \n",
       "X1381852_at    .           \n",
       "X1381955_at    .           \n",
       "X1381995_at    .           \n",
       "X1382031_at    .           \n",
       "X1382050_at    .           \n",
       "X1382072_at    .           \n",
       "X1382132_at    .           \n",
       "X1382205_at    .           \n",
       "X1382211_at    .           \n",
       "X1382218_at    8.306960e-04\n",
       "X1382329_at    .           \n",
       "X1382382_at    .           \n",
       "X1382439_at    .           \n",
       "X1382452_at    .           \n",
       "X1382467_at    .           \n",
       "X1382517_at    .           \n",
       "X1382554_at    .           \n",
       "X1382651_at    .           \n",
       "X1382678_at    .           \n",
       "X1382692_at    .           \n",
       "X1382833_at    .           \n",
       "X1382882_x_at  .           \n",
       "X1383003_at    .           \n",
       "X1383046_at    .           \n",
       "X1383066_at    .           \n",
       "X1383130_at    .           \n",
       "X1383145_at    .           \n",
       "X1383185_at    .           \n",
       "X1383195_at    .           \n",
       "X1383218_at    .           \n",
       "X1383220_at    .           \n",
       "X1383249_at    .           \n",
       "X1383254_at    .           \n",
       "X1383257_at    .           \n",
       "X1383291_at    .           \n",
       "X1383395_at    .           \n",
       "X1383444_at    .           \n",
       "X1383468_at    .           \n",
       "X1383488_at    .           \n",
       "X1383511_at    .           \n",
       "X1383562_at    .           \n",
       "X1383641_at    .           \n",
       "X1383673_at    .           \n",
       "X1383732_at    .           \n",
       "X1383736_at    .           \n",
       "X1383768_at    .           \n",
       "X1383783_at    .           \n",
       "X1383794_at    .           \n",
       "X1383796_at    .           \n",
       "X1383879_at    .           \n",
       "X1383904_at    .           \n",
       "X1384025_at    .           \n",
       "X1384233_at    .           \n",
       "X1384247_at    .           \n",
       "X1384302_at    .           \n",
       "X1384325_at    .           \n",
       "X1384334_at    .           \n",
       "X1384346_at    .           \n",
       "X1384415_at    .           \n",
       "X1384417_at    .           \n",
       "X1384499_at    .           \n",
       "X1384510_at    .           \n",
       "X1384558_at    .           \n",
       "X1384664_at    .           \n",
       "X1385031_at    .           \n",
       "X1385107_at    .           \n",
       "X1385235_at    .           \n",
       "X1385247_at    .           \n",
       "X1385547_at    .           \n",
       "X1385559_at    .           \n",
       "X1385560_at    .           \n",
       "X1385584_at    .           \n",
       "X1385635_at    .           \n",
       "X1385707_at    .           \n",
       "X1385756_at    .           \n",
       "X1385759_at    .           \n",
       "X1386869_at    2.459248e-03\n",
       "X1386903_at    .           \n",
       "X1386913_at    .           \n",
       "X1386944_a_at  .           \n",
       "X1386955_at    .           \n",
       "X1386980_at    .           \n",
       "X1386998_at    .           \n",
       "X1387006_at    .           \n",
       "X1387025_at    .           \n",
       "X1387032_at    .           \n",
       "X1387034_at    .           \n",
       "X1387073_at    .           \n",
       "X1387112_at    .           \n",
       "X1387118_at    .           \n",
       "X1387125_at    .           \n",
       "X1387159_at    .           \n",
       "X1387171_at    .           \n",
       "X1387200_at    .           \n",
       "X1387202_at    .           \n",
       "X1387223_at    .           \n",
       "X1387226_at    .           \n",
       "X1387228_at    .           \n",
       "X1387234_at    .           \n",
       "X1387240_at    .           \n",
       "X1387243_at    .           \n",
       "X1387284_at    .           \n",
       "X1387288_at    .           \n",
       "X1387307_at    .           \n",
       "X1387314_at    .           \n",
       "X1387315_at    .           \n",
       "X1387319_at    .           \n",
       "X1387323_at    .           \n",
       "X1387325_at    .           \n",
       "X1387341_a_at  .           \n",
       "X1387383_at    .           \n",
       "X1387396_at    .           \n",
       "X1387460_at    .           \n",
       "X1387508_at    .           \n",
       "X1387529_a_at  .           \n",
       "X1387567_at    .           \n",
       "X1387631_at    .           \n",
       "X1387665_at    .           \n",
       "X1387672_at    .           \n",
       "X1387679_at    .           \n",
       "X1387687_at    .           \n",
       "X1387725_at    2.408876e-02\n",
       "X1387765_at    .           \n",
       "X1387791_at    .           \n",
       "X1387816_at    .           \n",
       "X1387825_at    .           \n",
       "X1387830_at    .           \n",
       "X1387854_at    .           \n",
       "X1387877_at    .           \n",
       "X1387902_a_at  .           \n",
       "X1387927_a_at  .           \n",
       "X1387949_at    .           \n",
       "X1387951_at    .           \n",
       "X1387955_at    .           \n",
       "X1387960_at    .           \n",
       "X1387963_a_at  .           \n",
       "X1387968_at    .           \n",
       "X1387994_at    .           \n",
       "X1388000_at    .           \n",
       "X1388033_at    .           \n",
       "X1388037_at    .           \n",
       "X1388116_at    .           \n",
       "X1388146_at    .           \n",
       "X1388152_at    .           \n",
       "X1388190_at    .           \n",
       "X1388224_at    .           \n",
       "X1388229_a_at  .           \n",
       "X1388272_at    .           \n",
       "X1388433_at    .           \n",
       "X1388557_at    .           \n",
       "X1388670_at    .           \n",
       "X1388811_at    .           \n",
       "X1388902_at    .           \n",
       "X1388955_at    .           \n",
       "X1389211_at    .           \n",
       "X1389244_x_at  .           \n",
       "X1389307_at    .           \n",
       "X1389350_at    .           \n",
       "X1389467_at    .           \n",
       "X1389600_at    .           \n",
       "X1389637_at    .           \n",
       "X1389732_at    .           \n",
       "X1389734_x_at  .           \n",
       "X1389781_at    .           \n",
       "X1389966_at    .           \n",
       "X1389975_at    .           \n",
       "X1390112_at    .           \n",
       "X1390196_at    .           \n",
       "X1390209_at    .           \n",
       "X1390238_at    .           \n",
       "X1390326_at    .           \n",
       "X1390472_at    .           \n",
       "X1390493_at    .           \n",
       "X1390591_at    .           \n",
       "X1390659_at    .           \n",
       "X1390776_at   -1.344049e-02\n",
       "X1390795_at    .           \n",
       "X1390807_at    .           \n",
       "X1390896_at    .           \n",
       "X1390951_at    .           \n",
       "X1391013_at    .           \n",
       "X1391059_at    .           \n",
       "X1391068_at    9.530378e-03\n",
       "X1391092_at    .           \n",
       "X1391187_at    .           \n",
       "X1391293_at    .           \n",
       "X1391397_at    .           \n",
       "X1391417_at    .           \n",
       "X1391429_at    3.215192e-03\n",
       "X1391509_at    .           \n",
       "X1391547_at    .           \n",
       "X1391624_at    .           \n",
       "X1391653_at    .           \n",
       "X1391656_at    .           \n",
       "X1391791_at    .           \n",
       "X1391806_at    .           \n",
       "X1391856_at    .           \n",
       "X1391884_at    .           \n",
       "X1392003_at    .           \n",
       "X1392090_at    .           \n",
       "X1392166_at    .           \n",
       "X1392308_at    .           \n",
       "X1392322_at    .           \n",
       "X1392384_s_at  2.666021e-03\n",
       "X1392703_at    .           \n",
       "X1392734_at    .           \n",
       "X1392754_at    .           \n",
       "X1392969_at    .           \n",
       "X1393123_at    .           \n",
       "X1393139_at    .           \n",
       "X1393182_at    .           \n",
       "X1393237_at    .           \n",
       "X1393281_at    .           \n",
       "X1393335_at    .           \n",
       "X1393386_at    .           \n",
       "X1393401_at    .           \n",
       "X1393403_at    .           \n",
       "X1393415_at    .           \n",
       "X1393508_at    .           \n",
       "X1393624_at    .           \n",
       "X1393632_at    .           \n",
       "X1393672_at    .           \n",
       "X1393771_at    .           \n",
       "X1393826_at    .           \n",
       "X1393845_a_at  .           \n",
       "X1393945_at    .           \n",
       "X1394112_at    .           \n",
       "X1394135_at    .           \n",
       "X1394395_at    .           \n",
       "X1394399_at    .           \n",
       "X1394578_at   -3.806622e-03\n",
       "X1394681_at    .           \n",
       "X1394844_s_at  .           \n",
       "X1395041_at    .           \n",
       "X1395255_at    .           \n",
       "X1395335_at    .           \n",
       "X1395381_at    .           \n",
       "X1395403_at    .           \n",
       "X1395528_at    .           \n",
       "X1396040_at    .           \n",
       "X1397227_at    .           \n",
       "X1397537_at    .           \n",
       "X1397700_x_at -1.296359e-02\n",
       "X1397729_x_at  .           \n",
       "X1397773_at    .           \n",
       "X1397859_x_at  .           \n",
       "X1398258_at    .           \n",
       "X1398260_a_at  .           \n",
       "X1398267_at    .           \n",
       "X1398282_at    .           \n",
       "X1398318_at    .           \n",
       "X1398357_at    .           \n",
       "X1398368_at    .           \n",
       "X1398514_at    .           \n",
       "X1398577_at    .           \n",
       "X1398578_at    .           \n",
       "X1398625_at    .           \n",
       "X1398634_at    .           \n",
       "X1398716_at    .           "
      ]
     },
     "metadata": {},
     "output_type": "display_data"
    }
   ],
   "source": [
    "coef(best.lasso)"
   ]
  },
  {
   "cell_type": "code",
   "execution_count": 22,
   "metadata": {},
   "outputs": [
    {
     "data": {
      "text/html": [
       "0.831946755407654"
      ],
      "text/latex": [
       "0.831946755407654"
      ],
      "text/markdown": [
       "0.831946755407654"
      ],
      "text/plain": [
       "[1] 0.8319468"
      ]
     },
     "metadata": {},
     "output_type": "display_data"
    }
   ],
   "source": [
    "mean(coef(best.lasso)==0)"
   ]
  },
  {
   "cell_type": "code",
   "execution_count": 19,
   "metadata": {},
   "outputs": [
    {
     "data": {
      "text/html": [
       "18"
      ],
      "text/latex": [
       "18"
      ],
      "text/markdown": [
       "18"
      ],
      "text/plain": [
       "[1] 18"
      ]
     },
     "metadata": {},
     "output_type": "display_data"
    }
   ],
   "source": [
    "sum(coef(best.lasso)!=0)"
   ]
  },
  {
   "cell_type": "code",
   "execution_count": 23,
   "metadata": {},
   "outputs": [],
   "source": [
    "y_hat = predict(best.lasso,newx=X)"
   ]
  },
  {
   "cell_type": "code",
   "execution_count": 24,
   "metadata": {},
   "outputs": [
    {
     "data": {
      "image/png": "[encoded data removed]",
      "text/plain": [
       "plot without title"
      ]
     },
     "metadata": {
      "image/png": {
       "height": 420,
       "width": 420
      }
     },
     "output_type": "display_data"
    }
   ],
   "source": [
    "plot(y,y_hat)"
   ]
  },
  {
   "cell_type": "markdown",
   "metadata": {},
   "source": [
    "### EN"
   ]
  },
  {
   "cell_type": "code",
   "execution_count": 47,
   "metadata": {},
   "outputs": [],
   "source": [
    "fit.en = glmnet(x=X,y=y,family=\"gaussian\",alpha=1/2,lambda=lambda)"
   ]
  },
  {
   "cell_type": "code",
   "execution_count": 49,
   "metadata": {},
   "outputs": [
    {
     "data": {
      "image/png": "[encoded data removed]",
      "text/plain": [
       "plot without title"
      ]
     },
     "metadata": {
      "image/png": {
       "height": 420,
       "width": 420
      }
     },
     "output_type": "display_data"
    }
   ],
   "source": [
    "matplot(log(fit.en$lambda),t(fit.en$beta),type='l',xlab=\"log(lam)\",ylab=\"beta\")"
   ]
  },
  {
   "cell_type": "markdown",
   "metadata": {},
   "source": [
    "## penalized logistic regression"
   ]
  },
  {
   "cell_type": "code",
   "execution_count": 56,
   "metadata": {},
   "outputs": [
    {
     "data": {
      "text/html": [
       "<table class=\"dataframe\">\n",
       "<caption>A matrix: 10 × 2 of type dbl</caption>\n",
       "<thead>\n",
       "\t<tr><th></th><th scope=col>Liver</th><th scope=col>Brain</th></tr>\n",
       "</thead>\n",
       "<tbody>\n",
       "\t<tr><th scope=row>GSM495209</th><td>1.00</td><td>0.00</td></tr>\n",
       "\t<tr><th scope=row>GSM495210</th><td>1.00</td><td>0.00</td></tr>\n",
       "\t<tr><th scope=row>GSM495211</th><td>1.00</td><td>0.00</td></tr>\n",
       "\t<tr><th scope=row>GSM495212</th><td>0.00</td><td>1.00</td></tr>\n",
       "\t<tr><th scope=row>GSM495213</th><td>0.00</td><td>1.00</td></tr>\n",
       "\t<tr><th scope=row>GSM495214</th><td>0.00</td><td>1.00</td></tr>\n",
       "\t<tr><th scope=row>GSM495215</th><td>0.00</td><td>0.00</td></tr>\n",
       "\t<tr><th scope=row>GSM495216</th><td>0.00</td><td>0.00</td></tr>\n",
       "\t<tr><th scope=row>GSM495217</th><td>0.00</td><td>0.00</td></tr>\n",
       "\t<tr><th scope=row>GSM495218</th><td>0.05</td><td>0.25</td></tr>\n",
       "</tbody>\n",
       "</table>\n"
      ],
      "text/latex": [
       "A matrix: 10 × 2 of type dbl\n",
       "\\begin{tabular}{r|ll}\n",
       "  & Liver & Brain\\\\\n",
       "\\hline\n",
       "\tGSM495209 & 1.00 & 0.00\\\\\n",
       "\tGSM495210 & 1.00 & 0.00\\\\\n",
       "\tGSM495211 & 1.00 & 0.00\\\\\n",
       "\tGSM495212 & 0.00 & 1.00\\\\\n",
       "\tGSM495213 & 0.00 & 1.00\\\\\n",
       "\tGSM495214 & 0.00 & 1.00\\\\\n",
       "\tGSM495215 & 0.00 & 0.00\\\\\n",
       "\tGSM495216 & 0.00 & 0.00\\\\\n",
       "\tGSM495217 & 0.00 & 0.00\\\\\n",
       "\tGSM495218 & 0.05 & 0.25\\\\\n",
       "\\end{tabular}\n"
      ],
      "text/markdown": [
       "\n",
       "A matrix: 10 × 2 of type dbl\n",
       "\n",
       "| <!--/--> | Liver | Brain |\n",
       "|---|---|---|\n",
       "| GSM495209 | 1.00 | 0.00 |\n",
       "| GSM495210 | 1.00 | 0.00 |\n",
       "| GSM495211 | 1.00 | 0.00 |\n",
       "| GSM495212 | 0.00 | 1.00 |\n",
       "| GSM495213 | 0.00 | 1.00 |\n",
       "| GSM495214 | 0.00 | 1.00 |\n",
       "| GSM495215 | 0.00 | 0.00 |\n",
       "| GSM495216 | 0.00 | 0.00 |\n",
       "| GSM495217 | 0.00 | 0.00 |\n",
       "| GSM495218 | 0.05 | 0.25 |\n",
       "\n"
      ],
      "text/plain": [
       "          Liver Brain\n",
       "GSM495209 1.00  0.00 \n",
       "GSM495210 1.00  0.00 \n",
       "GSM495211 1.00  0.00 \n",
       "GSM495212 0.00  1.00 \n",
       "GSM495213 0.00  1.00 \n",
       "GSM495214 0.00  1.00 \n",
       "GSM495215 0.00  0.00 \n",
       "GSM495216 0.00  0.00 \n",
       "GSM495217 0.00  0.00 \n",
       "GSM495218 0.05  0.25 "
      ]
     },
     "metadata": {},
     "output_type": "display_data"
    }
   ],
   "source": [
    "head(shen_orr_ex$anno$mixture[,1:2],n=10)"
   ]
  },
  {
   "cell_type": "code",
   "execution_count": 74,
   "metadata": {},
   "outputs": [],
   "source": [
    "y = as.factor(apply(shen_orr_ex$anno$mixture[,1:2],1,function(x)which.max(x)))"
   ]
  },
  {
   "cell_type": "code",
   "execution_count": 75,
   "metadata": {},
   "outputs": [
    {
     "data": {
      "text/html": [
       "<style>\n",
       ".dl-inline {width: auto; margin:0; padding: 0}\n",
       ".dl-inline>dt, .dl-inline>dd {float: none; width: auto; display: inline-block}\n",
       ".dl-inline>dt::after {content: \":\\0020\"; padding-right: .5ex}\n",
       ".dl-inline>dt:not(:first-of-type) {padding-left: .5ex}\n",
       "</style><dl class=dl-inline><dt>GSM495209</dt><dd>1</dd><dt>GSM495210</dt><dd>1</dd><dt>GSM495211</dt><dd>1</dd><dt>GSM495212</dt><dd>2</dd><dt>GSM495213</dt><dd>2</dd><dt>GSM495214</dt><dd>2</dd><dt>GSM495215</dt><dd>1</dd><dt>GSM495216</dt><dd>1</dd><dt>GSM495217</dt><dd>1</dd><dt>GSM495218</dt><dd>2</dd><dt>GSM495219</dt><dd>2</dd><dt>GSM495220</dt><dd>2</dd><dt>GSM495221</dt><dd>1</dd><dt>GSM495222</dt><dd>1</dd><dt>GSM495223</dt><dd>1</dd><dt>GSM495224</dt><dd>2</dd><dt>GSM495225</dt><dd>2</dd><dt>GSM495226</dt><dd>2</dd><dt>GSM495227</dt><dd>1</dd><dt>GSM495228</dt><dd>1</dd><dt>GSM495229</dt><dd>1</dd><dt>GSM495230</dt><dd>1</dd><dt>GSM495231</dt><dd>1</dd><dt>GSM495232</dt><dd>1</dd><dt>GSM495233</dt><dd>1</dd><dt>GSM495234</dt><dd>1</dd><dt>GSM495235</dt><dd>1</dd><dt>GSM495236</dt><dd>1</dd><dt>GSM495237</dt><dd>1</dd><dt>GSM495238</dt><dd>1</dd><dt>GSM495239</dt><dd>1</dd><dt>GSM495240</dt><dd>1</dd><dt>GSM495241</dt><dd>1</dd><dt>GSM495242</dt><dd>1</dd><dt>GSM495243</dt><dd>1</dd><dt>GSM495244</dt><dd>1</dd><dt>GSM495245</dt><dd>1</dd><dt>GSM495246</dt><dd>1</dd><dt>GSM495247</dt><dd>1</dd><dt>GSM495248</dt><dd>1</dd><dt>GSM495249</dt><dd>1</dd><dt>GSM495250</dt><dd>1</dd></dl>\n",
       "\n",
       "<details>\n",
       "\t<summary style=display:list-item;cursor:pointer>\n",
       "\t\t<strong>Levels</strong>:\n",
       "\t</summary>\n",
       "\t<style>\n",
       "\t.list-inline {list-style: none; margin:0; padding: 0}\n",
       "\t.list-inline>li {display: inline-block}\n",
       "\t.list-inline>li:not(:last-child)::after {content: \"\\00b7\"; padding: 0 .5ex}\n",
       "\t</style>\n",
       "\t<ol class=list-inline><li>'1'</li><li>'2'</li></ol>\n",
       "</details>"
      ],
      "text/latex": [
       "\\begin{description*}\n",
       "\\item[GSM495209] 1\n",
       "\\item[GSM495210] 1\n",
       "\\item[GSM495211] 1\n",
       "\\item[GSM495212] 2\n",
       "\\item[GSM495213] 2\n",
       "\\item[GSM495214] 2\n",
       "\\item[GSM495215] 1\n",
       "\\item[GSM495216] 1\n",
       "\\item[GSM495217] 1\n",
       "\\item[GSM495218] 2\n",
       "\\item[GSM495219] 2\n",
       "\\item[GSM495220] 2\n",
       "\\item[GSM495221] 1\n",
       "\\item[GSM495222] 1\n",
       "\\item[GSM495223] 1\n",
       "\\item[GSM495224] 2\n",
       "\\item[GSM495225] 2\n",
       "\\item[GSM495226] 2\n",
       "\\item[GSM495227] 1\n",
       "\\item[GSM495228] 1\n",
       "\\item[GSM495229] 1\n",
       "\\item[GSM495230] 1\n",
       "\\item[GSM495231] 1\n",
       "\\item[GSM495232] 1\n",
       "\\item[GSM495233] 1\n",
       "\\item[GSM495234] 1\n",
       "\\item[GSM495235] 1\n",
       "\\item[GSM495236] 1\n",
       "\\item[GSM495237] 1\n",
       "\\item[GSM495238] 1\n",
       "\\item[GSM495239] 1\n",
       "\\item[GSM495240] 1\n",
       "\\item[GSM495241] 1\n",
       "\\item[GSM495242] 1\n",
       "\\item[GSM495243] 1\n",
       "\\item[GSM495244] 1\n",
       "\\item[GSM495245] 1\n",
       "\\item[GSM495246] 1\n",
       "\\item[GSM495247] 1\n",
       "\\item[GSM495248] 1\n",
       "\\item[GSM495249] 1\n",
       "\\item[GSM495250] 1\n",
       "\\end{description*}\n",
       "\n",
       "\\emph{Levels}: \\begin{enumerate*}\n",
       "\\item '1'\n",
       "\\item '2'\n",
       "\\end{enumerate*}\n"
      ],
      "text/markdown": [
       "GSM495209\n",
       ":   1GSM495210\n",
       ":   1GSM495211\n",
       ":   1GSM495212\n",
       ":   2GSM495213\n",
       ":   2GSM495214\n",
       ":   2GSM495215\n",
       ":   1GSM495216\n",
       ":   1GSM495217\n",
       ":   1GSM495218\n",
       ":   2GSM495219\n",
       ":   2GSM495220\n",
       ":   2GSM495221\n",
       ":   1GSM495222\n",
       ":   1GSM495223\n",
       ":   1GSM495224\n",
       ":   2GSM495225\n",
       ":   2GSM495226\n",
       ":   2GSM495227\n",
       ":   1GSM495228\n",
       ":   1GSM495229\n",
       ":   1GSM495230\n",
       ":   1GSM495231\n",
       ":   1GSM495232\n",
       ":   1GSM495233\n",
       ":   1GSM495234\n",
       ":   1GSM495235\n",
       ":   1GSM495236\n",
       ":   1GSM495237\n",
       ":   1GSM495238\n",
       ":   1GSM495239\n",
       ":   1GSM495240\n",
       ":   1GSM495241\n",
       ":   1GSM495242\n",
       ":   1GSM495243\n",
       ":   1GSM495244\n",
       ":   1GSM495245\n",
       ":   1GSM495246\n",
       ":   1GSM495247\n",
       ":   1GSM495248\n",
       ":   1GSM495249\n",
       ":   1GSM495250\n",
       ":   1\n",
       "\n",
       "\n",
       "**Levels**: 1. '1'\n",
       "2. '2'\n",
       "\n",
       "\n"
      ],
      "text/plain": [
       "GSM495209 GSM495210 GSM495211 GSM495212 GSM495213 GSM495214 GSM495215 GSM495216 \n",
       "        1         1         1         2         2         2         1         1 \n",
       "GSM495217 GSM495218 GSM495219 GSM495220 GSM495221 GSM495222 GSM495223 GSM495224 \n",
       "        1         2         2         2         1         1         1         2 \n",
       "GSM495225 GSM495226 GSM495227 GSM495228 GSM495229 GSM495230 GSM495231 GSM495232 \n",
       "        2         2         1         1         1         1         1         1 \n",
       "GSM495233 GSM495234 GSM495235 GSM495236 GSM495237 GSM495238 GSM495239 GSM495240 \n",
       "        1         1         1         1         1         1         1         1 \n",
       "GSM495241 GSM495242 GSM495243 GSM495244 GSM495245 GSM495246 GSM495247 GSM495248 \n",
       "        1         1         1         1         1         1         1         1 \n",
       "GSM495249 GSM495250 \n",
       "        1         1 \n",
       "Levels: 1 2"
      ]
     },
     "metadata": {},
     "output_type": "display_data"
    }
   ],
   "source": [
    "y"
   ]
  },
  {
   "cell_type": "code",
   "execution_count": 76,
   "metadata": {},
   "outputs": [
    {
     "name": "stderr",
     "output_type": "stream",
     "text": [
      "Warning message in lognet(xd, is.sparse, ix, jx, y, weights, offset, alpha, nobs, :\n",
      "\"one multinomial or binomial class has fewer than 8  observations; dangerous ground\"\n",
      "Warning message in lognet(xd, is.sparse, ix, jx, y, weights, offset, alpha, nobs, :\n",
      "\"one multinomial or binomial class has fewer than 8  observations; dangerous ground\"\n",
      "Warning message in regularize.values(x, y, ties, missing(ties), na.rm = na.rm):\n",
      "\"collapsing to unique 'x' values\"\n",
      "Warning message in regularize.values(x, y, ties, missing(ties), na.rm = na.rm):\n",
      "\"collapsing to unique 'x' values\"\n",
      "Warning message in regularize.values(x, y, ties, missing(ties), na.rm = na.rm):\n",
      "\"collapsing to unique 'x' values\"\n",
      "Warning message in regularize.values(x, y, ties, missing(ties), na.rm = na.rm):\n",
      "\"collapsing to unique 'x' values\"\n",
      "Warning message in regularize.values(x, y, ties, missing(ties), na.rm = na.rm):\n",
      "\"collapsing to unique 'x' values\"\n",
      "Warning message in regularize.values(x, y, ties, missing(ties), na.rm = na.rm):\n",
      "\"collapsing to unique 'x' values\"\n",
      "Warning message in regularize.values(x, y, ties, missing(ties), na.rm = na.rm):\n",
      "\"collapsing to unique 'x' values\"\n",
      "Warning message in regularize.values(x, y, ties, missing(ties), na.rm = na.rm):\n",
      "\"collapsing to unique 'x' values\"\n",
      "Warning message in regularize.values(x, y, ties, missing(ties), na.rm = na.rm):\n",
      "\"collapsing to unique 'x' values\"\n",
      "Warning message in regularize.values(x, y, ties, missing(ties), na.rm = na.rm):\n",
      "\"collapsing to unique 'x' values\"\n"
     ]
    }
   ],
   "source": [
    "cv.en = cv.glmnet(x=X,y=y,family=\"binomial\",alpha=1/2,lambda=lambda)"
   ]
  },
  {
   "cell_type": "code",
   "execution_count": 77,
   "metadata": {},
   "outputs": [
    {
     "data": {
      "image/png": "[encoded data removed]",
      "text/plain": [
       "plot without title"
      ]
     },
     "metadata": {
      "image/png": {
       "height": 420,
       "width": 420
      }
     },
     "output_type": "display_data"
    }
   ],
   "source": [
    "plot(cv.en)"
   ]
  },
  {
   "cell_type": "code",
   "execution_count": 78,
   "metadata": {},
   "outputs": [],
   "source": [
    "lambda_hat = cv.en$lambda.1se"
   ]
  },
  {
   "cell_type": "code",
   "execution_count": 79,
   "metadata": {},
   "outputs": [],
   "source": [
    "fit.en = glmnet(x=X,y=y,family=\"binomial\",alpha=1/2,lambda=lambda_hat)"
   ]
  },
  {
   "cell_type": "code",
   "execution_count": 80,
   "metadata": {},
   "outputs": [],
   "source": [
    "library('caret')"
   ]
  },
  {
   "cell_type": "code",
   "execution_count": 88,
   "metadata": {},
   "outputs": [
    {
     "data": {
      "text/html": [
       "<style>\n",
       ".list-inline {list-style: none; margin:0; padding: 0}\n",
       ".list-inline>li {display: inline-block}\n",
       ".list-inline>li:not(:last-child)::after {content: \"\\00b7\"; padding: 0 .5ex}\n",
       "</style>\n",
       "<ol class=list-inline><li>1</li><li>1</li><li>1</li><li>2</li><li>2</li><li>2</li></ol>\n",
       "\n",
       "<details>\n",
       "\t<summary style=display:list-item;cursor:pointer>\n",
       "\t\t<strong>Levels</strong>:\n",
       "\t</summary>\n",
       "\t<style>\n",
       "\t.list-inline {list-style: none; margin:0; padding: 0}\n",
       "\t.list-inline>li {display: inline-block}\n",
       "\t.list-inline>li:not(:last-child)::after {content: \"\\00b7\"; padding: 0 .5ex}\n",
       "\t</style>\n",
       "\t<ol class=list-inline><li>'1'</li><li>'2'</li></ol>\n",
       "</details>"
      ],
      "text/latex": [
       "\\begin{enumerate*}\n",
       "\\item 1\n",
       "\\item 1\n",
       "\\item 1\n",
       "\\item 2\n",
       "\\item 2\n",
       "\\item 2\n",
       "\\end{enumerate*}\n",
       "\n",
       "\\emph{Levels}: \\begin{enumerate*}\n",
       "\\item '1'\n",
       "\\item '2'\n",
       "\\end{enumerate*}\n"
      ],
      "text/markdown": [
       "1. 1\n",
       "2. 1\n",
       "3. 1\n",
       "4. 2\n",
       "5. 2\n",
       "6. 2\n",
       "\n",
       "\n",
       "\n",
       "**Levels**: 1. '1'\n",
       "2. '2'\n",
       "\n",
       "\n"
      ],
      "text/plain": [
       "[1] 1 1 1 2 2 2\n",
       "Levels: 1 2"
      ]
     },
     "metadata": {},
     "output_type": "display_data"
    }
   ],
   "source": [
    "y_hat = as.factor(predict(fit.en,newx=X,type='class'))\n",
    "head(y_hat)"
   ]
  },
  {
   "cell_type": "code",
   "execution_count": 91,
   "metadata": {},
   "outputs": [
    {
     "data": {
      "text/plain": [
       "Confusion Matrix and Statistics\n",
       "\n",
       "          Reference\n",
       "Prediction  1  2\n",
       "         1 33  0\n",
       "         2  0  9\n",
       "                                     \n",
       "               Accuracy : 1          \n",
       "                 95% CI : (0.9159, 1)\n",
       "    No Information Rate : 0.7857     \n",
       "    P-Value [Acc > NIR] : 3.991e-05  \n",
       "                                     \n",
       "                  Kappa : 1          \n",
       "                                     \n",
       " Mcnemar's Test P-Value : NA         \n",
       "                                     \n",
       "            Sensitivity : 1.0000     \n",
       "            Specificity : 1.0000     \n",
       "         Pos Pred Value : 1.0000     \n",
       "         Neg Pred Value : 1.0000     \n",
       "             Prevalence : 0.7857     \n",
       "         Detection Rate : 0.7857     \n",
       "   Detection Prevalence : 0.7857     \n",
       "      Balanced Accuracy : 1.0000     \n",
       "                                     \n",
       "       'Positive' Class : 1          \n",
       "                                     "
      ]
     },
     "metadata": {},
     "output_type": "display_data"
    }
   ],
   "source": [
    "confusionMatrix(y_hat,reference=y)"
   ]
  },
  {
   "cell_type": "code",
   "execution_count": null,
   "metadata": {},
   "outputs": [],
   "source": []
  }
 ],
 "metadata": {
  "jupytext": {
   "formats": "ipynb,Rmd,R"
  },
  "kernelspec": {
   "display_name": "R",
   "language": "R",
   "name": "ir"
  },
  "language_info": {
   "codemirror_mode": "r",
   "file_extension": ".r",
   "mimetype": "text/x-r-source",
   "name": "R",
   "pygments_lexer": "r",
   "version": "4.2.2"
  }
 },
 "nbformat": 4,
 "nbformat_minor": 4
}
