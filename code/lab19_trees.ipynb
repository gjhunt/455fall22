{
 "cells": [
  {
   "cell_type": "code",
   "execution_count": 1,
   "metadata": {},
   "outputs": [
    {
     "name": "stderr",
     "output_type": "stream",
     "text": [
      "Warning message:\n",
      "\"package 'ISLR' was built under R version 4.0.4\"\n"
     ]
    }
   ],
   "source": [
    "library('ISLR')\n",
    "data(Carseats)"
   ]
  },
  {
   "cell_type": "code",
   "execution_count": 2,
   "metadata": {},
   "outputs": [
    {
     "data": {
      "text/html": [
       "<table class=\"dataframe\">\n",
       "<caption>A data.frame: 6 × 11</caption>\n",
       "<thead>\n",
       "\t<tr><th></th><th scope=col>Sales</th><th scope=col>CompPrice</th><th scope=col>Income</th><th scope=col>Advertising</th><th scope=col>Population</th><th scope=col>Price</th><th scope=col>ShelveLoc</th><th scope=col>Age</th><th scope=col>Education</th><th scope=col>Urban</th><th scope=col>US</th></tr>\n",
       "\t<tr><th></th><th scope=col>&lt;dbl&gt;</th><th scope=col>&lt;dbl&gt;</th><th scope=col>&lt;dbl&gt;</th><th scope=col>&lt;dbl&gt;</th><th scope=col>&lt;dbl&gt;</th><th scope=col>&lt;dbl&gt;</th><th scope=col>&lt;fct&gt;</th><th scope=col>&lt;dbl&gt;</th><th scope=col>&lt;dbl&gt;</th><th scope=col>&lt;fct&gt;</th><th scope=col>&lt;fct&gt;</th></tr>\n",
       "</thead>\n",
       "<tbody>\n",
       "\t<tr><th scope=row>1</th><td> 9.50</td><td>138</td><td> 73</td><td>11</td><td>276</td><td>120</td><td>Bad   </td><td>42</td><td>17</td><td>Yes</td><td>Yes</td></tr>\n",
       "\t<tr><th scope=row>2</th><td>11.22</td><td>111</td><td> 48</td><td>16</td><td>260</td><td> 83</td><td>Good  </td><td>65</td><td>10</td><td>Yes</td><td>Yes</td></tr>\n",
       "\t<tr><th scope=row>3</th><td>10.06</td><td>113</td><td> 35</td><td>10</td><td>269</td><td> 80</td><td>Medium</td><td>59</td><td>12</td><td>Yes</td><td>Yes</td></tr>\n",
       "\t<tr><th scope=row>4</th><td> 7.40</td><td>117</td><td>100</td><td> 4</td><td>466</td><td> 97</td><td>Medium</td><td>55</td><td>14</td><td>Yes</td><td>Yes</td></tr>\n",
       "\t<tr><th scope=row>5</th><td> 4.15</td><td>141</td><td> 64</td><td> 3</td><td>340</td><td>128</td><td>Bad   </td><td>38</td><td>13</td><td>Yes</td><td>No </td></tr>\n",
       "\t<tr><th scope=row>6</th><td>10.81</td><td>124</td><td>113</td><td>13</td><td>501</td><td> 72</td><td>Bad   </td><td>78</td><td>16</td><td>No </td><td>Yes</td></tr>\n",
       "</tbody>\n",
       "</table>\n"
      ],
      "text/latex": [
       "A data.frame: 6 × 11\n",
       "\\begin{tabular}{r|lllllllllll}\n",
       "  & Sales & CompPrice & Income & Advertising & Population & Price & ShelveLoc & Age & Education & Urban & US\\\\\n",
       "  & <dbl> & <dbl> & <dbl> & <dbl> & <dbl> & <dbl> & <fct> & <dbl> & <dbl> & <fct> & <fct>\\\\\n",
       "\\hline\n",
       "\t1 &  9.50 & 138 &  73 & 11 & 276 & 120 & Bad    & 42 & 17 & Yes & Yes\\\\\n",
       "\t2 & 11.22 & 111 &  48 & 16 & 260 &  83 & Good   & 65 & 10 & Yes & Yes\\\\\n",
       "\t3 & 10.06 & 113 &  35 & 10 & 269 &  80 & Medium & 59 & 12 & Yes & Yes\\\\\n",
       "\t4 &  7.40 & 117 & 100 &  4 & 466 &  97 & Medium & 55 & 14 & Yes & Yes\\\\\n",
       "\t5 &  4.15 & 141 &  64 &  3 & 340 & 128 & Bad    & 38 & 13 & Yes & No \\\\\n",
       "\t6 & 10.81 & 124 & 113 & 13 & 501 &  72 & Bad    & 78 & 16 & No  & Yes\\\\\n",
       "\\end{tabular}\n"
      ],
      "text/markdown": [
       "\n",
       "A data.frame: 6 × 11\n",
       "\n",
       "| <!--/--> | Sales &lt;dbl&gt; | CompPrice &lt;dbl&gt; | Income &lt;dbl&gt; | Advertising &lt;dbl&gt; | Population &lt;dbl&gt; | Price &lt;dbl&gt; | ShelveLoc &lt;fct&gt; | Age &lt;dbl&gt; | Education &lt;dbl&gt; | Urban &lt;fct&gt; | US &lt;fct&gt; |\n",
       "|---|---|---|---|---|---|---|---|---|---|---|---|\n",
       "| 1 |  9.50 | 138 |  73 | 11 | 276 | 120 | Bad    | 42 | 17 | Yes | Yes |\n",
       "| 2 | 11.22 | 111 |  48 | 16 | 260 |  83 | Good   | 65 | 10 | Yes | Yes |\n",
       "| 3 | 10.06 | 113 |  35 | 10 | 269 |  80 | Medium | 59 | 12 | Yes | Yes |\n",
       "| 4 |  7.40 | 117 | 100 |  4 | 466 |  97 | Medium | 55 | 14 | Yes | Yes |\n",
       "| 5 |  4.15 | 141 |  64 |  3 | 340 | 128 | Bad    | 38 | 13 | Yes | No  |\n",
       "| 6 | 10.81 | 124 | 113 | 13 | 501 |  72 | Bad    | 78 | 16 | No  | Yes |\n",
       "\n"
      ],
      "text/plain": [
       "  Sales CompPrice Income Advertising Population Price ShelveLoc Age Education\n",
       "1  9.50 138        73    11          276        120   Bad       42  17       \n",
       "2 11.22 111        48    16          260         83   Good      65  10       \n",
       "3 10.06 113        35    10          269         80   Medium    59  12       \n",
       "4  7.40 117       100     4          466         97   Medium    55  14       \n",
       "5  4.15 141        64     3          340        128   Bad       38  13       \n",
       "6 10.81 124       113    13          501         72   Bad       78  16       \n",
       "  Urban US \n",
       "1 Yes   Yes\n",
       "2 Yes   Yes\n",
       "3 Yes   Yes\n",
       "4 Yes   Yes\n",
       "5 Yes   No \n",
       "6 No    Yes"
      ]
     },
     "metadata": {},
     "output_type": "display_data"
    }
   ],
   "source": [
    "head(Carseats)"
   ]
  },
  {
   "cell_type": "code",
   "execution_count": 3,
   "metadata": {},
   "outputs": [],
   "source": [
    "library('rpart')"
   ]
  },
  {
   "cell_type": "code",
   "execution_count": 4,
   "metadata": {
    "collapsed": true,
    "jupyter": {
     "outputs_hidden": true
    },
    "tags": []
   },
   "outputs": [
    {
     "data": {
      "text/html": [
       "\n",
       "<table width=\"100%\" summary=\"page for rpart {rpart}\"><tr><td>rpart {rpart}</td><td style=\"text-align: right;\">R Documentation</td></tr></table>\n",
       "\n",
       "<h2>\n",
       "Recursive Partitioning and Regression Trees\n",
       "</h2>\n",
       "\n",
       "<h3>Description</h3>\n",
       "\n",
       "<p>Fit a <code>rpart</code> model\n",
       "</p>\n",
       "\n",
       "\n",
       "<h3>Usage</h3>\n",
       "\n",
       "<pre>\n",
       "rpart(formula, data, weights, subset, na.action = na.rpart, method,\n",
       "      model = FALSE, x = FALSE, y = TRUE, parms, control, cost, ...)\n",
       "</pre>\n",
       "\n",
       "\n",
       "<h3>Arguments</h3>\n",
       "\n",
       "<table summary=\"R argblock\">\n",
       "<tr valign=\"top\"><td><code>formula</code></td>\n",
       "<td>\n",
       "<p>a formula, with a response but no interaction\n",
       "terms.  If this a a data frame, that is taken as the model frame\n",
       "(see <code>model.frame).</code>\n",
       "</p>\n",
       "</td></tr>\n",
       "<tr valign=\"top\"><td><code>data</code></td>\n",
       "<td>\n",
       "<p>an optional data frame in which to interpret the variables\n",
       "named in the formula.</p>\n",
       "</td></tr> \n",
       "<tr valign=\"top\"><td><code>weights</code></td>\n",
       "<td>\n",
       "<p>optional case weights.</p>\n",
       "</td></tr>\n",
       "<tr valign=\"top\"><td><code>subset</code></td>\n",
       "<td>\n",
       "<p>optional expression saying that only a subset of the\n",
       "rows of the data should be used in the fit.</p>\n",
       "</td></tr>\n",
       "<tr valign=\"top\"><td><code>na.action</code></td>\n",
       "<td>\n",
       "<p>the default action deletes all observations for which\n",
       "<code>y</code> is missing, but keeps those in which one or more predictors\n",
       "are missing.</p>\n",
       "</td></tr>\n",
       "<tr valign=\"top\"><td><code>method</code></td>\n",
       "<td>\n",
       "<p>one of <code>\"anova\"</code>, <code>\"poisson\"</code>, <code>\"class\"</code>\n",
       "or <code>\"exp\"</code>.  If <code>method</code> is missing then the routine tries\n",
       "to make an intelligent guess.\n",
       "If <code>y</code> is a survival object, then <code>method = \"exp\"</code> is assumed,\n",
       "if <code>y</code> has 2 columns then <code>method = \"poisson\"</code> is assumed,\n",
       "if <code>y</code> is a factor then <code>method = \"class\"</code> is assumed,\n",
       "otherwise <code>method = \"anova\"</code> is assumed.\n",
       "It is wisest to specify the method directly, especially as more\n",
       "criteria may added to the function in future.\n",
       "</p>\n",
       "<p>Alternatively, <code>method</code> can be a list of functions named\n",
       "<code>init</code>, <code>split</code> and <code>eval</code>.  Examples are given in\n",
       "the file &lsquo;<span class=\"file\">tests/usersplits.R</span>&rsquo; in the sources, and in the\n",
       "vignettes &lsquo;User Written Split Functions&rsquo;.</p>\n",
       "</td></tr>\n",
       "<tr valign=\"top\"><td><code>model</code></td>\n",
       "<td>\n",
       "<p>if logical: keep a copy of the model frame in the result?\n",
       "If the input value for <code>model</code> is a model frame (likely from an\n",
       "earlier call to the <code>rpart</code> function), then this frame is used\n",
       "rather than constructing new data.</p>\n",
       "</td></tr>\n",
       "<tr valign=\"top\"><td><code>x</code></td>\n",
       "<td>\n",
       "<p>keep a copy of the <code>x</code> matrix in the result.</p>\n",
       "</td></tr>\n",
       "<tr valign=\"top\"><td><code>y</code></td>\n",
       "<td>\n",
       "<p>keep a copy of the dependent variable in the result.  If\n",
       "missing and <code>model</code> is supplied this defaults to <code>FALSE</code>.</p>\n",
       "</td></tr>\n",
       "<tr valign=\"top\"><td><code>parms</code></td>\n",
       "<td>\n",
       "<p>optional parameters for the splitting function.<br />\n",
       "Anova splitting has no parameters.<br />\n",
       "Poisson splitting has a single parameter, the coefficient of variation of\n",
       "the prior distribution on the rates.  The default value is 1.<br />\n",
       "Exponential splitting has the same parameter as Poisson.<br />\n",
       "For classification splitting, the list can contain any of:\n",
       "the vector of prior probabilities (component <code>prior</code>), the loss matrix\n",
       "(component <code>loss</code>) or the splitting index (component\n",
       "<code>split</code>).  The priors must be positive and sum to 1.  The loss\n",
       "matrix must have zeros on the diagonal and positive off-diagonal\n",
       "elements.  The splitting index can be <code>gini</code> or\n",
       "<code>information</code>.  The default priors are proportional to the data\n",
       "counts, the losses default to 1, and the split defaults to\n",
       "<code>gini</code>.</p>\n",
       "</td></tr>\n",
       "<tr valign=\"top\"><td><code>control</code></td>\n",
       "<td>\n",
       "<p>a list of options that control details of the\n",
       "<code>rpart</code> algorithm.  See <code>rpart.control</code>.</p>\n",
       "</td></tr>\n",
       "<tr valign=\"top\"><td><code>cost</code></td>\n",
       "<td>\n",
       "<p>a vector of non-negative costs, one for each variable in\n",
       "the model. Defaults to one for all variables.  These are scalings to\n",
       "be applied when considering splits, so the improvement on splitting\n",
       "on a variable is divided by its cost in deciding which split to\n",
       "choose.</p>\n",
       "</td></tr>\n",
       "<tr valign=\"top\"><td><code>...</code></td>\n",
       "<td>\n",
       "<p>arguments to <code>rpart.control</code> may also be\n",
       "specified in the call to <code>rpart</code>.  They are checked against the\n",
       "list of valid arguments.</p>\n",
       "</td></tr>\n",
       "</table>\n",
       "\n",
       "\n",
       "<h3>Details</h3>\n",
       "\n",
       "<p>This differs from the <code>tree</code> function in S mainly in its handling\n",
       "of surrogate variables.  In most details it follows Breiman\n",
       "<em>et. al</em> (1984) quite closely.  <span style=\"font-family: Courier New, Courier; color: #666666;\"><b>R</b></span> package <span class=\"pkg\">tree</span> provides a\n",
       "re-implementation of <code>tree</code>.\n",
       "</p>\n",
       "\n",
       "\n",
       "<h3>Value</h3>\n",
       "\n",
       "<p>An object of class <code>rpart</code>.  See <code>rpart.object</code>.\n",
       "</p>\n",
       "\n",
       "\n",
       "<h3>References</h3>\n",
       "\n",
       "<p>Breiman L., Friedman J. H., Olshen R. A., and Stone, C. J. (1984)\n",
       "<em>Classification and Regression Trees.</em>\n",
       "Wadsworth.\n",
       "</p>\n",
       "\n",
       "\n",
       "<h3>See Also</h3>\n",
       "\n",
       "<p><code>rpart.control</code>, <code>rpart.object</code>,\n",
       "<code>summary.rpart</code>, <code>print.rpart</code>\n",
       "</p>\n",
       "\n",
       "\n",
       "<h3>Examples</h3>\n",
       "\n",
       "<pre>\n",
       "fit &lt;- rpart(Kyphosis ~ Age + Number + Start, data = kyphosis)\n",
       "fit2 &lt;- rpart(Kyphosis ~ Age + Number + Start, data = kyphosis,\n",
       "              parms = list(prior = c(.65,.35), split = \"information\"))\n",
       "fit3 &lt;- rpart(Kyphosis ~ Age + Number + Start, data = kyphosis,\n",
       "              control = rpart.control(cp = 0.05))\n",
       "par(mfrow = c(1,2), xpd = NA) # otherwise on some devices the text is clipped\n",
       "plot(fit)\n",
       "text(fit, use.n = TRUE)\n",
       "plot(fit2)\n",
       "text(fit2, use.n = TRUE)\n",
       "</pre>\n",
       "\n",
       "<hr /><div style=\"text-align: center;\">[Package <em>rpart</em> version 4.1-15 ]</div>"
      ],
      "text/latex": [
       "\\inputencoding{utf8}\n",
       "\\HeaderA{rpart}{Recursive Partitioning and Regression Trees}{rpart}\n",
       "\\keyword{tree}{rpart}\n",
       "%\n",
       "\\begin{Description}\\relax\n",
       "Fit a \\code{rpart} model\n",
       "\\end{Description}\n",
       "%\n",
       "\\begin{Usage}\n",
       "\\begin{verbatim}\n",
       "rpart(formula, data, weights, subset, na.action = na.rpart, method,\n",
       "      model = FALSE, x = FALSE, y = TRUE, parms, control, cost, ...)\n",
       "\\end{verbatim}\n",
       "\\end{Usage}\n",
       "%\n",
       "\\begin{Arguments}\n",
       "\\begin{ldescription}\n",
       "\\item[\\code{formula}] a \\LinkA{formula}{formula}, with a response but no interaction\n",
       "terms.  If this a a data frame, that is taken as the model frame\n",
       "(see \\code{\\LinkA{model.frame}{model.frame}).}\n",
       "\n",
       "\n",
       "\\item[\\code{data}] an optional data frame in which to interpret the variables\n",
       "named in the formula.\n",
       "\n",
       "\\item[\\code{weights}] optional case weights.\n",
       "\n",
       "\\item[\\code{subset}] optional expression saying that only a subset of the\n",
       "rows of the data should be used in the fit.\n",
       "\n",
       "\\item[\\code{na.action}] the default action deletes all observations for which\n",
       "\\code{y} is missing, but keeps those in which one or more predictors\n",
       "are missing.\n",
       "\n",
       "\\item[\\code{method}] one of \\code{\"anova\"}, \\code{\"poisson\"}, \\code{\"class\"}\n",
       "or \\code{\"exp\"}.  If \\code{method} is missing then the routine tries\n",
       "to make an intelligent guess.\n",
       "If \\code{y} is a survival object, then \\code{method = \"exp\"} is assumed,\n",
       "if \\code{y} has 2 columns then \\code{method = \"poisson\"} is assumed,\n",
       "if \\code{y} is a factor then \\code{method = \"class\"} is assumed,\n",
       "otherwise \\code{method = \"anova\"} is assumed.\n",
       "It is wisest to specify the method directly, especially as more\n",
       "criteria may added to the function in future.\n",
       "\n",
       "Alternatively, \\code{method} can be a list of functions named\n",
       "\\code{init}, \\code{split} and \\code{eval}.  Examples are given in\n",
       "the file \\file{tests/usersplits.R} in the sources, and in the\n",
       "vignettes `User Written Split Functions'.\n",
       "\n",
       "\\item[\\code{model}] if logical: keep a copy of the model frame in the result?\n",
       "If the input value for \\code{model} is a model frame (likely from an\n",
       "earlier call to the \\code{rpart} function), then this frame is used\n",
       "rather than constructing new data.\n",
       "\\item[\\code{x}] keep a copy of the \\code{x} matrix in the result.\n",
       "\n",
       "\\item[\\code{y}] keep a copy of the dependent variable in the result.  If\n",
       "missing and \\code{model} is supplied this defaults to \\code{FALSE}.\n",
       "\n",
       "\\item[\\code{parms}] optional parameters for the splitting function.\\\\{}\n",
       "Anova splitting has no parameters.\\\\{}\n",
       "Poisson splitting has a single parameter, the coefficient of variation of\n",
       "the prior distribution on the rates.  The default value is 1.\\\\{}\n",
       "Exponential splitting has the same parameter as Poisson.\\\\{}\n",
       "For classification splitting, the list can contain any of:\n",
       "the vector of prior probabilities (component \\code{prior}), the loss matrix\n",
       "(component \\code{loss}) or the splitting index (component\n",
       "\\code{split}).  The priors must be positive and sum to 1.  The loss\n",
       "matrix must have zeros on the diagonal and positive off-diagonal\n",
       "elements.  The splitting index can be \\code{gini} or\n",
       "\\code{information}.  The default priors are proportional to the data\n",
       "counts, the losses default to 1, and the split defaults to\n",
       "\\code{gini}.\n",
       "\n",
       "\\item[\\code{control}] a list of options that control details of the\n",
       "\\code{rpart} algorithm.  See \\code{\\LinkA{rpart.control}{rpart.control}}.\n",
       "\n",
       "\\item[\\code{cost}] a vector of non-negative costs, one for each variable in\n",
       "the model. Defaults to one for all variables.  These are scalings to\n",
       "be applied when considering splits, so the improvement on splitting\n",
       "on a variable is divided by its cost in deciding which split to\n",
       "choose.\n",
       "\n",
       "\\item[\\code{...}] arguments to \\code{\\LinkA{rpart.control}{rpart.control}} may also be\n",
       "specified in the call to \\code{rpart}.  They are checked against the\n",
       "list of valid arguments.\n",
       "\\end{ldescription}\n",
       "\\end{Arguments}\n",
       "%\n",
       "\\begin{Details}\\relax\n",
       "This differs from the \\code{tree} function in S mainly in its handling\n",
       "of surrogate variables.  In most details it follows Breiman\n",
       "\\emph{et. al} (1984) quite closely.  \\R{} package \\pkg{tree} provides a\n",
       "re-implementation of \\code{tree}.\n",
       "\\end{Details}\n",
       "%\n",
       "\\begin{Value}\n",
       "An object of class \\code{rpart}.  See \\code{\\LinkA{rpart.object}{rpart.object}}.\n",
       "\\end{Value}\n",
       "%\n",
       "\\begin{References}\\relax\n",
       "Breiman L., Friedman J. H., Olshen R. A., and Stone, C. J. (1984)\n",
       "\\emph{Classification and Regression Trees.}\n",
       "Wadsworth.\n",
       "\\end{References}\n",
       "%\n",
       "\\begin{SeeAlso}\\relax\n",
       "\\code{\\LinkA{rpart.control}{rpart.control}}, \\code{\\LinkA{rpart.object}{rpart.object}},\n",
       "\\code{\\LinkA{summary.rpart}{summary.rpart}}, \\code{\\LinkA{print.rpart}{print.rpart}}\n",
       "\\end{SeeAlso}\n",
       "%\n",
       "\\begin{Examples}\n",
       "\\begin{ExampleCode}\n",
       "fit <- rpart(Kyphosis ~ Age + Number + Start, data = kyphosis)\n",
       "fit2 <- rpart(Kyphosis ~ Age + Number + Start, data = kyphosis,\n",
       "              parms = list(prior = c(.65,.35), split = \"information\"))\n",
       "fit3 <- rpart(Kyphosis ~ Age + Number + Start, data = kyphosis,\n",
       "              control = rpart.control(cp = 0.05))\n",
       "par(mfrow = c(1,2), xpd = NA) # otherwise on some devices the text is clipped\n",
       "plot(fit)\n",
       "text(fit, use.n = TRUE)\n",
       "plot(fit2)\n",
       "text(fit2, use.n = TRUE)\n",
       "\\end{ExampleCode}\n",
       "\\end{Examples}"
      ],
      "text/plain": [
       "rpart                  package:rpart                   R Documentation\n",
       "\n",
       "_\bR_\be_\bc_\bu_\br_\bs_\bi_\bv_\be _\bP_\ba_\br_\bt_\bi_\bt_\bi_\bo_\bn_\bi_\bn_\bg _\ba_\bn_\bd _\bR_\be_\bg_\br_\be_\bs_\bs_\bi_\bo_\bn _\bT_\br_\be_\be_\bs\n",
       "\n",
       "_\bD_\be_\bs_\bc_\br_\bi_\bp_\bt_\bi_\bo_\bn:\n",
       "\n",
       "     Fit a 'rpart' model\n",
       "\n",
       "_\bU_\bs_\ba_\bg_\be:\n",
       "\n",
       "     rpart(formula, data, weights, subset, na.action = na.rpart, method,\n",
       "           model = FALSE, x = FALSE, y = TRUE, parms, control, cost, ...)\n",
       "     \n",
       "_\bA_\br_\bg_\bu_\bm_\be_\bn_\bt_\bs:\n",
       "\n",
       " formula: a formula, with a response but no interaction terms.  If this\n",
       "          a a data frame, that is taken as the model frame (see\n",
       "          'model.frame).'\n",
       "\n",
       "    data: an optional data frame in which to interpret the variables\n",
       "          named in the formula.\n",
       "\n",
       " weights: optional case weights.\n",
       "\n",
       "  subset: optional expression saying that only a subset of the rows of\n",
       "          the data should be used in the fit.\n",
       "\n",
       "na.action: the default action deletes all observations for which 'y' is\n",
       "          missing, but keeps those in which one or more predictors are\n",
       "          missing.\n",
       "\n",
       "  method: one of '\"anova\"', '\"poisson\"', '\"class\"' or '\"exp\"'.  If\n",
       "          'method' is missing then the routine tries to make an\n",
       "          intelligent guess.  If 'y' is a survival object, then 'method\n",
       "          = \"exp\"' is assumed, if 'y' has 2 columns then 'method =\n",
       "          \"poisson\"' is assumed, if 'y' is a factor then 'method =\n",
       "          \"class\"' is assumed, otherwise 'method = \"anova\"' is assumed.\n",
       "          It is wisest to specify the method directly, especially as\n",
       "          more criteria may added to the function in future.\n",
       "\n",
       "          Alternatively, 'method' can be a list of functions named\n",
       "          'init', 'split' and 'eval'.  Examples are given in the file\n",
       "          'tests/usersplits.R' in the sources, and in the vignettes\n",
       "          'User Written Split Functions'.\n",
       "\n",
       "   model: if logical: keep a copy of the model frame in the result?  If\n",
       "          the input value for 'model' is a model frame (likely from an\n",
       "          earlier call to the 'rpart' function), then this frame is\n",
       "          used rather than constructing new data.\n",
       "\n",
       "       x: keep a copy of the 'x' matrix in the result.\n",
       "\n",
       "       y: keep a copy of the dependent variable in the result.  If\n",
       "          missing and 'model' is supplied this defaults to 'FALSE'.\n",
       "\n",
       "   parms: optional parameters for the splitting function.\n",
       "          Anova splitting has no parameters.\n",
       "          Poisson splitting has a single parameter, the coefficient of\n",
       "          variation of the prior distribution on the rates.  The\n",
       "          default value is 1.\n",
       "          Exponential splitting has the same parameter as Poisson.\n",
       "          For classification splitting, the list can contain any of:\n",
       "          the vector of prior probabilities (component 'prior'), the\n",
       "          loss matrix (component 'loss') or the splitting index\n",
       "          (component 'split').  The priors must be positive and sum to\n",
       "          1.  The loss matrix must have zeros on the diagonal and\n",
       "          positive off-diagonal elements.  The splitting index can be\n",
       "          'gini' or 'information'.  The default priors are proportional\n",
       "          to the data counts, the losses default to 1, and the split\n",
       "          defaults to 'gini'.\n",
       "\n",
       " control: a list of options that control details of the 'rpart'\n",
       "          algorithm.  See 'rpart.control'.\n",
       "\n",
       "    cost: a vector of non-negative costs, one for each variable in the\n",
       "          model. Defaults to one for all variables.  These are scalings\n",
       "          to be applied when considering splits, so the improvement on\n",
       "          splitting on a variable is divided by its cost in deciding\n",
       "          which split to choose.\n",
       "\n",
       "     ...: arguments to 'rpart.control' may also be specified in the\n",
       "          call to 'rpart'.  They are checked against the list of valid\n",
       "          arguments.\n",
       "\n",
       "_\bD_\be_\bt_\ba_\bi_\bl_\bs:\n",
       "\n",
       "     This differs from the 'tree' function in S mainly in its handling\n",
       "     of surrogate variables.  In most details it follows Breiman _et.\n",
       "     al_ (1984) quite closely.  R package 'tree' provides a\n",
       "     re-implementation of 'tree'.\n",
       "\n",
       "_\bV_\ba_\bl_\bu_\be:\n",
       "\n",
       "     An object of class 'rpart'.  See 'rpart.object'.\n",
       "\n",
       "_\bR_\be_\bf_\be_\br_\be_\bn_\bc_\be_\bs:\n",
       "\n",
       "     Breiman L., Friedman J. H., Olshen R. A., and Stone, C. J. (1984)\n",
       "     _Classification and Regression Trees._ Wadsworth.\n",
       "\n",
       "_\bS_\be_\be _\bA_\bl_\bs_\bo:\n",
       "\n",
       "     'rpart.control', 'rpart.object', 'summary.rpart', 'print.rpart'\n",
       "\n",
       "_\bE_\bx_\ba_\bm_\bp_\bl_\be_\bs:\n",
       "\n",
       "     fit <- rpart(Kyphosis ~ Age + Number + Start, data = kyphosis)\n",
       "     fit2 <- rpart(Kyphosis ~ Age + Number + Start, data = kyphosis,\n",
       "                   parms = list(prior = c(.65,.35), split = \"information\"))\n",
       "     fit3 <- rpart(Kyphosis ~ Age + Number + Start, data = kyphosis,\n",
       "                   control = rpart.control(cp = 0.05))\n",
       "     par(mfrow = c(1,2), xpd = NA) # otherwise on some devices the text is clipped\n",
       "     plot(fit)\n",
       "     text(fit, use.n = TRUE)\n",
       "     plot(fit2)\n",
       "     text(fit2, use.n = TRUE)\n",
       "     "
      ]
     },
     "metadata": {},
     "output_type": "display_data"
    }
   ],
   "source": [
    "?rpart"
   ]
  },
  {
   "cell_type": "code",
   "execution_count": 5,
   "metadata": {},
   "outputs": [
    {
     "data": {
      "text/html": [
       "<style>\n",
       ".list-inline {list-style: none; margin:0; padding: 0}\n",
       ".list-inline>li {display: inline-block}\n",
       ".list-inline>li:not(:last-child)::after {content: \"\\00b7\"; padding: 0 .5ex}\n",
       "</style>\n",
       "<ol class=list-inline><li>400</li><li>11</li></ol>\n"
      ],
      "text/latex": [
       "\\begin{enumerate*}\n",
       "\\item 400\n",
       "\\item 11\n",
       "\\end{enumerate*}\n"
      ],
      "text/markdown": [
       "1. 400\n",
       "2. 11\n",
       "\n",
       "\n"
      ],
      "text/plain": [
       "[1] 400  11"
      ]
     },
     "metadata": {},
     "output_type": "display_data"
    },
    {
     "data": {
      "text/html": [
       "200"
      ],
      "text/latex": [
       "200"
      ],
      "text/markdown": [
       "200"
      ],
      "text/plain": [
       "[1] 200"
      ]
     },
     "metadata": {},
     "output_type": "display_data"
    }
   ],
   "source": [
    "set.seed(128321093)\n",
    "ss_train = sample(1:nrow(Carseats),floor(nrow(Carseats)/2))\n",
    "dim(Carseats)\n",
    "length(ss_train)"
   ]
  },
  {
   "cell_type": "code",
   "execution_count": 6,
   "metadata": {},
   "outputs": [],
   "source": [
    "train = Carseats[ss_train,]\n",
    "validation = Carseats[-ss_train,]"
   ]
  },
  {
   "cell_type": "code",
   "execution_count": 7,
   "metadata": {},
   "outputs": [
    {
     "data": {
      "text/html": [
       "<style>\n",
       ".list-inline {list-style: none; margin:0; padding: 0}\n",
       ".list-inline>li {display: inline-block}\n",
       ".list-inline>li:not(:last-child)::after {content: \"\\00b7\"; padding: 0 .5ex}\n",
       "</style>\n",
       "<ol class=list-inline><li>200</li><li>11</li></ol>\n"
      ],
      "text/latex": [
       "\\begin{enumerate*}\n",
       "\\item 200\n",
       "\\item 11\n",
       "\\end{enumerate*}\n"
      ],
      "text/markdown": [
       "1. 200\n",
       "2. 11\n",
       "\n",
       "\n"
      ],
      "text/plain": [
       "[1] 200  11"
      ]
     },
     "metadata": {},
     "output_type": "display_data"
    },
    {
     "data": {
      "text/html": [
       "<style>\n",
       ".list-inline {list-style: none; margin:0; padding: 0}\n",
       ".list-inline>li {display: inline-block}\n",
       ".list-inline>li:not(:last-child)::after {content: \"\\00b7\"; padding: 0 .5ex}\n",
       "</style>\n",
       "<ol class=list-inline><li>200</li><li>11</li></ol>\n"
      ],
      "text/latex": [
       "\\begin{enumerate*}\n",
       "\\item 200\n",
       "\\item 11\n",
       "\\end{enumerate*}\n"
      ],
      "text/markdown": [
       "1. 200\n",
       "2. 11\n",
       "\n",
       "\n"
      ],
      "text/plain": [
       "[1] 200  11"
      ]
     },
     "metadata": {},
     "output_type": "display_data"
    }
   ],
   "source": [
    "dim(train)\n",
    "dim(validation)"
   ]
  },
  {
   "cell_type": "code",
   "execution_count": 8,
   "metadata": {},
   "outputs": [],
   "source": [
    "model = rpart(Sales~.,data=train,method=\"anova\",\n",
    "    control = rpart.control(maxdepth=30,minsplit=2,xval=10))"
   ]
  },
  {
   "cell_type": "code",
   "execution_count": 9,
   "metadata": {},
   "outputs": [
    {
     "data": {
      "image/png": "[encoded data removed]",
      "text/plain": [
       "plot without title"
      ]
     },
     "metadata": {
      "image/png": {
       "height": 420,
       "width": 420
      }
     },
     "output_type": "display_data"
    }
   ],
   "source": [
    "plot(model)\n",
    "text(model)"
   ]
  },
  {
   "cell_type": "code",
   "execution_count": 10,
   "metadata": {},
   "outputs": [
    {
     "data": {
      "text/html": [
       "<table class=\"dataframe\">\n",
       "<caption>A matrix: 21 × 5 of type dbl</caption>\n",
       "<thead>\n",
       "\t<tr><th></th><th scope=col>CP</th><th scope=col>nsplit</th><th scope=col>rel error</th><th scope=col>xerror</th><th scope=col>xstd</th></tr>\n",
       "</thead>\n",
       "<tbody>\n",
       "\t<tr><th scope=row>1</th><td>0.24582911</td><td> 0</td><td>1.0000000</td><td>1.0045802</td><td>0.09590597</td></tr>\n",
       "\t<tr><th scope=row>2</th><td>0.11255534</td><td> 1</td><td>0.7541709</td><td>0.7677671</td><td>0.07458388</td></tr>\n",
       "\t<tr><th scope=row>3</th><td>0.06269736</td><td> 2</td><td>0.6416156</td><td>0.7574366</td><td>0.07341965</td></tr>\n",
       "\t<tr><th scope=row>4</th><td>0.04484188</td><td> 3</td><td>0.5789182</td><td>0.7233356</td><td>0.06661442</td></tr>\n",
       "\t<tr><th scope=row>5</th><td>0.04175615</td><td> 4</td><td>0.5340763</td><td>0.7064891</td><td>0.06152094</td></tr>\n",
       "\t<tr><th scope=row>6</th><td>0.02841973</td><td> 5</td><td>0.4923202</td><td>0.6730576</td><td>0.05878422</td></tr>\n",
       "\t<tr><th scope=row>7</th><td>0.02708010</td><td> 6</td><td>0.4639004</td><td>0.6517382</td><td>0.05880444</td></tr>\n",
       "\t<tr><th scope=row>8</th><td>0.02391079</td><td> 7</td><td>0.4368203</td><td>0.6397726</td><td>0.05829707</td></tr>\n",
       "\t<tr><th scope=row>9</th><td>0.02327041</td><td> 8</td><td>0.4129095</td><td>0.6326286</td><td>0.05793195</td></tr>\n",
       "\t<tr><th scope=row>10</th><td>0.02048612</td><td> 9</td><td>0.3896391</td><td>0.6344926</td><td>0.05769205</td></tr>\n",
       "\t<tr><th scope=row>11</th><td>0.01794398</td><td>10</td><td>0.3691530</td><td>0.6174939</td><td>0.05529769</td></tr>\n",
       "\t<tr><th scope=row>12</th><td>0.01424226</td><td>11</td><td>0.3512090</td><td>0.6388829</td><td>0.05705689</td></tr>\n",
       "\t<tr><th scope=row>13</th><td>0.01378041</td><td>12</td><td>0.3369668</td><td>0.6396284</td><td>0.05737942</td></tr>\n",
       "\t<tr><th scope=row>14</th><td>0.01343699</td><td>13</td><td>0.3231864</td><td>0.6498484</td><td>0.05790155</td></tr>\n",
       "\t<tr><th scope=row>15</th><td>0.01298689</td><td>14</td><td>0.3097494</td><td>0.6461530</td><td>0.05774455</td></tr>\n",
       "\t<tr><th scope=row>16</th><td>0.01154339</td><td>15</td><td>0.2967625</td><td>0.6545434</td><td>0.05877757</td></tr>\n",
       "\t<tr><th scope=row>17</th><td>0.01147462</td><td>16</td><td>0.2852191</td><td>0.6571112</td><td>0.06085153</td></tr>\n",
       "\t<tr><th scope=row>18</th><td>0.01134233</td><td>17</td><td>0.2737445</td><td>0.6571112</td><td>0.06085153</td></tr>\n",
       "\t<tr><th scope=row>19</th><td>0.01076366</td><td>18</td><td>0.2624021</td><td>0.6635330</td><td>0.06129709</td></tr>\n",
       "\t<tr><th scope=row>20</th><td>0.01041006</td><td>20</td><td>0.2408748</td><td>0.6611404</td><td>0.06090203</td></tr>\n",
       "\t<tr><th scope=row>21</th><td>0.01000000</td><td>21</td><td>0.2304647</td><td>0.6905805</td><td>0.06403833</td></tr>\n",
       "</tbody>\n",
       "</table>\n"
      ],
      "text/latex": [
       "A matrix: 21 × 5 of type dbl\n",
       "\\begin{tabular}{r|lllll}\n",
       "  & CP & nsplit & rel error & xerror & xstd\\\\\n",
       "\\hline\n",
       "\t1 & 0.24582911 &  0 & 1.0000000 & 1.0045802 & 0.09590597\\\\\n",
       "\t2 & 0.11255534 &  1 & 0.7541709 & 0.7677671 & 0.07458388\\\\\n",
       "\t3 & 0.06269736 &  2 & 0.6416156 & 0.7574366 & 0.07341965\\\\\n",
       "\t4 & 0.04484188 &  3 & 0.5789182 & 0.7233356 & 0.06661442\\\\\n",
       "\t5 & 0.04175615 &  4 & 0.5340763 & 0.7064891 & 0.06152094\\\\\n",
       "\t6 & 0.02841973 &  5 & 0.4923202 & 0.6730576 & 0.05878422\\\\\n",
       "\t7 & 0.02708010 &  6 & 0.4639004 & 0.6517382 & 0.05880444\\\\\n",
       "\t8 & 0.02391079 &  7 & 0.4368203 & 0.6397726 & 0.05829707\\\\\n",
       "\t9 & 0.02327041 &  8 & 0.4129095 & 0.6326286 & 0.05793195\\\\\n",
       "\t10 & 0.02048612 &  9 & 0.3896391 & 0.6344926 & 0.05769205\\\\\n",
       "\t11 & 0.01794398 & 10 & 0.3691530 & 0.6174939 & 0.05529769\\\\\n",
       "\t12 & 0.01424226 & 11 & 0.3512090 & 0.6388829 & 0.05705689\\\\\n",
       "\t13 & 0.01378041 & 12 & 0.3369668 & 0.6396284 & 0.05737942\\\\\n",
       "\t14 & 0.01343699 & 13 & 0.3231864 & 0.6498484 & 0.05790155\\\\\n",
       "\t15 & 0.01298689 & 14 & 0.3097494 & 0.6461530 & 0.05774455\\\\\n",
       "\t16 & 0.01154339 & 15 & 0.2967625 & 0.6545434 & 0.05877757\\\\\n",
       "\t17 & 0.01147462 & 16 & 0.2852191 & 0.6571112 & 0.06085153\\\\\n",
       "\t18 & 0.01134233 & 17 & 0.2737445 & 0.6571112 & 0.06085153\\\\\n",
       "\t19 & 0.01076366 & 18 & 0.2624021 & 0.6635330 & 0.06129709\\\\\n",
       "\t20 & 0.01041006 & 20 & 0.2408748 & 0.6611404 & 0.06090203\\\\\n",
       "\t21 & 0.01000000 & 21 & 0.2304647 & 0.6905805 & 0.06403833\\\\\n",
       "\\end{tabular}\n"
      ],
      "text/markdown": [
       "\n",
       "A matrix: 21 × 5 of type dbl\n",
       "\n",
       "| <!--/--> | CP | nsplit | rel error | xerror | xstd |\n",
       "|---|---|---|---|---|---|\n",
       "| 1 | 0.24582911 |  0 | 1.0000000 | 1.0045802 | 0.09590597 |\n",
       "| 2 | 0.11255534 |  1 | 0.7541709 | 0.7677671 | 0.07458388 |\n",
       "| 3 | 0.06269736 |  2 | 0.6416156 | 0.7574366 | 0.07341965 |\n",
       "| 4 | 0.04484188 |  3 | 0.5789182 | 0.7233356 | 0.06661442 |\n",
       "| 5 | 0.04175615 |  4 | 0.5340763 | 0.7064891 | 0.06152094 |\n",
       "| 6 | 0.02841973 |  5 | 0.4923202 | 0.6730576 | 0.05878422 |\n",
       "| 7 | 0.02708010 |  6 | 0.4639004 | 0.6517382 | 0.05880444 |\n",
       "| 8 | 0.02391079 |  7 | 0.4368203 | 0.6397726 | 0.05829707 |\n",
       "| 9 | 0.02327041 |  8 | 0.4129095 | 0.6326286 | 0.05793195 |\n",
       "| 10 | 0.02048612 |  9 | 0.3896391 | 0.6344926 | 0.05769205 |\n",
       "| 11 | 0.01794398 | 10 | 0.3691530 | 0.6174939 | 0.05529769 |\n",
       "| 12 | 0.01424226 | 11 | 0.3512090 | 0.6388829 | 0.05705689 |\n",
       "| 13 | 0.01378041 | 12 | 0.3369668 | 0.6396284 | 0.05737942 |\n",
       "| 14 | 0.01343699 | 13 | 0.3231864 | 0.6498484 | 0.05790155 |\n",
       "| 15 | 0.01298689 | 14 | 0.3097494 | 0.6461530 | 0.05774455 |\n",
       "| 16 | 0.01154339 | 15 | 0.2967625 | 0.6545434 | 0.05877757 |\n",
       "| 17 | 0.01147462 | 16 | 0.2852191 | 0.6571112 | 0.06085153 |\n",
       "| 18 | 0.01134233 | 17 | 0.2737445 | 0.6571112 | 0.06085153 |\n",
       "| 19 | 0.01076366 | 18 | 0.2624021 | 0.6635330 | 0.06129709 |\n",
       "| 20 | 0.01041006 | 20 | 0.2408748 | 0.6611404 | 0.06090203 |\n",
       "| 21 | 0.01000000 | 21 | 0.2304647 | 0.6905805 | 0.06403833 |\n",
       "\n"
      ],
      "text/plain": [
       "   CP         nsplit rel error xerror    xstd      \n",
       "1  0.24582911  0     1.0000000 1.0045802 0.09590597\n",
       "2  0.11255534  1     0.7541709 0.7677671 0.07458388\n",
       "3  0.06269736  2     0.6416156 0.7574366 0.07341965\n",
       "4  0.04484188  3     0.5789182 0.7233356 0.06661442\n",
       "5  0.04175615  4     0.5340763 0.7064891 0.06152094\n",
       "6  0.02841973  5     0.4923202 0.6730576 0.05878422\n",
       "7  0.02708010  6     0.4639004 0.6517382 0.05880444\n",
       "8  0.02391079  7     0.4368203 0.6397726 0.05829707\n",
       "9  0.02327041  8     0.4129095 0.6326286 0.05793195\n",
       "10 0.02048612  9     0.3896391 0.6344926 0.05769205\n",
       "11 0.01794398 10     0.3691530 0.6174939 0.05529769\n",
       "12 0.01424226 11     0.3512090 0.6388829 0.05705689\n",
       "13 0.01378041 12     0.3369668 0.6396284 0.05737942\n",
       "14 0.01343699 13     0.3231864 0.6498484 0.05790155\n",
       "15 0.01298689 14     0.3097494 0.6461530 0.05774455\n",
       "16 0.01154339 15     0.2967625 0.6545434 0.05877757\n",
       "17 0.01147462 16     0.2852191 0.6571112 0.06085153\n",
       "18 0.01134233 17     0.2737445 0.6571112 0.06085153\n",
       "19 0.01076366 18     0.2624021 0.6635330 0.06129709\n",
       "20 0.01041006 20     0.2408748 0.6611404 0.06090203\n",
       "21 0.01000000 21     0.2304647 0.6905805 0.06403833"
      ]
     },
     "metadata": {},
     "output_type": "display_data"
    }
   ],
   "source": [
    "ct = model$cptable\n",
    "ct"
   ]
  },
  {
   "cell_type": "code",
   "execution_count": 11,
   "metadata": {},
   "outputs": [
    {
     "data": {
      "image/png": "[encoded data removed]",
      "text/plain": [
       "plot without title"
      ]
     },
     "metadata": {
      "image/png": {
       "height": 420,
       "width": 420
      }
     },
     "output_type": "display_data"
    }
   ],
   "source": [
    "plot(log(ct[,\"CP\"]),ct[,\"xerror\"])"
   ]
  },
  {
   "cell_type": "code",
   "execution_count": 12,
   "metadata": {},
   "outputs": [
    {
     "data": {
      "text/html": [
       "0.0179439849744123"
      ],
      "text/latex": [
       "0.0179439849744123"
      ],
      "text/markdown": [
       "0.0179439849744123"
      ],
      "text/plain": [
       "[1] 0.01794398"
      ]
     },
     "metadata": {},
     "output_type": "display_data"
    }
   ],
   "source": [
    "opt_alpha = ct[which.min(ct[,\"xerror\"]),\"CP\"]\n",
    "opt_alpha"
   ]
  },
  {
   "cell_type": "code",
   "execution_count": 13,
   "metadata": {},
   "outputs": [
    {
     "data": {
      "image/png": "[encoded data removed]",
      "text/plain": [
       "plot without title"
      ]
     },
     "metadata": {
      "image/png": {
       "height": 420,
       "width": 420
      }
     },
     "output_type": "display_data"
    }
   ],
   "source": [
    "plot(log(ct[,\"CP\"]),ct[,\"xerror\"])\n",
    "abline(v=log(opt_alpha))"
   ]
  },
  {
   "cell_type": "code",
   "execution_count": 14,
   "metadata": {},
   "outputs": [],
   "source": [
    "pruned = prune(model,cp=opt_alpha)"
   ]
  },
  {
   "cell_type": "code",
   "execution_count": 15,
   "metadata": {},
   "outputs": [
    {
     "data": {
      "text/plain": [
       "n= 200 \n",
       "\n",
       "node), split, n, deviance, yval\n",
       "      * denotes terminal node\n",
       "\n",
       " 1) root 200 1551.45300  7.567600  \n",
       "   2) ShelveLoc=Bad,Medium 157  893.07850  6.844904  \n",
       "     4) Price>=106.5 101  429.31740  6.059604  \n",
       "       8) ShelveLoc=Bad 31   92.25174  4.856129 *\n",
       "       9) ShelveLoc=Medium 70  272.28290  6.592571  \n",
       "        18) Price>=175.5 1    0.00000  0.000000 *\n",
       "        19) Price< 175.5 69  228.19110  6.688116  \n",
       "          38) Advertising< 13.5 55  148.11040  6.318182 *\n",
       "          39) Advertising>=13.5 14   42.98417  8.141429 *\n",
       "     5) Price< 106.5 56  289.13680  8.261250  \n",
       "      10) ShelveLoc=Bad 14   57.63089  6.330714 *\n",
       "      11) ShelveLoc=Medium 42  161.93580  8.904762  \n",
       "        22) Age>=58 21   75.07958  7.977619 *\n",
       "        23) Age< 58 21   50.75332  9.831905 *\n",
       "   3) ShelveLoc=Good 43  276.98220 10.206280  \n",
       "     6) Price>=122.5 22  103.94610  8.736818  \n",
       "      12) Age>=60.5 10   33.24041  7.223000 *\n",
       "      13) Age< 60.5 12   28.69217  9.998333 *\n",
       "     7) Price< 122.5 21   75.76411 11.745710  \n",
       "      14) Age>=55 11   23.94102 10.572730 *\n",
       "      15) Age< 55 10   20.03984 13.036000 *"
      ]
     },
     "metadata": {},
     "output_type": "display_data"
    }
   ],
   "source": [
    "pruned"
   ]
  },
  {
   "cell_type": "code",
   "execution_count": 16,
   "metadata": {},
   "outputs": [
    {
     "data": {
      "image/png": "[encoded data removed]",
      "text/plain": [
       "plot without title"
      ]
     },
     "metadata": {
      "image/png": {
       "height": 420,
       "width": 420
      }
     },
     "output_type": "display_data"
    }
   ],
   "source": [
    "plot(pruned)\n",
    "text(pruned)"
   ]
  },
  {
   "cell_type": "code",
   "execution_count": 17,
   "metadata": {},
   "outputs": [
    {
     "data": {
      "text/html": [
       "357.555224808802"
      ],
      "text/latex": [
       "357.555224808802"
      ],
      "text/markdown": [
       "357.555224808802"
      ],
      "text/plain": [
       "[1] 357.5552"
      ]
     },
     "metadata": {},
     "output_type": "display_data"
    },
    {
     "data": {
      "text/html": [
       "572.723557561793"
      ],
      "text/latex": [
       "572.723557561793"
      ],
      "text/markdown": [
       "572.723557561793"
      ],
      "text/plain": [
       "[1] 572.7236"
      ]
     },
     "metadata": {},
     "output_type": "display_data"
    }
   ],
   "source": [
    "RSS_train_full = sum((predict(model,train)-train$Sales)^2)\n",
    "RSS_train_pruned = sum((predict(pruned,train)-train$Sales)^2)\n",
    "RSS_train_full\n",
    "RSS_train_pruned"
   ]
  },
  {
   "cell_type": "code",
   "execution_count": 18,
   "metadata": {},
   "outputs": [
    {
     "data": {
      "text/html": [
       "2758.73052013197"
      ],
      "text/latex": [
       "2758.73052013197"
      ],
      "text/markdown": [
       "2758.73052013197"
      ],
      "text/plain": [
       "[1] 2758.731"
      ]
     },
     "metadata": {},
     "output_type": "display_data"
    },
    {
     "data": {
      "text/html": [
       "2659.22125989123"
      ],
      "text/latex": [
       "2659.22125989123"
      ],
      "text/markdown": [
       "2659.22125989123"
      ],
      "text/plain": [
       "[1] 2659.221"
      ]
     },
     "metadata": {},
     "output_type": "display_data"
    }
   ],
   "source": [
    "RSS_val_full = sum((predict(model,validation)-train$Sales)^2)\n",
    "RSS_val_pruned = sum((predict(pruned,validation)-train$Sales)^2)\n",
    "RSS_val_full\n",
    "RSS_val_pruned"
   ]
  },
  {
   "cell_type": "markdown",
   "metadata": {},
   "source": [
    "### Classification"
   ]
  },
  {
   "cell_type": "code",
   "execution_count": 19,
   "metadata": {},
   "outputs": [],
   "source": [
    "library('MASS')"
   ]
  },
  {
   "cell_type": "code",
   "execution_count": 20,
   "metadata": {},
   "outputs": [],
   "source": [
    "library('palmerpenguins')"
   ]
  },
  {
   "cell_type": "code",
   "execution_count": 21,
   "metadata": {},
   "outputs": [],
   "source": [
    "penguins = penguins[complete.cases(penguins),]"
   ]
  },
  {
   "cell_type": "code",
   "execution_count": 22,
   "metadata": {},
   "outputs": [],
   "source": [
    "classmod = rpart(species~.,data=penguins,method=\"class\")"
   ]
  },
  {
   "cell_type": "code",
   "execution_count": 23,
   "metadata": {},
   "outputs": [
    {
     "data": {
      "image/png": "[encoded data removed]",
      "text/plain": [
       "plot without title"
      ]
     },
     "metadata": {
      "image/png": {
       "height": 420,
       "width": 420
      }
     },
     "output_type": "display_data"
    }
   ],
   "source": [
    "plot(classmod)\n",
    "text(classmod)"
   ]
  },
  {
   "cell_type": "code",
   "execution_count": 24,
   "metadata": {},
   "outputs": [],
   "source": [
    "library('ggplot2')"
   ]
  },
  {
   "cell_type": "code",
   "execution_count": 25,
   "metadata": {},
   "outputs": [],
   "source": [
    "plot_fit = function(v1,v2,df=penguins,N=floor(sqrt(10000)),scaleit=FALSE,fmla='species~.',cp=0){\n",
    "    train_df = df[,c('species',v1,v2)]\n",
    "    if(scaleit)\n",
    "        train_df[,c(v1,v2)] = scale(train_df[,c(v1,v2)])\n",
    "    \n",
    "    # fit model\n",
    "    mod = rpart(formula=as.formula(fmla),data=train_df,method=\"class\",\n",
    "                   control = rpart.control(maxdepth=30,minsplit=1,minbucket=1,cp=cp))\n",
    "    \n",
    "    r1 = range(train_df[[v1]])\n",
    "    r2 = range(train_df[[v2]])\n",
    "    \n",
    "    s1 = seq(r1[1],r1[2],length.out=N)\n",
    "    s2 = seq(r2[1],r2[2],length.out=N)\n",
    "    \n",
    "    p_df = expand.grid(v1=s1,v2=s2)\n",
    "    colnames(p_df) = c(v1,v2)\n",
    "    preds = predict(mod,newdata=p_df,type='class')\n",
    "    \n",
    "    p_df$species = preds\n",
    "    \n",
    "    ggplot(data=p_df,mapping=aes_string(x=v1,y=v2,fill='species',shape='species'))+geom_tile()+\n",
    "        geom_point(data=train_df,size=5)\n",
    "}"
   ]
  },
  {
   "cell_type": "code",
   "execution_count": 26,
   "metadata": {},
   "outputs": [
    {
     "data": {
      "image/png": "[encoded data removed]",
      "text/plain": [
       "plot without title"
      ]
     },
     "metadata": {
      "image/png": {
       "height": 420,
       "width": 420
      }
     },
     "output_type": "display_data"
    }
   ],
   "source": [
    "plot_fit(v1='flipper_length_mm',v2='bill_depth_mm',cp=0)"
   ]
  },
  {
   "cell_type": "code",
   "execution_count": 27,
   "metadata": {},
   "outputs": [
    {
     "data": {
      "image/png": "[encoded data removed]",
      "text/plain": [
       "plot without title"
      ]
     },
     "metadata": {
      "image/png": {
       "height": 420,
       "width": 420
      }
     },
     "output_type": "display_data"
    }
   ],
   "source": [
    "plot_fit(v1='flipper_length_mm',v2='bill_depth_mm',cp=.01)"
   ]
  },
  {
   "cell_type": "code",
   "execution_count": 28,
   "metadata": {},
   "outputs": [
    {
     "data": {
      "image/png": "[encoded data removed]",
      "text/plain": [
       "plot without title"
      ]
     },
     "metadata": {
      "image/png": {
       "height": 420,
       "width": 420
      }
     },
     "output_type": "display_data"
    }
   ],
   "source": [
    "plot_fit(v1='flipper_length_mm',v2='bill_depth_mm',cp=1)"
   ]
  },
  {
   "cell_type": "code",
   "execution_count": null,
   "metadata": {},
   "outputs": [],
   "source": []
  }
 ],
 "metadata": {
  "jupytext": {
   "formats": "ipynb,Rmd,R"
  },
  "kernelspec": {
   "display_name": "R",
   "language": "R",
   "name": "ir"
  },
  "language_info": {
   "codemirror_mode": "r",
   "file_extension": ".r",
   "mimetype": "text/x-r-source",
   "name": "R",
   "pygments_lexer": "r",
   "version": "4.0.3"
  }
 },
 "nbformat": 4,
 "nbformat_minor": 4
}
