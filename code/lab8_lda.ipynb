{
 "cells": [
  {
   "cell_type": "code",
   "execution_count": 1,
   "metadata": {},
   "outputs": [],
   "source": [
    "library('ggplot2')\n",
    "library('reshape2')"
   ]
  },
  {
   "cell_type": "code",
   "execution_count": 2,
   "metadata": {},
   "outputs": [],
   "source": [
    "sig2 = 1\n",
    "mus = c(1,5,20)\n",
    "N = 100"
   ]
  },
  {
   "cell_type": "code",
   "execution_count": 3,
   "metadata": {},
   "outputs": [
    {
     "data": {
      "text/html": [
       "<style>\n",
       ".list-inline {list-style: none; margin:0; padding: 0}\n",
       ".list-inline>li {display: inline-block}\n",
       ".list-inline>li:not(:last-child)::after {content: \"\\00b7\"; padding: 0 .5ex}\n",
       "</style>\n",
       "<ol class=list-inline><li>100</li><li>100</li><li>100</li></ol>\n"
      ],
      "text/latex": [
       "\\begin{enumerate*}\n",
       "\\item 100\n",
       "\\item 100\n",
       "\\item 100\n",
       "\\end{enumerate*}\n"
      ],
      "text/markdown": [
       "1. 100\n",
       "2. 100\n",
       "3. 100\n",
       "\n",
       "\n"
      ],
      "text/plain": [
       "[1] 100 100 100"
      ]
     },
     "metadata": {},
     "output_type": "display_data"
    }
   ],
   "source": [
    "Ns = rep(N,3)\n",
    "Ns"
   ]
  },
  {
   "cell_type": "code",
   "execution_count": 4,
   "metadata": {},
   "outputs": [],
   "source": [
    "g1 <- data.frame(group=1,x = rnorm(Ns[1],mus[1],1))\n",
    "g2 <- data.frame(group=2,x = rnorm(Ns[2],mus[2],1))\n",
    "g3 <- data.frame(group=3,x = rnorm(Ns[3],mus[3],1))\n",
    "d = rbind(g1,g2,g3)\n",
    "d$group <- as.factor(d$group)\n",
    "d = d[sample(nrow(d)),]"
   ]
  },
  {
   "cell_type": "code",
   "execution_count": 5,
   "metadata": {},
   "outputs": [
    {
     "data": {
      "text/html": [
       "<table class=\"dataframe\">\n",
       "<caption>A data.frame: 6 × 2</caption>\n",
       "<thead>\n",
       "\t<tr><th></th><th scope=col>group</th><th scope=col>x</th></tr>\n",
       "\t<tr><th></th><th scope=col>&lt;fct&gt;</th><th scope=col>&lt;dbl&gt;</th></tr>\n",
       "</thead>\n",
       "<tbody>\n",
       "\t<tr><th scope=row>19</th><td>1</td><td> 1.5355660</td></tr>\n",
       "\t<tr><th scope=row>247</th><td>3</td><td>20.4780479</td></tr>\n",
       "\t<tr><th scope=row>154</th><td>2</td><td> 6.1421668</td></tr>\n",
       "\t<tr><th scope=row>152</th><td>2</td><td> 5.0381709</td></tr>\n",
       "\t<tr><th scope=row>231</th><td>3</td><td>22.3098408</td></tr>\n",
       "\t<tr><th scope=row>75</th><td>1</td><td>-0.7192248</td></tr>\n",
       "</tbody>\n",
       "</table>\n"
      ],
      "text/latex": [
       "A data.frame: 6 × 2\n",
       "\\begin{tabular}{r|ll}\n",
       "  & group & x\\\\\n",
       "  & <fct> & <dbl>\\\\\n",
       "\\hline\n",
       "\t19 & 1 &  1.5355660\\\\\n",
       "\t247 & 3 & 20.4780479\\\\\n",
       "\t154 & 2 &  6.1421668\\\\\n",
       "\t152 & 2 &  5.0381709\\\\\n",
       "\t231 & 3 & 22.3098408\\\\\n",
       "\t75 & 1 & -0.7192248\\\\\n",
       "\\end{tabular}\n"
      ],
      "text/markdown": [
       "\n",
       "A data.frame: 6 × 2\n",
       "\n",
       "| <!--/--> | group &lt;fct&gt; | x &lt;dbl&gt; |\n",
       "|---|---|---|\n",
       "| 19 | 1 |  1.5355660 |\n",
       "| 247 | 3 | 20.4780479 |\n",
       "| 154 | 2 |  6.1421668 |\n",
       "| 152 | 2 |  5.0381709 |\n",
       "| 231 | 3 | 22.3098408 |\n",
       "| 75 | 1 | -0.7192248 |\n",
       "\n"
      ],
      "text/plain": [
       "    group x         \n",
       "19  1      1.5355660\n",
       "247 3     20.4780479\n",
       "154 2      6.1421668\n",
       "152 2      5.0381709\n",
       "231 3     22.3098408\n",
       "75  1     -0.7192248"
      ]
     },
     "metadata": {},
     "output_type": "display_data"
    }
   ],
   "source": [
    "head(d)"
   ]
  },
  {
   "cell_type": "code",
   "execution_count": 6,
   "metadata": {},
   "outputs": [
    {
     "data": {
      "image/png": "[encoded data removed]",
      "text/plain": [
       "plot without title"
      ]
     },
     "metadata": {
      "image/png": {
       "height": 420,
       "width": 420
      }
     },
     "output_type": "display_data"
    }
   ],
   "source": [
    "ggplot(data=d,mapping=aes(x=x,color=group,group=group))+\n",
    "    geom_density()+\n",
    "    geom_point(mapping=aes(x=x,y=0))"
   ]
  },
  {
   "cell_type": "code",
   "execution_count": 7,
   "metadata": {},
   "outputs": [
    {
     "data": {
      "text/html": [
       "<table class=\"dataframe\">\n",
       "<caption>A data.frame: 6 × 2</caption>\n",
       "<thead>\n",
       "\t<tr><th></th><th scope=col>group</th><th scope=col>x</th></tr>\n",
       "\t<tr><th></th><th scope=col>&lt;fct&gt;</th><th scope=col>&lt;dbl&gt;</th></tr>\n",
       "</thead>\n",
       "<tbody>\n",
       "\t<tr><th scope=row>19</th><td>1</td><td> 1.5355660</td></tr>\n",
       "\t<tr><th scope=row>75</th><td>1</td><td>-0.7192248</td></tr>\n",
       "\t<tr><th scope=row>22</th><td>1</td><td> 2.5601505</td></tr>\n",
       "\t<tr><th scope=row>78</th><td>1</td><td>-0.1390705</td></tr>\n",
       "\t<tr><th scope=row>14</th><td>1</td><td> 1.3356700</td></tr>\n",
       "\t<tr><th scope=row>1</th><td>1</td><td>-0.1271385</td></tr>\n",
       "</tbody>\n",
       "</table>\n"
      ],
      "text/latex": [
       "A data.frame: 6 × 2\n",
       "\\begin{tabular}{r|ll}\n",
       "  & group & x\\\\\n",
       "  & <fct> & <dbl>\\\\\n",
       "\\hline\n",
       "\t19 & 1 &  1.5355660\\\\\n",
       "\t75 & 1 & -0.7192248\\\\\n",
       "\t22 & 1 &  2.5601505\\\\\n",
       "\t78 & 1 & -0.1390705\\\\\n",
       "\t14 & 1 &  1.3356700\\\\\n",
       "\t1 & 1 & -0.1271385\\\\\n",
       "\\end{tabular}\n"
      ],
      "text/markdown": [
       "\n",
       "A data.frame: 6 × 2\n",
       "\n",
       "| <!--/--> | group &lt;fct&gt; | x &lt;dbl&gt; |\n",
       "|---|---|---|\n",
       "| 19 | 1 |  1.5355660 |\n",
       "| 75 | 1 | -0.7192248 |\n",
       "| 22 | 1 |  2.5601505 |\n",
       "| 78 | 1 | -0.1390705 |\n",
       "| 14 | 1 |  1.3356700 |\n",
       "| 1 | 1 | -0.1271385 |\n",
       "\n"
      ],
      "text/plain": [
       "   group x         \n",
       "19 1      1.5355660\n",
       "75 1     -0.7192248\n",
       "22 1      2.5601505\n",
       "78 1     -0.1390705\n",
       "14 1      1.3356700\n",
       "1  1     -0.1271385"
      ]
     },
     "metadata": {},
     "output_type": "display_data"
    }
   ],
   "source": [
    "class=1\n",
    "  \n",
    "subd = d[d$group==class,]\n",
    "head(subd)"
   ]
  },
  {
   "cell_type": "code",
   "execution_count": 8,
   "metadata": {},
   "outputs": [
    {
     "data": {
      "text/html": [
       "1.12067814497171"
      ],
      "text/latex": [
       "1.12067814497171"
      ],
      "text/markdown": [
       "1.12067814497171"
      ],
      "text/plain": [
       "[1] 1.120678"
      ]
     },
     "metadata": {},
     "output_type": "display_data"
    }
   ],
   "source": [
    "# mu1_hat\n",
    "muhat = mean(subd$x)\n",
    "muhat"
   ]
  },
  {
   "cell_type": "code",
   "execution_count": 9,
   "metadata": {},
   "outputs": [
    {
     "data": {
      "text/html": [
       "0.333333333333333"
      ],
      "text/latex": [
       "0.333333333333333"
      ],
      "text/markdown": [
       "0.333333333333333"
      ],
      "text/plain": [
       "[1] 0.3333333"
      ]
     },
     "metadata": {},
     "output_type": "display_data"
    }
   ],
   "source": [
    "# pi_hat\n",
    "pi_hat = mean(d$group==class)\n",
    "pi_hat"
   ]
  },
  {
   "cell_type": "code",
   "execution_count": 10,
   "metadata": {},
   "outputs": [
    {
     "data": {
      "text/html": [
       "<style>\n",
       ".list-inline {list-style: none; margin:0; padding: 0}\n",
       ".list-inline>li {display: inline-block}\n",
       ".list-inline>li:not(:last-child)::after {content: \"\\00b7\"; padding: 0 .5ex}\n",
       "</style>\n",
       "<ol class=list-inline><li>1.09082291303952</li><li>0.97314016168251</li><li>0.95178040157297</li></ol>\n"
      ],
      "text/latex": [
       "\\begin{enumerate*}\n",
       "\\item 1.09082291303952\n",
       "\\item 0.97314016168251\n",
       "\\item 0.95178040157297\n",
       "\\end{enumerate*}\n"
      ],
      "text/markdown": [
       "1. 1.09082291303952\n",
       "2. 0.97314016168251\n",
       "3. 0.95178040157297\n",
       "\n",
       "\n"
      ],
      "text/plain": [
       "[1] 1.0908229 0.9731402 0.9517804"
      ]
     },
     "metadata": {},
     "output_type": "display_data"
    }
   ],
   "source": [
    "# pooled sd\n",
    "vars = sapply(1:3,function(i)var(d[d$group==i,'x']))\n",
    "vars"
   ]
  },
  {
   "cell_type": "code",
   "execution_count": 11,
   "metadata": {},
   "outputs": [
    {
     "data": {
      "text/html": [
       "1.00524782543167"
      ],
      "text/latex": [
       "1.00524782543167"
      ],
      "text/markdown": [
       "1.00524782543167"
      ],
      "text/plain": [
       "[1] 1.005248"
      ]
     },
     "metadata": {},
     "output_type": "display_data"
    }
   ],
   "source": [
    "pooled_var = sum((Ns-1)*vars)/(sum(Ns)-3)\n",
    "pooled_var"
   ]
  },
  {
   "cell_type": "code",
   "execution_count": 12,
   "metadata": {},
   "outputs": [
    {
     "data": {
      "text/html": [
       "68.7839836182202"
      ],
      "text/latex": [
       "68.7839836182202"
      ],
      "text/markdown": [
       "68.7839836182202"
      ],
      "text/plain": [
       "[1] 68.78398"
      ]
     },
     "metadata": {},
     "output_type": "display_data"
    }
   ],
   "source": [
    "var(d$x)"
   ]
  },
  {
   "cell_type": "code",
   "execution_count": 13,
   "metadata": {},
   "outputs": [],
   "source": [
    "x0 = 1"
   ]
  },
  {
   "cell_type": "code",
   "execution_count": 14,
   "metadata": {},
   "outputs": [
    {
     "data": {
      "text/html": [
       "0.131675927749797"
      ],
      "text/latex": [
       "0.131675927749797"
      ],
      "text/markdown": [
       "0.131675927749797"
      ],
      "text/plain": [
       "[1] 0.1316759"
      ]
     },
     "metadata": {},
     "output_type": "display_data"
    }
   ],
   "source": [
    "dnorm(x0,mean=muhat,sd=sqrt(pooled_var))*pi_hat"
   ]
  },
  {
   "cell_type": "code",
   "execution_count": 15,
   "metadata": {},
   "outputs": [],
   "source": [
    "delta_lda_c = function(x0,class){\n",
    "    subd = d[d$group==class,]\n",
    "    muhat = mean(subd$x)\n",
    "    pi_hat = mean(d$group==class)\n",
    "    vars = sapply(1:3,function(i)var(d[d$group==i,'x']))\n",
    "    pooled_var = sum((Ns-1)*vars)/(sum(Ns)-3)\n",
    "    dlta = dnorm(x0,mean=muhat,sd=sqrt(pooled_var))*pi_hat\n",
    "    return(dlta)\n",
    "}"
   ]
  },
  {
   "cell_type": "code",
   "execution_count": 16,
   "metadata": {},
   "outputs": [],
   "source": [
    "lda_pred = function(x0){\n",
    "    deltas = sapply(1:3,function(c)delta_lda_c(x0,c))\n",
    "    return(which.max(deltas))\n",
    "}"
   ]
  },
  {
   "cell_type": "code",
   "execution_count": 17,
   "metadata": {},
   "outputs": [
    {
     "data": {
      "text/html": [
       "1"
      ],
      "text/latex": [
       "1"
      ],
      "text/markdown": [
       "1"
      ],
      "text/plain": [
       "[1] 1"
      ]
     },
     "metadata": {},
     "output_type": "display_data"
    }
   ],
   "source": [
    "lda_pred(x0=1)"
   ]
  },
  {
   "cell_type": "code",
   "execution_count": 18,
   "metadata": {},
   "outputs": [
    {
     "data": {
      "text/html": [
       "2"
      ],
      "text/latex": [
       "2"
      ],
      "text/markdown": [
       "2"
      ],
      "text/plain": [
       "[1] 2"
      ]
     },
     "metadata": {},
     "output_type": "display_data"
    }
   ],
   "source": [
    "lda_pred(x0=7)"
   ]
  },
  {
   "cell_type": "code",
   "execution_count": 19,
   "metadata": {},
   "outputs": [
    {
     "data": {
      "text/html": [
       "3"
      ],
      "text/latex": [
       "3"
      ],
      "text/markdown": [
       "3"
      ],
      "text/plain": [
       "[1] 3"
      ]
     },
     "metadata": {},
     "output_type": "display_data"
    }
   ],
   "source": [
    "lda_pred(x0=20)"
   ]
  },
  {
   "cell_type": "code",
   "execution_count": 20,
   "metadata": {},
   "outputs": [],
   "source": [
    "x_seq = seq(-2,25,length.out=500)"
   ]
  },
  {
   "cell_type": "code",
   "execution_count": 21,
   "metadata": {},
   "outputs": [
    {
     "data": {
      "text/html": [
       "<table class=\"dataframe\">\n",
       "<caption>A data.frame: 6 × 5</caption>\n",
       "<thead>\n",
       "\t<tr><th></th><th scope=col>x</th><th scope=col>y_pred</th><th scope=col>c1</th><th scope=col>c2</th><th scope=col>c3</th></tr>\n",
       "\t<tr><th></th><th scope=col>&lt;dbl&gt;</th><th scope=col>&lt;fct&gt;</th><th scope=col>&lt;dbl&gt;</th><th scope=col>&lt;dbl&gt;</th><th scope=col>&lt;dbl&gt;</th></tr>\n",
       "</thead>\n",
       "<tbody>\n",
       "\t<tr><th scope=row>1</th><td>-2.000000</td><td>1</td><td>0.001044660</td><td>4.192625e-12</td><td>1.099854e-107</td></tr>\n",
       "\t<tr><th scope=row>2</th><td>-1.945892</td><td>1</td><td>0.001233935</td><td>6.093021e-12</td><td>3.620184e-107</td></tr>\n",
       "\t<tr><th scope=row>3</th><td>-1.891784</td><td>1</td><td>0.001453264</td><td>8.829061e-12</td><td>1.188123e-106</td></tr>\n",
       "\t<tr><th scope=row>4</th><td>-1.837675</td><td>1</td><td>0.001706601</td><td>1.275650e-11</td><td>3.888009e-106</td></tr>\n",
       "\t<tr><th scope=row>5</th><td>-1.783567</td><td>1</td><td>0.001998273</td><td>1.837738e-11</td><td>1.268611e-105</td></tr>\n",
       "\t<tr><th scope=row>6</th><td>-1.729459</td><td>1</td><td>0.002332989</td><td>2.639799e-11</td><td>4.127286e-105</td></tr>\n",
       "</tbody>\n",
       "</table>\n"
      ],
      "text/latex": [
       "A data.frame: 6 × 5\n",
       "\\begin{tabular}{r|lllll}\n",
       "  & x & y\\_pred & c1 & c2 & c3\\\\\n",
       "  & <dbl> & <fct> & <dbl> & <dbl> & <dbl>\\\\\n",
       "\\hline\n",
       "\t1 & -2.000000 & 1 & 0.001044660 & 4.192625e-12 & 1.099854e-107\\\\\n",
       "\t2 & -1.945892 & 1 & 0.001233935 & 6.093021e-12 & 3.620184e-107\\\\\n",
       "\t3 & -1.891784 & 1 & 0.001453264 & 8.829061e-12 & 1.188123e-106\\\\\n",
       "\t4 & -1.837675 & 1 & 0.001706601 & 1.275650e-11 & 3.888009e-106\\\\\n",
       "\t5 & -1.783567 & 1 & 0.001998273 & 1.837738e-11 & 1.268611e-105\\\\\n",
       "\t6 & -1.729459 & 1 & 0.002332989 & 2.639799e-11 & 4.127286e-105\\\\\n",
       "\\end{tabular}\n"
      ],
      "text/markdown": [
       "\n",
       "A data.frame: 6 × 5\n",
       "\n",
       "| <!--/--> | x &lt;dbl&gt; | y_pred &lt;fct&gt; | c1 &lt;dbl&gt; | c2 &lt;dbl&gt; | c3 &lt;dbl&gt; |\n",
       "|---|---|---|---|---|---|\n",
       "| 1 | -2.000000 | 1 | 0.001044660 | 4.192625e-12 | 1.099854e-107 |\n",
       "| 2 | -1.945892 | 1 | 0.001233935 | 6.093021e-12 | 3.620184e-107 |\n",
       "| 3 | -1.891784 | 1 | 0.001453264 | 8.829061e-12 | 1.188123e-106 |\n",
       "| 4 | -1.837675 | 1 | 0.001706601 | 1.275650e-11 | 3.888009e-106 |\n",
       "| 5 | -1.783567 | 1 | 0.001998273 | 1.837738e-11 | 1.268611e-105 |\n",
       "| 6 | -1.729459 | 1 | 0.002332989 | 2.639799e-11 | 4.127286e-105 |\n",
       "\n"
      ],
      "text/plain": [
       "  x         y_pred c1          c2           c3           \n",
       "1 -2.000000 1      0.001044660 4.192625e-12 1.099854e-107\n",
       "2 -1.945892 1      0.001233935 6.093021e-12 3.620184e-107\n",
       "3 -1.891784 1      0.001453264 8.829061e-12 1.188123e-106\n",
       "4 -1.837675 1      0.001706601 1.275650e-11 3.888009e-106\n",
       "5 -1.783567 1      0.001998273 1.837738e-11 1.268611e-105\n",
       "6 -1.729459 1      0.002332989 2.639799e-11 4.127286e-105"
      ]
     },
     "metadata": {},
     "output_type": "display_data"
    }
   ],
   "source": [
    "df = data.frame(x=x_seq,y_pred = sapply(x_seq,lda_pred))\n",
    "df$y_pred = factor(df$y_pred)\n",
    "df$c1 = sapply(x_seq,delta_lda_c,class=1)\n",
    "df$c2 = sapply(x_seq,delta_lda_c,class=2)\n",
    "df$c3 = sapply(x_seq,delta_lda_c,class=3)\n",
    "head(df)"
   ]
  },
  {
   "cell_type": "code",
   "execution_count": 22,
   "metadata": {},
   "outputs": [
    {
     "data": {
      "text/html": [
       "<table class=\"dataframe\">\n",
       "<caption>A data.frame: 6 × 4</caption>\n",
       "<thead>\n",
       "\t<tr><th></th><th scope=col>x</th><th scope=col>y_pred</th><th scope=col>variable</th><th scope=col>value</th></tr>\n",
       "\t<tr><th></th><th scope=col>&lt;dbl&gt;</th><th scope=col>&lt;fct&gt;</th><th scope=col>&lt;fct&gt;</th><th scope=col>&lt;dbl&gt;</th></tr>\n",
       "</thead>\n",
       "<tbody>\n",
       "\t<tr><th scope=row>1</th><td>-2.000000</td><td>1</td><td>c1</td><td>0.001044660</td></tr>\n",
       "\t<tr><th scope=row>2</th><td>-1.945892</td><td>1</td><td>c1</td><td>0.001233935</td></tr>\n",
       "\t<tr><th scope=row>3</th><td>-1.891784</td><td>1</td><td>c1</td><td>0.001453264</td></tr>\n",
       "\t<tr><th scope=row>4</th><td>-1.837675</td><td>1</td><td>c1</td><td>0.001706601</td></tr>\n",
       "\t<tr><th scope=row>5</th><td>-1.783567</td><td>1</td><td>c1</td><td>0.001998273</td></tr>\n",
       "\t<tr><th scope=row>6</th><td>-1.729459</td><td>1</td><td>c1</td><td>0.002332989</td></tr>\n",
       "</tbody>\n",
       "</table>\n"
      ],
      "text/latex": [
       "A data.frame: 6 × 4\n",
       "\\begin{tabular}{r|llll}\n",
       "  & x & y\\_pred & variable & value\\\\\n",
       "  & <dbl> & <fct> & <fct> & <dbl>\\\\\n",
       "\\hline\n",
       "\t1 & -2.000000 & 1 & c1 & 0.001044660\\\\\n",
       "\t2 & -1.945892 & 1 & c1 & 0.001233935\\\\\n",
       "\t3 & -1.891784 & 1 & c1 & 0.001453264\\\\\n",
       "\t4 & -1.837675 & 1 & c1 & 0.001706601\\\\\n",
       "\t5 & -1.783567 & 1 & c1 & 0.001998273\\\\\n",
       "\t6 & -1.729459 & 1 & c1 & 0.002332989\\\\\n",
       "\\end{tabular}\n"
      ],
      "text/markdown": [
       "\n",
       "A data.frame: 6 × 4\n",
       "\n",
       "| <!--/--> | x &lt;dbl&gt; | y_pred &lt;fct&gt; | variable &lt;fct&gt; | value &lt;dbl&gt; |\n",
       "|---|---|---|---|---|\n",
       "| 1 | -2.000000 | 1 | c1 | 0.001044660 |\n",
       "| 2 | -1.945892 | 1 | c1 | 0.001233935 |\n",
       "| 3 | -1.891784 | 1 | c1 | 0.001453264 |\n",
       "| 4 | -1.837675 | 1 | c1 | 0.001706601 |\n",
       "| 5 | -1.783567 | 1 | c1 | 0.001998273 |\n",
       "| 6 | -1.729459 | 1 | c1 | 0.002332989 |\n",
       "\n"
      ],
      "text/plain": [
       "  x         y_pred variable value      \n",
       "1 -2.000000 1      c1       0.001044660\n",
       "2 -1.945892 1      c1       0.001233935\n",
       "3 -1.891784 1      c1       0.001453264\n",
       "4 -1.837675 1      c1       0.001706601\n",
       "5 -1.783567 1      c1       0.001998273\n",
       "6 -1.729459 1      c1       0.002332989"
      ]
     },
     "metadata": {},
     "output_type": "display_data"
    }
   ],
   "source": [
    "mdf = melt(df,id.vars=c('x','y_pred'))\n",
    "head(mdf)"
   ]
  },
  {
   "cell_type": "code",
   "execution_count": 23,
   "metadata": {},
   "outputs": [],
   "source": [
    "levels(mdf$variable) = c(1,2,3)"
   ]
  },
  {
   "cell_type": "code",
   "execution_count": 24,
   "metadata": {},
   "outputs": [
    {
     "data": {
      "image/png": "[encoded data removed]",
      "text/plain": [
       "plot without title"
      ]
     },
     "metadata": {
      "image/png": {
       "height": 420,
       "width": 420
      }
     },
     "output_type": "display_data"
    }
   ],
   "source": [
    "ggplot(data=d,mapping=aes(x=x,color=group,group=group))+\n",
    "    geom_density()+\n",
    "    geom_point(mapping=aes(x=x,y=0))"
   ]
  },
  {
   "cell_type": "code",
   "execution_count": 25,
   "metadata": {},
   "outputs": [
    {
     "data": {
      "image/png": "[encoded data removed]",
      "text/plain": [
       "plot without title"
      ]
     },
     "metadata": {
      "image/png": {
       "height": 420,
       "width": 420
      }
     },
     "output_type": "display_data"
    }
   ],
   "source": [
    "ggplot(data=mdf,mapping=aes(x=x,y=0,color=y_pred,group=y_pred))+\n",
    "    geom_point()+\n",
    "    geom_line(mapping=aes(x=x,y=value,group=variable,color=variable),inherit.aes=FALSE)"
   ]
  },
  {
   "cell_type": "code",
   "execution_count": 26,
   "metadata": {},
   "outputs": [
    {
     "data": {
      "text/html": [
       "\n",
       "<table width=\"100%\" summary=\"page for lda {MASS}\"><tr><td>lda {MASS}</td><td style=\"text-align: right;\">R Documentation</td></tr></table>\n",
       "\n",
       "<h2>\n",
       "Linear Discriminant Analysis\n",
       "</h2>\n",
       "\n",
       "<h3>Description</h3>\n",
       "\n",
       "<p>Linear discriminant analysis.\n",
       "</p>\n",
       "\n",
       "\n",
       "<h3>Usage</h3>\n",
       "\n",
       "<pre>\n",
       "lda(x, ...)\n",
       "\n",
       "## S3 method for class 'formula'\n",
       "lda(formula, data, ..., subset, na.action)\n",
       "\n",
       "## Default S3 method:\n",
       "lda(x, grouping, prior = proportions, tol = 1.0e-4,\n",
       "    method, CV = FALSE, nu, ...)\n",
       "\n",
       "## S3 method for class 'data.frame'\n",
       "lda(x, ...)\n",
       "\n",
       "## S3 method for class 'matrix'\n",
       "lda(x, grouping, ..., subset, na.action)\n",
       "</pre>\n",
       "\n",
       "\n",
       "<h3>Arguments</h3>\n",
       "\n",
       "<table summary=\"R argblock\">\n",
       "<tr valign=\"top\"><td><code>formula</code></td>\n",
       "<td>\n",
       "\n",
       "<p>A formula of the form <code>groups ~ x1 + x2 + ...</code>  That is, the\n",
       "response is the grouping factor and the right hand side specifies\n",
       "the (non-factor) discriminators.\n",
       "</p>\n",
       "</td></tr>\n",
       "<tr valign=\"top\"><td><code>data</code></td>\n",
       "<td>\n",
       "\n",
       "<p>An optional data frame, list or environment from which variables\n",
       "specified in <code>formula</code> are preferentially to be taken.\n",
       "</p>\n",
       "</td></tr>\n",
       "<tr valign=\"top\"><td><code>x</code></td>\n",
       "<td>\n",
       "\n",
       "<p>(required if no formula is given as the principal argument.)\n",
       "a matrix or data frame or Matrix containing the explanatory variables.\n",
       "</p>\n",
       "</td></tr>\n",
       "<tr valign=\"top\"><td><code>grouping</code></td>\n",
       "<td>\n",
       "\n",
       "<p>(required if no formula principal argument is given.)\n",
       "a factor specifying the class for each observation.\n",
       "</p>\n",
       "</td></tr>\n",
       "<tr valign=\"top\"><td><code>prior</code></td>\n",
       "<td>\n",
       "\n",
       "<p>the prior probabilities of class membership.  If unspecified, the\n",
       "class proportions for the training set are used.  If present, the\n",
       "probabilities should be specified in the order of the factor\n",
       "levels.\n",
       "</p>\n",
       "</td></tr>\n",
       "<tr valign=\"top\"><td><code>tol</code></td>\n",
       "<td>\n",
       "\n",
       "<p>A tolerance to decide if a matrix is singular; it will reject variables\n",
       "and linear combinations of unit-variance variables whose variance is\n",
       "less than <code>tol^2</code>.\n",
       "</p>\n",
       "</td></tr>\n",
       "<tr valign=\"top\"><td><code>subset</code></td>\n",
       "<td>\n",
       "\n",
       "<p>An index vector specifying the cases to be used in the training\n",
       "sample.  (NOTE: If given, this argument must be named.)\n",
       "</p>\n",
       "</td></tr>\n",
       "<tr valign=\"top\"><td><code>na.action</code></td>\n",
       "<td>\n",
       "\n",
       "<p>A function to specify the action to be taken if <code>NA</code>s are found.\n",
       "The default action is for the procedure to fail.  An alternative is\n",
       "<code>na.omit</code>, which leads to rejection of cases with missing values on\n",
       "any required variable.  (NOTE: If given, this argument must be named.)\n",
       "</p>\n",
       "</td></tr>\n",
       "<tr valign=\"top\"><td><code>method</code></td>\n",
       "<td>\n",
       "\n",
       "<p><code>\"moment\"</code> for standard estimators of the mean and variance,\n",
       "<code>\"mle\"</code> for MLEs, <code>\"mve\"</code> to use <code>cov.mve</code>, or\n",
       "<code>\"t\"</code> for robust estimates based on a <i>t</i> distribution.\n",
       "</p>\n",
       "</td></tr>\n",
       "<tr valign=\"top\"><td><code>CV</code></td>\n",
       "<td>\n",
       "\n",
       "<p>If true, returns results (classes and posterior probabilities) for\n",
       "leave-one-out cross-validation. Note that if the prior is estimated,\n",
       "the proportions in the whole dataset are used.\n",
       "</p>\n",
       "</td></tr>\n",
       "<tr valign=\"top\"><td><code>nu</code></td>\n",
       "<td>\n",
       "\n",
       "<p>degrees of freedom for <code>method = \"t\"</code>.\n",
       "</p>\n",
       "</td></tr>\n",
       "<tr valign=\"top\"><td><code>...</code></td>\n",
       "<td>\n",
       "\n",
       "<p>arguments passed to or from other methods.\n",
       "</p>\n",
       "</td></tr></table>\n",
       "\n",
       "\n",
       "<h3>Details</h3>\n",
       "\n",
       "<p>The function\n",
       "tries hard to detect if the within-class covariance matrix is\n",
       "singular. If any variable has within-group variance less than\n",
       "<code>tol^2</code> it will stop and report the variable as constant.  This\n",
       "could result from poor scaling of the problem, but is more\n",
       "likely to result from constant variables.\n",
       "</p>\n",
       "<p>Specifying the <code>prior</code> will affect the classification unless\n",
       "over-ridden in <code>predict.lda</code>.  Unlike in most statistical packages, it\n",
       "will also affect the rotation of the linear discriminants within their\n",
       "space, as a weighted between-groups covariance matrix is used. Thus\n",
       "the first few linear discriminants emphasize the differences between\n",
       "groups with the weights given by the prior, which may differ from\n",
       "their prevalence in the dataset.\n",
       "</p>\n",
       "<p>If one or more groups is missing in the supplied data, they are dropped\n",
       "with a warning, but the classifications produced are with respect to the\n",
       "original set of levels.\n",
       "</p>\n",
       "\n",
       "\n",
       "<h3>Value</h3>\n",
       "\n",
       "<p>If <code>CV = TRUE</code> the return value is a list with components\n",
       "<code>class</code>, the MAP classification (a factor), and <code>posterior</code>,\n",
       "posterior probabilities for the classes.\n",
       "</p>\n",
       "<p>Otherwise it is an object of class <code>\"lda\"</code> containing the\n",
       "following components:\n",
       "</p>\n",
       "<table summary=\"R valueblock\">\n",
       "<tr valign=\"top\"><td><code>prior</code></td>\n",
       "<td>\n",
       "\n",
       "<p>the prior probabilities used.\n",
       "</p>\n",
       "</td></tr>\n",
       "<tr valign=\"top\"><td><code>means</code></td>\n",
       "<td>\n",
       "\n",
       "<p>the group means.\n",
       "</p>\n",
       "</td></tr>\n",
       "<tr valign=\"top\"><td><code>scaling</code></td>\n",
       "<td>\n",
       "\n",
       "<p>a matrix which transforms observations to discriminant functions,\n",
       "normalized so that within groups covariance matrix is spherical.\n",
       "</p>\n",
       "</td></tr>\n",
       "<tr valign=\"top\"><td><code>svd</code></td>\n",
       "<td>\n",
       "\n",
       "<p>the singular values, which give the ratio of the between- and\n",
       "within-group standard deviations on the linear discriminant\n",
       "variables.  Their squares are the canonical F-statistics.\n",
       "</p>\n",
       "</td></tr>\n",
       "<tr valign=\"top\"><td><code>N</code></td>\n",
       "<td>\n",
       "\n",
       "<p>The number of observations used.\n",
       "</p>\n",
       "</td></tr>\n",
       "<tr valign=\"top\"><td><code>call</code></td>\n",
       "<td>\n",
       "\n",
       "<p>The (matched) function call.\n",
       "</p>\n",
       "</td></tr>\n",
       "</table>\n",
       "\n",
       "\n",
       "<h3>Note</h3>\n",
       "\n",
       "<p>This function may be called giving either a formula and\n",
       "optional data frame, or a matrix and grouping factor as the first\n",
       "two arguments.  All other arguments are optional, but <code>subset=</code> and\n",
       "<code>na.action=</code>, if required, must be fully named.\n",
       "</p>\n",
       "<p>If a formula is given as the principal argument the object may be\n",
       "modified using <code>update()</code> in the usual way.\n",
       "</p>\n",
       "\n",
       "\n",
       "<h3>References</h3>\n",
       "\n",
       "<p>Venables, W. N. and Ripley, B. D. (2002)\n",
       "<em>Modern Applied Statistics with S.</em> Fourth edition.  Springer.\n",
       "</p>\n",
       "<p>Ripley, B. D. (1996)\n",
       "<em>Pattern Recognition and Neural Networks</em>. Cambridge University Press.\n",
       "</p>\n",
       "\n",
       "\n",
       "<h3>See Also</h3>\n",
       "\n",
       "<p><code>predict.lda</code>, <code>qda</code>, <code>predict.qda</code>\n",
       "</p>\n",
       "\n",
       "\n",
       "<h3>Examples</h3>\n",
       "\n",
       "<pre>\n",
       "Iris &lt;- data.frame(rbind(iris3[,,1], iris3[,,2], iris3[,,3]),\n",
       "                   Sp = rep(c(\"s\",\"c\",\"v\"), rep(50,3)))\n",
       "train &lt;- sample(1:150, 75)\n",
       "table(Iris$Sp[train])\n",
       "## your answer may differ\n",
       "##  c  s  v\n",
       "## 22 23 30\n",
       "z &lt;- lda(Sp ~ ., Iris, prior = c(1,1,1)/3, subset = train)\n",
       "predict(z, Iris[-train, ])$class\n",
       "##  [1] s s s s s s s s s s s s s s s s s s s s s s s s s s s c c c\n",
       "## [31] c c c c c c c v c c c c v c c c c c c c c c c c c v v v v v\n",
       "## [61] v v v v v v v v v v v v v v v\n",
       "(z1 &lt;- update(z, . ~ . - Petal.W.))\n",
       "</pre>\n",
       "\n",
       "<hr /><div style=\"text-align: center;\">[Package <em>MASS</em> version 7.3-53 ]</div>"
      ],
      "text/latex": [
       "\\inputencoding{utf8}\n",
       "\\HeaderA{lda}{Linear Discriminant Analysis}{lda}\n",
       "\\aliasA{coef.lda}{lda}{coef.lda}\n",
       "\\methaliasA{lda.data.frame}{lda}{lda.data.frame}\n",
       "\\methaliasA{lda.default}{lda}{lda.default}\n",
       "\\methaliasA{lda.formula}{lda}{lda.formula}\n",
       "\\methaliasA{lda.matrix}{lda}{lda.matrix}\n",
       "\\aliasA{model.frame.lda}{lda}{model.frame.lda}\n",
       "\\aliasA{print.lda}{lda}{print.lda}\n",
       "\\keyword{multivariate}{lda}\n",
       "%\n",
       "\\begin{Description}\\relax\n",
       "Linear discriminant analysis.\n",
       "\\end{Description}\n",
       "%\n",
       "\\begin{Usage}\n",
       "\\begin{verbatim}\n",
       "lda(x, ...)\n",
       "\n",
       "## S3 method for class 'formula'\n",
       "lda(formula, data, ..., subset, na.action)\n",
       "\n",
       "## Default S3 method:\n",
       "lda(x, grouping, prior = proportions, tol = 1.0e-4,\n",
       "    method, CV = FALSE, nu, ...)\n",
       "\n",
       "## S3 method for class 'data.frame'\n",
       "lda(x, ...)\n",
       "\n",
       "## S3 method for class 'matrix'\n",
       "lda(x, grouping, ..., subset, na.action)\n",
       "\\end{verbatim}\n",
       "\\end{Usage}\n",
       "%\n",
       "\\begin{Arguments}\n",
       "\\begin{ldescription}\n",
       "\\item[\\code{formula}] \n",
       "A formula of the form \\code{groups \\textasciitilde{} x1 + x2 + ...}  That is, the\n",
       "response is the grouping factor and the right hand side specifies\n",
       "the (non-factor) discriminators.\n",
       "\n",
       "\\item[\\code{data}] \n",
       "An optional data frame, list or environment from which variables\n",
       "specified in \\code{formula} are preferentially to be taken.\n",
       "\n",
       "\\item[\\code{x}] \n",
       "(required if no formula is given as the principal argument.)\n",
       "a matrix or data frame or Matrix containing the explanatory variables.\n",
       "\n",
       "\\item[\\code{grouping}] \n",
       "(required if no formula principal argument is given.)\n",
       "a factor specifying the class for each observation.\n",
       "\n",
       "\\item[\\code{prior}] \n",
       "the prior probabilities of class membership.  If unspecified, the\n",
       "class proportions for the training set are used.  If present, the\n",
       "probabilities should be specified in the order of the factor\n",
       "levels.\n",
       "\n",
       "\\item[\\code{tol}] \n",
       "A tolerance to decide if a matrix is singular; it will reject variables\n",
       "and linear combinations of unit-variance variables whose variance is\n",
       "less than \\code{tol\\textasciicircum{}2}.\n",
       "\n",
       "\\item[\\code{subset}] \n",
       "An index vector specifying the cases to be used in the training\n",
       "sample.  (NOTE: If given, this argument must be named.)\n",
       "\n",
       "\\item[\\code{na.action}] \n",
       "A function to specify the action to be taken if \\code{NA}s are found.\n",
       "The default action is for the procedure to fail.  An alternative is\n",
       "\\code{na.omit}, which leads to rejection of cases with missing values on\n",
       "any required variable.  (NOTE: If given, this argument must be named.)\n",
       "\n",
       "\\item[\\code{method}] \n",
       "\\code{\"moment\"} for standard estimators of the mean and variance,\n",
       "\\code{\"mle\"} for MLEs, \\code{\"mve\"} to use \\code{\\LinkA{cov.mve}{cov.mve}}, or\n",
       "\\code{\"t\"} for robust estimates based on a \\eqn{t}{} distribution.\n",
       "\n",
       "\\item[\\code{CV}] \n",
       "If true, returns results (classes and posterior probabilities) for\n",
       "leave-one-out cross-validation. Note that if the prior is estimated,\n",
       "the proportions in the whole dataset are used.\n",
       "\n",
       "\\item[\\code{nu}] \n",
       "degrees of freedom for \\code{method = \"t\"}.\n",
       "\n",
       "\\item[\\code{...}] \n",
       "arguments passed to or from other methods.\n",
       "\\end{ldescription}\n",
       "\\end{Arguments}\n",
       "%\n",
       "\\begin{Details}\\relax\n",
       "The function\n",
       "tries hard to detect if the within-class covariance matrix is\n",
       "singular. If any variable has within-group variance less than\n",
       "\\code{tol\\textasciicircum{}2} it will stop and report the variable as constant.  This\n",
       "could result from poor scaling of the problem, but is more\n",
       "likely to result from constant variables.\n",
       "\n",
       "Specifying the \\code{prior} will affect the classification unless\n",
       "over-ridden in \\code{predict.lda}.  Unlike in most statistical packages, it\n",
       "will also affect the rotation of the linear discriminants within their\n",
       "space, as a weighted between-groups covariance matrix is used. Thus\n",
       "the first few linear discriminants emphasize the differences between\n",
       "groups with the weights given by the prior, which may differ from\n",
       "their prevalence in the dataset.\n",
       "\n",
       "If one or more groups is missing in the supplied data, they are dropped\n",
       "with a warning, but the classifications produced are with respect to the\n",
       "original set of levels.\n",
       "\\end{Details}\n",
       "%\n",
       "\\begin{Value}\n",
       "If \\code{CV = TRUE} the return value is a list with components\n",
       "\\code{class}, the MAP classification (a factor), and \\code{posterior},\n",
       "posterior probabilities for the classes.\n",
       "\n",
       "Otherwise it is an object of class \\code{\"lda\"} containing the\n",
       "following components:\n",
       "\\begin{ldescription}\n",
       "\\item[\\code{prior}] \n",
       "the prior probabilities used.\n",
       "\n",
       "\\item[\\code{means}] \n",
       "the group means.\n",
       "\n",
       "\\item[\\code{scaling}] \n",
       "a matrix which transforms observations to discriminant functions,\n",
       "normalized so that within groups covariance matrix is spherical.\n",
       "\n",
       "\\item[\\code{svd}] \n",
       "the singular values, which give the ratio of the between- and\n",
       "within-group standard deviations on the linear discriminant\n",
       "variables.  Their squares are the canonical F-statistics.\n",
       "\n",
       "\\item[\\code{N}] \n",
       "The number of observations used.\n",
       "\n",
       "\\item[\\code{call}] \n",
       "The (matched) function call.\n",
       "\n",
       "\\end{ldescription}\n",
       "\\end{Value}\n",
       "%\n",
       "\\begin{Note}\\relax\n",
       "This function may be called giving either a formula and\n",
       "optional data frame, or a matrix and grouping factor as the first\n",
       "two arguments.  All other arguments are optional, but \\code{subset=} and\n",
       "\\code{na.action=}, if required, must be fully named.\n",
       "\n",
       "If a formula is given as the principal argument the object may be\n",
       "modified using \\code{update()} in the usual way.\n",
       "\\end{Note}\n",
       "%\n",
       "\\begin{References}\\relax\n",
       "Venables, W. N. and Ripley, B. D. (2002)\n",
       "\\emph{Modern Applied Statistics with S.} Fourth edition.  Springer.\n",
       "\n",
       "Ripley, B. D. (1996)\n",
       "\\emph{Pattern Recognition and Neural Networks}. Cambridge University Press.\n",
       "\\end{References}\n",
       "%\n",
       "\\begin{SeeAlso}\\relax\n",
       "\\code{\\LinkA{predict.lda}{predict.lda}}, \\code{\\LinkA{qda}{qda}}, \\code{\\LinkA{predict.qda}{predict.qda}}\n",
       "\\end{SeeAlso}\n",
       "%\n",
       "\\begin{Examples}\n",
       "\\begin{ExampleCode}\n",
       "Iris <- data.frame(rbind(iris3[,,1], iris3[,,2], iris3[,,3]),\n",
       "                   Sp = rep(c(\"s\",\"c\",\"v\"), rep(50,3)))\n",
       "train <- sample(1:150, 75)\n",
       "table(Iris$Sp[train])\n",
       "## your answer may differ\n",
       "##  c  s  v\n",
       "## 22 23 30\n",
       "z <- lda(Sp ~ ., Iris, prior = c(1,1,1)/3, subset = train)\n",
       "predict(z, Iris[-train, ])$class\n",
       "##  [1] s s s s s s s s s s s s s s s s s s s s s s s s s s s c c c\n",
       "## [31] c c c c c c c v c c c c v c c c c c c c c c c c c v v v v v\n",
       "## [61] v v v v v v v v v v v v v v v\n",
       "(z1 <- update(z, . ~ . - Petal.W.))\n",
       "\\end{ExampleCode}\n",
       "\\end{Examples}"
      ],
      "text/plain": [
       "lda                    package:MASS                    R Documentation\n",
       "\n",
       "_\bL_\bi_\bn_\be_\ba_\br _\bD_\bi_\bs_\bc_\br_\bi_\bm_\bi_\bn_\ba_\bn_\bt _\bA_\bn_\ba_\bl_\by_\bs_\bi_\bs\n",
       "\n",
       "_\bD_\be_\bs_\bc_\br_\bi_\bp_\bt_\bi_\bo_\bn:\n",
       "\n",
       "     Linear discriminant analysis.\n",
       "\n",
       "_\bU_\bs_\ba_\bg_\be:\n",
       "\n",
       "     lda(x, ...)\n",
       "     \n",
       "     ## S3 method for class 'formula'\n",
       "     lda(formula, data, ..., subset, na.action)\n",
       "     \n",
       "     ## Default S3 method:\n",
       "     lda(x, grouping, prior = proportions, tol = 1.0e-4,\n",
       "         method, CV = FALSE, nu, ...)\n",
       "     \n",
       "     ## S3 method for class 'data.frame'\n",
       "     lda(x, ...)\n",
       "     \n",
       "     ## S3 method for class 'matrix'\n",
       "     lda(x, grouping, ..., subset, na.action)\n",
       "     \n",
       "_\bA_\br_\bg_\bu_\bm_\be_\bn_\bt_\bs:\n",
       "\n",
       " formula: A formula of the form 'groups ~ x1 + x2 + ...'  That is, the\n",
       "          response is the grouping factor and the right hand side\n",
       "          specifies the (non-factor) discriminators.\n",
       "\n",
       "    data: An optional data frame, list or environment from which\n",
       "          variables specified in 'formula' are preferentially to be\n",
       "          taken.\n",
       "\n",
       "       x: (required if no formula is given as the principal argument.)\n",
       "          a matrix or data frame or Matrix containing the explanatory\n",
       "          variables.\n",
       "\n",
       "grouping: (required if no formula principal argument is given.)  a\n",
       "          factor specifying the class for each observation.\n",
       "\n",
       "   prior: the prior probabilities of class membership.  If unspecified,\n",
       "          the class proportions for the training set are used.  If\n",
       "          present, the probabilities should be specified in the order\n",
       "          of the factor levels.\n",
       "\n",
       "     tol: A tolerance to decide if a matrix is singular; it will reject\n",
       "          variables and linear combinations of unit-variance variables\n",
       "          whose variance is less than 'tol^2'.\n",
       "\n",
       "  subset: An index vector specifying the cases to be used in the\n",
       "          training sample.  (NOTE: If given, this argument must be\n",
       "          named.)\n",
       "\n",
       "na.action: A function to specify the action to be taken if 'NA's are\n",
       "          found.  The default action is for the procedure to fail.  An\n",
       "          alternative is 'na.omit', which leads to rejection of cases\n",
       "          with missing values on any required variable.  (NOTE: If\n",
       "          given, this argument must be named.)\n",
       "\n",
       "  method: '\"moment\"' for standard estimators of the mean and variance,\n",
       "          '\"mle\"' for MLEs, '\"mve\"' to use 'cov.mve', or '\"t\"' for\n",
       "          robust estimates based on a t distribution.\n",
       "\n",
       "      CV: If true, returns results (classes and posterior\n",
       "          probabilities) for leave-one-out cross-validation. Note that\n",
       "          if the prior is estimated, the proportions in the whole\n",
       "          dataset are used.\n",
       "\n",
       "      nu: degrees of freedom for 'method = \"t\"'.\n",
       "\n",
       "     ...: arguments passed to or from other methods.\n",
       "\n",
       "_\bD_\be_\bt_\ba_\bi_\bl_\bs:\n",
       "\n",
       "     The function tries hard to detect if the within-class covariance\n",
       "     matrix is singular. If any variable has within-group variance less\n",
       "     than 'tol^2' it will stop and report the variable as constant.\n",
       "     This could result from poor scaling of the problem, but is more\n",
       "     likely to result from constant variables.\n",
       "\n",
       "     Specifying the 'prior' will affect the classification unless\n",
       "     over-ridden in 'predict.lda'.  Unlike in most statistical\n",
       "     packages, it will also affect the rotation of the linear\n",
       "     discriminants within their space, as a weighted between-groups\n",
       "     covariance matrix is used. Thus the first few linear discriminants\n",
       "     emphasize the differences between groups with the weights given by\n",
       "     the prior, which may differ from their prevalence in the dataset.\n",
       "\n",
       "     If one or more groups is missing in the supplied data, they are\n",
       "     dropped with a warning, but the classifications produced are with\n",
       "     respect to the original set of levels.\n",
       "\n",
       "_\bV_\ba_\bl_\bu_\be:\n",
       "\n",
       "     If 'CV = TRUE' the return value is a list with components 'class',\n",
       "     the MAP classification (a factor), and 'posterior', posterior\n",
       "     probabilities for the classes.\n",
       "\n",
       "     Otherwise it is an object of class '\"lda\"' containing the\n",
       "     following components:\n",
       "\n",
       "   prior: the prior probabilities used.\n",
       "\n",
       "   means: the group means.\n",
       "\n",
       " scaling: a matrix which transforms observations to discriminant\n",
       "          functions, normalized so that within groups covariance matrix\n",
       "          is spherical.\n",
       "\n",
       "     svd: the singular values, which give the ratio of the between- and\n",
       "          within-group standard deviations on the linear discriminant\n",
       "          variables.  Their squares are the canonical F-statistics.\n",
       "\n",
       "       N: The number of observations used.\n",
       "\n",
       "    call: The (matched) function call.\n",
       "\n",
       "_\bN_\bo_\bt_\be:\n",
       "\n",
       "     This function may be called giving either a formula and optional\n",
       "     data frame, or a matrix and grouping factor as the first two\n",
       "     arguments.  All other arguments are optional, but 'subset=' and\n",
       "     'na.action=', if required, must be fully named.\n",
       "\n",
       "     If a formula is given as the principal argument the object may be\n",
       "     modified using 'update()' in the usual way.\n",
       "\n",
       "_\bR_\be_\bf_\be_\br_\be_\bn_\bc_\be_\bs:\n",
       "\n",
       "     Venables, W. N. and Ripley, B. D. (2002) _Modern Applied\n",
       "     Statistics with S._ Fourth edition.  Springer.\n",
       "\n",
       "     Ripley, B. D. (1996) _Pattern Recognition and Neural Networks_.\n",
       "     Cambridge University Press.\n",
       "\n",
       "_\bS_\be_\be _\bA_\bl_\bs_\bo:\n",
       "\n",
       "     'predict.lda', 'qda', 'predict.qda'\n",
       "\n",
       "_\bE_\bx_\ba_\bm_\bp_\bl_\be_\bs:\n",
       "\n",
       "     Iris <- data.frame(rbind(iris3[,,1], iris3[,,2], iris3[,,3]),\n",
       "                        Sp = rep(c(\"s\",\"c\",\"v\"), rep(50,3)))\n",
       "     train <- sample(1:150, 75)\n",
       "     table(Iris$Sp[train])\n",
       "     ## your answer may differ\n",
       "     ##  c  s  v\n",
       "     ## 22 23 30\n",
       "     z <- lda(Sp ~ ., Iris, prior = c(1,1,1)/3, subset = train)\n",
       "     predict(z, Iris[-train, ])$class\n",
       "     ##  [1] s s s s s s s s s s s s s s s s s s s s s s s s s s s c c c\n",
       "     ## [31] c c c c c c c v c c c c v c c c c c c c c c c c c v v v v v\n",
       "     ## [61] v v v v v v v v v v v v v v v\n",
       "     (z1 <- update(z, . ~ . - Petal.W.))\n",
       "     "
      ]
     },
     "metadata": {},
     "output_type": "display_data"
    }
   ],
   "source": [
    "library('MASS')\n",
    "?lda"
   ]
  },
  {
   "cell_type": "code",
   "execution_count": 27,
   "metadata": {
    "collapsed": true,
    "jupyter": {
     "outputs_hidden": true
    }
   },
   "outputs": [
    {
     "data": {
      "text/html": [
       "<style>\n",
       ".list-inline {list-style: none; margin:0; padding: 0}\n",
       ".list-inline>li {display: inline-block}\n",
       ".list-inline>li:not(:last-child)::after {content: \"\\00b7\"; padding: 0 .5ex}\n",
       "</style>\n",
       "<ol class=list-inline><li>1</li><li>3</li><li>2</li><li>2</li><li>3</li><li>1</li><li>3</li><li>1</li><li>1</li><li>1</li><li>1</li><li>1</li><li>3</li><li>3</li><li>2</li><li>2</li><li>2</li><li>1</li><li>3</li><li>2</li><li>2</li><li>1</li><li>1</li><li>1</li><li>2</li><li>3</li><li>1</li><li>2</li><li>1</li><li>3</li><li>2</li><li>2</li><li>1</li><li>3</li><li>3</li><li>2</li><li>3</li><li>3</li><li>2</li><li>3</li><li>3</li><li>2</li><li>3</li><li>3</li><li>3</li><li>1</li><li>1</li><li>3</li><li>1</li><li>1</li><li>1</li><li>1</li><li>2</li><li>3</li><li>1</li><li>1</li><li>3</li><li>3</li><li>1</li><li>1</li><li>1</li><li>1</li><li>3</li><li>1</li><li>3</li><li>3</li><li>3</li><li>2</li><li>3</li><li>2</li><li>1</li><li>2</li><li>1</li><li>1</li><li>3</li><li>3</li><li>1</li><li>3</li><li>2</li><li>1</li><li>2</li><li>1</li><li>3</li><li>2</li><li>2</li><li>3</li><li>3</li><li>1</li><li>2</li><li>2</li><li>1</li><li>1</li><li>3</li><li>2</li><li>3</li><li>1</li><li>3</li><li>3</li><li>3</li><li>1</li><li>1</li><li>2</li><li>2</li><li>2</li><li>1</li><li>3</li><li>1</li><li>2</li><li>3</li><li>2</li><li>3</li><li>1</li><li>3</li><li>1</li><li>3</li><li>1</li><li>2</li><li>1</li><li>2</li><li>3</li><li>2</li><li>2</li><li>2</li><li>1</li><li>2</li><li>3</li><li>2</li><li>2</li><li>1</li><li>1</li><li>2</li><li>2</li><li>2</li><li>1</li><li>3</li><li>2</li><li>1</li><li>3</li><li>1</li><li>3</li><li>2</li><li>1</li><li>3</li><li>1</li><li>2</li><li>2</li><li>2</li><li>2</li><li>2</li><li>2</li><li>3</li><li>3</li><li>1</li><li>3</li><li>1</li><li>2</li><li>1</li><li>2</li><li>2</li><li>1</li><li>1</li><li>1</li><li>2</li><li>1</li><li>1</li><li>3</li><li>2</li><li>3</li><li>2</li><li>1</li><li>1</li><li>3</li><li>1</li><li>3</li><li>1</li><li>3</li><li>2</li><li>1</li><li>3</li><li>3</li><li>2</li><li>2</li><li>3</li><li>2</li><li>3</li><li>1</li><li>1</li><li>2</li><li>2</li><li>2</li><li>3</li><li>2</li><li>1</li><li>2</li><li>1</li><li>3</li><li>2</li><li>3</li><li>3</li><li>1</li><li>3</li><li>3</li><li>2</li><li>1</li><li>2</li><li>3</li><li>1</li><li>3</li><li>2</li><li>1</li><li>1</li><li>2</li><li>2</li><li>2</li><li>3</li><li>2</li><li>2</li><li>2</li><li>2</li><li>2</li><li>1</li><li>1</li><li>3</li><li>2</li><li>1</li><li>3</li><li>1</li><li>3</li><li>2</li><li>2</li><li>2</li><li>1</li><li>2</li><li>2</li><li>1</li><li>1</li><li>2</li><li>3</li><li>1</li><li>3</li><li>3</li><li>2</li><li>3</li><li>2</li><li>1</li><li>3</li><li>3</li><li>3</li><li>3</li><li>3</li><li>1</li><li>2</li><li>1</li><li>2</li><li>2</li><li>2</li><li>2</li><li>3</li><li>3</li><li>1</li><li>3</li><li>3</li><li>1</li><li>2</li><li>1</li><li>2</li><li>1</li><li>1</li><li>1</li><li>3</li><li>2</li><li>1</li><li>2</li><li>3</li><li>2</li><li>3</li><li>1</li><li>3</li><li>3</li><li>3</li><li>1</li><li>1</li><li>3</li><li>2</li><li>1</li><li>3</li><li>3</li><li>3</li><li>1</li><li>3</li><li>3</li><li>1</li><li>3</li><li>3</li><li>2</li><li>3</li><li>2</li><li>1</li><li>2</li><li>1</li></ol>\n"
      ],
      "text/latex": [
       "\\begin{enumerate*}\n",
       "\\item 1\n",
       "\\item 3\n",
       "\\item 2\n",
       "\\item 2\n",
       "\\item 3\n",
       "\\item 1\n",
       "\\item 3\n",
       "\\item 1\n",
       "\\item 1\n",
       "\\item 1\n",
       "\\item 1\n",
       "\\item 1\n",
       "\\item 3\n",
       "\\item 3\n",
       "\\item 2\n",
       "\\item 2\n",
       "\\item 2\n",
       "\\item 1\n",
       "\\item 3\n",
       "\\item 2\n",
       "\\item 2\n",
       "\\item 1\n",
       "\\item 1\n",
       "\\item 1\n",
       "\\item 2\n",
       "\\item 3\n",
       "\\item 1\n",
       "\\item 2\n",
       "\\item 1\n",
       "\\item 3\n",
       "\\item 2\n",
       "\\item 2\n",
       "\\item 1\n",
       "\\item 3\n",
       "\\item 3\n",
       "\\item 2\n",
       "\\item 3\n",
       "\\item 3\n",
       "\\item 2\n",
       "\\item 3\n",
       "\\item 3\n",
       "\\item 2\n",
       "\\item 3\n",
       "\\item 3\n",
       "\\item 3\n",
       "\\item 1\n",
       "\\item 1\n",
       "\\item 3\n",
       "\\item 1\n",
       "\\item 1\n",
       "\\item 1\n",
       "\\item 1\n",
       "\\item 2\n",
       "\\item 3\n",
       "\\item 1\n",
       "\\item 1\n",
       "\\item 3\n",
       "\\item 3\n",
       "\\item 1\n",
       "\\item 1\n",
       "\\item 1\n",
       "\\item 1\n",
       "\\item 3\n",
       "\\item 1\n",
       "\\item 3\n",
       "\\item 3\n",
       "\\item 3\n",
       "\\item 2\n",
       "\\item 3\n",
       "\\item 2\n",
       "\\item 1\n",
       "\\item 2\n",
       "\\item 1\n",
       "\\item 1\n",
       "\\item 3\n",
       "\\item 3\n",
       "\\item 1\n",
       "\\item 3\n",
       "\\item 2\n",
       "\\item 1\n",
       "\\item 2\n",
       "\\item 1\n",
       "\\item 3\n",
       "\\item 2\n",
       "\\item 2\n",
       "\\item 3\n",
       "\\item 3\n",
       "\\item 1\n",
       "\\item 2\n",
       "\\item 2\n",
       "\\item 1\n",
       "\\item 1\n",
       "\\item 3\n",
       "\\item 2\n",
       "\\item 3\n",
       "\\item 1\n",
       "\\item 3\n",
       "\\item 3\n",
       "\\item 3\n",
       "\\item 1\n",
       "\\item 1\n",
       "\\item 2\n",
       "\\item 2\n",
       "\\item 2\n",
       "\\item 1\n",
       "\\item 3\n",
       "\\item 1\n",
       "\\item 2\n",
       "\\item 3\n",
       "\\item 2\n",
       "\\item 3\n",
       "\\item 1\n",
       "\\item 3\n",
       "\\item 1\n",
       "\\item 3\n",
       "\\item 1\n",
       "\\item 2\n",
       "\\item 1\n",
       "\\item 2\n",
       "\\item 3\n",
       "\\item 2\n",
       "\\item 2\n",
       "\\item 2\n",
       "\\item 1\n",
       "\\item 2\n",
       "\\item 3\n",
       "\\item 2\n",
       "\\item 2\n",
       "\\item 1\n",
       "\\item 1\n",
       "\\item 2\n",
       "\\item 2\n",
       "\\item 2\n",
       "\\item 1\n",
       "\\item 3\n",
       "\\item 2\n",
       "\\item 1\n",
       "\\item 3\n",
       "\\item 1\n",
       "\\item 3\n",
       "\\item 2\n",
       "\\item 1\n",
       "\\item 3\n",
       "\\item 1\n",
       "\\item 2\n",
       "\\item 2\n",
       "\\item 2\n",
       "\\item 2\n",
       "\\item 2\n",
       "\\item 2\n",
       "\\item 3\n",
       "\\item 3\n",
       "\\item 1\n",
       "\\item 3\n",
       "\\item 1\n",
       "\\item 2\n",
       "\\item 1\n",
       "\\item 2\n",
       "\\item 2\n",
       "\\item 1\n",
       "\\item 1\n",
       "\\item 1\n",
       "\\item 2\n",
       "\\item 1\n",
       "\\item 1\n",
       "\\item 3\n",
       "\\item 2\n",
       "\\item 3\n",
       "\\item 2\n",
       "\\item 1\n",
       "\\item 1\n",
       "\\item 3\n",
       "\\item 1\n",
       "\\item 3\n",
       "\\item 1\n",
       "\\item 3\n",
       "\\item 2\n",
       "\\item 1\n",
       "\\item 3\n",
       "\\item 3\n",
       "\\item 2\n",
       "\\item 2\n",
       "\\item 3\n",
       "\\item 2\n",
       "\\item 3\n",
       "\\item 1\n",
       "\\item 1\n",
       "\\item 2\n",
       "\\item 2\n",
       "\\item 2\n",
       "\\item 3\n",
       "\\item 2\n",
       "\\item 1\n",
       "\\item 2\n",
       "\\item 1\n",
       "\\item 3\n",
       "\\item 2\n",
       "\\item 3\n",
       "\\item 3\n",
       "\\item 1\n",
       "\\item 3\n",
       "\\item 3\n",
       "\\item 2\n",
       "\\item 1\n",
       "\\item 2\n",
       "\\item 3\n",
       "\\item 1\n",
       "\\item 3\n",
       "\\item 2\n",
       "\\item 1\n",
       "\\item 1\n",
       "\\item 2\n",
       "\\item 2\n",
       "\\item 2\n",
       "\\item 3\n",
       "\\item 2\n",
       "\\item 2\n",
       "\\item 2\n",
       "\\item 2\n",
       "\\item 2\n",
       "\\item 1\n",
       "\\item 1\n",
       "\\item 3\n",
       "\\item 2\n",
       "\\item 1\n",
       "\\item 3\n",
       "\\item 1\n",
       "\\item 3\n",
       "\\item 2\n",
       "\\item 2\n",
       "\\item 2\n",
       "\\item 1\n",
       "\\item 2\n",
       "\\item 2\n",
       "\\item 1\n",
       "\\item 1\n",
       "\\item 2\n",
       "\\item 3\n",
       "\\item 1\n",
       "\\item 3\n",
       "\\item 3\n",
       "\\item 2\n",
       "\\item 3\n",
       "\\item 2\n",
       "\\item 1\n",
       "\\item 3\n",
       "\\item 3\n",
       "\\item 3\n",
       "\\item 3\n",
       "\\item 3\n",
       "\\item 1\n",
       "\\item 2\n",
       "\\item 1\n",
       "\\item 2\n",
       "\\item 2\n",
       "\\item 2\n",
       "\\item 2\n",
       "\\item 3\n",
       "\\item 3\n",
       "\\item 1\n",
       "\\item 3\n",
       "\\item 3\n",
       "\\item 1\n",
       "\\item 2\n",
       "\\item 1\n",
       "\\item 2\n",
       "\\item 1\n",
       "\\item 1\n",
       "\\item 1\n",
       "\\item 3\n",
       "\\item 2\n",
       "\\item 1\n",
       "\\item 2\n",
       "\\item 3\n",
       "\\item 2\n",
       "\\item 3\n",
       "\\item 1\n",
       "\\item 3\n",
       "\\item 3\n",
       "\\item 3\n",
       "\\item 1\n",
       "\\item 1\n",
       "\\item 3\n",
       "\\item 2\n",
       "\\item 1\n",
       "\\item 3\n",
       "\\item 3\n",
       "\\item 3\n",
       "\\item 1\n",
       "\\item 3\n",
       "\\item 3\n",
       "\\item 1\n",
       "\\item 3\n",
       "\\item 3\n",
       "\\item 2\n",
       "\\item 3\n",
       "\\item 2\n",
       "\\item 1\n",
       "\\item 2\n",
       "\\item 1\n",
       "\\end{enumerate*}\n"
      ],
      "text/markdown": [
       "1. 1\n",
       "2. 3\n",
       "3. 2\n",
       "4. 2\n",
       "5. 3\n",
       "6. 1\n",
       "7. 3\n",
       "8. 1\n",
       "9. 1\n",
       "10. 1\n",
       "11. 1\n",
       "12. 1\n",
       "13. 3\n",
       "14. 3\n",
       "15. 2\n",
       "16. 2\n",
       "17. 2\n",
       "18. 1\n",
       "19. 3\n",
       "20. 2\n",
       "21. 2\n",
       "22. 1\n",
       "23. 1\n",
       "24. 1\n",
       "25. 2\n",
       "26. 3\n",
       "27. 1\n",
       "28. 2\n",
       "29. 1\n",
       "30. 3\n",
       "31. 2\n",
       "32. 2\n",
       "33. 1\n",
       "34. 3\n",
       "35. 3\n",
       "36. 2\n",
       "37. 3\n",
       "38. 3\n",
       "39. 2\n",
       "40. 3\n",
       "41. 3\n",
       "42. 2\n",
       "43. 3\n",
       "44. 3\n",
       "45. 3\n",
       "46. 1\n",
       "47. 1\n",
       "48. 3\n",
       "49. 1\n",
       "50. 1\n",
       "51. 1\n",
       "52. 1\n",
       "53. 2\n",
       "54. 3\n",
       "55. 1\n",
       "56. 1\n",
       "57. 3\n",
       "58. 3\n",
       "59. 1\n",
       "60. 1\n",
       "61. 1\n",
       "62. 1\n",
       "63. 3\n",
       "64. 1\n",
       "65. 3\n",
       "66. 3\n",
       "67. 3\n",
       "68. 2\n",
       "69. 3\n",
       "70. 2\n",
       "71. 1\n",
       "72. 2\n",
       "73. 1\n",
       "74. 1\n",
       "75. 3\n",
       "76. 3\n",
       "77. 1\n",
       "78. 3\n",
       "79. 2\n",
       "80. 1\n",
       "81. 2\n",
       "82. 1\n",
       "83. 3\n",
       "84. 2\n",
       "85. 2\n",
       "86. 3\n",
       "87. 3\n",
       "88. 1\n",
       "89. 2\n",
       "90. 2\n",
       "91. 1\n",
       "92. 1\n",
       "93. 3\n",
       "94. 2\n",
       "95. 3\n",
       "96. 1\n",
       "97. 3\n",
       "98. 3\n",
       "99. 3\n",
       "100. 1\n",
       "101. 1\n",
       "102. 2\n",
       "103. 2\n",
       "104. 2\n",
       "105. 1\n",
       "106. 3\n",
       "107. 1\n",
       "108. 2\n",
       "109. 3\n",
       "110. 2\n",
       "111. 3\n",
       "112. 1\n",
       "113. 3\n",
       "114. 1\n",
       "115. 3\n",
       "116. 1\n",
       "117. 2\n",
       "118. 1\n",
       "119. 2\n",
       "120. 3\n",
       "121. 2\n",
       "122. 2\n",
       "123. 2\n",
       "124. 1\n",
       "125. 2\n",
       "126. 3\n",
       "127. 2\n",
       "128. 2\n",
       "129. 1\n",
       "130. 1\n",
       "131. 2\n",
       "132. 2\n",
       "133. 2\n",
       "134. 1\n",
       "135. 3\n",
       "136. 2\n",
       "137. 1\n",
       "138. 3\n",
       "139. 1\n",
       "140. 3\n",
       "141. 2\n",
       "142. 1\n",
       "143. 3\n",
       "144. 1\n",
       "145. 2\n",
       "146. 2\n",
       "147. 2\n",
       "148. 2\n",
       "149. 2\n",
       "150. 2\n",
       "151. 3\n",
       "152. 3\n",
       "153. 1\n",
       "154. 3\n",
       "155. 1\n",
       "156. 2\n",
       "157. 1\n",
       "158. 2\n",
       "159. 2\n",
       "160. 1\n",
       "161. 1\n",
       "162. 1\n",
       "163. 2\n",
       "164. 1\n",
       "165. 1\n",
       "166. 3\n",
       "167. 2\n",
       "168. 3\n",
       "169. 2\n",
       "170. 1\n",
       "171. 1\n",
       "172. 3\n",
       "173. 1\n",
       "174. 3\n",
       "175. 1\n",
       "176. 3\n",
       "177. 2\n",
       "178. 1\n",
       "179. 3\n",
       "180. 3\n",
       "181. 2\n",
       "182. 2\n",
       "183. 3\n",
       "184. 2\n",
       "185. 3\n",
       "186. 1\n",
       "187. 1\n",
       "188. 2\n",
       "189. 2\n",
       "190. 2\n",
       "191. 3\n",
       "192. 2\n",
       "193. 1\n",
       "194. 2\n",
       "195. 1\n",
       "196. 3\n",
       "197. 2\n",
       "198. 3\n",
       "199. 3\n",
       "200. 1\n",
       "201. 3\n",
       "202. 3\n",
       "203. 2\n",
       "204. 1\n",
       "205. 2\n",
       "206. 3\n",
       "207. 1\n",
       "208. 3\n",
       "209. 2\n",
       "210. 1\n",
       "211. 1\n",
       "212. 2\n",
       "213. 2\n",
       "214. 2\n",
       "215. 3\n",
       "216. 2\n",
       "217. 2\n",
       "218. 2\n",
       "219. 2\n",
       "220. 2\n",
       "221. 1\n",
       "222. 1\n",
       "223. 3\n",
       "224. 2\n",
       "225. 1\n",
       "226. 3\n",
       "227. 1\n",
       "228. 3\n",
       "229. 2\n",
       "230. 2\n",
       "231. 2\n",
       "232. 1\n",
       "233. 2\n",
       "234. 2\n",
       "235. 1\n",
       "236. 1\n",
       "237. 2\n",
       "238. 3\n",
       "239. 1\n",
       "240. 3\n",
       "241. 3\n",
       "242. 2\n",
       "243. 3\n",
       "244. 2\n",
       "245. 1\n",
       "246. 3\n",
       "247. 3\n",
       "248. 3\n",
       "249. 3\n",
       "250. 3\n",
       "251. 1\n",
       "252. 2\n",
       "253. 1\n",
       "254. 2\n",
       "255. 2\n",
       "256. 2\n",
       "257. 2\n",
       "258. 3\n",
       "259. 3\n",
       "260. 1\n",
       "261. 3\n",
       "262. 3\n",
       "263. 1\n",
       "264. 2\n",
       "265. 1\n",
       "266. 2\n",
       "267. 1\n",
       "268. 1\n",
       "269. 1\n",
       "270. 3\n",
       "271. 2\n",
       "272. 1\n",
       "273. 2\n",
       "274. 3\n",
       "275. 2\n",
       "276. 3\n",
       "277. 1\n",
       "278. 3\n",
       "279. 3\n",
       "280. 3\n",
       "281. 1\n",
       "282. 1\n",
       "283. 3\n",
       "284. 2\n",
       "285. 1\n",
       "286. 3\n",
       "287. 3\n",
       "288. 3\n",
       "289. 1\n",
       "290. 3\n",
       "291. 3\n",
       "292. 1\n",
       "293. 3\n",
       "294. 3\n",
       "295. 2\n",
       "296. 3\n",
       "297. 2\n",
       "298. 1\n",
       "299. 2\n",
       "300. 1\n",
       "\n",
       "\n"
      ],
      "text/plain": [
       "  [1] 1 3 2 2 3 1 3 1 1 1 1 1 3 3 2 2 2 1 3 2 2 1 1 1 2 3 1 2 1 3 2 2 1 3 3 2 3\n",
       " [38] 3 2 3 3 2 3 3 3 1 1 3 1 1 1 1 2 3 1 1 3 3 1 1 1 1 3 1 3 3 3 2 3 2 1 2 1 1\n",
       " [75] 3 3 1 3 2 1 2 1 3 2 2 3 3 1 2 2 1 1 3 2 3 1 3 3 3 1 1 2 2 2 1 3 1 2 3 2 3\n",
       "[112] 1 3 1 3 1 2 1 2 3 2 2 2 1 2 3 2 2 1 1 2 2 2 1 3 2 1 3 1 3 2 1 3 1 2 2 2 2\n",
       "[149] 2 2 3 3 1 3 1 2 1 2 2 1 1 1 2 1 1 3 2 3 2 1 1 3 1 3 1 3 2 1 3 3 2 2 3 2 3\n",
       "[186] 1 1 2 2 2 3 2 1 2 1 3 2 3 3 1 3 3 2 1 2 3 1 3 2 1 1 2 2 2 3 2 2 2 2 2 1 1\n",
       "[223] 3 2 1 3 1 3 2 2 2 1 2 2 1 1 2 3 1 3 3 2 3 2 1 3 3 3 3 3 1 2 1 2 2 2 2 3 3\n",
       "[260] 1 3 3 1 2 1 2 1 1 1 3 2 1 2 3 2 3 1 3 3 3 1 1 3 2 1 3 3 3 1 3 3 1 3 3 2 3\n",
       "[297] 2 1 2 1"
      ]
     },
     "metadata": {},
     "output_type": "display_data"
    }
   ],
   "source": [
    "my_preds = sapply(d$x,lda_pred)\n",
    "my_preds"
   ]
  },
  {
   "cell_type": "code",
   "execution_count": 28,
   "metadata": {},
   "outputs": [],
   "source": [
    "mod = lda(group~.,data=d)"
   ]
  },
  {
   "cell_type": "code",
   "execution_count": 29,
   "metadata": {},
   "outputs": [
    {
     "data": {
      "text/plain": [
       "Call:\n",
       "lda(group ~ ., data = d)\n",
       "\n",
       "Prior probabilities of groups:\n",
       "        1         2         3 \n",
       "0.3333333 0.3333333 0.3333333 \n",
       "\n",
       "Group means:\n",
       "          x\n",
       "1  1.120678\n",
       "2  4.972002\n",
       "3 20.160465\n",
       "\n",
       "Coefficients of linear discriminants:\n",
       "        LD1\n",
       "x 0.9973864"
      ]
     },
     "metadata": {},
     "output_type": "display_data"
    }
   ],
   "source": [
    "mod"
   ]
  },
  {
   "cell_type": "code",
   "execution_count": 30,
   "metadata": {},
   "outputs": [
    {
     "data": {
      "text/html": [
       "1.12067814497171"
      ],
      "text/latex": [
       "1.12067814497171"
      ],
      "text/markdown": [
       "1.12067814497171"
      ],
      "text/plain": [
       "[1] 1.120678"
      ]
     },
     "metadata": {},
     "output_type": "display_data"
    }
   ],
   "source": [
    "muhat"
   ]
  },
  {
   "cell_type": "code",
   "execution_count": 31,
   "metadata": {},
   "outputs": [
    {
     "data": {
      "text/html": [
       "0.333333333333333"
      ],
      "text/latex": [
       "0.333333333333333"
      ],
      "text/markdown": [
       "0.333333333333333"
      ],
      "text/plain": [
       "[1] 0.3333333"
      ]
     },
     "metadata": {},
     "output_type": "display_data"
    }
   ],
   "source": [
    "pi_hat"
   ]
  },
  {
   "cell_type": "code",
   "execution_count": 32,
   "metadata": {},
   "outputs": [
    {
     "data": {
      "text/html": [
       "<style>\n",
       ".list-inline {list-style: none; margin:0; padding: 0}\n",
       ".list-inline>li {display: inline-block}\n",
       ".list-inline>li:not(:last-child)::after {content: \"\\00b7\"; padding: 0 .5ex}\n",
       "</style>\n",
       "<ol class=list-inline><li>1</li><li>3</li><li>2</li><li>2</li><li>3</li><li>1</li><li>3</li><li>1</li><li>1</li><li>1</li><li>1</li><li>1</li><li>3</li><li>3</li><li>2</li><li>2</li><li>2</li><li>1</li><li>3</li><li>2</li><li>2</li><li>1</li><li>1</li><li>1</li><li>2</li><li>3</li><li>1</li><li>2</li><li>1</li><li>3</li><li>2</li><li>2</li><li>1</li><li>3</li><li>3</li><li>2</li><li>3</li><li>3</li><li>2</li><li>3</li><li>3</li><li>2</li><li>3</li><li>3</li><li>3</li><li>1</li><li>1</li><li>3</li><li>1</li><li>1</li><li>1</li><li>1</li><li>2</li><li>3</li><li>1</li><li>1</li><li>3</li><li>3</li><li>1</li><li>1</li><li>1</li><li>1</li><li>3</li><li>1</li><li>3</li><li>3</li><li>3</li><li>2</li><li>3</li><li>2</li><li>1</li><li>2</li><li>1</li><li>1</li><li>3</li><li>3</li><li>1</li><li>3</li><li>2</li><li>1</li><li>2</li><li>1</li><li>3</li><li>2</li><li>2</li><li>3</li><li>3</li><li>1</li><li>2</li><li>2</li><li>1</li><li>1</li><li>3</li><li>2</li><li>3</li><li>1</li><li>3</li><li>3</li><li>3</li><li>1</li><li>1</li><li>2</li><li>2</li><li>2</li><li>1</li><li>3</li><li>1</li><li>2</li><li>3</li><li>2</li><li>3</li><li>1</li><li>3</li><li>1</li><li>3</li><li>1</li><li>2</li><li>1</li><li>2</li><li>3</li><li>2</li><li>2</li><li>2</li><li>1</li><li>2</li><li>3</li><li>2</li><li>2</li><li>1</li><li>1</li><li>2</li><li>2</li><li>2</li><li>1</li><li>3</li><li>2</li><li>1</li><li>3</li><li>1</li><li>3</li><li>2</li><li>1</li><li>3</li><li>1</li><li>2</li><li>2</li><li>2</li><li>2</li><li>2</li><li>2</li><li>3</li><li>3</li><li>1</li><li>3</li><li>1</li><li>2</li><li>1</li><li>2</li><li>2</li><li>1</li><li>1</li><li>1</li><li>2</li><li>1</li><li>1</li><li>3</li><li>2</li><li>3</li><li>2</li><li>1</li><li>1</li><li>3</li><li>1</li><li>3</li><li>1</li><li>3</li><li>2</li><li>1</li><li>3</li><li>3</li><li>2</li><li>2</li><li>3</li><li>2</li><li>3</li><li>1</li><li>1</li><li>2</li><li>2</li><li>2</li><li>3</li><li>2</li><li>1</li><li>2</li><li>1</li><li>3</li><li>2</li><li>3</li><li>3</li><li>1</li><li>3</li><li>3</li><li>2</li><li>1</li><li>2</li><li>3</li><li>1</li><li>3</li><li>2</li><li>1</li><li>1</li><li>2</li><li>2</li><li>2</li><li>3</li><li>2</li><li>2</li><li>2</li><li>2</li><li>2</li><li>1</li><li>1</li><li>3</li><li>2</li><li>1</li><li>3</li><li>1</li><li>3</li><li>2</li><li>2</li><li>2</li><li>1</li><li>2</li><li>2</li><li>1</li><li>1</li><li>2</li><li>3</li><li>1</li><li>3</li><li>3</li><li>2</li><li>3</li><li>2</li><li>1</li><li>3</li><li>3</li><li>3</li><li>3</li><li>3</li><li>1</li><li>2</li><li>1</li><li>2</li><li>2</li><li>2</li><li>2</li><li>3</li><li>3</li><li>1</li><li>3</li><li>3</li><li>1</li><li>2</li><li>1</li><li>2</li><li>1</li><li>1</li><li>1</li><li>3</li><li>2</li><li>1</li><li>2</li><li>3</li><li>2</li><li>3</li><li>1</li><li>3</li><li>3</li><li>3</li><li>1</li><li>1</li><li>3</li><li>2</li><li>1</li><li>3</li><li>3</li><li>3</li><li>1</li><li>3</li><li>3</li><li>1</li><li>3</li><li>3</li><li>2</li><li>3</li><li>2</li><li>1</li><li>2</li><li>1</li></ol>\n",
       "\n",
       "<details>\n",
       "\t<summary style=display:list-item;cursor:pointer>\n",
       "\t\t<strong>Levels</strong>:\n",
       "\t</summary>\n",
       "\t<style>\n",
       "\t.list-inline {list-style: none; margin:0; padding: 0}\n",
       "\t.list-inline>li {display: inline-block}\n",
       "\t.list-inline>li:not(:last-child)::after {content: \"\\00b7\"; padding: 0 .5ex}\n",
       "\t</style>\n",
       "\t<ol class=list-inline><li>'1'</li><li>'2'</li><li>'3'</li></ol>\n",
       "</details>"
      ],
      "text/latex": [
       "\\begin{enumerate*}\n",
       "\\item 1\n",
       "\\item 3\n",
       "\\item 2\n",
       "\\item 2\n",
       "\\item 3\n",
       "\\item 1\n",
       "\\item 3\n",
       "\\item 1\n",
       "\\item 1\n",
       "\\item 1\n",
       "\\item 1\n",
       "\\item 1\n",
       "\\item 3\n",
       "\\item 3\n",
       "\\item 2\n",
       "\\item 2\n",
       "\\item 2\n",
       "\\item 1\n",
       "\\item 3\n",
       "\\item 2\n",
       "\\item 2\n",
       "\\item 1\n",
       "\\item 1\n",
       "\\item 1\n",
       "\\item 2\n",
       "\\item 3\n",
       "\\item 1\n",
       "\\item 2\n",
       "\\item 1\n",
       "\\item 3\n",
       "\\item 2\n",
       "\\item 2\n",
       "\\item 1\n",
       "\\item 3\n",
       "\\item 3\n",
       "\\item 2\n",
       "\\item 3\n",
       "\\item 3\n",
       "\\item 2\n",
       "\\item 3\n",
       "\\item 3\n",
       "\\item 2\n",
       "\\item 3\n",
       "\\item 3\n",
       "\\item 3\n",
       "\\item 1\n",
       "\\item 1\n",
       "\\item 3\n",
       "\\item 1\n",
       "\\item 1\n",
       "\\item 1\n",
       "\\item 1\n",
       "\\item 2\n",
       "\\item 3\n",
       "\\item 1\n",
       "\\item 1\n",
       "\\item 3\n",
       "\\item 3\n",
       "\\item 1\n",
       "\\item 1\n",
       "\\item 1\n",
       "\\item 1\n",
       "\\item 3\n",
       "\\item 1\n",
       "\\item 3\n",
       "\\item 3\n",
       "\\item 3\n",
       "\\item 2\n",
       "\\item 3\n",
       "\\item 2\n",
       "\\item 1\n",
       "\\item 2\n",
       "\\item 1\n",
       "\\item 1\n",
       "\\item 3\n",
       "\\item 3\n",
       "\\item 1\n",
       "\\item 3\n",
       "\\item 2\n",
       "\\item 1\n",
       "\\item 2\n",
       "\\item 1\n",
       "\\item 3\n",
       "\\item 2\n",
       "\\item 2\n",
       "\\item 3\n",
       "\\item 3\n",
       "\\item 1\n",
       "\\item 2\n",
       "\\item 2\n",
       "\\item 1\n",
       "\\item 1\n",
       "\\item 3\n",
       "\\item 2\n",
       "\\item 3\n",
       "\\item 1\n",
       "\\item 3\n",
       "\\item 3\n",
       "\\item 3\n",
       "\\item 1\n",
       "\\item 1\n",
       "\\item 2\n",
       "\\item 2\n",
       "\\item 2\n",
       "\\item 1\n",
       "\\item 3\n",
       "\\item 1\n",
       "\\item 2\n",
       "\\item 3\n",
       "\\item 2\n",
       "\\item 3\n",
       "\\item 1\n",
       "\\item 3\n",
       "\\item 1\n",
       "\\item 3\n",
       "\\item 1\n",
       "\\item 2\n",
       "\\item 1\n",
       "\\item 2\n",
       "\\item 3\n",
       "\\item 2\n",
       "\\item 2\n",
       "\\item 2\n",
       "\\item 1\n",
       "\\item 2\n",
       "\\item 3\n",
       "\\item 2\n",
       "\\item 2\n",
       "\\item 1\n",
       "\\item 1\n",
       "\\item 2\n",
       "\\item 2\n",
       "\\item 2\n",
       "\\item 1\n",
       "\\item 3\n",
       "\\item 2\n",
       "\\item 1\n",
       "\\item 3\n",
       "\\item 1\n",
       "\\item 3\n",
       "\\item 2\n",
       "\\item 1\n",
       "\\item 3\n",
       "\\item 1\n",
       "\\item 2\n",
       "\\item 2\n",
       "\\item 2\n",
       "\\item 2\n",
       "\\item 2\n",
       "\\item 2\n",
       "\\item 3\n",
       "\\item 3\n",
       "\\item 1\n",
       "\\item 3\n",
       "\\item 1\n",
       "\\item 2\n",
       "\\item 1\n",
       "\\item 2\n",
       "\\item 2\n",
       "\\item 1\n",
       "\\item 1\n",
       "\\item 1\n",
       "\\item 2\n",
       "\\item 1\n",
       "\\item 1\n",
       "\\item 3\n",
       "\\item 2\n",
       "\\item 3\n",
       "\\item 2\n",
       "\\item 1\n",
       "\\item 1\n",
       "\\item 3\n",
       "\\item 1\n",
       "\\item 3\n",
       "\\item 1\n",
       "\\item 3\n",
       "\\item 2\n",
       "\\item 1\n",
       "\\item 3\n",
       "\\item 3\n",
       "\\item 2\n",
       "\\item 2\n",
       "\\item 3\n",
       "\\item 2\n",
       "\\item 3\n",
       "\\item 1\n",
       "\\item 1\n",
       "\\item 2\n",
       "\\item 2\n",
       "\\item 2\n",
       "\\item 3\n",
       "\\item 2\n",
       "\\item 1\n",
       "\\item 2\n",
       "\\item 1\n",
       "\\item 3\n",
       "\\item 2\n",
       "\\item 3\n",
       "\\item 3\n",
       "\\item 1\n",
       "\\item 3\n",
       "\\item 3\n",
       "\\item 2\n",
       "\\item 1\n",
       "\\item 2\n",
       "\\item 3\n",
       "\\item 1\n",
       "\\item 3\n",
       "\\item 2\n",
       "\\item 1\n",
       "\\item 1\n",
       "\\item 2\n",
       "\\item 2\n",
       "\\item 2\n",
       "\\item 3\n",
       "\\item 2\n",
       "\\item 2\n",
       "\\item 2\n",
       "\\item 2\n",
       "\\item 2\n",
       "\\item 1\n",
       "\\item 1\n",
       "\\item 3\n",
       "\\item 2\n",
       "\\item 1\n",
       "\\item 3\n",
       "\\item 1\n",
       "\\item 3\n",
       "\\item 2\n",
       "\\item 2\n",
       "\\item 2\n",
       "\\item 1\n",
       "\\item 2\n",
       "\\item 2\n",
       "\\item 1\n",
       "\\item 1\n",
       "\\item 2\n",
       "\\item 3\n",
       "\\item 1\n",
       "\\item 3\n",
       "\\item 3\n",
       "\\item 2\n",
       "\\item 3\n",
       "\\item 2\n",
       "\\item 1\n",
       "\\item 3\n",
       "\\item 3\n",
       "\\item 3\n",
       "\\item 3\n",
       "\\item 3\n",
       "\\item 1\n",
       "\\item 2\n",
       "\\item 1\n",
       "\\item 2\n",
       "\\item 2\n",
       "\\item 2\n",
       "\\item 2\n",
       "\\item 3\n",
       "\\item 3\n",
       "\\item 1\n",
       "\\item 3\n",
       "\\item 3\n",
       "\\item 1\n",
       "\\item 2\n",
       "\\item 1\n",
       "\\item 2\n",
       "\\item 1\n",
       "\\item 1\n",
       "\\item 1\n",
       "\\item 3\n",
       "\\item 2\n",
       "\\item 1\n",
       "\\item 2\n",
       "\\item 3\n",
       "\\item 2\n",
       "\\item 3\n",
       "\\item 1\n",
       "\\item 3\n",
       "\\item 3\n",
       "\\item 3\n",
       "\\item 1\n",
       "\\item 1\n",
       "\\item 3\n",
       "\\item 2\n",
       "\\item 1\n",
       "\\item 3\n",
       "\\item 3\n",
       "\\item 3\n",
       "\\item 1\n",
       "\\item 3\n",
       "\\item 3\n",
       "\\item 1\n",
       "\\item 3\n",
       "\\item 3\n",
       "\\item 2\n",
       "\\item 3\n",
       "\\item 2\n",
       "\\item 1\n",
       "\\item 2\n",
       "\\item 1\n",
       "\\end{enumerate*}\n",
       "\n",
       "\\emph{Levels}: \\begin{enumerate*}\n",
       "\\item '1'\n",
       "\\item '2'\n",
       "\\item '3'\n",
       "\\end{enumerate*}\n"
      ],
      "text/markdown": [
       "1. 1\n",
       "2. 3\n",
       "3. 2\n",
       "4. 2\n",
       "5. 3\n",
       "6. 1\n",
       "7. 3\n",
       "8. 1\n",
       "9. 1\n",
       "10. 1\n",
       "11. 1\n",
       "12. 1\n",
       "13. 3\n",
       "14. 3\n",
       "15. 2\n",
       "16. 2\n",
       "17. 2\n",
       "18. 1\n",
       "19. 3\n",
       "20. 2\n",
       "21. 2\n",
       "22. 1\n",
       "23. 1\n",
       "24. 1\n",
       "25. 2\n",
       "26. 3\n",
       "27. 1\n",
       "28. 2\n",
       "29. 1\n",
       "30. 3\n",
       "31. 2\n",
       "32. 2\n",
       "33. 1\n",
       "34. 3\n",
       "35. 3\n",
       "36. 2\n",
       "37. 3\n",
       "38. 3\n",
       "39. 2\n",
       "40. 3\n",
       "41. 3\n",
       "42. 2\n",
       "43. 3\n",
       "44. 3\n",
       "45. 3\n",
       "46. 1\n",
       "47. 1\n",
       "48. 3\n",
       "49. 1\n",
       "50. 1\n",
       "51. 1\n",
       "52. 1\n",
       "53. 2\n",
       "54. 3\n",
       "55. 1\n",
       "56. 1\n",
       "57. 3\n",
       "58. 3\n",
       "59. 1\n",
       "60. 1\n",
       "61. 1\n",
       "62. 1\n",
       "63. 3\n",
       "64. 1\n",
       "65. 3\n",
       "66. 3\n",
       "67. 3\n",
       "68. 2\n",
       "69. 3\n",
       "70. 2\n",
       "71. 1\n",
       "72. 2\n",
       "73. 1\n",
       "74. 1\n",
       "75. 3\n",
       "76. 3\n",
       "77. 1\n",
       "78. 3\n",
       "79. 2\n",
       "80. 1\n",
       "81. 2\n",
       "82. 1\n",
       "83. 3\n",
       "84. 2\n",
       "85. 2\n",
       "86. 3\n",
       "87. 3\n",
       "88. 1\n",
       "89. 2\n",
       "90. 2\n",
       "91. 1\n",
       "92. 1\n",
       "93. 3\n",
       "94. 2\n",
       "95. 3\n",
       "96. 1\n",
       "97. 3\n",
       "98. 3\n",
       "99. 3\n",
       "100. 1\n",
       "101. 1\n",
       "102. 2\n",
       "103. 2\n",
       "104. 2\n",
       "105. 1\n",
       "106. 3\n",
       "107. 1\n",
       "108. 2\n",
       "109. 3\n",
       "110. 2\n",
       "111. 3\n",
       "112. 1\n",
       "113. 3\n",
       "114. 1\n",
       "115. 3\n",
       "116. 1\n",
       "117. 2\n",
       "118. 1\n",
       "119. 2\n",
       "120. 3\n",
       "121. 2\n",
       "122. 2\n",
       "123. 2\n",
       "124. 1\n",
       "125. 2\n",
       "126. 3\n",
       "127. 2\n",
       "128. 2\n",
       "129. 1\n",
       "130. 1\n",
       "131. 2\n",
       "132. 2\n",
       "133. 2\n",
       "134. 1\n",
       "135. 3\n",
       "136. 2\n",
       "137. 1\n",
       "138. 3\n",
       "139. 1\n",
       "140. 3\n",
       "141. 2\n",
       "142. 1\n",
       "143. 3\n",
       "144. 1\n",
       "145. 2\n",
       "146. 2\n",
       "147. 2\n",
       "148. 2\n",
       "149. 2\n",
       "150. 2\n",
       "151. 3\n",
       "152. 3\n",
       "153. 1\n",
       "154. 3\n",
       "155. 1\n",
       "156. 2\n",
       "157. 1\n",
       "158. 2\n",
       "159. 2\n",
       "160. 1\n",
       "161. 1\n",
       "162. 1\n",
       "163. 2\n",
       "164. 1\n",
       "165. 1\n",
       "166. 3\n",
       "167. 2\n",
       "168. 3\n",
       "169. 2\n",
       "170. 1\n",
       "171. 1\n",
       "172. 3\n",
       "173. 1\n",
       "174. 3\n",
       "175. 1\n",
       "176. 3\n",
       "177. 2\n",
       "178. 1\n",
       "179. 3\n",
       "180. 3\n",
       "181. 2\n",
       "182. 2\n",
       "183. 3\n",
       "184. 2\n",
       "185. 3\n",
       "186. 1\n",
       "187. 1\n",
       "188. 2\n",
       "189. 2\n",
       "190. 2\n",
       "191. 3\n",
       "192. 2\n",
       "193. 1\n",
       "194. 2\n",
       "195. 1\n",
       "196. 3\n",
       "197. 2\n",
       "198. 3\n",
       "199. 3\n",
       "200. 1\n",
       "201. 3\n",
       "202. 3\n",
       "203. 2\n",
       "204. 1\n",
       "205. 2\n",
       "206. 3\n",
       "207. 1\n",
       "208. 3\n",
       "209. 2\n",
       "210. 1\n",
       "211. 1\n",
       "212. 2\n",
       "213. 2\n",
       "214. 2\n",
       "215. 3\n",
       "216. 2\n",
       "217. 2\n",
       "218. 2\n",
       "219. 2\n",
       "220. 2\n",
       "221. 1\n",
       "222. 1\n",
       "223. 3\n",
       "224. 2\n",
       "225. 1\n",
       "226. 3\n",
       "227. 1\n",
       "228. 3\n",
       "229. 2\n",
       "230. 2\n",
       "231. 2\n",
       "232. 1\n",
       "233. 2\n",
       "234. 2\n",
       "235. 1\n",
       "236. 1\n",
       "237. 2\n",
       "238. 3\n",
       "239. 1\n",
       "240. 3\n",
       "241. 3\n",
       "242. 2\n",
       "243. 3\n",
       "244. 2\n",
       "245. 1\n",
       "246. 3\n",
       "247. 3\n",
       "248. 3\n",
       "249. 3\n",
       "250. 3\n",
       "251. 1\n",
       "252. 2\n",
       "253. 1\n",
       "254. 2\n",
       "255. 2\n",
       "256. 2\n",
       "257. 2\n",
       "258. 3\n",
       "259. 3\n",
       "260. 1\n",
       "261. 3\n",
       "262. 3\n",
       "263. 1\n",
       "264. 2\n",
       "265. 1\n",
       "266. 2\n",
       "267. 1\n",
       "268. 1\n",
       "269. 1\n",
       "270. 3\n",
       "271. 2\n",
       "272. 1\n",
       "273. 2\n",
       "274. 3\n",
       "275. 2\n",
       "276. 3\n",
       "277. 1\n",
       "278. 3\n",
       "279. 3\n",
       "280. 3\n",
       "281. 1\n",
       "282. 1\n",
       "283. 3\n",
       "284. 2\n",
       "285. 1\n",
       "286. 3\n",
       "287. 3\n",
       "288. 3\n",
       "289. 1\n",
       "290. 3\n",
       "291. 3\n",
       "292. 1\n",
       "293. 3\n",
       "294. 3\n",
       "295. 2\n",
       "296. 3\n",
       "297. 2\n",
       "298. 1\n",
       "299. 2\n",
       "300. 1\n",
       "\n",
       "\n",
       "\n",
       "**Levels**: 1. '1'\n",
       "2. '2'\n",
       "3. '3'\n",
       "\n",
       "\n"
      ],
      "text/plain": [
       "  [1] 1 3 2 2 3 1 3 1 1 1 1 1 3 3 2 2 2 1 3 2 2 1 1 1 2 3 1 2 1 3 2 2 1 3 3 2 3\n",
       " [38] 3 2 3 3 2 3 3 3 1 1 3 1 1 1 1 2 3 1 1 3 3 1 1 1 1 3 1 3 3 3 2 3 2 1 2 1 1\n",
       " [75] 3 3 1 3 2 1 2 1 3 2 2 3 3 1 2 2 1 1 3 2 3 1 3 3 3 1 1 2 2 2 1 3 1 2 3 2 3\n",
       "[112] 1 3 1 3 1 2 1 2 3 2 2 2 1 2 3 2 2 1 1 2 2 2 1 3 2 1 3 1 3 2 1 3 1 2 2 2 2\n",
       "[149] 2 2 3 3 1 3 1 2 1 2 2 1 1 1 2 1 1 3 2 3 2 1 1 3 1 3 1 3 2 1 3 3 2 2 3 2 3\n",
       "[186] 1 1 2 2 2 3 2 1 2 1 3 2 3 3 1 3 3 2 1 2 3 1 3 2 1 1 2 2 2 3 2 2 2 2 2 1 1\n",
       "[223] 3 2 1 3 1 3 2 2 2 1 2 2 1 1 2 3 1 3 3 2 3 2 1 3 3 3 3 3 1 2 1 2 2 2 2 3 3\n",
       "[260] 1 3 3 1 2 1 2 1 1 1 3 2 1 2 3 2 3 1 3 3 3 1 1 3 2 1 3 3 3 1 3 3 1 3 3 2 3\n",
       "[297] 2 1 2 1\n",
       "Levels: 1 2 3"
      ]
     },
     "metadata": {},
     "output_type": "display_data"
    }
   ],
   "source": [
    "mod_preds = predict(mod)$class\n",
    "mod_preds"
   ]
  },
  {
   "cell_type": "code",
   "execution_count": 33,
   "metadata": {},
   "outputs": [
    {
     "data": {
      "text/html": [
       "TRUE"
      ],
      "text/latex": [
       "TRUE"
      ],
      "text/markdown": [
       "TRUE"
      ],
      "text/plain": [
       "[1] TRUE"
      ]
     },
     "metadata": {},
     "output_type": "display_data"
    }
   ],
   "source": [
    "all(mod_preds == my_preds)"
   ]
  },
  {
   "cell_type": "code",
   "execution_count": 34,
   "metadata": {},
   "outputs": [
    {
     "data": {
      "text/html": [
       "<table class=\"dataframe\">\n",
       "<caption>A matrix: 6 × 3 of type dbl</caption>\n",
       "<thead>\n",
       "\t<tr><th></th><th scope=col>1</th><th scope=col>2</th><th scope=col>3</th></tr>\n",
       "</thead>\n",
       "<tbody>\n",
       "\t<tr><th scope=row>19</th><td>9.969456e-01</td><td>3.054424e-03</td><td>1.269294e-75</td></tr>\n",
       "\t<tr><th scope=row>247</th><td>1.201709e-81</td><td>1.213434e-52</td><td>1.000000e+00</td></tr>\n",
       "\t<tr><th scope=row>154</th><td>7.061910e-06</td><td>9.999929e-01</td><td>7.020409e-43</td></tr>\n",
       "\t<tr><th scope=row>152</th><td>4.848730e-04</td><td>9.995151e-01</td><td>3.998720e-50</td></tr>\n",
       "\t<tr><th scope=row>231</th><td>1.028033e-96</td><td>1.159049e-64</td><td>1.000000e+00</td></tr>\n",
       "\t<tr><th scope=row>75</th><td>9.999995e-01</td><td>5.427042e-07</td><td>3.611115e-94</td></tr>\n",
       "</tbody>\n",
       "</table>\n"
      ],
      "text/latex": [
       "A matrix: 6 × 3 of type dbl\n",
       "\\begin{tabular}{r|lll}\n",
       "  & 1 & 2 & 3\\\\\n",
       "\\hline\n",
       "\t19 & 9.969456e-01 & 3.054424e-03 & 1.269294e-75\\\\\n",
       "\t247 & 1.201709e-81 & 1.213434e-52 & 1.000000e+00\\\\\n",
       "\t154 & 7.061910e-06 & 9.999929e-01 & 7.020409e-43\\\\\n",
       "\t152 & 4.848730e-04 & 9.995151e-01 & 3.998720e-50\\\\\n",
       "\t231 & 1.028033e-96 & 1.159049e-64 & 1.000000e+00\\\\\n",
       "\t75 & 9.999995e-01 & 5.427042e-07 & 3.611115e-94\\\\\n",
       "\\end{tabular}\n"
      ],
      "text/markdown": [
       "\n",
       "A matrix: 6 × 3 of type dbl\n",
       "\n",
       "| <!--/--> | 1 | 2 | 3 |\n",
       "|---|---|---|---|\n",
       "| 19 | 9.969456e-01 | 3.054424e-03 | 1.269294e-75 |\n",
       "| 247 | 1.201709e-81 | 1.213434e-52 | 1.000000e+00 |\n",
       "| 154 | 7.061910e-06 | 9.999929e-01 | 7.020409e-43 |\n",
       "| 152 | 4.848730e-04 | 9.995151e-01 | 3.998720e-50 |\n",
       "| 231 | 1.028033e-96 | 1.159049e-64 | 1.000000e+00 |\n",
       "| 75 | 9.999995e-01 | 5.427042e-07 | 3.611115e-94 |\n",
       "\n"
      ],
      "text/plain": [
       "    1            2            3           \n",
       "19  9.969456e-01 3.054424e-03 1.269294e-75\n",
       "247 1.201709e-81 1.213434e-52 1.000000e+00\n",
       "154 7.061910e-06 9.999929e-01 7.020409e-43\n",
       "152 4.848730e-04 9.995151e-01 3.998720e-50\n",
       "231 1.028033e-96 1.159049e-64 1.000000e+00\n",
       "75  9.999995e-01 5.427042e-07 3.611115e-94"
      ]
     },
     "metadata": {},
     "output_type": "display_data"
    }
   ],
   "source": [
    "head(predict(mod)$posterior)"
   ]
  },
  {
   "cell_type": "code",
   "execution_count": 35,
   "metadata": {},
   "outputs": [
    {
     "data": {
      "text/html": [
       "<table class=\"dataframe\">\n",
       "<caption>A data.frame: 6 × 3</caption>\n",
       "<thead>\n",
       "\t<tr><th></th><th scope=col>x</th><th scope=col>variable</th><th scope=col>value</th></tr>\n",
       "\t<tr><th></th><th scope=col>&lt;dbl&gt;</th><th scope=col>&lt;fct&gt;</th><th scope=col>&lt;dbl&gt;</th></tr>\n",
       "</thead>\n",
       "<tbody>\n",
       "\t<tr><th scope=row>1</th><td>-2.000000</td><td>1</td><td>1</td></tr>\n",
       "\t<tr><th scope=row>2</th><td>-1.945892</td><td>1</td><td>1</td></tr>\n",
       "\t<tr><th scope=row>3</th><td>-1.891784</td><td>1</td><td>1</td></tr>\n",
       "\t<tr><th scope=row>4</th><td>-1.837675</td><td>1</td><td>1</td></tr>\n",
       "\t<tr><th scope=row>5</th><td>-1.783567</td><td>1</td><td>1</td></tr>\n",
       "\t<tr><th scope=row>6</th><td>-1.729459</td><td>1</td><td>1</td></tr>\n",
       "</tbody>\n",
       "</table>\n"
      ],
      "text/latex": [
       "A data.frame: 6 × 3\n",
       "\\begin{tabular}{r|lll}\n",
       "  & x & variable & value\\\\\n",
       "  & <dbl> & <fct> & <dbl>\\\\\n",
       "\\hline\n",
       "\t1 & -2.000000 & 1 & 1\\\\\n",
       "\t2 & -1.945892 & 1 & 1\\\\\n",
       "\t3 & -1.891784 & 1 & 1\\\\\n",
       "\t4 & -1.837675 & 1 & 1\\\\\n",
       "\t5 & -1.783567 & 1 & 1\\\\\n",
       "\t6 & -1.729459 & 1 & 1\\\\\n",
       "\\end{tabular}\n"
      ],
      "text/markdown": [
       "\n",
       "A data.frame: 6 × 3\n",
       "\n",
       "| <!--/--> | x &lt;dbl&gt; | variable &lt;fct&gt; | value &lt;dbl&gt; |\n",
       "|---|---|---|---|\n",
       "| 1 | -2.000000 | 1 | 1 |\n",
       "| 2 | -1.945892 | 1 | 1 |\n",
       "| 3 | -1.891784 | 1 | 1 |\n",
       "| 4 | -1.837675 | 1 | 1 |\n",
       "| 5 | -1.783567 | 1 | 1 |\n",
       "| 6 | -1.729459 | 1 | 1 |\n",
       "\n"
      ],
      "text/plain": [
       "  x         variable value\n",
       "1 -2.000000 1        1    \n",
       "2 -1.945892 1        1    \n",
       "3 -1.891784 1        1    \n",
       "4 -1.837675 1        1    \n",
       "5 -1.783567 1        1    \n",
       "6 -1.729459 1        1    "
      ]
     },
     "metadata": {},
     "output_type": "display_data"
    }
   ],
   "source": [
    "mod_df = cbind(x_seq,predict(mod,newdata=data.frame(x=x_seq))$posterior)\n",
    "colnames(mod_df)[1] = c('x')\n",
    "mod_df = data.frame(mod_df)\n",
    "mmod_df = melt(mod_df,id.vars='x')\n",
    "levels(mmod_df$variable) = 1:3\n",
    "head(mmod_df)"
   ]
  },
  {
   "cell_type": "code",
   "execution_count": 36,
   "metadata": {},
   "outputs": [
    {
     "data": {
      "image/png": "[encoded data removed]",
      "text/plain": [
       "plot without title"
      ]
     },
     "metadata": {
      "image/png": {
       "height": 420,
       "width": 420
      }
     },
     "output_type": "display_data"
    }
   ],
   "source": [
    "ggplot(data=mdf,mapping=aes(x=x,y=0,color=y_pred,group=y_pred))+\n",
    "    geom_point()+\n",
    "    #geom_line(mapping=aes(x=x,y=value,group=variable,color=variable),inherit.aes=FALSE)+\n",
    "    geom_line(mapping=aes(x=x,y=value,group=variable,color=variable),inherit.aes=FALSE,data=mmod_df)"
   ]
  },
  {
   "cell_type": "code",
   "execution_count": 37,
   "metadata": {},
   "outputs": [
    {
     "data": {
      "text/html": [
       "<table class=\"dataframe\">\n",
       "<caption>A data.frame: 6 × 5</caption>\n",
       "<thead>\n",
       "\t<tr><th></th><th scope=col>x</th><th scope=col>y_pred</th><th scope=col>c1</th><th scope=col>c2</th><th scope=col>c3</th></tr>\n",
       "\t<tr><th></th><th scope=col>&lt;dbl&gt;</th><th scope=col>&lt;fct&gt;</th><th scope=col>&lt;dbl&gt;</th><th scope=col>&lt;dbl&gt;</th><th scope=col>&lt;dbl&gt;</th></tr>\n",
       "</thead>\n",
       "<tbody>\n",
       "\t<tr><th scope=row>1</th><td>-2.000000</td><td>1</td><td>0.001044660</td><td>4.192625e-12</td><td>1.099854e-107</td></tr>\n",
       "\t<tr><th scope=row>2</th><td>-1.945892</td><td>1</td><td>0.001233935</td><td>6.093021e-12</td><td>3.620184e-107</td></tr>\n",
       "\t<tr><th scope=row>3</th><td>-1.891784</td><td>1</td><td>0.001453264</td><td>8.829061e-12</td><td>1.188123e-106</td></tr>\n",
       "\t<tr><th scope=row>4</th><td>-1.837675</td><td>1</td><td>0.001706601</td><td>1.275650e-11</td><td>3.888009e-106</td></tr>\n",
       "\t<tr><th scope=row>5</th><td>-1.783567</td><td>1</td><td>0.001998273</td><td>1.837738e-11</td><td>1.268611e-105</td></tr>\n",
       "\t<tr><th scope=row>6</th><td>-1.729459</td><td>1</td><td>0.002332989</td><td>2.639799e-11</td><td>4.127286e-105</td></tr>\n",
       "</tbody>\n",
       "</table>\n"
      ],
      "text/latex": [
       "A data.frame: 6 × 5\n",
       "\\begin{tabular}{r|lllll}\n",
       "  & x & y\\_pred & c1 & c2 & c3\\\\\n",
       "  & <dbl> & <fct> & <dbl> & <dbl> & <dbl>\\\\\n",
       "\\hline\n",
       "\t1 & -2.000000 & 1 & 0.001044660 & 4.192625e-12 & 1.099854e-107\\\\\n",
       "\t2 & -1.945892 & 1 & 0.001233935 & 6.093021e-12 & 3.620184e-107\\\\\n",
       "\t3 & -1.891784 & 1 & 0.001453264 & 8.829061e-12 & 1.188123e-106\\\\\n",
       "\t4 & -1.837675 & 1 & 0.001706601 & 1.275650e-11 & 3.888009e-106\\\\\n",
       "\t5 & -1.783567 & 1 & 0.001998273 & 1.837738e-11 & 1.268611e-105\\\\\n",
       "\t6 & -1.729459 & 1 & 0.002332989 & 2.639799e-11 & 4.127286e-105\\\\\n",
       "\\end{tabular}\n"
      ],
      "text/markdown": [
       "\n",
       "A data.frame: 6 × 5\n",
       "\n",
       "| <!--/--> | x &lt;dbl&gt; | y_pred &lt;fct&gt; | c1 &lt;dbl&gt; | c2 &lt;dbl&gt; | c3 &lt;dbl&gt; |\n",
       "|---|---|---|---|---|---|\n",
       "| 1 | -2.000000 | 1 | 0.001044660 | 4.192625e-12 | 1.099854e-107 |\n",
       "| 2 | -1.945892 | 1 | 0.001233935 | 6.093021e-12 | 3.620184e-107 |\n",
       "| 3 | -1.891784 | 1 | 0.001453264 | 8.829061e-12 | 1.188123e-106 |\n",
       "| 4 | -1.837675 | 1 | 0.001706601 | 1.275650e-11 | 3.888009e-106 |\n",
       "| 5 | -1.783567 | 1 | 0.001998273 | 1.837738e-11 | 1.268611e-105 |\n",
       "| 6 | -1.729459 | 1 | 0.002332989 | 2.639799e-11 | 4.127286e-105 |\n",
       "\n"
      ],
      "text/plain": [
       "  x         y_pred c1          c2           c3           \n",
       "1 -2.000000 1      0.001044660 4.192625e-12 1.099854e-107\n",
       "2 -1.945892 1      0.001233935 6.093021e-12 3.620184e-107\n",
       "3 -1.891784 1      0.001453264 8.829061e-12 1.188123e-106\n",
       "4 -1.837675 1      0.001706601 1.275650e-11 3.888009e-106\n",
       "5 -1.783567 1      0.001998273 1.837738e-11 1.268611e-105\n",
       "6 -1.729459 1      0.002332989 2.639799e-11 4.127286e-105"
      ]
     },
     "metadata": {},
     "output_type": "display_data"
    }
   ],
   "source": [
    "head(df)"
   ]
  },
  {
   "cell_type": "code",
   "execution_count": 38,
   "metadata": {},
   "outputs": [],
   "source": [
    "df[,3:5] = df[,3:5]/rowSums(df[,3:5])"
   ]
  },
  {
   "cell_type": "code",
   "execution_count": 39,
   "metadata": {},
   "outputs": [],
   "source": [
    "mdf = melt(df,id.vars=c('x','y_pred'))"
   ]
  },
  {
   "cell_type": "code",
   "execution_count": 40,
   "metadata": {},
   "outputs": [],
   "source": [
    "levels(mdf$variable) = c(1,2,3)"
   ]
  },
  {
   "cell_type": "code",
   "execution_count": 41,
   "metadata": {},
   "outputs": [
    {
     "data": {
      "text/plain": [
       "mapping: x = ~x, y = ~value, group = ~variable, colour = ~variable \n",
       "geom_line: na.rm = FALSE, orientation = NA\n",
       "stat_identity: na.rm = FALSE\n",
       "position_identity "
      ]
     },
     "metadata": {},
     "output_type": "display_data"
    },
    {
     "data": {
      "image/png": "[encoded data removed]",
      "text/plain": [
       "plot without title"
      ]
     },
     "metadata": {
      "image/png": {
       "height": 420,
       "width": 420
      }
     },
     "output_type": "display_data"
    }
   ],
   "source": [
    "ggplot(data=mdf,mapping=aes(x=x,y=0,color=y_pred,group=y_pred))+\n",
    "    geom_point()+\n",
    "    geom_line(mapping=aes(x=x,y=value,group=variable,color=variable),inherit.aes=FALSE)\n",
    "    geom_line(mapping=aes(x=x,y=value,group=variable,color=variable),inherit.aes=FALSE,data=mmod_df)"
   ]
  },
  {
   "cell_type": "code",
   "execution_count": 42,
   "metadata": {},
   "outputs": [],
   "source": [
    "delta_lda_c2 = function(x0,class){\n",
    "    subd = d[d$group==class,]\n",
    "    muhat = mean(subd$x)\n",
    "    pi_hat = mean(d$group==class)\n",
    "    vars = sapply(1:3,function(i)var(d[d$group==i,'x']))\n",
    "    pooled_var = sum((Ns-1)*vars)/(sum(Ns)-3)\n",
    "    dlta = muhat*x0/(pooled_var) - muhat^2/(2*pooled_var)+log(pi_hat)\n",
    "    return(dlta)\n",
    "}\n",
    "lda_pred2 = function(x0){\n",
    "    deltas = sapply(1:3,function(c)delta_lda_c(x0,c))\n",
    "    return(which.max(deltas))\n",
    "}"
   ]
  },
  {
   "cell_type": "code",
   "execution_count": 43,
   "metadata": {},
   "outputs": [
    {
     "data": {
      "image/png": "[encoded data removed]",
      "text/plain": [
       "plot without title"
      ]
     },
     "metadata": {
      "image/png": {
       "height": 420,
       "width": 420
      }
     },
     "output_type": "display_data"
    }
   ],
   "source": [
    "df = data.frame(x=x_seq,y_pred = sapply(x_seq,lda_pred2))\n",
    "df$y_pred = factor(df$y_pred)\n",
    "df$c1 = sapply(x_seq,delta_lda_c2,class=1)\n",
    "df$c2 = sapply(x_seq,delta_lda_c2,class=2)\n",
    "df$c3 = sapply(x_seq,delta_lda_c2,class=3)\n",
    "\n",
    "mdf = melt(df,id.vars=c('x','y_pred'))\n",
    "levels(mdf$variable) = c(1,2,3)\n",
    "\n",
    "ggplot(data=mdf,mapping=aes(x=x,y=0,color=y_pred,group=y_pred))+\n",
    "    geom_point(shape=1,size=1/10)+\n",
    "    geom_line(mapping=aes(x=x,y=value,group=variable,color=variable),lwd=2)"
   ]
  },
  {
   "cell_type": "code",
   "execution_count": 44,
   "metadata": {},
   "outputs": [
    {
     "data": {
      "image/png": "[encoded data removed]",
      "text/plain": [
       "plot without title"
      ]
     },
     "metadata": {
      "image/png": {
       "height": 420,
       "width": 420
      }
     },
     "output_type": "display_data"
    }
   ],
   "source": [
    "ggplot(data=mdf,mapping=aes(x=x,y=0,color=y_pred,group=y_pred))+\n",
    "    geom_point(shape=1,size=1/10)+\n",
    "    geom_line(mapping=aes(x=x,y=value,group=variable,color=variable),lwd=2)+\n",
    "    coord_cartesian(ylim=c(-50,50))"
   ]
  },
  {
   "cell_type": "markdown",
   "metadata": {},
   "source": [
    "# for $p>1$"
   ]
  },
  {
   "cell_type": "code",
   "execution_count": 45,
   "metadata": {},
   "outputs": [
    {
     "data": {
      "text/html": [
       "<table class=\"dataframe\">\n",
       "<caption>A tibble: 6 × 8</caption>\n",
       "<thead>\n",
       "\t<tr><th scope=col>species</th><th scope=col>island</th><th scope=col>bill_length_mm</th><th scope=col>bill_depth_mm</th><th scope=col>flipper_length_mm</th><th scope=col>body_mass_g</th><th scope=col>sex</th><th scope=col>year</th></tr>\n",
       "\t<tr><th scope=col>&lt;fct&gt;</th><th scope=col>&lt;fct&gt;</th><th scope=col>&lt;dbl&gt;</th><th scope=col>&lt;dbl&gt;</th><th scope=col>&lt;int&gt;</th><th scope=col>&lt;int&gt;</th><th scope=col>&lt;fct&gt;</th><th scope=col>&lt;int&gt;</th></tr>\n",
       "</thead>\n",
       "<tbody>\n",
       "\t<tr><td>Adelie</td><td>Torgersen</td><td>39.1</td><td>18.7</td><td>181</td><td>3750</td><td>male  </td><td>2007</td></tr>\n",
       "\t<tr><td>Adelie</td><td>Torgersen</td><td>39.5</td><td>17.4</td><td>186</td><td>3800</td><td>female</td><td>2007</td></tr>\n",
       "\t<tr><td>Adelie</td><td>Torgersen</td><td>40.3</td><td>18.0</td><td>195</td><td>3250</td><td>female</td><td>2007</td></tr>\n",
       "\t<tr><td>Adelie</td><td>Torgersen</td><td>36.7</td><td>19.3</td><td>193</td><td>3450</td><td>female</td><td>2007</td></tr>\n",
       "\t<tr><td>Adelie</td><td>Torgersen</td><td>39.3</td><td>20.6</td><td>190</td><td>3650</td><td>male  </td><td>2007</td></tr>\n",
       "\t<tr><td>Adelie</td><td>Torgersen</td><td>38.9</td><td>17.8</td><td>181</td><td>3625</td><td>female</td><td>2007</td></tr>\n",
       "</tbody>\n",
       "</table>\n"
      ],
      "text/latex": [
       "A tibble: 6 × 8\n",
       "\\begin{tabular}{llllllll}\n",
       " species & island & bill\\_length\\_mm & bill\\_depth\\_mm & flipper\\_length\\_mm & body\\_mass\\_g & sex & year\\\\\n",
       " <fct> & <fct> & <dbl> & <dbl> & <int> & <int> & <fct> & <int>\\\\\n",
       "\\hline\n",
       "\t Adelie & Torgersen & 39.1 & 18.7 & 181 & 3750 & male   & 2007\\\\\n",
       "\t Adelie & Torgersen & 39.5 & 17.4 & 186 & 3800 & female & 2007\\\\\n",
       "\t Adelie & Torgersen & 40.3 & 18.0 & 195 & 3250 & female & 2007\\\\\n",
       "\t Adelie & Torgersen & 36.7 & 19.3 & 193 & 3450 & female & 2007\\\\\n",
       "\t Adelie & Torgersen & 39.3 & 20.6 & 190 & 3650 & male   & 2007\\\\\n",
       "\t Adelie & Torgersen & 38.9 & 17.8 & 181 & 3625 & female & 2007\\\\\n",
       "\\end{tabular}\n"
      ],
      "text/markdown": [
       "\n",
       "A tibble: 6 × 8\n",
       "\n",
       "| species &lt;fct&gt; | island &lt;fct&gt; | bill_length_mm &lt;dbl&gt; | bill_depth_mm &lt;dbl&gt; | flipper_length_mm &lt;int&gt; | body_mass_g &lt;int&gt; | sex &lt;fct&gt; | year &lt;int&gt; |\n",
       "|---|---|---|---|---|---|---|---|\n",
       "| Adelie | Torgersen | 39.1 | 18.7 | 181 | 3750 | male   | 2007 |\n",
       "| Adelie | Torgersen | 39.5 | 17.4 | 186 | 3800 | female | 2007 |\n",
       "| Adelie | Torgersen | 40.3 | 18.0 | 195 | 3250 | female | 2007 |\n",
       "| Adelie | Torgersen | 36.7 | 19.3 | 193 | 3450 | female | 2007 |\n",
       "| Adelie | Torgersen | 39.3 | 20.6 | 190 | 3650 | male   | 2007 |\n",
       "| Adelie | Torgersen | 38.9 | 17.8 | 181 | 3625 | female | 2007 |\n",
       "\n"
      ],
      "text/plain": [
       "  species island    bill_length_mm bill_depth_mm flipper_length_mm body_mass_g\n",
       "1 Adelie  Torgersen 39.1           18.7          181               3750       \n",
       "2 Adelie  Torgersen 39.5           17.4          186               3800       \n",
       "3 Adelie  Torgersen 40.3           18.0          195               3250       \n",
       "4 Adelie  Torgersen 36.7           19.3          193               3450       \n",
       "5 Adelie  Torgersen 39.3           20.6          190               3650       \n",
       "6 Adelie  Torgersen 38.9           17.8          181               3625       \n",
       "  sex    year\n",
       "1 male   2007\n",
       "2 female 2007\n",
       "3 female 2007\n",
       "4 female 2007\n",
       "5 male   2007\n",
       "6 female 2007"
      ]
     },
     "metadata": {},
     "output_type": "display_data"
    }
   ],
   "source": [
    "library('palmerpenguins')\n",
    "penguins = penguins[complete.cases(penguins),]\n",
    "head(penguins)"
   ]
  },
  {
   "cell_type": "code",
   "execution_count": 46,
   "metadata": {},
   "outputs": [
    {
     "data": {
      "text/html": [
       "<table class=\"dataframe\">\n",
       "<caption>A tibble: 6 × 3</caption>\n",
       "<thead>\n",
       "\t<tr><th scope=col>bill_length_mm</th><th scope=col>bill_depth_mm</th><th scope=col>species</th></tr>\n",
       "\t<tr><th scope=col>&lt;dbl&gt;</th><th scope=col>&lt;dbl&gt;</th><th scope=col>&lt;fct&gt;</th></tr>\n",
       "</thead>\n",
       "<tbody>\n",
       "\t<tr><td>39.1</td><td>18.7</td><td>Adelie</td></tr>\n",
       "\t<tr><td>39.5</td><td>17.4</td><td>Adelie</td></tr>\n",
       "\t<tr><td>40.3</td><td>18.0</td><td>Adelie</td></tr>\n",
       "\t<tr><td>36.7</td><td>19.3</td><td>Adelie</td></tr>\n",
       "\t<tr><td>39.3</td><td>20.6</td><td>Adelie</td></tr>\n",
       "\t<tr><td>38.9</td><td>17.8</td><td>Adelie</td></tr>\n",
       "</tbody>\n",
       "</table>\n"
      ],
      "text/latex": [
       "A tibble: 6 × 3\n",
       "\\begin{tabular}{lll}\n",
       " bill\\_length\\_mm & bill\\_depth\\_mm & species\\\\\n",
       " <dbl> & <dbl> & <fct>\\\\\n",
       "\\hline\n",
       "\t 39.1 & 18.7 & Adelie\\\\\n",
       "\t 39.5 & 17.4 & Adelie\\\\\n",
       "\t 40.3 & 18.0 & Adelie\\\\\n",
       "\t 36.7 & 19.3 & Adelie\\\\\n",
       "\t 39.3 & 20.6 & Adelie\\\\\n",
       "\t 38.9 & 17.8 & Adelie\\\\\n",
       "\\end{tabular}\n"
      ],
      "text/markdown": [
       "\n",
       "A tibble: 6 × 3\n",
       "\n",
       "| bill_length_mm &lt;dbl&gt; | bill_depth_mm &lt;dbl&gt; | species &lt;fct&gt; |\n",
       "|---|---|---|\n",
       "| 39.1 | 18.7 | Adelie |\n",
       "| 39.5 | 17.4 | Adelie |\n",
       "| 40.3 | 18.0 | Adelie |\n",
       "| 36.7 | 19.3 | Adelie |\n",
       "| 39.3 | 20.6 | Adelie |\n",
       "| 38.9 | 17.8 | Adelie |\n",
       "\n"
      ],
      "text/plain": [
       "  bill_length_mm bill_depth_mm species\n",
       "1 39.1           18.7          Adelie \n",
       "2 39.5           17.4          Adelie \n",
       "3 40.3           18.0          Adelie \n",
       "4 36.7           19.3          Adelie \n",
       "5 39.3           20.6          Adelie \n",
       "6 38.9           17.8          Adelie "
      ]
     },
     "metadata": {},
     "output_type": "display_data"
    }
   ],
   "source": [
    "d = penguins[,c('bill_length_mm','bill_depth_mm','species')]\n",
    "head(d)"
   ]
  },
  {
   "cell_type": "code",
   "execution_count": 47,
   "metadata": {},
   "outputs": [
    {
     "data": {
      "text/plain": [
       "Call:\n",
       "lda(species ~ ., data = d)\n",
       "\n",
       "Prior probabilities of groups:\n",
       "   Adelie Chinstrap    Gentoo \n",
       "0.4384384 0.2042042 0.3573574 \n",
       "\n",
       "Group means:\n",
       "          bill_length_mm bill_depth_mm\n",
       "Adelie          38.82397      18.34726\n",
       "Chinstrap       48.83382      18.42059\n",
       "Gentoo          47.56807      14.99664\n",
       "\n",
       "Coefficients of linear discriminants:\n",
       "                      LD1        LD2\n",
       "bill_length_mm  0.3522643 -0.1828302\n",
       "bill_depth_mm  -0.9036821 -0.5336367\n",
       "\n",
       "Proportion of trace:\n",
       "   LD1    LD2 \n",
       "0.9221 0.0779 "
      ]
     },
     "metadata": {},
     "output_type": "display_data"
    }
   ],
   "source": [
    "mod = lda(species~.,data=d)\n",
    "mod"
   ]
  },
  {
   "cell_type": "code",
   "execution_count": 48,
   "metadata": {},
   "outputs": [],
   "source": [
    "plot_fit = function(v1,v2,df=penguins,N=floor(sqrt(10000)),scaleit=FALSE,fmla='species~.'){\n",
    "    train_df = df[,c('species',v1,v2)]\n",
    "    if(scaleit)\n",
    "        train_df[,c(v1,v2)] = scale(train_df[,c(v1,v2)])\n",
    "    \n",
    "    #mod = knn3(species~.,data=train_df,k=k)\n",
    "    mod = lda(formula=as.formula(fmla),data=train_df)\n",
    "    \n",
    "    r1 = range(train_df[[v1]])\n",
    "    r2 = range(train_df[[v2]])\n",
    "    \n",
    "    s1 = seq(r1[1],r1[2],length.out=N)\n",
    "    s2 = seq(r2[1],r2[2],length.out=N)\n",
    "    \n",
    "    p_df = expand.grid(v1=s1,v2=s2)\n",
    "    colnames(p_df) = c(v1,v2)\n",
    "    preds = predict(mod,newdata=p_df)$class\n",
    "    p_df$species = preds\n",
    "    \n",
    "    ggplot(data=p_df,mapping=aes_string(x=v1,y=v2,fill='species',shape='species'))+geom_tile()+\n",
    "        geom_point(data=train_df,size=5)\n",
    "}"
   ]
  },
  {
   "cell_type": "code",
   "execution_count": 49,
   "metadata": {},
   "outputs": [
    {
     "data": {
      "image/png": "[encoded data removed]",
      "text/plain": [
       "plot without title"
      ]
     },
     "metadata": {
      "image/png": {
       "height": 420,
       "width": 420
      }
     },
     "output_type": "display_data"
    }
   ],
   "source": [
    "plot_fit(v1='bill_length_mm',v2='bill_depth_mm',df=penguins)"
   ]
  },
  {
   "cell_type": "code",
   "execution_count": 50,
   "metadata": {},
   "outputs": [
    {
     "data": {
      "image/png": "[encoded data removed]",
      "text/plain": [
       "plot without title"
      ]
     },
     "metadata": {
      "image/png": {
       "height": 420,
       "width": 420
      }
     },
     "output_type": "display_data"
    }
   ],
   "source": [
    "plot_fit(v1='flipper_length_mm',v2='bill_depth_mm',df=penguins)"
   ]
  },
  {
   "cell_type": "code",
   "execution_count": 51,
   "metadata": {},
   "outputs": [
    {
     "data": {
      "image/png": "[encoded data removed]",
      "text/plain": [
       "plot without title"
      ]
     },
     "metadata": {
      "image/png": {
       "height": 420,
       "width": 420
      }
     },
     "output_type": "display_data"
    }
   ],
   "source": [
    "plot_fit(v1='bill_length_mm',v2='bill_depth_mm',df=penguins,\n",
    "             fmla='species~I(bill_length_mm^5)+I(bill_depth_mm^3)+I(bill_depth_mm^2)')"
   ]
  }
 ],
 "metadata": {
  "kernelspec": {
   "display_name": "R",
   "language": "R",
   "name": "ir"
  },
  "language_info": {
   "codemirror_mode": "r",
   "file_extension": ".r",
   "mimetype": "text/x-r-source",
   "name": "R",
   "pygments_lexer": "r",
   "version": "4.0.3"
  }
 },
 "nbformat": 4,
 "nbformat_minor": 4
}
