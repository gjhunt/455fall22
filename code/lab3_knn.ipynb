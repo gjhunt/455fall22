{
 "cells": [
  {
   "cell_type": "markdown",
   "metadata": {},
   "source": [
    "# KNN Regression"
   ]
  },
  {
   "cell_type": "code",
   "execution_count": 1,
   "metadata": {},
   "outputs": [
    {
     "name": "stderr",
     "output_type": "stream",
     "text": [
      "Loading required package: lattice\n",
      "\n",
      "Loading required package: ggplot2\n",
      "\n"
     ]
    }
   ],
   "source": [
    "library('caret')"
   ]
  },
  {
   "cell_type": "markdown",
   "metadata": {},
   "source": [
    "# simulation"
   ]
  },
  {
   "cell_type": "code",
   "execution_count": 2,
   "metadata": {},
   "outputs": [
    {
     "data": {
      "text/html": [
       "\n",
       "<table width=\"100%\" summary=\"page for Uniform {stats}\"><tr><td>Uniform {stats}</td><td style=\"text-align: right;\">R Documentation</td></tr></table>\n",
       "\n",
       "<h2>The Uniform Distribution</h2>\n",
       "\n",
       "<h3>Description</h3>\n",
       "\n",
       "<p>These functions provide information about the uniform distribution\n",
       "on the interval from <code>min</code> to <code>max</code>.  <code>dunif</code> gives the\n",
       "density, <code>punif</code> gives the distribution function <code>qunif</code>\n",
       "gives the quantile function and <code>runif</code> generates random\n",
       "deviates.\n",
       "</p>\n",
       "\n",
       "\n",
       "<h3>Usage</h3>\n",
       "\n",
       "<pre>\n",
       "dunif(x, min = 0, max = 1, log = FALSE)\n",
       "punif(q, min = 0, max = 1, lower.tail = TRUE, log.p = FALSE)\n",
       "qunif(p, min = 0, max = 1, lower.tail = TRUE, log.p = FALSE)\n",
       "runif(n, min = 0, max = 1)\n",
       "</pre>\n",
       "\n",
       "\n",
       "<h3>Arguments</h3>\n",
       "\n",
       "<table summary=\"R argblock\">\n",
       "<tr valign=\"top\"><td><code>x, q</code></td>\n",
       "<td>\n",
       "<p>vector of quantiles.</p>\n",
       "</td></tr>\n",
       "<tr valign=\"top\"><td><code>p</code></td>\n",
       "<td>\n",
       "<p>vector of probabilities.</p>\n",
       "</td></tr>\n",
       "<tr valign=\"top\"><td><code>n</code></td>\n",
       "<td>\n",
       "<p>number of observations. If <code>length(n) &gt; 1</code>, the length\n",
       "is taken to be the number required.</p>\n",
       "</td></tr>\n",
       "<tr valign=\"top\"><td><code>min, max</code></td>\n",
       "<td>\n",
       "<p>lower and upper limits of the distribution.  Must be finite.</p>\n",
       "</td></tr>\n",
       "<tr valign=\"top\"><td><code>log, log.p</code></td>\n",
       "<td>\n",
       "<p>logical; if TRUE, probabilities p are given as log(p).</p>\n",
       "</td></tr>\n",
       "<tr valign=\"top\"><td><code>lower.tail</code></td>\n",
       "<td>\n",
       "<p>logical; if TRUE (default), probabilities are\n",
       "<i>P[X &le; x]</i>, otherwise, <i>P[X &gt; x]</i>.</p>\n",
       "</td></tr>\n",
       "</table>\n",
       "\n",
       "\n",
       "<h3>Details</h3>\n",
       "\n",
       "<p>If <code>min</code> or <code>max</code> are not specified they assume the default\n",
       "values of <code>0</code> and <code>1</code> respectively.\n",
       "</p>\n",
       "<p>The uniform distribution has density\n",
       "</p>\n",
       "<p style=\"text-align: center;\"><i>f(x) = 1/(max-min)</i></p>\n",
       "\n",
       "<p>for <i>min &le; x &le; max</i>.\n",
       "</p>\n",
       "<p>For the case of <i>u := min == max</i>, the limit case of\n",
       "<i>X == u</i> is assumed, although there is no density in\n",
       "that case and <code>dunif</code> will return <code>NaN</code> (the error condition).\n",
       "</p>\n",
       "<p><code>runif</code> will not generate either of the extreme values unless\n",
       "<code>max = min</code> or <code>max-min</code> is small compared to <code>min</code>,\n",
       "and in particular not for the default arguments.\n",
       "</p>\n",
       "\n",
       "\n",
       "<h3>Value</h3>\n",
       "\n",
       "<p><code>dunif</code> gives the density,\n",
       "<code>punif</code> gives the distribution function,\n",
       "<code>qunif</code> gives the quantile function, and\n",
       "<code>runif</code> generates random deviates.\n",
       "</p>\n",
       "<p>The length of the result is determined by <code>n</code> for\n",
       "<code>runif</code>, and is the maximum of the lengths of the\n",
       "numerical arguments for the other functions.  \n",
       "</p>\n",
       "<p>The numerical arguments other than <code>n</code> are recycled to the\n",
       "length of the result.  Only the first elements of the logical\n",
       "arguments are used.\n",
       "</p>\n",
       "\n",
       "\n",
       "<h3>Note</h3>\n",
       "\n",
       "<p>The characteristics of output from pseudo-random number generators\n",
       "(such as precision and periodicity) vary widely.  See\n",
       "<code>.Random.seed</code> for more information on <span style=\"font-family: Courier New, Courier; color: #666666;\"><b>R</b></span>'s random number\n",
       "generation algorithms.\n",
       "</p>\n",
       "\n",
       "\n",
       "<h3>References</h3>\n",
       "\n",
       "<p>Becker, R. A., Chambers, J. M. and Wilks, A. R. (1988)\n",
       "<em>The New S Language</em>.\n",
       "Wadsworth &amp; Brooks/Cole.\n",
       "</p>\n",
       "\n",
       "\n",
       "<h3>See Also</h3>\n",
       "\n",
       "<p><code>RNG</code> about random number generation in <span style=\"font-family: Courier New, Courier; color: #666666;\"><b>R</b></span>.\n",
       "</p>\n",
       "<p>Distributions for other standard distributions.\n",
       "</p>\n",
       "\n",
       "\n",
       "<h3>Examples</h3>\n",
       "\n",
       "<pre>\n",
       "u &lt;- runif(20)\n",
       "\n",
       "## The following relations always hold :\n",
       "punif(u) == u\n",
       "dunif(u) == 1\n",
       "\n",
       "var(runif(10000))  #- ~ = 1/12 = .08333\n",
       "</pre>\n",
       "\n",
       "<hr /><div style=\"text-align: center;\">[Package <em>stats</em> version 4.0.3 ]</div>"
      ],
      "text/latex": [
       "\\inputencoding{utf8}\n",
       "\\HeaderA{Uniform}{The Uniform Distribution}{Uniform}\n",
       "\\aliasA{dunif}{Uniform}{dunif}\n",
       "\\aliasA{punif}{Uniform}{punif}\n",
       "\\aliasA{qunif}{Uniform}{qunif}\n",
       "\\aliasA{runif}{Uniform}{runif}\n",
       "\\keyword{distribution}{Uniform}\n",
       "%\n",
       "\\begin{Description}\\relax\n",
       "These functions provide information about the uniform distribution\n",
       "on the interval from \\code{min} to \\code{max}.  \\code{dunif} gives the\n",
       "density, \\code{punif} gives the distribution function \\code{qunif}\n",
       "gives the quantile function and \\code{runif} generates random\n",
       "deviates.\n",
       "\\end{Description}\n",
       "%\n",
       "\\begin{Usage}\n",
       "\\begin{verbatim}\n",
       "dunif(x, min = 0, max = 1, log = FALSE)\n",
       "punif(q, min = 0, max = 1, lower.tail = TRUE, log.p = FALSE)\n",
       "qunif(p, min = 0, max = 1, lower.tail = TRUE, log.p = FALSE)\n",
       "runif(n, min = 0, max = 1)\n",
       "\\end{verbatim}\n",
       "\\end{Usage}\n",
       "%\n",
       "\\begin{Arguments}\n",
       "\\begin{ldescription}\n",
       "\\item[\\code{x, q}] vector of quantiles.\n",
       "\\item[\\code{p}] vector of probabilities.\n",
       "\\item[\\code{n}] number of observations. If \\code{length(n) > 1}, the length\n",
       "is taken to be the number required.\n",
       "\\item[\\code{min, max}] lower and upper limits of the distribution.  Must be finite.\n",
       "\\item[\\code{log, log.p}] logical; if TRUE, probabilities p are given as log(p).\n",
       "\\item[\\code{lower.tail}] logical; if TRUE (default), probabilities are\n",
       "\\eqn{P[X \\le x]}{}, otherwise, \\eqn{P[X > x]}{}.\n",
       "\\end{ldescription}\n",
       "\\end{Arguments}\n",
       "%\n",
       "\\begin{Details}\\relax\n",
       "If \\code{min} or \\code{max} are not specified they assume the default\n",
       "values of \\code{0} and \\code{1} respectively.\n",
       "\n",
       "The uniform distribution has density\n",
       "\\deqn{f(x) = \\frac{1}{max-min}}{}\n",
       "for \\eqn{min \\le x \\le max}{}.\n",
       "\n",
       "For the case of \\eqn{u := min == max}{}, the limit case of\n",
       "\\eqn{X \\equiv u}{} is assumed, although there is no density in\n",
       "that case and \\code{dunif} will return \\code{NaN} (the error condition).\n",
       "\n",
       "\\code{runif} will not generate either of the extreme values unless\n",
       "\\code{max = min} or \\code{max-min} is small compared to \\code{min},\n",
       "and in particular not for the default arguments.\n",
       "\\end{Details}\n",
       "%\n",
       "\\begin{Value}\n",
       "\\code{dunif} gives the density,\n",
       "\\code{punif} gives the distribution function,\n",
       "\\code{qunif} gives the quantile function, and\n",
       "\\code{runif} generates random deviates.\n",
       "\n",
       "The length of the result is determined by \\code{n} for\n",
       "\\code{runif}, and is the maximum of the lengths of the\n",
       "numerical arguments for the other functions.  \n",
       "\n",
       "The numerical arguments other than \\code{n} are recycled to the\n",
       "length of the result.  Only the first elements of the logical\n",
       "arguments are used.\n",
       "\\end{Value}\n",
       "%\n",
       "\\begin{Note}\\relax\n",
       "The characteristics of output from pseudo-random number generators\n",
       "(such as precision and periodicity) vary widely.  See\n",
       "\\code{\\LinkA{.Random.seed}{.Random.seed}} for more information on \\R{}'s random number\n",
       "generation algorithms.\n",
       "\\end{Note}\n",
       "%\n",
       "\\begin{References}\\relax\n",
       "Becker, R. A., Chambers, J. M. and Wilks, A. R. (1988)\n",
       "\\emph{The New S Language}.\n",
       "Wadsworth \\& Brooks/Cole.\n",
       "\\end{References}\n",
       "%\n",
       "\\begin{SeeAlso}\\relax\n",
       "\\code{\\LinkA{RNG}{RNG}} about random number generation in \\R{}.\n",
       "\n",
       "\\LinkA{Distributions}{Distributions} for other standard distributions.\n",
       "\\end{SeeAlso}\n",
       "%\n",
       "\\begin{Examples}\n",
       "\\begin{ExampleCode}\n",
       "u <- runif(20)\n",
       "\n",
       "## The following relations always hold :\n",
       "punif(u) == u\n",
       "dunif(u) == 1\n",
       "\n",
       "var(runif(10000))  #- ~ = 1/12 = .08333\n",
       "\\end{ExampleCode}\n",
       "\\end{Examples}"
      ],
      "text/plain": [
       "Uniform                 package:stats                  R Documentation\n",
       "\n",
       "_\bT_\bh_\be _\bU_\bn_\bi_\bf_\bo_\br_\bm _\bD_\bi_\bs_\bt_\br_\bi_\bb_\bu_\bt_\bi_\bo_\bn\n",
       "\n",
       "_\bD_\be_\bs_\bc_\br_\bi_\bp_\bt_\bi_\bo_\bn:\n",
       "\n",
       "     These functions provide information about the uniform distribution\n",
       "     on the interval from 'min' to 'max'.  'dunif' gives the density,\n",
       "     'punif' gives the distribution function 'qunif' gives the quantile\n",
       "     function and 'runif' generates random deviates.\n",
       "\n",
       "_\bU_\bs_\ba_\bg_\be:\n",
       "\n",
       "     dunif(x, min = 0, max = 1, log = FALSE)\n",
       "     punif(q, min = 0, max = 1, lower.tail = TRUE, log.p = FALSE)\n",
       "     qunif(p, min = 0, max = 1, lower.tail = TRUE, log.p = FALSE)\n",
       "     runif(n, min = 0, max = 1)\n",
       "     \n",
       "_\bA_\br_\bg_\bu_\bm_\be_\bn_\bt_\bs:\n",
       "\n",
       "    x, q: vector of quantiles.\n",
       "\n",
       "       p: vector of probabilities.\n",
       "\n",
       "       n: number of observations. If 'length(n) > 1', the length is\n",
       "          taken to be the number required.\n",
       "\n",
       "min, max: lower and upper limits of the distribution.  Must be finite.\n",
       "\n",
       "log, log.p: logical; if TRUE, probabilities p are given as log(p).\n",
       "\n",
       "lower.tail: logical; if TRUE (default), probabilities are P[X <= x],\n",
       "          otherwise, P[X > x].\n",
       "\n",
       "_\bD_\be_\bt_\ba_\bi_\bl_\bs:\n",
       "\n",
       "     If 'min' or 'max' are not specified they assume the default values\n",
       "     of '0' and '1' respectively.\n",
       "\n",
       "     The uniform distribution has density\n",
       "\n",
       "                             f(x) = 1/(max-min)                         \n",
       "     \n",
       "     for min <= x <= max.\n",
       "\n",
       "     For the case of u := min == max, the limit case of X == u is\n",
       "     assumed, although there is no density in that case and 'dunif'\n",
       "     will return 'NaN' (the error condition).\n",
       "\n",
       "     'runif' will not generate either of the extreme values unless 'max\n",
       "     = min' or 'max-min' is small compared to 'min', and in particular\n",
       "     not for the default arguments.\n",
       "\n",
       "_\bV_\ba_\bl_\bu_\be:\n",
       "\n",
       "     'dunif' gives the density, 'punif' gives the distribution\n",
       "     function, 'qunif' gives the quantile function, and 'runif'\n",
       "     generates random deviates.\n",
       "\n",
       "     The length of the result is determined by 'n' for 'runif', and is\n",
       "     the maximum of the lengths of the numerical arguments for the\n",
       "     other functions.\n",
       "\n",
       "     The numerical arguments other than 'n' are recycled to the length\n",
       "     of the result.  Only the first elements of the logical arguments\n",
       "     are used.\n",
       "\n",
       "_\bN_\bo_\bt_\be:\n",
       "\n",
       "     The characteristics of output from pseudo-random number generators\n",
       "     (such as precision and periodicity) vary widely.  See\n",
       "     '.Random.seed' for more information on R's random number\n",
       "     generation algorithms.\n",
       "\n",
       "_\bR_\be_\bf_\be_\br_\be_\bn_\bc_\be_\bs:\n",
       "\n",
       "     Becker, R. A., Chambers, J. M. and Wilks, A. R. (1988) _The New S\n",
       "     Language_.  Wadsworth & Brooks/Cole.\n",
       "\n",
       "_\bS_\be_\be _\bA_\bl_\bs_\bo:\n",
       "\n",
       "     'RNG' about random number generation in R.\n",
       "\n",
       "     Distributions for other standard distributions.\n",
       "\n",
       "_\bE_\bx_\ba_\bm_\bp_\bl_\be_\bs:\n",
       "\n",
       "     u <- runif(20)\n",
       "     \n",
       "     ## The following relations always hold :\n",
       "     punif(u) == u\n",
       "     dunif(u) == 1\n",
       "     \n",
       "     var(runif(10000))  #- ~ = 1/12 = .08333\n",
       "     "
      ]
     },
     "metadata": {},
     "output_type": "display_data"
    }
   ],
   "source": [
    "?runif"
   ]
  },
  {
   "cell_type": "code",
   "execution_count": 3,
   "metadata": {},
   "outputs": [
    {
     "data": {
      "image/png": "[encoded data removed]",
      "text/plain": [
       "Plot with title \"Histogram of x\""
      ]
     },
     "metadata": {
      "image/png": {
       "height": 420,
       "width": 420
      }
     },
     "output_type": "display_data"
    }
   ],
   "source": [
    "x = runif(100,-1,1)\n",
    "x_ord = order(x)\n",
    "hist(x)"
   ]
  },
  {
   "cell_type": "code",
   "execution_count": 4,
   "metadata": {},
   "outputs": [
    {
     "data": {
      "image/png": "[encoded data removed]",
      "text/plain": [
       "plot without title"
      ]
     },
     "metadata": {
      "image/png": {
       "height": 420,
       "width": 420
      }
     },
     "output_type": "display_data"
    }
   ],
   "source": [
    "y = x^2 # f(x) = x^2\n",
    "plot(x,y)"
   ]
  },
  {
   "cell_type": "code",
   "execution_count": 5,
   "metadata": {},
   "outputs": [
    {
     "data": {
      "image/png": "[encoded data removed]",
      "text/plain": [
       "Plot with title \"Histogram of e\""
      ]
     },
     "metadata": {
      "image/png": {
       "height": 420,
       "width": 420
      }
     },
     "output_type": "display_data"
    }
   ],
   "source": [
    "e = rnorm(100,0,1/10)\n",
    "hist(e)"
   ]
  },
  {
   "cell_type": "code",
   "execution_count": 6,
   "metadata": {},
   "outputs": [
    {
     "data": {
      "image/png": "[encoded data removed]",
      "text/plain": [
       "plot without title"
      ]
     },
     "metadata": {
      "image/png": {
       "height": 420,
       "width": 420
      }
     },
     "output_type": "display_data"
    }
   ],
   "source": [
    "y = x^2 + e\n",
    "plot(x,y)"
   ]
  },
  {
   "cell_type": "markdown",
   "metadata": {},
   "source": [
    "# using linear regression"
   ]
  },
  {
   "cell_type": "code",
   "execution_count": 7,
   "metadata": {},
   "outputs": [
    {
     "data": {
      "text/plain": [
       "\n",
       "Call:\n",
       "lm(formula = y ~ x)\n",
       "\n",
       "Residuals:\n",
       "    Min      1Q  Median      3Q     Max \n",
       "-0.4108 -0.2137 -0.0756  0.1823  0.7424 \n",
       "\n",
       "Coefficients:\n",
       "            Estimate Std. Error t value Pr(>|t|)    \n",
       "(Intercept)  0.30248    0.02849  10.616   <2e-16 ***\n",
       "x           -0.02551    0.05194  -0.491    0.624    \n",
       "---\n",
       "Signif. codes:  0 '***' 0.001 '**' 0.01 '*' 0.05 '.' 0.1 ' ' 1\n",
       "\n",
       "Residual standard error: 0.2849 on 98 degrees of freedom\n",
       "Multiple R-squared:  0.002454,\tAdjusted R-squared:  -0.007725 \n",
       "F-statistic: 0.2411 on 1 and 98 DF,  p-value: 0.6245\n"
      ]
     },
     "metadata": {},
     "output_type": "display_data"
    }
   ],
   "source": [
    "mod = lm(y~x) # y = b0 + b1*x\n",
    "summary(mod)"
   ]
  },
  {
   "cell_type": "code",
   "execution_count": 8,
   "metadata": {},
   "outputs": [
    {
     "data": {
      "text/html": [
       "<style>\n",
       ".list-inline {list-style: none; margin:0; padding: 0}\n",
       ".list-inline>li {display: inline-block}\n",
       ".list-inline>li:not(:last-child)::after {content: \"\\00b7\"; padding: 0 .5ex}\n",
       "</style>\n",
       "<ol class=list-inline><li>100</li><li>2</li></ol>\n"
      ],
      "text/latex": [
       "\\begin{enumerate*}\n",
       "\\item 100\n",
       "\\item 2\n",
       "\\end{enumerate*}\n"
      ],
      "text/markdown": [
       "1. 100\n",
       "2. 2\n",
       "\n",
       "\n"
      ],
      "text/plain": [
       "[1] 100   2"
      ]
     },
     "metadata": {},
     "output_type": "display_data"
    },
    {
     "data": {
      "image/png": "[encoded data removed]",
      "text/plain": [
       "plot without title"
      ]
     },
     "metadata": {
      "image/png": {
       "height": 420,
       "width": 420
      }
     },
     "output_type": "display_data"
    }
   ],
   "source": [
    "plot(x,y)\n",
    "abline(coef(mod),col='red')\n",
    "lines(x[x_ord],x[x_ord]^2,col='blue')\n",
    "dim(model.matrix(mod))"
   ]
  },
  {
   "cell_type": "markdown",
   "metadata": {},
   "source": [
    "# KNN"
   ]
  },
  {
   "cell_type": "code",
   "execution_count": 9,
   "metadata": {},
   "outputs": [
    {
     "data": {
      "text/html": [
       "\n",
       "<table width=\"100%\" summary=\"page for knnreg {caret}\"><tr><td>knnreg {caret}</td><td style=\"text-align: right;\">R Documentation</td></tr></table>\n",
       "\n",
       "<h2>k-Nearest Neighbour Regression</h2>\n",
       "\n",
       "<h3>Description</h3>\n",
       "\n",
       "<p>$k$-nearest neighbour regression that can return the average value for the\n",
       "neighbours.\n",
       "</p>\n",
       "\n",
       "\n",
       "<h3>Usage</h3>\n",
       "\n",
       "<pre>\n",
       "knnreg(x, ...)\n",
       "\n",
       "## Default S3 method:\n",
       "knnreg(x, ...)\n",
       "\n",
       "## S3 method for class 'formula'\n",
       "knnreg(formula, data, subset, na.action, k = 5, ...)\n",
       "\n",
       "## S3 method for class 'matrix'\n",
       "knnreg(x, y, k = 5, ...)\n",
       "\n",
       "## S3 method for class 'data.frame'\n",
       "knnreg(x, y, k = 5, ...)\n",
       "\n",
       "## S3 method for class 'knnreg'\n",
       "print(x, ...)\n",
       "\n",
       "knnregTrain(train, test, y, k = 5, use.all = TRUE)\n",
       "</pre>\n",
       "\n",
       "\n",
       "<h3>Arguments</h3>\n",
       "\n",
       "<table summary=\"R argblock\">\n",
       "<tr valign=\"top\"><td><code>x</code></td>\n",
       "<td>\n",
       "<p>a matrix or data frame of training set predictors.</p>\n",
       "</td></tr>\n",
       "<tr valign=\"top\"><td><code>...</code></td>\n",
       "<td>\n",
       "<p>additional parameters to pass to <code>knnregTrain</code>.</p>\n",
       "</td></tr>\n",
       "<tr valign=\"top\"><td><code>formula</code></td>\n",
       "<td>\n",
       "<p>a formula of the form <code>lhs ~ rhs</code> where <code>lhs</code> is\n",
       "the response variable and <code>rhs</code> a set of predictors.</p>\n",
       "</td></tr>\n",
       "<tr valign=\"top\"><td><code>data</code></td>\n",
       "<td>\n",
       "<p>optional data frame containing the variables in the model\n",
       "formula.</p>\n",
       "</td></tr>\n",
       "<tr valign=\"top\"><td><code>subset</code></td>\n",
       "<td>\n",
       "<p>optional vector specifying a subset of observations to be\n",
       "used.</p>\n",
       "</td></tr>\n",
       "<tr valign=\"top\"><td><code>na.action</code></td>\n",
       "<td>\n",
       "<p>function which indicates what should happen when the data\n",
       "contain <code>NA</code>s.</p>\n",
       "</td></tr>\n",
       "<tr valign=\"top\"><td><code>k</code></td>\n",
       "<td>\n",
       "<p>number of neighbours considered.</p>\n",
       "</td></tr>\n",
       "<tr valign=\"top\"><td><code>y</code></td>\n",
       "<td>\n",
       "<p>a numeric vector of outcomes.</p>\n",
       "</td></tr>\n",
       "<tr valign=\"top\"><td><code>train</code></td>\n",
       "<td>\n",
       "<p>matrix or data frame of training set cases.</p>\n",
       "</td></tr>\n",
       "<tr valign=\"top\"><td><code>test</code></td>\n",
       "<td>\n",
       "<p>matrix or data frame of test set cases. A vector will be\n",
       "interpreted as a row vector for a single case.</p>\n",
       "</td></tr>\n",
       "<tr valign=\"top\"><td><code>use.all</code></td>\n",
       "<td>\n",
       "<p>controls handling of ties. If true, all distances equal to\n",
       "the <code>k</code>th largest are included. If false, a random selection of\n",
       "distances equal to the <code>k</code>th is chosen to use exactly <code>k</code>\n",
       "neighbours.</p>\n",
       "</td></tr>\n",
       "</table>\n",
       "\n",
       "\n",
       "<h3>Details</h3>\n",
       "\n",
       "<p><code>knnreg</code> is similar to <code>ipredknn</code> and\n",
       "<code>knnregTrain</code> is a modification of <code>knn</code>. The\n",
       "underlying C code from the <code>class</code> package has been modified to return\n",
       "average outcome.\n",
       "</p>\n",
       "\n",
       "\n",
       "<h3>Value</h3>\n",
       "\n",
       "<p>An object of class <code>knnreg</code>. See <code>predict.knnreg</code>.\n",
       "</p>\n",
       "\n",
       "\n",
       "<h3>Author(s)</h3>\n",
       "\n",
       "<p><code>knn</code> by W. N. Venables and B. D. Ripley and\n",
       "<code>ipredknn</code> by Torsten.Hothorn\n",
       "&lt;Torsten.Hothorn@rzmail.uni-erlangen.de&gt;, modifications by Max Kuhn and\n",
       "Chris Keefer\n",
       "</p>\n",
       "\n",
       "\n",
       "<h3>Examples</h3>\n",
       "\n",
       "<pre>\n",
       "\n",
       "data(BloodBrain)\n",
       "\n",
       "inTrain &lt;- createDataPartition(logBBB, p = .8)[[1]]\n",
       "\n",
       "trainX &lt;- bbbDescr[inTrain,]\n",
       "trainY &lt;- logBBB[inTrain]\n",
       "\n",
       "testX &lt;- bbbDescr[-inTrain,]\n",
       "testY &lt;- logBBB[-inTrain]\n",
       "\n",
       "fit &lt;- knnreg(trainX, trainY, k = 3)\n",
       "\n",
       "plot(testY, predict(fit, testX))\n",
       "\n",
       "</pre>\n",
       "\n",
       "<hr /><div style=\"text-align: center;\">[Package <em>caret</em> version 6.0-86 ]</div>"
      ],
      "text/latex": [
       "\\inputencoding{utf8}\n",
       "\\HeaderA{knnreg}{k-Nearest Neighbour Regression}{knnreg}\n",
       "\\methaliasA{knnreg.data.frame}{knnreg}{knnreg.data.frame}\n",
       "\\methaliasA{knnreg.default}{knnreg}{knnreg.default}\n",
       "\\methaliasA{knnreg.formula}{knnreg}{knnreg.formula}\n",
       "\\methaliasA{knnreg.matrix}{knnreg}{knnreg.matrix}\n",
       "\\aliasA{knnregTrain}{knnreg}{knnregTrain}\n",
       "\\aliasA{print.knnreg}{knnreg}{print.knnreg}\n",
       "\\keyword{multivariate}{knnreg}\n",
       "%\n",
       "\\begin{Description}\\relax\n",
       "\\$k\\$-nearest neighbour regression that can return the average value for the\n",
       "neighbours.\n",
       "\\end{Description}\n",
       "%\n",
       "\\begin{Usage}\n",
       "\\begin{verbatim}\n",
       "knnreg(x, ...)\n",
       "\n",
       "## Default S3 method:\n",
       "knnreg(x, ...)\n",
       "\n",
       "## S3 method for class 'formula'\n",
       "knnreg(formula, data, subset, na.action, k = 5, ...)\n",
       "\n",
       "## S3 method for class 'matrix'\n",
       "knnreg(x, y, k = 5, ...)\n",
       "\n",
       "## S3 method for class 'data.frame'\n",
       "knnreg(x, y, k = 5, ...)\n",
       "\n",
       "## S3 method for class 'knnreg'\n",
       "print(x, ...)\n",
       "\n",
       "knnregTrain(train, test, y, k = 5, use.all = TRUE)\n",
       "\\end{verbatim}\n",
       "\\end{Usage}\n",
       "%\n",
       "\\begin{Arguments}\n",
       "\\begin{ldescription}\n",
       "\\item[\\code{x}] a matrix or data frame of training set predictors.\n",
       "\n",
       "\\item[\\code{...}] additional parameters to pass to \\code{knnregTrain}.\n",
       "\n",
       "\\item[\\code{formula}] a formula of the form \\code{lhs \\textasciitilde{} rhs} where \\code{lhs} is\n",
       "the response variable and \\code{rhs} a set of predictors.\n",
       "\n",
       "\\item[\\code{data}] optional data frame containing the variables in the model\n",
       "formula.\n",
       "\n",
       "\\item[\\code{subset}] optional vector specifying a subset of observations to be\n",
       "used.\n",
       "\n",
       "\\item[\\code{na.action}] function which indicates what should happen when the data\n",
       "contain \\code{NA}s.\n",
       "\n",
       "\\item[\\code{k}] number of neighbours considered.\n",
       "\n",
       "\\item[\\code{y}] a numeric vector of outcomes.\n",
       "\n",
       "\\item[\\code{train}] matrix or data frame of training set cases.\n",
       "\n",
       "\\item[\\code{test}] matrix or data frame of test set cases. A vector will be\n",
       "interpreted as a row vector for a single case.\n",
       "\n",
       "\\item[\\code{use.all}] controls handling of ties. If true, all distances equal to\n",
       "the \\code{k}th largest are included. If false, a random selection of\n",
       "distances equal to the \\code{k}th is chosen to use exactly \\code{k}\n",
       "neighbours.\n",
       "\\end{ldescription}\n",
       "\\end{Arguments}\n",
       "%\n",
       "\\begin{Details}\\relax\n",
       "\\code{knnreg} is similar to \\code{\\LinkA{ipredknn}{ipredknn}} and\n",
       "\\code{knnregTrain} is a modification of \\code{\\LinkA{knn}{knn}}. The\n",
       "underlying C code from the \\code{class} package has been modified to return\n",
       "average outcome.\n",
       "\\end{Details}\n",
       "%\n",
       "\\begin{Value}\n",
       "An object of class \\code{knnreg}. See \\code{\\LinkA{predict.knnreg}{predict.knnreg}}.\n",
       "\\end{Value}\n",
       "%\n",
       "\\begin{Author}\\relax\n",
       "\\code{\\LinkA{knn}{knn}} by W. N. Venables and B. D. Ripley and\n",
       "\\code{\\LinkA{ipredknn}{ipredknn}} by Torsten.Hothorn\n",
       "<Torsten.Hothorn@rzmail.uni-erlangen.de>, modifications by Max Kuhn and\n",
       "Chris Keefer\n",
       "\\end{Author}\n",
       "%\n",
       "\\begin{Examples}\n",
       "\\begin{ExampleCode}\n",
       "\n",
       "data(BloodBrain)\n",
       "\n",
       "inTrain <- createDataPartition(logBBB, p = .8)[[1]]\n",
       "\n",
       "trainX <- bbbDescr[inTrain,]\n",
       "trainY <- logBBB[inTrain]\n",
       "\n",
       "testX <- bbbDescr[-inTrain,]\n",
       "testY <- logBBB[-inTrain]\n",
       "\n",
       "fit <- knnreg(trainX, trainY, k = 3)\n",
       "\n",
       "plot(testY, predict(fit, testX))\n",
       "\n",
       "\\end{ExampleCode}\n",
       "\\end{Examples}"
      ],
      "text/plain": [
       "knnreg                  package:caret                  R Documentation\n",
       "\n",
       "_\bk-_\bN_\be_\ba_\br_\be_\bs_\bt _\bN_\be_\bi_\bg_\bh_\bb_\bo_\bu_\br _\bR_\be_\bg_\br_\be_\bs_\bs_\bi_\bo_\bn\n",
       "\n",
       "_\bD_\be_\bs_\bc_\br_\bi_\bp_\bt_\bi_\bo_\bn:\n",
       "\n",
       "     $k$-nearest neighbour regression that can return the average value\n",
       "     for the neighbours.\n",
       "\n",
       "_\bU_\bs_\ba_\bg_\be:\n",
       "\n",
       "     knnreg(x, ...)\n",
       "     \n",
       "     ## Default S3 method:\n",
       "     knnreg(x, ...)\n",
       "     \n",
       "     ## S3 method for class 'formula'\n",
       "     knnreg(formula, data, subset, na.action, k = 5, ...)\n",
       "     \n",
       "     ## S3 method for class 'matrix'\n",
       "     knnreg(x, y, k = 5, ...)\n",
       "     \n",
       "     ## S3 method for class 'data.frame'\n",
       "     knnreg(x, y, k = 5, ...)\n",
       "     \n",
       "     ## S3 method for class 'knnreg'\n",
       "     print(x, ...)\n",
       "     \n",
       "     knnregTrain(train, test, y, k = 5, use.all = TRUE)\n",
       "     \n",
       "_\bA_\br_\bg_\bu_\bm_\be_\bn_\bt_\bs:\n",
       "\n",
       "       x: a matrix or data frame of training set predictors.\n",
       "\n",
       "     ...: additional parameters to pass to 'knnregTrain'.\n",
       "\n",
       " formula: a formula of the form 'lhs ~ rhs' where 'lhs' is the response\n",
       "          variable and 'rhs' a set of predictors.\n",
       "\n",
       "    data: optional data frame containing the variables in the model\n",
       "          formula.\n",
       "\n",
       "  subset: optional vector specifying a subset of observations to be\n",
       "          used.\n",
       "\n",
       "na.action: function which indicates what should happen when the data\n",
       "          contain 'NA's.\n",
       "\n",
       "       k: number of neighbours considered.\n",
       "\n",
       "       y: a numeric vector of outcomes.\n",
       "\n",
       "   train: matrix or data frame of training set cases.\n",
       "\n",
       "    test: matrix or data frame of test set cases. A vector will be\n",
       "          interpreted as a row vector for a single case.\n",
       "\n",
       " use.all: controls handling of ties. If true, all distances equal to\n",
       "          the 'k'th largest are included. If false, a random selection\n",
       "          of distances equal to the 'k'th is chosen to use exactly 'k'\n",
       "          neighbours.\n",
       "\n",
       "_\bD_\be_\bt_\ba_\bi_\bl_\bs:\n",
       "\n",
       "     'knnreg' is similar to 'ipredknn' and 'knnregTrain' is a\n",
       "     modification of 'knn'. The underlying C code from the 'class'\n",
       "     package has been modified to return average outcome.\n",
       "\n",
       "_\bV_\ba_\bl_\bu_\be:\n",
       "\n",
       "     An object of class 'knnreg'. See 'predict.knnreg'.\n",
       "\n",
       "_\bA_\bu_\bt_\bh_\bo_\br(_\bs):\n",
       "\n",
       "     'knn' by W. N. Venables and B. D. Ripley and 'ipredknn' by\n",
       "     Torsten.Hothorn <Torsten.Hothorn@rzmail.uni-erlangen.de>,\n",
       "     modifications by Max Kuhn and Chris Keefer\n",
       "\n",
       "_\bE_\bx_\ba_\bm_\bp_\bl_\be_\bs:\n",
       "\n",
       "     data(BloodBrain)\n",
       "     \n",
       "     inTrain <- createDataPartition(logBBB, p = .8)[[1]]\n",
       "     \n",
       "     trainX <- bbbDescr[inTrain,]\n",
       "     trainY <- logBBB[inTrain]\n",
       "     \n",
       "     testX <- bbbDescr[-inTrain,]\n",
       "     testY <- logBBB[-inTrain]\n",
       "     \n",
       "     fit <- knnreg(trainX, trainY, k = 3)\n",
       "     \n",
       "     plot(testY, predict(fit, testX))\n",
       "     "
      ]
     },
     "metadata": {},
     "output_type": "display_data"
    }
   ],
   "source": [
    "?knnreg"
   ]
  },
  {
   "cell_type": "code",
   "execution_count": 10,
   "metadata": {},
   "outputs": [],
   "source": [
    "df = data.frame(x=x,y=y)\n",
    "knn_mod = knnreg(y~.,data=df,k=10)"
   ]
  },
  {
   "cell_type": "code",
   "execution_count": 20,
   "metadata": {},
   "outputs": [],
   "source": [
    "xe = data.frame(x=sort(runif(1000,-1.5,1.5)))"
   ]
  },
  {
   "cell_type": "code",
   "execution_count": 21,
   "metadata": {},
   "outputs": [
    {
     "data": {
      "text/html": [
       "<style>\n",
       ".list-inline {list-style: none; margin:0; padding: 0}\n",
       ".list-inline>li {display: inline-block}\n",
       ".list-inline>li:not(:last-child)::after {content: \"\\00b7\"; padding: 0 .5ex}\n",
       "</style>\n",
       "<ol class=list-inline><li>0.0763981049107568</li><li>0.42485051823422</li><li>0.0599720086361265</li><li>0.72070499433341</li><li>0.747915959166729</li><li>0.0435341684194596</li></ol>\n"
      ],
      "text/latex": [
       "\\begin{enumerate*}\n",
       "\\item 0.0763981049107568\n",
       "\\item 0.42485051823422\n",
       "\\item 0.0599720086361265\n",
       "\\item 0.72070499433341\n",
       "\\item 0.747915959166729\n",
       "\\item 0.0435341684194596\n",
       "\\end{enumerate*}\n"
      ],
      "text/markdown": [
       "1. 0.0763981049107568\n",
       "2. 0.42485051823422\n",
       "3. 0.0599720086361265\n",
       "4. 0.72070499433341\n",
       "5. 0.747915959166729\n",
       "6. 0.0435341684194596\n",
       "\n",
       "\n"
      ],
      "text/plain": [
       "[1] 0.07639810 0.42485052 0.05997201 0.72070499 0.74791596 0.04353417"
      ]
     },
     "metadata": {},
     "output_type": "display_data"
    }
   ],
   "source": [
    "head(sample(predict(knn_mod,xe)))"
   ]
  },
  {
   "cell_type": "code",
   "execution_count": 26,
   "metadata": {},
   "outputs": [
    {
     "data": {
      "image/png": "[encoded data removed]",
      "text/plain": [
       "plot without title"
      ]
     },
     "metadata": {
      "image/png": {
       "height": 420,
       "width": 420
      }
     },
     "output_type": "display_data"
    }
   ],
   "source": [
    "plot(xe$x,predict(knn_mod,xe),col='red',lwd=2,type='l',ylim=c(0,1.5))\n",
    "points(x,y)\n",
    "lines(xe$x,xe$x^2,col='blue',lwd=2)"
   ]
  },
  {
   "cell_type": "markdown",
   "metadata": {},
   "source": [
    "## k = 3"
   ]
  },
  {
   "cell_type": "code",
   "execution_count": 27,
   "metadata": {},
   "outputs": [
    {
     "data": {
      "image/png": "[encoded data removed]",
      "text/plain": [
       "plot without title"
      ]
     },
     "metadata": {
      "image/png": {
       "height": 420,
       "width": 420
      }
     },
     "output_type": "display_data"
    }
   ],
   "source": [
    "knn_mod = knnreg(y~.,data=df,k=3)\n",
    "plot(x,y)\n",
    "lines(xe$x,predict(knn_mod,xe),col='red')\n",
    "lines(xe$x,xe$x^2,col='blue')"
   ]
  },
  {
   "cell_type": "markdown",
   "metadata": {},
   "source": [
    "# k = 1"
   ]
  },
  {
   "cell_type": "code",
   "execution_count": 28,
   "metadata": {},
   "outputs": [
    {
     "data": {
      "image/png": "[encoded data removed]",
      "text/plain": [
       "plot without title"
      ]
     },
     "metadata": {
      "image/png": {
       "height": 420,
       "width": 420
      }
     },
     "output_type": "display_data"
    }
   ],
   "source": [
    "knn_mod = knnreg(y~.,data=df,k=1)\n",
    "plot(x,y)\n",
    "lines(xe$x,predict(knn_mod,xe),col='red')\n",
    "lines(xe$x,xe$x^2,col='blue')"
   ]
  },
  {
   "cell_type": "markdown",
   "metadata": {},
   "source": [
    "# k = 50"
   ]
  },
  {
   "cell_type": "code",
   "execution_count": 29,
   "metadata": {},
   "outputs": [
    {
     "data": {
      "image/png": "[encoded data removed]",
      "text/plain": [
       "plot without title"
      ]
     },
     "metadata": {
      "image/png": {
       "height": 420,
       "width": 420
      }
     },
     "output_type": "display_data"
    }
   ],
   "source": [
    "knn_mod = knnreg(y~.,data=df,k=50)\n",
    "plot(x,y)\n",
    "lines(xe$x,predict(knn_mod,xe),col='red')\n",
    "lines(xe$x,xe$x^2,col='blue')"
   ]
  },
  {
   "cell_type": "markdown",
   "metadata": {},
   "source": [
    "# k = 100"
   ]
  },
  {
   "cell_type": "code",
   "execution_count": 30,
   "metadata": {},
   "outputs": [
    {
     "data": {
      "image/png": "[encoded data removed]",
      "text/plain": [
       "plot without title"
      ]
     },
     "metadata": {
      "image/png": {
       "height": 420,
       "width": 420
      }
     },
     "output_type": "display_data"
    }
   ],
   "source": [
    "knn_mod = knnreg(y~.,data=df,k=100)\n",
    "plot(x,y)\n",
    "lines(xe$x,predict(knn_mod,xe),col='red')\n",
    "lines(xe$x,xe$x^2,col='blue')\n",
    "#abline(h=mean(y),lty=2,col='orange')"
   ]
  },
  {
   "cell_type": "code",
   "execution_count": 31,
   "metadata": {},
   "outputs": [
    {
     "data": {
      "text/html": [
       "0.302556066479179"
      ],
      "text/latex": [
       "0.302556066479179"
      ],
      "text/markdown": [
       "0.302556066479179"
      ],
      "text/plain": [
       "[1] 0.3025561"
      ]
     },
     "metadata": {},
     "output_type": "display_data"
    }
   ],
   "source": [
    "mean(y)"
   ]
  },
  {
   "cell_type": "code",
   "execution_count": 32,
   "metadata": {},
   "outputs": [
    {
     "data": {
      "text/html": [
       "<style>\n",
       ".list-inline {list-style: none; margin:0; padding: 0}\n",
       ".list-inline>li {display: inline-block}\n",
       ".list-inline>li:not(:last-child)::after {content: \"\\00b7\"; padding: 0 .5ex}\n",
       "</style>\n",
       "<ol class=list-inline><li>0.302556066479179</li><li>0.302556066479179</li><li>0.302556066479179</li><li>0.302556066479179</li><li>0.302556066479179</li><li>0.302556066479179</li></ol>\n"
      ],
      "text/latex": [
       "\\begin{enumerate*}\n",
       "\\item 0.302556066479179\n",
       "\\item 0.302556066479179\n",
       "\\item 0.302556066479179\n",
       "\\item 0.302556066479179\n",
       "\\item 0.302556066479179\n",
       "\\item 0.302556066479179\n",
       "\\end{enumerate*}\n"
      ],
      "text/markdown": [
       "1. 0.302556066479179\n",
       "2. 0.302556066479179\n",
       "3. 0.302556066479179\n",
       "4. 0.302556066479179\n",
       "5. 0.302556066479179\n",
       "6. 0.302556066479179\n",
       "\n",
       "\n"
      ],
      "text/plain": [
       "[1] 0.3025561 0.3025561 0.3025561 0.3025561 0.3025561 0.3025561"
      ]
     },
     "metadata": {},
     "output_type": "display_data"
    }
   ],
   "source": [
    "head(predict(knn_mod))"
   ]
  },
  {
   "cell_type": "markdown",
   "metadata": {},
   "source": [
    "# Can do we do this with a linear model?"
   ]
  },
  {
   "cell_type": "code",
   "execution_count": 33,
   "metadata": {},
   "outputs": [
    {
     "data": {
      "image/png": "[encoded data removed]",
      "text/plain": [
       "plot without title"
      ]
     },
     "metadata": {
      "image/png": {
       "height": 420,
       "width": 420
      }
     },
     "output_type": "display_data"
    }
   ],
   "source": [
    "lin_mod = lm(y~I(x^2)) # y = b0+b1x^2\n",
    "plot(x,y)\n",
    "lines(x[x_ord],predict(lin_mod)[x_ord],col='red')\n",
    "lines(x[x_ord],x[x_ord]^2,col='blue')"
   ]
  },
  {
   "cell_type": "code",
   "execution_count": 34,
   "metadata": {},
   "outputs": [
    {
     "data": {
      "text/html": [
       "<style>\n",
       ".list-inline {list-style: none; margin:0; padding: 0}\n",
       ".list-inline>li {display: inline-block}\n",
       ".list-inline>li:not(:last-child)::after {content: \"\\00b7\"; padding: 0 .5ex}\n",
       "</style>\n",
       "<ol class=list-inline><li>100</li><li>3</li></ol>\n"
      ],
      "text/latex": [
       "\\begin{enumerate*}\n",
       "\\item 100\n",
       "\\item 3\n",
       "\\end{enumerate*}\n"
      ],
      "text/markdown": [
       "1. 100\n",
       "2. 3\n",
       "\n",
       "\n"
      ],
      "text/plain": [
       "[1] 100   3"
      ]
     },
     "metadata": {},
     "output_type": "display_data"
    },
    {
     "data": {
      "image/png": "[encoded data removed]",
      "text/plain": [
       "plot without title"
      ]
     },
     "metadata": {
      "image/png": {
       "height": 420,
       "width": 420
      }
     },
     "output_type": "display_data"
    }
   ],
   "source": [
    "lin_mod = lm(y~x+I(x^4)) # y = b0+b1x^2\n",
    "plot(x,y)\n",
    "lines(x[x_ord],predict(lin_mod)[x_ord],col='red')\n",
    "lines(x[x_ord],x[x_ord]^2,col='blue')\n",
    "dim(model.matrix(lin_mod))"
   ]
  },
  {
   "cell_type": "code",
   "execution_count": null,
   "metadata": {},
   "outputs": [],
   "source": []
  }
 ],
 "metadata": {
  "jupytext": {
   "formats": "ipynb,Rmd,R"
  },
  "kernelspec": {
   "display_name": "R",
   "language": "R",
   "name": "ir"
  },
  "language_info": {
   "codemirror_mode": "r",
   "file_extension": ".r",
   "mimetype": "text/x-r-source",
   "name": "R",
   "pygments_lexer": "r",
   "version": "4.2.1"
  }
 },
 "nbformat": 4,
 "nbformat_minor": 4
}
