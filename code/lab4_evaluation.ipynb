{
 "cells": [
  {
   "cell_type": "markdown",
   "metadata": {},
   "source": [
    "# KNN Regression and Evaluation\n"
   ]
  },
  {
   "cell_type": "code",
   "execution_count": 48,
   "metadata": {},
   "outputs": [],
   "source": [
    "library('caret')"
   ]
  },
  {
   "cell_type": "markdown",
   "metadata": {},
   "source": [
    "# simulation"
   ]
  },
  {
   "cell_type": "code",
   "execution_count": 49,
   "metadata": {},
   "outputs": [
    {
     "data": {
      "image/png": "[encoded data removed]",
      "text/plain": [
       "plot without title"
      ]
     },
     "metadata": {
      "image/png": {
       "height": 420,
       "width": 420
      }
     },
     "output_type": "display_data"
    }
   ],
   "source": [
    "x = runif(100,-1,1)\n",
    "y = x^2 # f(x) = x^2\n",
    "e = rnorm(100,0,1/10)\n",
    "y = y + e\n",
    "plot(x,y)"
   ]
  },
  {
   "cell_type": "code",
   "execution_count": 50,
   "metadata": {},
   "outputs": [],
   "source": [
    "df = data.frame(x=x,y=y)"
   ]
  },
  {
   "cell_type": "code",
   "execution_count": 51,
   "metadata": {},
   "outputs": [
    {
     "data": {
      "text/html": [
       "<dl>\n",
       "\t<dt>$Fold1</dt>\n",
       "\t\t<dd><style>\n",
       ".list-inline {list-style: none; margin:0; padding: 0}\n",
       ".list-inline>li {display: inline-block}\n",
       ".list-inline>li:not(:last-child)::after {content: \"\\00b7\"; padding: 0 .5ex}\n",
       "</style>\n",
       "<ol class=list-inline><li>1</li><li>2</li><li>3</li><li>5</li><li>6</li><li>7</li><li>9</li><li>10</li><li>11</li><li>14</li><li>16</li><li>23</li><li>24</li><li>26</li><li>29</li><li>30</li><li>33</li><li>34</li><li>36</li><li>41</li><li>43</li><li>44</li><li>45</li><li>46</li><li>47</li><li>49</li><li>51</li><li>55</li><li>56</li><li>58</li><li>60</li><li>61</li><li>62</li><li>64</li><li>66</li><li>70</li><li>73</li><li>75</li><li>79</li><li>84</li><li>85</li><li>86</li><li>88</li><li>92</li><li>93</li><li>94</li><li>95</li><li>97</li><li>99</li><li>100</li></ol>\n",
       "</dd>\n",
       "\t<dt>$Fold2</dt>\n",
       "\t\t<dd><style>\n",
       ".list-inline {list-style: none; margin:0; padding: 0}\n",
       ".list-inline>li {display: inline-block}\n",
       ".list-inline>li:not(:last-child)::after {content: \"\\00b7\"; padding: 0 .5ex}\n",
       "</style>\n",
       "<ol class=list-inline><li>4</li><li>8</li><li>12</li><li>13</li><li>15</li><li>17</li><li>18</li><li>19</li><li>20</li><li>21</li><li>22</li><li>25</li><li>27</li><li>28</li><li>31</li><li>32</li><li>35</li><li>37</li><li>38</li><li>39</li><li>40</li><li>42</li><li>48</li><li>50</li><li>52</li><li>53</li><li>54</li><li>57</li><li>59</li><li>63</li><li>65</li><li>67</li><li>68</li><li>69</li><li>71</li><li>72</li><li>74</li><li>76</li><li>77</li><li>78</li><li>80</li><li>81</li><li>82</li><li>83</li><li>87</li><li>89</li><li>90</li><li>91</li><li>96</li><li>98</li></ol>\n",
       "</dd>\n",
       "</dl>\n"
      ],
      "text/latex": [
       "\\begin{description}\n",
       "\\item[\\$Fold1] \\begin{enumerate*}\n",
       "\\item 1\n",
       "\\item 2\n",
       "\\item 3\n",
       "\\item 5\n",
       "\\item 6\n",
       "\\item 7\n",
       "\\item 9\n",
       "\\item 10\n",
       "\\item 11\n",
       "\\item 14\n",
       "\\item 16\n",
       "\\item 23\n",
       "\\item 24\n",
       "\\item 26\n",
       "\\item 29\n",
       "\\item 30\n",
       "\\item 33\n",
       "\\item 34\n",
       "\\item 36\n",
       "\\item 41\n",
       "\\item 43\n",
       "\\item 44\n",
       "\\item 45\n",
       "\\item 46\n",
       "\\item 47\n",
       "\\item 49\n",
       "\\item 51\n",
       "\\item 55\n",
       "\\item 56\n",
       "\\item 58\n",
       "\\item 60\n",
       "\\item 61\n",
       "\\item 62\n",
       "\\item 64\n",
       "\\item 66\n",
       "\\item 70\n",
       "\\item 73\n",
       "\\item 75\n",
       "\\item 79\n",
       "\\item 84\n",
       "\\item 85\n",
       "\\item 86\n",
       "\\item 88\n",
       "\\item 92\n",
       "\\item 93\n",
       "\\item 94\n",
       "\\item 95\n",
       "\\item 97\n",
       "\\item 99\n",
       "\\item 100\n",
       "\\end{enumerate*}\n",
       "\n",
       "\\item[\\$Fold2] \\begin{enumerate*}\n",
       "\\item 4\n",
       "\\item 8\n",
       "\\item 12\n",
       "\\item 13\n",
       "\\item 15\n",
       "\\item 17\n",
       "\\item 18\n",
       "\\item 19\n",
       "\\item 20\n",
       "\\item 21\n",
       "\\item 22\n",
       "\\item 25\n",
       "\\item 27\n",
       "\\item 28\n",
       "\\item 31\n",
       "\\item 32\n",
       "\\item 35\n",
       "\\item 37\n",
       "\\item 38\n",
       "\\item 39\n",
       "\\item 40\n",
       "\\item 42\n",
       "\\item 48\n",
       "\\item 50\n",
       "\\item 52\n",
       "\\item 53\n",
       "\\item 54\n",
       "\\item 57\n",
       "\\item 59\n",
       "\\item 63\n",
       "\\item 65\n",
       "\\item 67\n",
       "\\item 68\n",
       "\\item 69\n",
       "\\item 71\n",
       "\\item 72\n",
       "\\item 74\n",
       "\\item 76\n",
       "\\item 77\n",
       "\\item 78\n",
       "\\item 80\n",
       "\\item 81\n",
       "\\item 82\n",
       "\\item 83\n",
       "\\item 87\n",
       "\\item 89\n",
       "\\item 90\n",
       "\\item 91\n",
       "\\item 96\n",
       "\\item 98\n",
       "\\end{enumerate*}\n",
       "\n",
       "\\end{description}\n"
      ],
      "text/markdown": [
       "$Fold1\n",
       ":   1. 1\n",
       "2. 2\n",
       "3. 3\n",
       "4. 5\n",
       "5. 6\n",
       "6. 7\n",
       "7. 9\n",
       "8. 10\n",
       "9. 11\n",
       "10. 14\n",
       "11. 16\n",
       "12. 23\n",
       "13. 24\n",
       "14. 26\n",
       "15. 29\n",
       "16. 30\n",
       "17. 33\n",
       "18. 34\n",
       "19. 36\n",
       "20. 41\n",
       "21. 43\n",
       "22. 44\n",
       "23. 45\n",
       "24. 46\n",
       "25. 47\n",
       "26. 49\n",
       "27. 51\n",
       "28. 55\n",
       "29. 56\n",
       "30. 58\n",
       "31. 60\n",
       "32. 61\n",
       "33. 62\n",
       "34. 64\n",
       "35. 66\n",
       "36. 70\n",
       "37. 73\n",
       "38. 75\n",
       "39. 79\n",
       "40. 84\n",
       "41. 85\n",
       "42. 86\n",
       "43. 88\n",
       "44. 92\n",
       "45. 93\n",
       "46. 94\n",
       "47. 95\n",
       "48. 97\n",
       "49. 99\n",
       "50. 100\n",
       "\n",
       "\n",
       "\n",
       "$Fold2\n",
       ":   1. 4\n",
       "2. 8\n",
       "3. 12\n",
       "4. 13\n",
       "5. 15\n",
       "6. 17\n",
       "7. 18\n",
       "8. 19\n",
       "9. 20\n",
       "10. 21\n",
       "11. 22\n",
       "12. 25\n",
       "13. 27\n",
       "14. 28\n",
       "15. 31\n",
       "16. 32\n",
       "17. 35\n",
       "18. 37\n",
       "19. 38\n",
       "20. 39\n",
       "21. 40\n",
       "22. 42\n",
       "23. 48\n",
       "24. 50\n",
       "25. 52\n",
       "26. 53\n",
       "27. 54\n",
       "28. 57\n",
       "29. 59\n",
       "30. 63\n",
       "31. 65\n",
       "32. 67\n",
       "33. 68\n",
       "34. 69\n",
       "35. 71\n",
       "36. 72\n",
       "37. 74\n",
       "38. 76\n",
       "39. 77\n",
       "40. 78\n",
       "41. 80\n",
       "42. 81\n",
       "43. 82\n",
       "44. 83\n",
       "45. 87\n",
       "46. 89\n",
       "47. 90\n",
       "48. 91\n",
       "49. 96\n",
       "50. 98\n",
       "\n",
       "\n",
       "\n",
       "\n",
       "\n"
      ],
      "text/plain": [
       "$Fold1\n",
       " [1]   1   2   3   5   6   7   9  10  11  14  16  23  24  26  29  30  33  34  36\n",
       "[20]  41  43  44  45  46  47  49  51  55  56  58  60  61  62  64  66  70  73  75\n",
       "[39]  79  84  85  86  88  92  93  94  95  97  99 100\n",
       "\n",
       "$Fold2\n",
       " [1]  4  8 12 13 15 17 18 19 20 21 22 25 27 28 31 32 35 37 38 39 40 42 48 50 52\n",
       "[26] 53 54 57 59 63 65 67 68 69 71 72 74 76 77 78 80 81 82 83 87 89 90 91 96 98\n"
      ]
     },
     "metadata": {},
     "output_type": "display_data"
    }
   ],
   "source": [
    "flds = createFolds(1:nrow(df),k=2)\n",
    "flds"
   ]
  },
  {
   "cell_type": "markdown",
   "metadata": {},
   "source": [
    "# test/train split"
   ]
  },
  {
   "cell_type": "code",
   "execution_count": 52,
   "metadata": {},
   "outputs": [],
   "source": [
    "test_df = df[flds[[1]],]\n",
    "train_df = df[flds[[2]],]"
   ]
  },
  {
   "cell_type": "code",
   "execution_count": 53,
   "metadata": {},
   "outputs": [
    {
     "data": {
      "text/html": [
       "<style>\n",
       ".list-inline {list-style: none; margin:0; padding: 0}\n",
       ".list-inline>li {display: inline-block}\n",
       ".list-inline>li:not(:last-child)::after {content: \"\\00b7\"; padding: 0 .5ex}\n",
       "</style>\n",
       "<ol class=list-inline><li>50</li><li>2</li></ol>\n"
      ],
      "text/latex": [
       "\\begin{enumerate*}\n",
       "\\item 50\n",
       "\\item 2\n",
       "\\end{enumerate*}\n"
      ],
      "text/markdown": [
       "1. 50\n",
       "2. 2\n",
       "\n",
       "\n"
      ],
      "text/plain": [
       "[1] 50  2"
      ]
     },
     "metadata": {},
     "output_type": "display_data"
    },
    {
     "data": {
      "text/html": [
       "<style>\n",
       ".list-inline {list-style: none; margin:0; padding: 0}\n",
       ".list-inline>li {display: inline-block}\n",
       ".list-inline>li:not(:last-child)::after {content: \"\\00b7\"; padding: 0 .5ex}\n",
       "</style>\n",
       "<ol class=list-inline><li>50</li><li>2</li></ol>\n"
      ],
      "text/latex": [
       "\\begin{enumerate*}\n",
       "\\item 50\n",
       "\\item 2\n",
       "\\end{enumerate*}\n"
      ],
      "text/markdown": [
       "1. 50\n",
       "2. 2\n",
       "\n",
       "\n"
      ],
      "text/plain": [
       "[1] 50  2"
      ]
     },
     "metadata": {},
     "output_type": "display_data"
    }
   ],
   "source": [
    "dim(test_df)\n",
    "dim(train_df)"
   ]
  },
  {
   "cell_type": "code",
   "execution_count": 54,
   "metadata": {},
   "outputs": [],
   "source": [
    "# build on the testing data\n",
    "knn_mod = knnreg(y~.,data=train_df,k=5)"
   ]
  },
  {
   "cell_type": "code",
   "execution_count": 55,
   "metadata": {},
   "outputs": [],
   "source": [
    "train_preds = predict(knn_mod,train_df)"
   ]
  },
  {
   "cell_type": "code",
   "execution_count": 56,
   "metadata": {},
   "outputs": [],
   "source": [
    "RMSE_train = sqrt(mean((train_df$y-train_preds)^2))"
   ]
  },
  {
   "cell_type": "code",
   "execution_count": 57,
   "metadata": {},
   "outputs": [
    {
     "data": {
      "text/html": [
       "0.0982052113904987"
      ],
      "text/latex": [
       "0.0982052113904987"
      ],
      "text/markdown": [
       "0.0982052113904987"
      ],
      "text/plain": [
       "[1] 0.09820521"
      ]
     },
     "metadata": {},
     "output_type": "display_data"
    }
   ],
   "source": [
    "RMSE_train"
   ]
  },
  {
   "cell_type": "code",
   "execution_count": 58,
   "metadata": {},
   "outputs": [],
   "source": [
    "test_preds = predict(knn_mod,test_df)"
   ]
  },
  {
   "cell_type": "code",
   "execution_count": 59,
   "metadata": {},
   "outputs": [],
   "source": [
    "RMSE_test = sqrt(mean((test_df$y-test_preds)^2))"
   ]
  },
  {
   "cell_type": "code",
   "execution_count": 60,
   "metadata": {},
   "outputs": [
    {
     "data": {
      "text/html": [
       "0.125108389054311"
      ],
      "text/latex": [
       "0.125108389054311"
      ],
      "text/markdown": [
       "0.125108389054311"
      ],
      "text/plain": [
       "[1] 0.1251084"
      ]
     },
     "metadata": {},
     "output_type": "display_data"
    }
   ],
   "source": [
    "RMSE_test"
   ]
  },
  {
   "cell_type": "code",
   "execution_count": 61,
   "metadata": {},
   "outputs": [
    {
     "data": {
      "image/png": "[encoded data removed]",
      "text/plain": [
       "plot without title"
      ]
     },
     "metadata": {
      "image/png": {
       "height": 420,
       "width": 420
      }
     },
     "output_type": "display_data"
    }
   ],
   "source": [
    "plot(x,y)\n",
    "xe = data.frame(x=sort(runif(1000,-1,1)))\n",
    "lines(xe$x,predict(knn_mod,xe),col='red')\n",
    "lines(xe$x,xe$x^2,col='blue')"
   ]
  },
  {
   "cell_type": "markdown",
   "metadata": {},
   "source": [
    "notice how the training RMSE is typically loweer than the testing RMSE"
   ]
  },
  {
   "cell_type": "markdown",
   "metadata": {},
   "source": [
    "# k fold cross validation"
   ]
  },
  {
   "cell_type": "code",
   "execution_count": 62,
   "metadata": {},
   "outputs": [
    {
     "data": {
      "text/html": [
       "<dl>\n",
       "\t<dt>$Fold1</dt>\n",
       "\t\t<dd><style>\n",
       ".list-inline {list-style: none; margin:0; padding: 0}\n",
       ".list-inline>li {display: inline-block}\n",
       ".list-inline>li:not(:last-child)::after {content: \"\\00b7\"; padding: 0 .5ex}\n",
       "</style>\n",
       "<ol class=list-inline><li>7</li><li>9</li><li>17</li><li>21</li><li>22</li><li>27</li><li>28</li><li>45</li><li>48</li><li>50</li><li>52</li><li>60</li><li>62</li><li>67</li><li>72</li><li>81</li><li>86</li><li>89</li><li>96</li><li>100</li></ol>\n",
       "</dd>\n",
       "\t<dt>$Fold2</dt>\n",
       "\t\t<dd><style>\n",
       ".list-inline {list-style: none; margin:0; padding: 0}\n",
       ".list-inline>li {display: inline-block}\n",
       ".list-inline>li:not(:last-child)::after {content: \"\\00b7\"; padding: 0 .5ex}\n",
       "</style>\n",
       "<ol class=list-inline><li>1</li><li>4</li><li>6</li><li>11</li><li>25</li><li>30</li><li>33</li><li>35</li><li>38</li><li>43</li><li>53</li><li>57</li><li>61</li><li>65</li><li>74</li><li>92</li><li>93</li><li>95</li><li>98</li><li>99</li></ol>\n",
       "</dd>\n",
       "\t<dt>$Fold3</dt>\n",
       "\t\t<dd><style>\n",
       ".list-inline {list-style: none; margin:0; padding: 0}\n",
       ".list-inline>li {display: inline-block}\n",
       ".list-inline>li:not(:last-child)::after {content: \"\\00b7\"; padding: 0 .5ex}\n",
       "</style>\n",
       "<ol class=list-inline><li>3</li><li>10</li><li>15</li><li>20</li><li>23</li><li>26</li><li>31</li><li>42</li><li>44</li><li>49</li><li>56</li><li>66</li><li>69</li><li>71</li><li>75</li><li>76</li><li>79</li><li>80</li><li>88</li><li>97</li></ol>\n",
       "</dd>\n",
       "\t<dt>$Fold4</dt>\n",
       "\t\t<dd><style>\n",
       ".list-inline {list-style: none; margin:0; padding: 0}\n",
       ".list-inline>li {display: inline-block}\n",
       ".list-inline>li:not(:last-child)::after {content: \"\\00b7\"; padding: 0 .5ex}\n",
       "</style>\n",
       "<ol class=list-inline><li>2</li><li>13</li><li>14</li><li>16</li><li>19</li><li>29</li><li>32</li><li>34</li><li>37</li><li>47</li><li>51</li><li>55</li><li>58</li><li>63</li><li>64</li><li>77</li><li>82</li><li>87</li><li>90</li><li>94</li></ol>\n",
       "</dd>\n",
       "\t<dt>$Fold5</dt>\n",
       "\t\t<dd><style>\n",
       ".list-inline {list-style: none; margin:0; padding: 0}\n",
       ".list-inline>li {display: inline-block}\n",
       ".list-inline>li:not(:last-child)::after {content: \"\\00b7\"; padding: 0 .5ex}\n",
       "</style>\n",
       "<ol class=list-inline><li>5</li><li>8</li><li>12</li><li>18</li><li>24</li><li>36</li><li>39</li><li>40</li><li>41</li><li>46</li><li>54</li><li>59</li><li>68</li><li>70</li><li>73</li><li>78</li><li>83</li><li>84</li><li>85</li><li>91</li></ol>\n",
       "</dd>\n",
       "</dl>\n"
      ],
      "text/latex": [
       "\\begin{description}\n",
       "\\item[\\$Fold1] \\begin{enumerate*}\n",
       "\\item 7\n",
       "\\item 9\n",
       "\\item 17\n",
       "\\item 21\n",
       "\\item 22\n",
       "\\item 27\n",
       "\\item 28\n",
       "\\item 45\n",
       "\\item 48\n",
       "\\item 50\n",
       "\\item 52\n",
       "\\item 60\n",
       "\\item 62\n",
       "\\item 67\n",
       "\\item 72\n",
       "\\item 81\n",
       "\\item 86\n",
       "\\item 89\n",
       "\\item 96\n",
       "\\item 100\n",
       "\\end{enumerate*}\n",
       "\n",
       "\\item[\\$Fold2] \\begin{enumerate*}\n",
       "\\item 1\n",
       "\\item 4\n",
       "\\item 6\n",
       "\\item 11\n",
       "\\item 25\n",
       "\\item 30\n",
       "\\item 33\n",
       "\\item 35\n",
       "\\item 38\n",
       "\\item 43\n",
       "\\item 53\n",
       "\\item 57\n",
       "\\item 61\n",
       "\\item 65\n",
       "\\item 74\n",
       "\\item 92\n",
       "\\item 93\n",
       "\\item 95\n",
       "\\item 98\n",
       "\\item 99\n",
       "\\end{enumerate*}\n",
       "\n",
       "\\item[\\$Fold3] \\begin{enumerate*}\n",
       "\\item 3\n",
       "\\item 10\n",
       "\\item 15\n",
       "\\item 20\n",
       "\\item 23\n",
       "\\item 26\n",
       "\\item 31\n",
       "\\item 42\n",
       "\\item 44\n",
       "\\item 49\n",
       "\\item 56\n",
       "\\item 66\n",
       "\\item 69\n",
       "\\item 71\n",
       "\\item 75\n",
       "\\item 76\n",
       "\\item 79\n",
       "\\item 80\n",
       "\\item 88\n",
       "\\item 97\n",
       "\\end{enumerate*}\n",
       "\n",
       "\\item[\\$Fold4] \\begin{enumerate*}\n",
       "\\item 2\n",
       "\\item 13\n",
       "\\item 14\n",
       "\\item 16\n",
       "\\item 19\n",
       "\\item 29\n",
       "\\item 32\n",
       "\\item 34\n",
       "\\item 37\n",
       "\\item 47\n",
       "\\item 51\n",
       "\\item 55\n",
       "\\item 58\n",
       "\\item 63\n",
       "\\item 64\n",
       "\\item 77\n",
       "\\item 82\n",
       "\\item 87\n",
       "\\item 90\n",
       "\\item 94\n",
       "\\end{enumerate*}\n",
       "\n",
       "\\item[\\$Fold5] \\begin{enumerate*}\n",
       "\\item 5\n",
       "\\item 8\n",
       "\\item 12\n",
       "\\item 18\n",
       "\\item 24\n",
       "\\item 36\n",
       "\\item 39\n",
       "\\item 40\n",
       "\\item 41\n",
       "\\item 46\n",
       "\\item 54\n",
       "\\item 59\n",
       "\\item 68\n",
       "\\item 70\n",
       "\\item 73\n",
       "\\item 78\n",
       "\\item 83\n",
       "\\item 84\n",
       "\\item 85\n",
       "\\item 91\n",
       "\\end{enumerate*}\n",
       "\n",
       "\\end{description}\n"
      ],
      "text/markdown": [
       "$Fold1\n",
       ":   1. 7\n",
       "2. 9\n",
       "3. 17\n",
       "4. 21\n",
       "5. 22\n",
       "6. 27\n",
       "7. 28\n",
       "8. 45\n",
       "9. 48\n",
       "10. 50\n",
       "11. 52\n",
       "12. 60\n",
       "13. 62\n",
       "14. 67\n",
       "15. 72\n",
       "16. 81\n",
       "17. 86\n",
       "18. 89\n",
       "19. 96\n",
       "20. 100\n",
       "\n",
       "\n",
       "\n",
       "$Fold2\n",
       ":   1. 1\n",
       "2. 4\n",
       "3. 6\n",
       "4. 11\n",
       "5. 25\n",
       "6. 30\n",
       "7. 33\n",
       "8. 35\n",
       "9. 38\n",
       "10. 43\n",
       "11. 53\n",
       "12. 57\n",
       "13. 61\n",
       "14. 65\n",
       "15. 74\n",
       "16. 92\n",
       "17. 93\n",
       "18. 95\n",
       "19. 98\n",
       "20. 99\n",
       "\n",
       "\n",
       "\n",
       "$Fold3\n",
       ":   1. 3\n",
       "2. 10\n",
       "3. 15\n",
       "4. 20\n",
       "5. 23\n",
       "6. 26\n",
       "7. 31\n",
       "8. 42\n",
       "9. 44\n",
       "10. 49\n",
       "11. 56\n",
       "12. 66\n",
       "13. 69\n",
       "14. 71\n",
       "15. 75\n",
       "16. 76\n",
       "17. 79\n",
       "18. 80\n",
       "19. 88\n",
       "20. 97\n",
       "\n",
       "\n",
       "\n",
       "$Fold4\n",
       ":   1. 2\n",
       "2. 13\n",
       "3. 14\n",
       "4. 16\n",
       "5. 19\n",
       "6. 29\n",
       "7. 32\n",
       "8. 34\n",
       "9. 37\n",
       "10. 47\n",
       "11. 51\n",
       "12. 55\n",
       "13. 58\n",
       "14. 63\n",
       "15. 64\n",
       "16. 77\n",
       "17. 82\n",
       "18. 87\n",
       "19. 90\n",
       "20. 94\n",
       "\n",
       "\n",
       "\n",
       "$Fold5\n",
       ":   1. 5\n",
       "2. 8\n",
       "3. 12\n",
       "4. 18\n",
       "5. 24\n",
       "6. 36\n",
       "7. 39\n",
       "8. 40\n",
       "9. 41\n",
       "10. 46\n",
       "11. 54\n",
       "12. 59\n",
       "13. 68\n",
       "14. 70\n",
       "15. 73\n",
       "16. 78\n",
       "17. 83\n",
       "18. 84\n",
       "19. 85\n",
       "20. 91\n",
       "\n",
       "\n",
       "\n",
       "\n",
       "\n"
      ],
      "text/plain": [
       "$Fold1\n",
       " [1]   7   9  17  21  22  27  28  45  48  50  52  60  62  67  72  81  86  89  96\n",
       "[20] 100\n",
       "\n",
       "$Fold2\n",
       " [1]  1  4  6 11 25 30 33 35 38 43 53 57 61 65 74 92 93 95 98 99\n",
       "\n",
       "$Fold3\n",
       " [1]  3 10 15 20 23 26 31 42 44 49 56 66 69 71 75 76 79 80 88 97\n",
       "\n",
       "$Fold4\n",
       " [1]  2 13 14 16 19 29 32 34 37 47 51 55 58 63 64 77 82 87 90 94\n",
       "\n",
       "$Fold5\n",
       " [1]  5  8 12 18 24 36 39 40 41 46 54 59 68 70 73 78 83 84 85 91\n"
      ]
     },
     "metadata": {},
     "output_type": "display_data"
    }
   ],
   "source": [
    "flds = createFolds(1:nrow(df),k=5)\n",
    "flds"
   ]
  },
  {
   "cell_type": "code",
   "execution_count": 63,
   "metadata": {},
   "outputs": [
    {
     "data": {
      "text/html": [
       "<style>\n",
       ".dl-inline {width: auto; margin:0; padding: 0}\n",
       ".dl-inline>dt, .dl-inline>dd {float: none; width: auto; display: inline-block}\n",
       ".dl-inline>dt::after {content: \":\\0020\"; padding-right: .5ex}\n",
       ".dl-inline>dt:not(:first-of-type) {padding-left: .5ex}\n",
       "</style><dl class=dl-inline><dt>Fold1</dt><dd>20</dd><dt>Fold2</dt><dd>20</dd><dt>Fold3</dt><dd>20</dd><dt>Fold4</dt><dd>20</dd><dt>Fold5</dt><dd>20</dd></dl>\n"
      ],
      "text/latex": [
       "\\begin{description*}\n",
       "\\item[Fold1] 20\n",
       "\\item[Fold2] 20\n",
       "\\item[Fold3] 20\n",
       "\\item[Fold4] 20\n",
       "\\item[Fold5] 20\n",
       "\\end{description*}\n"
      ],
      "text/markdown": [
       "Fold1\n",
       ":   20Fold2\n",
       ":   20Fold3\n",
       ":   20Fold4\n",
       ":   20Fold5\n",
       ":   20\n",
       "\n"
      ],
      "text/plain": [
       "Fold1 Fold2 Fold3 Fold4 Fold5 \n",
       "   20    20    20    20    20 "
      ]
     },
     "metadata": {},
     "output_type": "display_data"
    }
   ],
   "source": [
    "lengths(flds)"
   ]
  },
  {
   "cell_type": "code",
   "execution_count": 64,
   "metadata": {},
   "outputs": [],
   "source": [
    "i = 1\n",
    "test_df = df[flds[[i]],]\n",
    "train_df = df[unlist(flds[-i]),]"
   ]
  },
  {
   "cell_type": "code",
   "execution_count": 65,
   "metadata": {},
   "outputs": [
    {
     "data": {
      "text/html": [
       "<style>\n",
       ".list-inline {list-style: none; margin:0; padding: 0}\n",
       ".list-inline>li {display: inline-block}\n",
       ".list-inline>li:not(:last-child)::after {content: \"\\00b7\"; padding: 0 .5ex}\n",
       "</style>\n",
       "<ol class=list-inline><li>20</li><li>2</li></ol>\n"
      ],
      "text/latex": [
       "\\begin{enumerate*}\n",
       "\\item 20\n",
       "\\item 2\n",
       "\\end{enumerate*}\n"
      ],
      "text/markdown": [
       "1. 20\n",
       "2. 2\n",
       "\n",
       "\n"
      ],
      "text/plain": [
       "[1] 20  2"
      ]
     },
     "metadata": {},
     "output_type": "display_data"
    },
    {
     "data": {
      "text/html": [
       "<style>\n",
       ".list-inline {list-style: none; margin:0; padding: 0}\n",
       ".list-inline>li {display: inline-block}\n",
       ".list-inline>li:not(:last-child)::after {content: \"\\00b7\"; padding: 0 .5ex}\n",
       "</style>\n",
       "<ol class=list-inline><li>80</li><li>2</li></ol>\n"
      ],
      "text/latex": [
       "\\begin{enumerate*}\n",
       "\\item 80\n",
       "\\item 2\n",
       "\\end{enumerate*}\n"
      ],
      "text/markdown": [
       "1. 80\n",
       "2. 2\n",
       "\n",
       "\n"
      ],
      "text/plain": [
       "[1] 80  2"
      ]
     },
     "metadata": {},
     "output_type": "display_data"
    }
   ],
   "source": [
    "dim(test_df)\n",
    "dim(train_df)"
   ]
  },
  {
   "cell_type": "code",
   "execution_count": 66,
   "metadata": {},
   "outputs": [
    {
     "data": {
      "text/html": [
       "0.123815181614477"
      ],
      "text/latex": [
       "0.123815181614477"
      ],
      "text/markdown": [
       "0.123815181614477"
      ],
      "text/plain": [
       "[1] 0.1238152"
      ]
     },
     "metadata": {},
     "output_type": "display_data"
    },
    {
     "data": {
      "text/html": [
       "0.101294069746381"
      ],
      "text/latex": [
       "0.101294069746381"
      ],
      "text/markdown": [
       "0.101294069746381"
      ],
      "text/plain": [
       "[1] 0.1012941"
      ]
     },
     "metadata": {},
     "output_type": "display_data"
    }
   ],
   "source": [
    "knn_mod = knnreg(y~.,data=train_df,k=10)\n",
    "\n",
    "train_preds = predict(knn_mod,train_df)\n",
    "RMSE_train = sqrt(mean((train_df$y-train_preds)^2))\n",
    "\n",
    "test_preds = predict(knn_mod,test_df)\n",
    "RMSE_test = sqrt(mean((test_df$y-test_preds)^2))\n",
    "\n",
    "RMSE_train\n",
    "RMSE_test"
   ]
  },
  {
   "cell_type": "markdown",
   "metadata": {},
   "source": [
    "let's put this in a function"
   ]
  },
  {
   "cell_type": "code",
   "execution_count": 67,
   "metadata": {},
   "outputs": [],
   "source": [
    "tt_split_eval = function(train_idx,test_idx){\n",
    "    test_df = df[test_idx,]\n",
    "    train_df = df[train_idx,]\n",
    "    \n",
    "    knn_mod = knnreg(y~.,data=train_df,k=5)\n",
    "\n",
    "    train_preds = predict(knn_mod,train_df)\n",
    "    RMSE_train = sqrt(mean((train_df$y-train_preds)^2))\n",
    "\n",
    "    test_preds = predict(knn_mod,test_df)\n",
    "    RMSE_test = sqrt(mean((test_df$y-test_preds)^2))\n",
    "\n",
    "    return(data.frame(train=RMSE_train,\n",
    "        test=RMSE_test\n",
    "                ))\n",
    "}"
   ]
  },
  {
   "cell_type": "code",
   "execution_count": 68,
   "metadata": {},
   "outputs": [],
   "source": [
    "flds = createFolds(1:nrow(df),k=10)\n",
    "rmses = lapply(1:length(flds),function(i){\n",
    "    tdf = tt_split_eval(train_idx = unlist(flds[-i]),test_idx = flds[[i]])\n",
    "    tdf$i = i \n",
    "    return(tdf)\n",
    "})"
   ]
  },
  {
   "cell_type": "code",
   "execution_count": 69,
   "metadata": {},
   "outputs": [
    {
     "data": {
      "text/html": [
       "<table class=\"dataframe\">\n",
       "<caption>A data.frame: 1 × 3</caption>\n",
       "<thead>\n",
       "\t<tr><th scope=col>train</th><th scope=col>test</th><th scope=col>i</th></tr>\n",
       "\t<tr><th scope=col>&lt;dbl&gt;</th><th scope=col>&lt;dbl&gt;</th><th scope=col>&lt;int&gt;</th></tr>\n",
       "</thead>\n",
       "<tbody>\n",
       "\t<tr><td>0.0990263</td><td>0.1318991</td><td>1</td></tr>\n",
       "</tbody>\n",
       "</table>\n"
      ],
      "text/latex": [
       "A data.frame: 1 × 3\n",
       "\\begin{tabular}{lll}\n",
       " train & test & i\\\\\n",
       " <dbl> & <dbl> & <int>\\\\\n",
       "\\hline\n",
       "\t 0.0990263 & 0.1318991 & 1\\\\\n",
       "\\end{tabular}\n"
      ],
      "text/markdown": [
       "\n",
       "A data.frame: 1 × 3\n",
       "\n",
       "| train &lt;dbl&gt; | test &lt;dbl&gt; | i &lt;int&gt; |\n",
       "|---|---|---|\n",
       "| 0.0990263 | 0.1318991 | 1 |\n",
       "\n"
      ],
      "text/plain": [
       "  train     test      i\n",
       "1 0.0990263 0.1318991 1"
      ]
     },
     "metadata": {},
     "output_type": "display_data"
    }
   ],
   "source": [
    "rmses[[1]]"
   ]
  },
  {
   "cell_type": "code",
   "execution_count": 70,
   "metadata": {},
   "outputs": [
    {
     "data": {
      "text/html": [
       "<table class=\"dataframe\">\n",
       "<caption>A data.frame: 1 × 3</caption>\n",
       "<thead>\n",
       "\t<tr><th scope=col>train</th><th scope=col>test</th><th scope=col>i</th></tr>\n",
       "\t<tr><th scope=col>&lt;dbl&gt;</th><th scope=col>&lt;dbl&gt;</th><th scope=col>&lt;int&gt;</th></tr>\n",
       "</thead>\n",
       "<tbody>\n",
       "\t<tr><td>0.1046009</td><td>0.06740128</td><td>2</td></tr>\n",
       "</tbody>\n",
       "</table>\n"
      ],
      "text/latex": [
       "A data.frame: 1 × 3\n",
       "\\begin{tabular}{lll}\n",
       " train & test & i\\\\\n",
       " <dbl> & <dbl> & <int>\\\\\n",
       "\\hline\n",
       "\t 0.1046009 & 0.06740128 & 2\\\\\n",
       "\\end{tabular}\n"
      ],
      "text/markdown": [
       "\n",
       "A data.frame: 1 × 3\n",
       "\n",
       "| train &lt;dbl&gt; | test &lt;dbl&gt; | i &lt;int&gt; |\n",
       "|---|---|---|\n",
       "| 0.1046009 | 0.06740128 | 2 |\n",
       "\n"
      ],
      "text/plain": [
       "  train     test       i\n",
       "1 0.1046009 0.06740128 2"
      ]
     },
     "metadata": {},
     "output_type": "display_data"
    }
   ],
   "source": [
    "rmses[[2]]"
   ]
  },
  {
   "cell_type": "code",
   "execution_count": 71,
   "metadata": {},
   "outputs": [],
   "source": [
    "RMSE = Reduce('rbind',rmses)"
   ]
  },
  {
   "cell_type": "code",
   "execution_count": 72,
   "metadata": {},
   "outputs": [
    {
     "data": {
      "text/html": [
       "<table class=\"dataframe\">\n",
       "<caption>A data.frame: 10 × 3</caption>\n",
       "<thead>\n",
       "\t<tr><th scope=col>train</th><th scope=col>test</th><th scope=col>i</th></tr>\n",
       "\t<tr><th scope=col>&lt;dbl&gt;</th><th scope=col>&lt;dbl&gt;</th><th scope=col>&lt;int&gt;</th></tr>\n",
       "</thead>\n",
       "<tbody>\n",
       "\t<tr><td>0.09902630</td><td>0.13189909</td><td> 1</td></tr>\n",
       "\t<tr><td>0.10460087</td><td>0.06740128</td><td> 2</td></tr>\n",
       "\t<tr><td>0.09492243</td><td>0.17345004</td><td> 3</td></tr>\n",
       "\t<tr><td>0.10328117</td><td>0.09268018</td><td> 4</td></tr>\n",
       "\t<tr><td>0.10541600</td><td>0.09086171</td><td> 5</td></tr>\n",
       "\t<tr><td>0.09522706</td><td>0.14935813</td><td> 6</td></tr>\n",
       "\t<tr><td>0.09859184</td><td>0.12656897</td><td> 7</td></tr>\n",
       "\t<tr><td>0.09445275</td><td>0.13987197</td><td> 8</td></tr>\n",
       "\t<tr><td>0.10521049</td><td>0.09195966</td><td> 9</td></tr>\n",
       "\t<tr><td>0.10278493</td><td>0.10077920</td><td>10</td></tr>\n",
       "</tbody>\n",
       "</table>\n"
      ],
      "text/latex": [
       "A data.frame: 10 × 3\n",
       "\\begin{tabular}{lll}\n",
       " train & test & i\\\\\n",
       " <dbl> & <dbl> & <int>\\\\\n",
       "\\hline\n",
       "\t 0.09902630 & 0.13189909 &  1\\\\\n",
       "\t 0.10460087 & 0.06740128 &  2\\\\\n",
       "\t 0.09492243 & 0.17345004 &  3\\\\\n",
       "\t 0.10328117 & 0.09268018 &  4\\\\\n",
       "\t 0.10541600 & 0.09086171 &  5\\\\\n",
       "\t 0.09522706 & 0.14935813 &  6\\\\\n",
       "\t 0.09859184 & 0.12656897 &  7\\\\\n",
       "\t 0.09445275 & 0.13987197 &  8\\\\\n",
       "\t 0.10521049 & 0.09195966 &  9\\\\\n",
       "\t 0.10278493 & 0.10077920 & 10\\\\\n",
       "\\end{tabular}\n"
      ],
      "text/markdown": [
       "\n",
       "A data.frame: 10 × 3\n",
       "\n",
       "| train &lt;dbl&gt; | test &lt;dbl&gt; | i &lt;int&gt; |\n",
       "|---|---|---|\n",
       "| 0.09902630 | 0.13189909 |  1 |\n",
       "| 0.10460087 | 0.06740128 |  2 |\n",
       "| 0.09492243 | 0.17345004 |  3 |\n",
       "| 0.10328117 | 0.09268018 |  4 |\n",
       "| 0.10541600 | 0.09086171 |  5 |\n",
       "| 0.09522706 | 0.14935813 |  6 |\n",
       "| 0.09859184 | 0.12656897 |  7 |\n",
       "| 0.09445275 | 0.13987197 |  8 |\n",
       "| 0.10521049 | 0.09195966 |  9 |\n",
       "| 0.10278493 | 0.10077920 | 10 |\n",
       "\n"
      ],
      "text/plain": [
       "   train      test       i \n",
       "1  0.09902630 0.13189909  1\n",
       "2  0.10460087 0.06740128  2\n",
       "3  0.09492243 0.17345004  3\n",
       "4  0.10328117 0.09268018  4\n",
       "5  0.10541600 0.09086171  5\n",
       "6  0.09522706 0.14935813  6\n",
       "7  0.09859184 0.12656897  7\n",
       "8  0.09445275 0.13987197  8\n",
       "9  0.10521049 0.09195966  9\n",
       "10 0.10278493 0.10077920 10"
      ]
     },
     "metadata": {},
     "output_type": "display_data"
    }
   ],
   "source": [
    "RMSE"
   ]
  },
  {
   "cell_type": "code",
   "execution_count": 73,
   "metadata": {},
   "outputs": [],
   "source": [
    "library('reshape2')"
   ]
  },
  {
   "cell_type": "code",
   "execution_count": 74,
   "metadata": {},
   "outputs": [
    {
     "data": {
      "text/html": [
       "<table class=\"dataframe\">\n",
       "<caption>A data.frame: 20 × 3</caption>\n",
       "<thead>\n",
       "\t<tr><th scope=col>i</th><th scope=col>variable</th><th scope=col>value</th></tr>\n",
       "\t<tr><th scope=col>&lt;int&gt;</th><th scope=col>&lt;fct&gt;</th><th scope=col>&lt;dbl&gt;</th></tr>\n",
       "</thead>\n",
       "<tbody>\n",
       "\t<tr><td> 1</td><td>train</td><td>0.09902630</td></tr>\n",
       "\t<tr><td> 2</td><td>train</td><td>0.10460087</td></tr>\n",
       "\t<tr><td> 3</td><td>train</td><td>0.09492243</td></tr>\n",
       "\t<tr><td> 4</td><td>train</td><td>0.10328117</td></tr>\n",
       "\t<tr><td> 5</td><td>train</td><td>0.10541600</td></tr>\n",
       "\t<tr><td> 6</td><td>train</td><td>0.09522706</td></tr>\n",
       "\t<tr><td> 7</td><td>train</td><td>0.09859184</td></tr>\n",
       "\t<tr><td> 8</td><td>train</td><td>0.09445275</td></tr>\n",
       "\t<tr><td> 9</td><td>train</td><td>0.10521049</td></tr>\n",
       "\t<tr><td>10</td><td>train</td><td>0.10278493</td></tr>\n",
       "\t<tr><td> 1</td><td>test </td><td>0.13189909</td></tr>\n",
       "\t<tr><td> 2</td><td>test </td><td>0.06740128</td></tr>\n",
       "\t<tr><td> 3</td><td>test </td><td>0.17345004</td></tr>\n",
       "\t<tr><td> 4</td><td>test </td><td>0.09268018</td></tr>\n",
       "\t<tr><td> 5</td><td>test </td><td>0.09086171</td></tr>\n",
       "\t<tr><td> 6</td><td>test </td><td>0.14935813</td></tr>\n",
       "\t<tr><td> 7</td><td>test </td><td>0.12656897</td></tr>\n",
       "\t<tr><td> 8</td><td>test </td><td>0.13987197</td></tr>\n",
       "\t<tr><td> 9</td><td>test </td><td>0.09195966</td></tr>\n",
       "\t<tr><td>10</td><td>test </td><td>0.10077920</td></tr>\n",
       "</tbody>\n",
       "</table>\n"
      ],
      "text/latex": [
       "A data.frame: 20 × 3\n",
       "\\begin{tabular}{lll}\n",
       " i & variable & value\\\\\n",
       " <int> & <fct> & <dbl>\\\\\n",
       "\\hline\n",
       "\t  1 & train & 0.09902630\\\\\n",
       "\t  2 & train & 0.10460087\\\\\n",
       "\t  3 & train & 0.09492243\\\\\n",
       "\t  4 & train & 0.10328117\\\\\n",
       "\t  5 & train & 0.10541600\\\\\n",
       "\t  6 & train & 0.09522706\\\\\n",
       "\t  7 & train & 0.09859184\\\\\n",
       "\t  8 & train & 0.09445275\\\\\n",
       "\t  9 & train & 0.10521049\\\\\n",
       "\t 10 & train & 0.10278493\\\\\n",
       "\t  1 & test  & 0.13189909\\\\\n",
       "\t  2 & test  & 0.06740128\\\\\n",
       "\t  3 & test  & 0.17345004\\\\\n",
       "\t  4 & test  & 0.09268018\\\\\n",
       "\t  5 & test  & 0.09086171\\\\\n",
       "\t  6 & test  & 0.14935813\\\\\n",
       "\t  7 & test  & 0.12656897\\\\\n",
       "\t  8 & test  & 0.13987197\\\\\n",
       "\t  9 & test  & 0.09195966\\\\\n",
       "\t 10 & test  & 0.10077920\\\\\n",
       "\\end{tabular}\n"
      ],
      "text/markdown": [
       "\n",
       "A data.frame: 20 × 3\n",
       "\n",
       "| i &lt;int&gt; | variable &lt;fct&gt; | value &lt;dbl&gt; |\n",
       "|---|---|---|\n",
       "|  1 | train | 0.09902630 |\n",
       "|  2 | train | 0.10460087 |\n",
       "|  3 | train | 0.09492243 |\n",
       "|  4 | train | 0.10328117 |\n",
       "|  5 | train | 0.10541600 |\n",
       "|  6 | train | 0.09522706 |\n",
       "|  7 | train | 0.09859184 |\n",
       "|  8 | train | 0.09445275 |\n",
       "|  9 | train | 0.10521049 |\n",
       "| 10 | train | 0.10278493 |\n",
       "|  1 | test  | 0.13189909 |\n",
       "|  2 | test  | 0.06740128 |\n",
       "|  3 | test  | 0.17345004 |\n",
       "|  4 | test  | 0.09268018 |\n",
       "|  5 | test  | 0.09086171 |\n",
       "|  6 | test  | 0.14935813 |\n",
       "|  7 | test  | 0.12656897 |\n",
       "|  8 | test  | 0.13987197 |\n",
       "|  9 | test  | 0.09195966 |\n",
       "| 10 | test  | 0.10077920 |\n",
       "\n"
      ],
      "text/plain": [
       "   i  variable value     \n",
       "1   1 train    0.09902630\n",
       "2   2 train    0.10460087\n",
       "3   3 train    0.09492243\n",
       "4   4 train    0.10328117\n",
       "5   5 train    0.10541600\n",
       "6   6 train    0.09522706\n",
       "7   7 train    0.09859184\n",
       "8   8 train    0.09445275\n",
       "9   9 train    0.10521049\n",
       "10 10 train    0.10278493\n",
       "11  1 test     0.13189909\n",
       "12  2 test     0.06740128\n",
       "13  3 test     0.17345004\n",
       "14  4 test     0.09268018\n",
       "15  5 test     0.09086171\n",
       "16  6 test     0.14935813\n",
       "17  7 test     0.12656897\n",
       "18  8 test     0.13987197\n",
       "19  9 test     0.09195966\n",
       "20 10 test     0.10077920"
      ]
     },
     "metadata": {},
     "output_type": "display_data"
    }
   ],
   "source": [
    "mRMSE = reshape2::melt(RMSE,id.vars='i')\n",
    "mRMSE"
   ]
  },
  {
   "cell_type": "code",
   "execution_count": 75,
   "metadata": {},
   "outputs": [],
   "source": [
    "library('ggplot2')"
   ]
  },
  {
   "cell_type": "code",
   "execution_count": 76,
   "metadata": {},
   "outputs": [
    {
     "data": {
      "image/png": "[encoded data removed]",
      "text/plain": [
       "plot without title"
      ]
     },
     "metadata": {
      "image/png": {
       "height": 420,
       "width": 420
      }
     },
     "output_type": "display_data"
    }
   ],
   "source": [
    "ggplot(data=mRMSE,mapping=aes(x=i,y=value,color=variable))+\n",
    "    geom_point()"
   ]
  },
  {
   "cell_type": "markdown",
   "metadata": {},
   "source": [
    "in total summary we can summarize the RMSEs"
   ]
  },
  {
   "cell_type": "code",
   "execution_count": 77,
   "metadata": {},
   "outputs": [
    {
     "data": {
      "text/html": [
       "0.113674084362767"
      ],
      "text/latex": [
       "0.113674084362767"
      ],
      "text/markdown": [
       "0.113674084362767"
      ],
      "text/plain": [
       "[1] 0.1136741"
      ]
     },
     "metadata": {},
     "output_type": "display_data"
    }
   ],
   "source": [
    "median(RMSE$test)"
   ]
  },
  {
   "cell_type": "markdown",
   "metadata": {},
   "source": [
    "How can we use this to choose a value of $k$ for KNN? Use a train/validate/test 3-way split"
   ]
  },
  {
   "cell_type": "code",
   "execution_count": 78,
   "metadata": {},
   "outputs": [
    {
     "data": {
      "text/html": [
       "<dl>\n",
       "\t<dt>$Fold01</dt>\n",
       "\t\t<dd><style>\n",
       ".list-inline {list-style: none; margin:0; padding: 0}\n",
       ".list-inline>li {display: inline-block}\n",
       ".list-inline>li:not(:last-child)::after {content: \"\\00b7\"; padding: 0 .5ex}\n",
       "</style>\n",
       "<ol class=list-inline><li>2</li><li>7</li><li>12</li><li>42</li><li>50</li><li>54</li><li>57</li><li>77</li><li>83</li><li>95</li></ol>\n",
       "</dd>\n",
       "\t<dt>$Fold02</dt>\n",
       "\t\t<dd><style>\n",
       ".list-inline {list-style: none; margin:0; padding: 0}\n",
       ".list-inline>li {display: inline-block}\n",
       ".list-inline>li:not(:last-child)::after {content: \"\\00b7\"; padding: 0 .5ex}\n",
       "</style>\n",
       "<ol class=list-inline><li>4</li><li>11</li><li>27</li><li>31</li><li>52</li><li>59</li><li>71</li><li>80</li><li>85</li><li>90</li></ol>\n",
       "</dd>\n",
       "\t<dt>$Fold03</dt>\n",
       "\t\t<dd><style>\n",
       ".list-inline {list-style: none; margin:0; padding: 0}\n",
       ".list-inline>li {display: inline-block}\n",
       ".list-inline>li:not(:last-child)::after {content: \"\\00b7\"; padding: 0 .5ex}\n",
       "</style>\n",
       "<ol class=list-inline><li>18</li><li>25</li><li>43</li><li>47</li><li>53</li><li>72</li><li>89</li><li>99</li></ol>\n",
       "</dd>\n",
       "\t<dt>$Fold04</dt>\n",
       "\t\t<dd><style>\n",
       ".list-inline {list-style: none; margin:0; padding: 0}\n",
       ".list-inline>li {display: inline-block}\n",
       ".list-inline>li:not(:last-child)::after {content: \"\\00b7\"; padding: 0 .5ex}\n",
       "</style>\n",
       "<ol class=list-inline><li>8</li><li>19</li><li>21</li><li>35</li><li>40</li><li>48</li><li>56</li><li>58</li><li>76</li><li>88</li><li>97</li></ol>\n",
       "</dd>\n",
       "\t<dt>$Fold05</dt>\n",
       "\t\t<dd><style>\n",
       ".list-inline {list-style: none; margin:0; padding: 0}\n",
       ".list-inline>li {display: inline-block}\n",
       ".list-inline>li:not(:last-child)::after {content: \"\\00b7\"; padding: 0 .5ex}\n",
       "</style>\n",
       "<ol class=list-inline><li>6</li><li>14</li><li>23</li><li>28</li><li>29</li><li>39</li><li>61</li><li>65</li><li>91</li><li>93</li><li>96</li></ol>\n",
       "</dd>\n",
       "\t<dt>$Fold06</dt>\n",
       "\t\t<dd><style>\n",
       ".list-inline {list-style: none; margin:0; padding: 0}\n",
       ".list-inline>li {display: inline-block}\n",
       ".list-inline>li:not(:last-child)::after {content: \"\\00b7\"; padding: 0 .5ex}\n",
       "</style>\n",
       "<ol class=list-inline><li>13</li><li>16</li><li>17</li><li>32</li><li>41</li><li>60</li><li>62</li><li>74</li><li>82</li><li>87</li></ol>\n",
       "</dd>\n",
       "\t<dt>$Fold07</dt>\n",
       "\t\t<dd><style>\n",
       ".list-inline {list-style: none; margin:0; padding: 0}\n",
       ".list-inline>li {display: inline-block}\n",
       ".list-inline>li:not(:last-child)::after {content: \"\\00b7\"; padding: 0 .5ex}\n",
       "</style>\n",
       "<ol class=list-inline><li>5</li><li>9</li><li>37</li><li>38</li><li>46</li><li>55</li><li>66</li><li>70</li><li>78</li><li>81</li></ol>\n",
       "</dd>\n",
       "\t<dt>$Fold08</dt>\n",
       "\t\t<dd><style>\n",
       ".list-inline {list-style: none; margin:0; padding: 0}\n",
       ".list-inline>li {display: inline-block}\n",
       ".list-inline>li:not(:last-child)::after {content: \"\\00b7\"; padding: 0 .5ex}\n",
       "</style>\n",
       "<ol class=list-inline><li>1</li><li>3</li><li>10</li><li>33</li><li>36</li><li>45</li><li>67</li><li>75</li><li>84</li><li>94</li></ol>\n",
       "</dd>\n",
       "\t<dt>$Fold09</dt>\n",
       "\t\t<dd><style>\n",
       ".list-inline {list-style: none; margin:0; padding: 0}\n",
       ".list-inline>li {display: inline-block}\n",
       ".list-inline>li:not(:last-child)::after {content: \"\\00b7\"; padding: 0 .5ex}\n",
       "</style>\n",
       "<ol class=list-inline><li>20</li><li>22</li><li>26</li><li>30</li><li>49</li><li>64</li><li>68</li><li>69</li><li>79</li><li>86</li></ol>\n",
       "</dd>\n",
       "\t<dt>$Fold10</dt>\n",
       "\t\t<dd><style>\n",
       ".list-inline {list-style: none; margin:0; padding: 0}\n",
       ".list-inline>li {display: inline-block}\n",
       ".list-inline>li:not(:last-child)::after {content: \"\\00b7\"; padding: 0 .5ex}\n",
       "</style>\n",
       "<ol class=list-inline><li>15</li><li>24</li><li>34</li><li>44</li><li>51</li><li>63</li><li>73</li><li>92</li><li>98</li><li>100</li></ol>\n",
       "</dd>\n",
       "</dl>\n"
      ],
      "text/latex": [
       "\\begin{description}\n",
       "\\item[\\$Fold01] \\begin{enumerate*}\n",
       "\\item 2\n",
       "\\item 7\n",
       "\\item 12\n",
       "\\item 42\n",
       "\\item 50\n",
       "\\item 54\n",
       "\\item 57\n",
       "\\item 77\n",
       "\\item 83\n",
       "\\item 95\n",
       "\\end{enumerate*}\n",
       "\n",
       "\\item[\\$Fold02] \\begin{enumerate*}\n",
       "\\item 4\n",
       "\\item 11\n",
       "\\item 27\n",
       "\\item 31\n",
       "\\item 52\n",
       "\\item 59\n",
       "\\item 71\n",
       "\\item 80\n",
       "\\item 85\n",
       "\\item 90\n",
       "\\end{enumerate*}\n",
       "\n",
       "\\item[\\$Fold03] \\begin{enumerate*}\n",
       "\\item 18\n",
       "\\item 25\n",
       "\\item 43\n",
       "\\item 47\n",
       "\\item 53\n",
       "\\item 72\n",
       "\\item 89\n",
       "\\item 99\n",
       "\\end{enumerate*}\n",
       "\n",
       "\\item[\\$Fold04] \\begin{enumerate*}\n",
       "\\item 8\n",
       "\\item 19\n",
       "\\item 21\n",
       "\\item 35\n",
       "\\item 40\n",
       "\\item 48\n",
       "\\item 56\n",
       "\\item 58\n",
       "\\item 76\n",
       "\\item 88\n",
       "\\item 97\n",
       "\\end{enumerate*}\n",
       "\n",
       "\\item[\\$Fold05] \\begin{enumerate*}\n",
       "\\item 6\n",
       "\\item 14\n",
       "\\item 23\n",
       "\\item 28\n",
       "\\item 29\n",
       "\\item 39\n",
       "\\item 61\n",
       "\\item 65\n",
       "\\item 91\n",
       "\\item 93\n",
       "\\item 96\n",
       "\\end{enumerate*}\n",
       "\n",
       "\\item[\\$Fold06] \\begin{enumerate*}\n",
       "\\item 13\n",
       "\\item 16\n",
       "\\item 17\n",
       "\\item 32\n",
       "\\item 41\n",
       "\\item 60\n",
       "\\item 62\n",
       "\\item 74\n",
       "\\item 82\n",
       "\\item 87\n",
       "\\end{enumerate*}\n",
       "\n",
       "\\item[\\$Fold07] \\begin{enumerate*}\n",
       "\\item 5\n",
       "\\item 9\n",
       "\\item 37\n",
       "\\item 38\n",
       "\\item 46\n",
       "\\item 55\n",
       "\\item 66\n",
       "\\item 70\n",
       "\\item 78\n",
       "\\item 81\n",
       "\\end{enumerate*}\n",
       "\n",
       "\\item[\\$Fold08] \\begin{enumerate*}\n",
       "\\item 1\n",
       "\\item 3\n",
       "\\item 10\n",
       "\\item 33\n",
       "\\item 36\n",
       "\\item 45\n",
       "\\item 67\n",
       "\\item 75\n",
       "\\item 84\n",
       "\\item 94\n",
       "\\end{enumerate*}\n",
       "\n",
       "\\item[\\$Fold09] \\begin{enumerate*}\n",
       "\\item 20\n",
       "\\item 22\n",
       "\\item 26\n",
       "\\item 30\n",
       "\\item 49\n",
       "\\item 64\n",
       "\\item 68\n",
       "\\item 69\n",
       "\\item 79\n",
       "\\item 86\n",
       "\\end{enumerate*}\n",
       "\n",
       "\\item[\\$Fold10] \\begin{enumerate*}\n",
       "\\item 15\n",
       "\\item 24\n",
       "\\item 34\n",
       "\\item 44\n",
       "\\item 51\n",
       "\\item 63\n",
       "\\item 73\n",
       "\\item 92\n",
       "\\item 98\n",
       "\\item 100\n",
       "\\end{enumerate*}\n",
       "\n",
       "\\end{description}\n"
      ],
      "text/markdown": [
       "$Fold01\n",
       ":   1. 2\n",
       "2. 7\n",
       "3. 12\n",
       "4. 42\n",
       "5. 50\n",
       "6. 54\n",
       "7. 57\n",
       "8. 77\n",
       "9. 83\n",
       "10. 95\n",
       "\n",
       "\n",
       "\n",
       "$Fold02\n",
       ":   1. 4\n",
       "2. 11\n",
       "3. 27\n",
       "4. 31\n",
       "5. 52\n",
       "6. 59\n",
       "7. 71\n",
       "8. 80\n",
       "9. 85\n",
       "10. 90\n",
       "\n",
       "\n",
       "\n",
       "$Fold03\n",
       ":   1. 18\n",
       "2. 25\n",
       "3. 43\n",
       "4. 47\n",
       "5. 53\n",
       "6. 72\n",
       "7. 89\n",
       "8. 99\n",
       "\n",
       "\n",
       "\n",
       "$Fold04\n",
       ":   1. 8\n",
       "2. 19\n",
       "3. 21\n",
       "4. 35\n",
       "5. 40\n",
       "6. 48\n",
       "7. 56\n",
       "8. 58\n",
       "9. 76\n",
       "10. 88\n",
       "11. 97\n",
       "\n",
       "\n",
       "\n",
       "$Fold05\n",
       ":   1. 6\n",
       "2. 14\n",
       "3. 23\n",
       "4. 28\n",
       "5. 29\n",
       "6. 39\n",
       "7. 61\n",
       "8. 65\n",
       "9. 91\n",
       "10. 93\n",
       "11. 96\n",
       "\n",
       "\n",
       "\n",
       "$Fold06\n",
       ":   1. 13\n",
       "2. 16\n",
       "3. 17\n",
       "4. 32\n",
       "5. 41\n",
       "6. 60\n",
       "7. 62\n",
       "8. 74\n",
       "9. 82\n",
       "10. 87\n",
       "\n",
       "\n",
       "\n",
       "$Fold07\n",
       ":   1. 5\n",
       "2. 9\n",
       "3. 37\n",
       "4. 38\n",
       "5. 46\n",
       "6. 55\n",
       "7. 66\n",
       "8. 70\n",
       "9. 78\n",
       "10. 81\n",
       "\n",
       "\n",
       "\n",
       "$Fold08\n",
       ":   1. 1\n",
       "2. 3\n",
       "3. 10\n",
       "4. 33\n",
       "5. 36\n",
       "6. 45\n",
       "7. 67\n",
       "8. 75\n",
       "9. 84\n",
       "10. 94\n",
       "\n",
       "\n",
       "\n",
       "$Fold09\n",
       ":   1. 20\n",
       "2. 22\n",
       "3. 26\n",
       "4. 30\n",
       "5. 49\n",
       "6. 64\n",
       "7. 68\n",
       "8. 69\n",
       "9. 79\n",
       "10. 86\n",
       "\n",
       "\n",
       "\n",
       "$Fold10\n",
       ":   1. 15\n",
       "2. 24\n",
       "3. 34\n",
       "4. 44\n",
       "5. 51\n",
       "6. 63\n",
       "7. 73\n",
       "8. 92\n",
       "9. 98\n",
       "10. 100\n",
       "\n",
       "\n",
       "\n",
       "\n",
       "\n"
      ],
      "text/plain": [
       "$Fold01\n",
       " [1]  2  7 12 42 50 54 57 77 83 95\n",
       "\n",
       "$Fold02\n",
       " [1]  4 11 27 31 52 59 71 80 85 90\n",
       "\n",
       "$Fold03\n",
       "[1] 18 25 43 47 53 72 89 99\n",
       "\n",
       "$Fold04\n",
       " [1]  8 19 21 35 40 48 56 58 76 88 97\n",
       "\n",
       "$Fold05\n",
       " [1]  6 14 23 28 29 39 61 65 91 93 96\n",
       "\n",
       "$Fold06\n",
       " [1] 13 16 17 32 41 60 62 74 82 87\n",
       "\n",
       "$Fold07\n",
       " [1]  5  9 37 38 46 55 66 70 78 81\n",
       "\n",
       "$Fold08\n",
       " [1]  1  3 10 33 36 45 67 75 84 94\n",
       "\n",
       "$Fold09\n",
       " [1] 20 22 26 30 49 64 68 69 79 86\n",
       "\n",
       "$Fold10\n",
       " [1]  15  24  34  44  51  63  73  92  98 100\n"
      ]
     },
     "metadata": {},
     "output_type": "display_data"
    }
   ],
   "source": [
    "flds = createFolds(1:nrow(df),k=10)\n",
    "flds"
   ]
  },
  {
   "cell_type": "code",
   "execution_count": 79,
   "metadata": {},
   "outputs": [],
   "source": [
    "i = 1\n",
    "test_idx = flds[[i]]\n",
    "trainval_idx = unlist(flds[-i])"
   ]
  },
  {
   "cell_type": "code",
   "execution_count": 80,
   "metadata": {},
   "outputs": [],
   "source": [
    "test_df = df[test_idx,]\n",
    "trainval_df = df[trainval_idx,]"
   ]
  },
  {
   "cell_type": "code",
   "execution_count": 81,
   "metadata": {},
   "outputs": [
    {
     "data": {
      "text/html": [
       "<style>\n",
       ".list-inline {list-style: none; margin:0; padding: 0}\n",
       ".list-inline>li {display: inline-block}\n",
       ".list-inline>li:not(:last-child)::after {content: \"\\00b7\"; padding: 0 .5ex}\n",
       "</style>\n",
       "<ol class=list-inline><li>10</li><li>2</li></ol>\n"
      ],
      "text/latex": [
       "\\begin{enumerate*}\n",
       "\\item 10\n",
       "\\item 2\n",
       "\\end{enumerate*}\n"
      ],
      "text/markdown": [
       "1. 10\n",
       "2. 2\n",
       "\n",
       "\n"
      ],
      "text/plain": [
       "[1] 10  2"
      ]
     },
     "metadata": {},
     "output_type": "display_data"
    },
    {
     "data": {
      "text/html": [
       "<style>\n",
       ".list-inline {list-style: none; margin:0; padding: 0}\n",
       ".list-inline>li {display: inline-block}\n",
       ".list-inline>li:not(:last-child)::after {content: \"\\00b7\"; padding: 0 .5ex}\n",
       "</style>\n",
       "<ol class=list-inline><li>90</li><li>2</li></ol>\n"
      ],
      "text/latex": [
       "\\begin{enumerate*}\n",
       "\\item 90\n",
       "\\item 2\n",
       "\\end{enumerate*}\n"
      ],
      "text/markdown": [
       "1. 90\n",
       "2. 2\n",
       "\n",
       "\n"
      ],
      "text/plain": [
       "[1] 90  2"
      ]
     },
     "metadata": {},
     "output_type": "display_data"
    }
   ],
   "source": [
    "dim(test_df)\n",
    "dim(trainval_df)"
   ]
  },
  {
   "cell_type": "code",
   "execution_count": 82,
   "metadata": {},
   "outputs": [
    {
     "data": {
      "text/html": [
       "<dl>\n",
       "\t<dt>$Fold01</dt>\n",
       "\t\t<dd><style>\n",
       ".list-inline {list-style: none; margin:0; padding: 0}\n",
       ".list-inline>li {display: inline-block}\n",
       ".list-inline>li:not(:last-child)::after {content: \"\\00b7\"; padding: 0 .5ex}\n",
       "</style>\n",
       "<ol class=list-inline><li>7</li><li>13</li><li>14</li><li>33</li><li>42</li><li>54</li><li>61</li><li>69</li><li>76</li></ol>\n",
       "</dd>\n",
       "\t<dt>$Fold02</dt>\n",
       "\t\t<dd><style>\n",
       ".list-inline {list-style: none; margin:0; padding: 0}\n",
       ".list-inline>li {display: inline-block}\n",
       ".list-inline>li:not(:last-child)::after {content: \"\\00b7\"; padding: 0 .5ex}\n",
       "</style>\n",
       "<ol class=list-inline><li>15</li><li>22</li><li>23</li><li>28</li><li>45</li><li>55</li><li>63</li><li>68</li><li>90</li></ol>\n",
       "</dd>\n",
       "\t<dt>$Fold03</dt>\n",
       "\t\t<dd><style>\n",
       ".list-inline {list-style: none; margin:0; padding: 0}\n",
       ".list-inline>li {display: inline-block}\n",
       ".list-inline>li:not(:last-child)::after {content: \"\\00b7\"; padding: 0 .5ex}\n",
       "</style>\n",
       "<ol class=list-inline><li>11</li><li>21</li><li>24</li><li>35</li><li>49</li><li>58</li><li>60</li><li>71</li><li>72</li><li>86</li></ol>\n",
       "</dd>\n",
       "\t<dt>$Fold04</dt>\n",
       "\t\t<dd><style>\n",
       ".list-inline {list-style: none; margin:0; padding: 0}\n",
       ".list-inline>li {display: inline-block}\n",
       ".list-inline>li:not(:last-child)::after {content: \"\\00b7\"; padding: 0 .5ex}\n",
       "</style>\n",
       "<ol class=list-inline><li>2</li><li>18</li><li>36</li><li>43</li><li>47</li><li>50</li><li>79</li><li>83</li><li>87</li></ol>\n",
       "</dd>\n",
       "\t<dt>$Fold05</dt>\n",
       "\t\t<dd><style>\n",
       ".list-inline {list-style: none; margin:0; padding: 0}\n",
       ".list-inline>li {display: inline-block}\n",
       ".list-inline>li:not(:last-child)::after {content: \"\\00b7\"; padding: 0 .5ex}\n",
       "</style>\n",
       "<ol class=list-inline><li>3</li><li>9</li><li>16</li><li>41</li><li>44</li><li>46</li><li>52</li><li>56</li><li>74</li><li>75</li></ol>\n",
       "</dd>\n",
       "\t<dt>$Fold06</dt>\n",
       "\t\t<dd><style>\n",
       ".list-inline {list-style: none; margin:0; padding: 0}\n",
       ".list-inline>li {display: inline-block}\n",
       ".list-inline>li:not(:last-child)::after {content: \"\\00b7\"; padding: 0 .5ex}\n",
       "</style>\n",
       "<ol class=list-inline><li>17</li><li>20</li><li>26</li><li>30</li><li>32</li><li>65</li><li>67</li><li>84</li><li>88</li></ol>\n",
       "</dd>\n",
       "\t<dt>$Fold07</dt>\n",
       "\t\t<dd><style>\n",
       ".list-inline {list-style: none; margin:0; padding: 0}\n",
       ".list-inline>li {display: inline-block}\n",
       ".list-inline>li:not(:last-child)::after {content: \"\\00b7\"; padding: 0 .5ex}\n",
       "</style>\n",
       "<ol class=list-inline><li>1</li><li>12</li><li>25</li><li>38</li><li>51</li><li>62</li><li>77</li><li>81</li><li>82</li></ol>\n",
       "</dd>\n",
       "\t<dt>$Fold08</dt>\n",
       "\t\t<dd><style>\n",
       ".list-inline {list-style: none; margin:0; padding: 0}\n",
       ".list-inline>li {display: inline-block}\n",
       ".list-inline>li:not(:last-child)::after {content: \"\\00b7\"; padding: 0 .5ex}\n",
       "</style>\n",
       "<ol class=list-inline><li>5</li><li>10</li><li>27</li><li>39</li><li>40</li><li>57</li><li>59</li><li>70</li><li>89</li></ol>\n",
       "</dd>\n",
       "\t<dt>$Fold09</dt>\n",
       "\t\t<dd><style>\n",
       ".list-inline {list-style: none; margin:0; padding: 0}\n",
       ".list-inline>li {display: inline-block}\n",
       ".list-inline>li:not(:last-child)::after {content: \"\\00b7\"; padding: 0 .5ex}\n",
       "</style>\n",
       "<ol class=list-inline><li>4</li><li>19</li><li>34</li><li>37</li><li>64</li><li>66</li><li>73</li><li>85</li></ol>\n",
       "</dd>\n",
       "\t<dt>$Fold10</dt>\n",
       "\t\t<dd><style>\n",
       ".list-inline {list-style: none; margin:0; padding: 0}\n",
       ".list-inline>li {display: inline-block}\n",
       ".list-inline>li:not(:last-child)::after {content: \"\\00b7\"; padding: 0 .5ex}\n",
       "</style>\n",
       "<ol class=list-inline><li>6</li><li>8</li><li>29</li><li>31</li><li>48</li><li>53</li><li>78</li><li>80</li></ol>\n",
       "</dd>\n",
       "</dl>\n"
      ],
      "text/latex": [
       "\\begin{description}\n",
       "\\item[\\$Fold01] \\begin{enumerate*}\n",
       "\\item 7\n",
       "\\item 13\n",
       "\\item 14\n",
       "\\item 33\n",
       "\\item 42\n",
       "\\item 54\n",
       "\\item 61\n",
       "\\item 69\n",
       "\\item 76\n",
       "\\end{enumerate*}\n",
       "\n",
       "\\item[\\$Fold02] \\begin{enumerate*}\n",
       "\\item 15\n",
       "\\item 22\n",
       "\\item 23\n",
       "\\item 28\n",
       "\\item 45\n",
       "\\item 55\n",
       "\\item 63\n",
       "\\item 68\n",
       "\\item 90\n",
       "\\end{enumerate*}\n",
       "\n",
       "\\item[\\$Fold03] \\begin{enumerate*}\n",
       "\\item 11\n",
       "\\item 21\n",
       "\\item 24\n",
       "\\item 35\n",
       "\\item 49\n",
       "\\item 58\n",
       "\\item 60\n",
       "\\item 71\n",
       "\\item 72\n",
       "\\item 86\n",
       "\\end{enumerate*}\n",
       "\n",
       "\\item[\\$Fold04] \\begin{enumerate*}\n",
       "\\item 2\n",
       "\\item 18\n",
       "\\item 36\n",
       "\\item 43\n",
       "\\item 47\n",
       "\\item 50\n",
       "\\item 79\n",
       "\\item 83\n",
       "\\item 87\n",
       "\\end{enumerate*}\n",
       "\n",
       "\\item[\\$Fold05] \\begin{enumerate*}\n",
       "\\item 3\n",
       "\\item 9\n",
       "\\item 16\n",
       "\\item 41\n",
       "\\item 44\n",
       "\\item 46\n",
       "\\item 52\n",
       "\\item 56\n",
       "\\item 74\n",
       "\\item 75\n",
       "\\end{enumerate*}\n",
       "\n",
       "\\item[\\$Fold06] \\begin{enumerate*}\n",
       "\\item 17\n",
       "\\item 20\n",
       "\\item 26\n",
       "\\item 30\n",
       "\\item 32\n",
       "\\item 65\n",
       "\\item 67\n",
       "\\item 84\n",
       "\\item 88\n",
       "\\end{enumerate*}\n",
       "\n",
       "\\item[\\$Fold07] \\begin{enumerate*}\n",
       "\\item 1\n",
       "\\item 12\n",
       "\\item 25\n",
       "\\item 38\n",
       "\\item 51\n",
       "\\item 62\n",
       "\\item 77\n",
       "\\item 81\n",
       "\\item 82\n",
       "\\end{enumerate*}\n",
       "\n",
       "\\item[\\$Fold08] \\begin{enumerate*}\n",
       "\\item 5\n",
       "\\item 10\n",
       "\\item 27\n",
       "\\item 39\n",
       "\\item 40\n",
       "\\item 57\n",
       "\\item 59\n",
       "\\item 70\n",
       "\\item 89\n",
       "\\end{enumerate*}\n",
       "\n",
       "\\item[\\$Fold09] \\begin{enumerate*}\n",
       "\\item 4\n",
       "\\item 19\n",
       "\\item 34\n",
       "\\item 37\n",
       "\\item 64\n",
       "\\item 66\n",
       "\\item 73\n",
       "\\item 85\n",
       "\\end{enumerate*}\n",
       "\n",
       "\\item[\\$Fold10] \\begin{enumerate*}\n",
       "\\item 6\n",
       "\\item 8\n",
       "\\item 29\n",
       "\\item 31\n",
       "\\item 48\n",
       "\\item 53\n",
       "\\item 78\n",
       "\\item 80\n",
       "\\end{enumerate*}\n",
       "\n",
       "\\end{description}\n"
      ],
      "text/markdown": [
       "$Fold01\n",
       ":   1. 7\n",
       "2. 13\n",
       "3. 14\n",
       "4. 33\n",
       "5. 42\n",
       "6. 54\n",
       "7. 61\n",
       "8. 69\n",
       "9. 76\n",
       "\n",
       "\n",
       "\n",
       "$Fold02\n",
       ":   1. 15\n",
       "2. 22\n",
       "3. 23\n",
       "4. 28\n",
       "5. 45\n",
       "6. 55\n",
       "7. 63\n",
       "8. 68\n",
       "9. 90\n",
       "\n",
       "\n",
       "\n",
       "$Fold03\n",
       ":   1. 11\n",
       "2. 21\n",
       "3. 24\n",
       "4. 35\n",
       "5. 49\n",
       "6. 58\n",
       "7. 60\n",
       "8. 71\n",
       "9. 72\n",
       "10. 86\n",
       "\n",
       "\n",
       "\n",
       "$Fold04\n",
       ":   1. 2\n",
       "2. 18\n",
       "3. 36\n",
       "4. 43\n",
       "5. 47\n",
       "6. 50\n",
       "7. 79\n",
       "8. 83\n",
       "9. 87\n",
       "\n",
       "\n",
       "\n",
       "$Fold05\n",
       ":   1. 3\n",
       "2. 9\n",
       "3. 16\n",
       "4. 41\n",
       "5. 44\n",
       "6. 46\n",
       "7. 52\n",
       "8. 56\n",
       "9. 74\n",
       "10. 75\n",
       "\n",
       "\n",
       "\n",
       "$Fold06\n",
       ":   1. 17\n",
       "2. 20\n",
       "3. 26\n",
       "4. 30\n",
       "5. 32\n",
       "6. 65\n",
       "7. 67\n",
       "8. 84\n",
       "9. 88\n",
       "\n",
       "\n",
       "\n",
       "$Fold07\n",
       ":   1. 1\n",
       "2. 12\n",
       "3. 25\n",
       "4. 38\n",
       "5. 51\n",
       "6. 62\n",
       "7. 77\n",
       "8. 81\n",
       "9. 82\n",
       "\n",
       "\n",
       "\n",
       "$Fold08\n",
       ":   1. 5\n",
       "2. 10\n",
       "3. 27\n",
       "4. 39\n",
       "5. 40\n",
       "6. 57\n",
       "7. 59\n",
       "8. 70\n",
       "9. 89\n",
       "\n",
       "\n",
       "\n",
       "$Fold09\n",
       ":   1. 4\n",
       "2. 19\n",
       "3. 34\n",
       "4. 37\n",
       "5. 64\n",
       "6. 66\n",
       "7. 73\n",
       "8. 85\n",
       "\n",
       "\n",
       "\n",
       "$Fold10\n",
       ":   1. 6\n",
       "2. 8\n",
       "3. 29\n",
       "4. 31\n",
       "5. 48\n",
       "6. 53\n",
       "7. 78\n",
       "8. 80\n",
       "\n",
       "\n",
       "\n",
       "\n",
       "\n"
      ],
      "text/plain": [
       "$Fold01\n",
       "[1]  7 13 14 33 42 54 61 69 76\n",
       "\n",
       "$Fold02\n",
       "[1] 15 22 23 28 45 55 63 68 90\n",
       "\n",
       "$Fold03\n",
       " [1] 11 21 24 35 49 58 60 71 72 86\n",
       "\n",
       "$Fold04\n",
       "[1]  2 18 36 43 47 50 79 83 87\n",
       "\n",
       "$Fold05\n",
       " [1]  3  9 16 41 44 46 52 56 74 75\n",
       "\n",
       "$Fold06\n",
       "[1] 17 20 26 30 32 65 67 84 88\n",
       "\n",
       "$Fold07\n",
       "[1]  1 12 25 38 51 62 77 81 82\n",
       "\n",
       "$Fold08\n",
       "[1]  5 10 27 39 40 57 59 70 89\n",
       "\n",
       "$Fold09\n",
       "[1]  4 19 34 37 64 66 73 85\n",
       "\n",
       "$Fold10\n",
       "[1]  6  8 29 31 48 53 78 80\n"
      ]
     },
     "metadata": {},
     "output_type": "display_data"
    }
   ],
   "source": [
    "tv_flds = createFolds(1:nrow(trainval_df),k=10)\n",
    "tv_flds"
   ]
  },
  {
   "cell_type": "code",
   "execution_count": 83,
   "metadata": {},
   "outputs": [],
   "source": [
    "j=1\n",
    "val_idx = tv_flds[[j]]\n",
    "train_idx = unlist(tv_flds[-j])"
   ]
  },
  {
   "cell_type": "code",
   "execution_count": 84,
   "metadata": {},
   "outputs": [],
   "source": [
    "train_df = trainval_df[train_idx,]\n",
    "val_df = trainval_df[val_idx,]"
   ]
  },
  {
   "cell_type": "code",
   "execution_count": 85,
   "metadata": {},
   "outputs": [
    {
     "data": {
      "text/html": [
       "<style>\n",
       ".list-inline {list-style: none; margin:0; padding: 0}\n",
       ".list-inline>li {display: inline-block}\n",
       ".list-inline>li:not(:last-child)::after {content: \"\\00b7\"; padding: 0 .5ex}\n",
       "</style>\n",
       "<ol class=list-inline><li>81</li><li>2</li></ol>\n"
      ],
      "text/latex": [
       "\\begin{enumerate*}\n",
       "\\item 81\n",
       "\\item 2\n",
       "\\end{enumerate*}\n"
      ],
      "text/markdown": [
       "1. 81\n",
       "2. 2\n",
       "\n",
       "\n"
      ],
      "text/plain": [
       "[1] 81  2"
      ]
     },
     "metadata": {},
     "output_type": "display_data"
    },
    {
     "data": {
      "text/html": [
       "<style>\n",
       ".list-inline {list-style: none; margin:0; padding: 0}\n",
       ".list-inline>li {display: inline-block}\n",
       ".list-inline>li:not(:last-child)::after {content: \"\\00b7\"; padding: 0 .5ex}\n",
       "</style>\n",
       "<ol class=list-inline><li>9</li><li>2</li></ol>\n"
      ],
      "text/latex": [
       "\\begin{enumerate*}\n",
       "\\item 9\n",
       "\\item 2\n",
       "\\end{enumerate*}\n"
      ],
      "text/markdown": [
       "1. 9\n",
       "2. 2\n",
       "\n",
       "\n"
      ],
      "text/plain": [
       "[1] 9 2"
      ]
     },
     "metadata": {},
     "output_type": "display_data"
    }
   ],
   "source": [
    "dim(train_df)\n",
    "dim(val_df)"
   ]
  },
  {
   "cell_type": "code",
   "execution_count": 86,
   "metadata": {},
   "outputs": [],
   "source": [
    "tt_split_eval_k = function(train_idx,val_idx,k=1){\n",
    "    train_df = trainval_df[train_idx,]\n",
    "    val_df = trainval_df[val_idx,]\n",
    "    \n",
    "    knn_mod = knnreg(y~.,data=train_df,k=k)\n",
    "\n",
    "    train_preds = predict(knn_mod,train_df)\n",
    "    RMSE_train = sqrt(mean((train_df$y-train_preds)^2))\n",
    "\n",
    "    val_preds = predict(knn_mod,val_df)\n",
    "    RMSE_val = sqrt(mean((val_df$y-val_preds)^2))\n",
    "\n",
    "    return(data.frame(train=RMSE_train,\n",
    "        val=RMSE_val\n",
    "                ))\n",
    "}"
   ]
  },
  {
   "cell_type": "code",
   "execution_count": 87,
   "metadata": {},
   "outputs": [
    {
     "data": {
      "text/html": [
       "<table class=\"dataframe\">\n",
       "<caption>A data.frame: 1 × 2</caption>\n",
       "<thead>\n",
       "\t<tr><th scope=col>train</th><th scope=col>val</th></tr>\n",
       "\t<tr><th scope=col>&lt;dbl&gt;</th><th scope=col>&lt;dbl&gt;</th></tr>\n",
       "</thead>\n",
       "<tbody>\n",
       "\t<tr><td>0.1065262</td><td>0.1121581</td></tr>\n",
       "</tbody>\n",
       "</table>\n"
      ],
      "text/latex": [
       "A data.frame: 1 × 2\n",
       "\\begin{tabular}{ll}\n",
       " train & val\\\\\n",
       " <dbl> & <dbl>\\\\\n",
       "\\hline\n",
       "\t 0.1065262 & 0.1121581\\\\\n",
       "\\end{tabular}\n"
      ],
      "text/markdown": [
       "\n",
       "A data.frame: 1 × 2\n",
       "\n",
       "| train &lt;dbl&gt; | val &lt;dbl&gt; |\n",
       "|---|---|\n",
       "| 0.1065262 | 0.1121581 |\n",
       "\n"
      ],
      "text/plain": [
       "  train     val      \n",
       "1 0.1065262 0.1121581"
      ]
     },
     "metadata": {},
     "output_type": "display_data"
    }
   ],
   "source": [
    "tt_split_eval_k(train_idx,val_idx,k=5)"
   ]
  },
  {
   "cell_type": "code",
   "execution_count": 88,
   "metadata": {},
   "outputs": [
    {
     "data": {
      "text/html": [
       "<table class=\"dataframe\">\n",
       "<caption>A data.frame: 1 × 2</caption>\n",
       "<thead>\n",
       "\t<tr><th scope=col>train</th><th scope=col>val</th></tr>\n",
       "\t<tr><th scope=col>&lt;dbl&gt;</th><th scope=col>&lt;dbl&gt;</th></tr>\n",
       "</thead>\n",
       "<tbody>\n",
       "\t<tr><td>0.1258494</td><td>0.09423646</td></tr>\n",
       "</tbody>\n",
       "</table>\n"
      ],
      "text/latex": [
       "A data.frame: 1 × 2\n",
       "\\begin{tabular}{ll}\n",
       " train & val\\\\\n",
       " <dbl> & <dbl>\\\\\n",
       "\\hline\n",
       "\t 0.1258494 & 0.09423646\\\\\n",
       "\\end{tabular}\n"
      ],
      "text/markdown": [
       "\n",
       "A data.frame: 1 × 2\n",
       "\n",
       "| train &lt;dbl&gt; | val &lt;dbl&gt; |\n",
       "|---|---|\n",
       "| 0.1258494 | 0.09423646 |\n",
       "\n"
      ],
      "text/plain": [
       "  train     val       \n",
       "1 0.1258494 0.09423646"
      ]
     },
     "metadata": {},
     "output_type": "display_data"
    }
   ],
   "source": [
    "tt_split_eval_k(train_idx,val_idx,k=10)"
   ]
  },
  {
   "cell_type": "code",
   "execution_count": 89,
   "metadata": {},
   "outputs": [
    {
     "data": {
      "text/html": [
       "<table class=\"dataframe\">\n",
       "<caption>A data.frame: 6 × 3</caption>\n",
       "<thead>\n",
       "\t<tr><th></th><th scope=col>train</th><th scope=col>val</th><th scope=col>k</th></tr>\n",
       "\t<tr><th></th><th scope=col>&lt;dbl&gt;</th><th scope=col>&lt;dbl&gt;</th><th scope=col>&lt;int&gt;</th></tr>\n",
       "</thead>\n",
       "<tbody>\n",
       "\t<tr><th scope=row>1</th><td>0.00000000</td><td>0.14541690</td><td>1</td></tr>\n",
       "\t<tr><th scope=row>2</th><td>0.08982306</td><td>0.11695696</td><td>2</td></tr>\n",
       "\t<tr><th scope=row>3</th><td>0.09660617</td><td>0.13862874</td><td>3</td></tr>\n",
       "\t<tr><th scope=row>4</th><td>0.10131723</td><td>0.13837341</td><td>4</td></tr>\n",
       "\t<tr><th scope=row>5</th><td>0.10652617</td><td>0.11215809</td><td>5</td></tr>\n",
       "\t<tr><th scope=row>6</th><td>0.10915265</td><td>0.09986752</td><td>6</td></tr>\n",
       "</tbody>\n",
       "</table>\n"
      ],
      "text/latex": [
       "A data.frame: 6 × 3\n",
       "\\begin{tabular}{r|lll}\n",
       "  & train & val & k\\\\\n",
       "  & <dbl> & <dbl> & <int>\\\\\n",
       "\\hline\n",
       "\t1 & 0.00000000 & 0.14541690 & 1\\\\\n",
       "\t2 & 0.08982306 & 0.11695696 & 2\\\\\n",
       "\t3 & 0.09660617 & 0.13862874 & 3\\\\\n",
       "\t4 & 0.10131723 & 0.13837341 & 4\\\\\n",
       "\t5 & 0.10652617 & 0.11215809 & 5\\\\\n",
       "\t6 & 0.10915265 & 0.09986752 & 6\\\\\n",
       "\\end{tabular}\n"
      ],
      "text/markdown": [
       "\n",
       "A data.frame: 6 × 3\n",
       "\n",
       "| <!--/--> | train &lt;dbl&gt; | val &lt;dbl&gt; | k &lt;int&gt; |\n",
       "|---|---|---|---|\n",
       "| 1 | 0.00000000 | 0.14541690 | 1 |\n",
       "| 2 | 0.08982306 | 0.11695696 | 2 |\n",
       "| 3 | 0.09660617 | 0.13862874 | 3 |\n",
       "| 4 | 0.10131723 | 0.13837341 | 4 |\n",
       "| 5 | 0.10652617 | 0.11215809 | 5 |\n",
       "| 6 | 0.10915265 | 0.09986752 | 6 |\n",
       "\n"
      ],
      "text/plain": [
       "  train      val        k\n",
       "1 0.00000000 0.14541690 1\n",
       "2 0.08982306 0.11695696 2\n",
       "3 0.09660617 0.13862874 3\n",
       "4 0.10131723 0.13837341 4\n",
       "5 0.10652617 0.11215809 5\n",
       "6 0.10915265 0.09986752 6"
      ]
     },
     "metadata": {},
     "output_type": "display_data"
    }
   ],
   "source": [
    "RMSE = lapply(1:75,function(k){\n",
    "    tdf = tt_split_eval_k(train_idx,val_idx,k=k)\n",
    "    tdf$k = k\n",
    "    return(tdf)\n",
    "})\n",
    "RMSE = Reduce('rbind',RMSE)\n",
    "head(RMSE)"
   ]
  },
  {
   "cell_type": "code",
   "execution_count": 90,
   "metadata": {},
   "outputs": [
    {
     "data": {
      "text/html": [
       "<table class=\"dataframe\">\n",
       "<caption>A data.frame: 6 × 3</caption>\n",
       "<thead>\n",
       "\t<tr><th></th><th scope=col>k</th><th scope=col>variable</th><th scope=col>value</th></tr>\n",
       "\t<tr><th></th><th scope=col>&lt;int&gt;</th><th scope=col>&lt;fct&gt;</th><th scope=col>&lt;dbl&gt;</th></tr>\n",
       "</thead>\n",
       "<tbody>\n",
       "\t<tr><th scope=row>1</th><td>1</td><td>train</td><td>0.00000000</td></tr>\n",
       "\t<tr><th scope=row>2</th><td>2</td><td>train</td><td>0.08982306</td></tr>\n",
       "\t<tr><th scope=row>3</th><td>3</td><td>train</td><td>0.09660617</td></tr>\n",
       "\t<tr><th scope=row>4</th><td>4</td><td>train</td><td>0.10131723</td></tr>\n",
       "\t<tr><th scope=row>5</th><td>5</td><td>train</td><td>0.10652617</td></tr>\n",
       "\t<tr><th scope=row>6</th><td>6</td><td>train</td><td>0.10915265</td></tr>\n",
       "</tbody>\n",
       "</table>\n"
      ],
      "text/latex": [
       "A data.frame: 6 × 3\n",
       "\\begin{tabular}{r|lll}\n",
       "  & k & variable & value\\\\\n",
       "  & <int> & <fct> & <dbl>\\\\\n",
       "\\hline\n",
       "\t1 & 1 & train & 0.00000000\\\\\n",
       "\t2 & 2 & train & 0.08982306\\\\\n",
       "\t3 & 3 & train & 0.09660617\\\\\n",
       "\t4 & 4 & train & 0.10131723\\\\\n",
       "\t5 & 5 & train & 0.10652617\\\\\n",
       "\t6 & 6 & train & 0.10915265\\\\\n",
       "\\end{tabular}\n"
      ],
      "text/markdown": [
       "\n",
       "A data.frame: 6 × 3\n",
       "\n",
       "| <!--/--> | k &lt;int&gt; | variable &lt;fct&gt; | value &lt;dbl&gt; |\n",
       "|---|---|---|---|\n",
       "| 1 | 1 | train | 0.00000000 |\n",
       "| 2 | 2 | train | 0.08982306 |\n",
       "| 3 | 3 | train | 0.09660617 |\n",
       "| 4 | 4 | train | 0.10131723 |\n",
       "| 5 | 5 | train | 0.10652617 |\n",
       "| 6 | 6 | train | 0.10915265 |\n",
       "\n"
      ],
      "text/plain": [
       "  k variable value     \n",
       "1 1 train    0.00000000\n",
       "2 2 train    0.08982306\n",
       "3 3 train    0.09660617\n",
       "4 4 train    0.10131723\n",
       "5 5 train    0.10652617\n",
       "6 6 train    0.10915265"
      ]
     },
     "metadata": {},
     "output_type": "display_data"
    }
   ],
   "source": [
    "mRMSE = melt(RMSE,id.vars='k')\n",
    "head(mRMSE)"
   ]
  },
  {
   "cell_type": "code",
   "execution_count": 91,
   "metadata": {},
   "outputs": [
    {
     "data": {
      "image/png": "[encoded data removed]",
      "text/plain": [
       "plot without title"
      ]
     },
     "metadata": {
      "image/png": {
       "height": 420,
       "width": 420
      }
     },
     "output_type": "display_data"
    }
   ],
   "source": [
    "ggplot(data=mRMSE,mapping=aes(x=k,y=value,color=variable))+\n",
    "    geom_point()+\n",
    "    scale_x_sqrt()"
   ]
  },
  {
   "cell_type": "code",
   "execution_count": 46,
   "metadata": {},
   "outputs": [
    {
     "data": {
      "text/html": [
       "15"
      ],
      "text/latex": [
       "15"
      ],
      "text/markdown": [
       "15"
      ],
      "text/plain": [
       "[1] 15"
      ]
     },
     "metadata": {},
     "output_type": "display_data"
    }
   ],
   "source": [
    "which.min(RMSE$val)"
   ]
  },
  {
   "cell_type": "code",
   "execution_count": 47,
   "metadata": {},
   "outputs": [
    {
     "data": {
      "text/html": [
       "<table class=\"dataframe\">\n",
       "<caption>A data.frame: 1 × 3</caption>\n",
       "<thead>\n",
       "\t<tr><th></th><th scope=col>train</th><th scope=col>val</th><th scope=col>k</th></tr>\n",
       "\t<tr><th></th><th scope=col>&lt;dbl&gt;</th><th scope=col>&lt;dbl&gt;</th><th scope=col>&lt;int&gt;</th></tr>\n",
       "</thead>\n",
       "<tbody>\n",
       "\t<tr><th scope=row>15</th><td>0.1068534</td><td>0.04623024</td><td>15</td></tr>\n",
       "</tbody>\n",
       "</table>\n"
      ],
      "text/latex": [
       "A data.frame: 1 × 3\n",
       "\\begin{tabular}{r|lll}\n",
       "  & train & val & k\\\\\n",
       "  & <dbl> & <dbl> & <int>\\\\\n",
       "\\hline\n",
       "\t15 & 0.1068534 & 0.04623024 & 15\\\\\n",
       "\\end{tabular}\n"
      ],
      "text/markdown": [
       "\n",
       "A data.frame: 1 × 3\n",
       "\n",
       "| <!--/--> | train &lt;dbl&gt; | val &lt;dbl&gt; | k &lt;int&gt; |\n",
       "|---|---|---|---|\n",
       "| 15 | 0.1068534 | 0.04623024 | 15 |\n",
       "\n"
      ],
      "text/plain": [
       "   train     val        k \n",
       "15 0.1068534 0.04623024 15"
      ]
     },
     "metadata": {},
     "output_type": "display_data"
    }
   ],
   "source": [
    "min_df = RMSE[which.min(RMSE$val),]\n",
    "min_df"
   ]
  },
  {
   "cell_type": "code",
   "execution_count": 92,
   "metadata": {},
   "outputs": [],
   "source": [
    "knn_mod = knnreg(y~.,data=trainval_df,k=min_df$k)"
   ]
  },
  {
   "cell_type": "code",
   "execution_count": 93,
   "metadata": {},
   "outputs": [
    {
     "data": {
      "text/html": [
       "0.163399704506816"
      ],
      "text/latex": [
       "0.163399704506816"
      ],
      "text/markdown": [
       "0.163399704506816"
      ],
      "text/plain": [
       "[1] 0.1633997"
      ]
     },
     "metadata": {},
     "output_type": "display_data"
    }
   ],
   "source": [
    "test_preds = predict(knn_mod,test_df)\n",
    "RMSE_val = sqrt(mean((test_df$y-test_preds)^2))\n",
    "RMSE_val"
   ]
  },
  {
   "cell_type": "markdown",
   "metadata": {},
   "source": [
    "can I do this in a cross validated way? yes use nested cross validation!"
   ]
  },
  {
   "cell_type": "code",
   "execution_count": null,
   "metadata": {},
   "outputs": [],
   "source": [
    "# outer loop = split into test and trainval datasets\n",
    "# inner loop = MBP, split into train/val and search over k"
   ]
  },
  {
   "cell_type": "code",
   "execution_count": null,
   "metadata": {},
   "outputs": [],
   "source": [
    "flds = createFolds(1:nrow(df),k=10)"
   ]
  },
  {
   "cell_type": "code",
   "execution_count": null,
   "metadata": {},
   "outputs": [],
   "source": [
    "TEST_RMSE = rep(NA,length(flds))\n",
    "\n",
    "for(i in 1:length(flds)){\n",
    "    \n",
    "    # split testing from trainval\n",
    "    test_idx = flds[[i]]\n",
    "    trainval_idx = unlist(flds[-i])\n",
    "    test_df = df[test_idx,]\n",
    "    trainval_df = df[trainval_idx,]\n",
    "     \n",
    "    #MODEL BUILDING PROCESS\n",
    "    tv_flds = createFolds(1:nrow(trainval_df),k=10)\n",
    "    \n",
    "    K_seq = seq(1,75)\n",
    "    VAL_MTX = array(NA,c(length(tv_flds),length(K_seq)))\n",
    "    \n",
    "    for(j in 1:length(tv_flds)){\n",
    "        \n",
    "        val_idx = tv_flds[[j]]\n",
    "        train_idx = unlist(tv_flds[-j])\n",
    "        train_df = trainval_df[train_idx,]\n",
    "        val_df = trainval_df[val_idx,]\n",
    "\n",
    "        for(k in K_seq){\n",
    "            knn_mod = knnreg(y~.,data=train_df,k=k)\n",
    "            val_preds = predict(knn_mod,val_df)\n",
    "            VAL_MTX[j,k] = sqrt(mean((val_df$y-val_preds)^2))\n",
    "        }\n",
    "    }\n",
    "    \n",
    "    VAL_K = apply(VAL_MTX,2,mean)\n",
    "    K_hat = K_seq[which.min(VAL_K)]\n",
    "    \n",
    "    knn_mod = knnreg(y~.,data=trainval_df,k=K_hat)\n",
    "    \n",
    "    # eval on testing data\n",
    "    test_preds = predict(knn_mod,test_df)\n",
    "    TEST_RMSE[i] = sqrt(mean((test_df$y-test_preds)^2))\n",
    "}"
   ]
  },
  {
   "cell_type": "markdown",
   "metadata": {},
   "source": [
    "consider for a single run:"
   ]
  },
  {
   "cell_type": "code",
   "execution_count": null,
   "metadata": {},
   "outputs": [],
   "source": [
    "ggplot(data=melt(VAL_MTX),mapping=aes(x=Var2,y=value,color=as.factor(Var1)))+geom_point()"
   ]
  },
  {
   "cell_type": "code",
   "execution_count": null,
   "metadata": {},
   "outputs": [],
   "source": [
    "plot(VAL_K)"
   ]
  },
  {
   "cell_type": "code",
   "execution_count": null,
   "metadata": {},
   "outputs": [],
   "source": [
    "K_hat = K_seq[which.min(VAL_K)]\n",
    "K_hat"
   ]
  },
  {
   "cell_type": "code",
   "execution_count": null,
   "metadata": {},
   "outputs": [],
   "source": [
    "# overall"
   ]
  },
  {
   "cell_type": "code",
   "execution_count": null,
   "metadata": {},
   "outputs": [],
   "source": [
    "TEST_RMSE"
   ]
  },
  {
   "cell_type": "code",
   "execution_count": null,
   "metadata": {},
   "outputs": [],
   "source": [
    "mean(TEST_RMSE)"
   ]
  },
  {
   "cell_type": "code",
   "execution_count": null,
   "metadata": {},
   "outputs": [],
   "source": [
    "plot(VAL_K)\n",
    "abline(h=mean(TEST_RMSE),col='red')"
   ]
  },
  {
   "cell_type": "markdown",
   "metadata": {},
   "source": [
    "How do we build the final model for prediction? Basically pull out the inner loop"
   ]
  },
  {
   "cell_type": "code",
   "execution_count": null,
   "metadata": {},
   "outputs": [],
   "source": [
    "tv_flds = createFolds(1:nrow(df),k=10) # use all df\n",
    "    \n",
    "K_seq = seq(1,75)\n",
    "VAL_MTX = array(NA,c(length(tv_flds),length(K_seq)))\n",
    "\n",
    "for(j in 1:length(tv_flds)){\n",
    "\n",
    "    val_idx = tv_flds[[j]]\n",
    "    train_idx = unlist(tv_flds[-j])\n",
    "    train_df = df[train_idx,]\n",
    "    val_df = df[val_idx,]\n",
    "\n",
    "    for(k in K_seq){\n",
    "        knn_mod = knnreg(y~.,data=train_df,k=k)\n",
    "        val_preds = predict(knn_mod,val_df)\n",
    "        VAL_MTX[j,k] = sqrt(mean((val_df$y-val_preds)^2))\n",
    "    }\n",
    "}\n",
    "\n",
    "VAL_K = apply(VAL_MTX,2,mean)\n",
    "K_hat = K_seq[which.min(VAL_K)]\n",
    "\n",
    "# fit with all the data\n",
    "knn_mod = knnreg(y~.,data=df,k=K_hat)"
   ]
  },
  {
   "cell_type": "code",
   "execution_count": null,
   "metadata": {},
   "outputs": [],
   "source": [
    "plot(VAL_K)"
   ]
  },
  {
   "cell_type": "code",
   "execution_count": null,
   "metadata": {},
   "outputs": [],
   "source": [
    "K_hat"
   ]
  },
  {
   "cell_type": "code",
   "execution_count": null,
   "metadata": {},
   "outputs": [],
   "source": [
    "plot(x,y)\n",
    "xe = data.frame(x=sort(runif(1000,-1,1)))\n",
    "lines(xe$x,predict(knn_mod,xe),col='red')\n",
    "lines(xe$x,xe$x^2,col='blue')"
   ]
  }
 ],
 "metadata": {
  "jupytext": {
   "formats": "ipynb,Rmd,R"
  },
  "kernelspec": {
   "display_name": "R",
   "language": "R",
   "name": "ir"
  },
  "language_info": {
   "codemirror_mode": "r",
   "file_extension": ".r",
   "mimetype": "text/x-r-source",
   "name": "R",
   "pygments_lexer": "r",
   "version": "4.0.3"
  }
 },
 "nbformat": 4,
 "nbformat_minor": 4
}
