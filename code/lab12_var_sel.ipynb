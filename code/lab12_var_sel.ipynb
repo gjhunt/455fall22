{
 "cells": [
  {
   "cell_type": "markdown",
   "metadata": {},
   "source": [
    "# Variable Selection"
   ]
  },
  {
   "cell_type": "code",
   "execution_count": 1,
   "metadata": {},
   "outputs": [
    {
     "name": "stderr",
     "output_type": "stream",
     "text": [
      "Warning message:\n",
      "\"package 'leaps' was built under R version 4.0.4\"\n"
     ]
    }
   ],
   "source": [
    "library('MASS')\n",
    "library('leaps')"
   ]
  },
  {
   "cell_type": "code",
   "execution_count": 2,
   "metadata": {},
   "outputs": [],
   "source": [
    "data(mtcars)"
   ]
  },
  {
   "cell_type": "code",
   "execution_count": 3,
   "metadata": {},
   "outputs": [
    {
     "data": {
      "text/html": [
       "<table class=\"dataframe\">\n",
       "<caption>A data.frame: 6 × 11</caption>\n",
       "<thead>\n",
       "\t<tr><th></th><th scope=col>mpg</th><th scope=col>cyl</th><th scope=col>disp</th><th scope=col>hp</th><th scope=col>drat</th><th scope=col>wt</th><th scope=col>qsec</th><th scope=col>vs</th><th scope=col>am</th><th scope=col>gear</th><th scope=col>carb</th></tr>\n",
       "\t<tr><th></th><th scope=col>&lt;dbl&gt;</th><th scope=col>&lt;dbl&gt;</th><th scope=col>&lt;dbl&gt;</th><th scope=col>&lt;dbl&gt;</th><th scope=col>&lt;dbl&gt;</th><th scope=col>&lt;dbl&gt;</th><th scope=col>&lt;dbl&gt;</th><th scope=col>&lt;dbl&gt;</th><th scope=col>&lt;dbl&gt;</th><th scope=col>&lt;dbl&gt;</th><th scope=col>&lt;dbl&gt;</th></tr>\n",
       "</thead>\n",
       "<tbody>\n",
       "\t<tr><th scope=row>Mazda RX4</th><td>21.0</td><td>6</td><td>160</td><td>110</td><td>3.90</td><td>2.620</td><td>16.46</td><td>0</td><td>1</td><td>4</td><td>4</td></tr>\n",
       "\t<tr><th scope=row>Mazda RX4 Wag</th><td>21.0</td><td>6</td><td>160</td><td>110</td><td>3.90</td><td>2.875</td><td>17.02</td><td>0</td><td>1</td><td>4</td><td>4</td></tr>\n",
       "\t<tr><th scope=row>Datsun 710</th><td>22.8</td><td>4</td><td>108</td><td> 93</td><td>3.85</td><td>2.320</td><td>18.61</td><td>1</td><td>1</td><td>4</td><td>1</td></tr>\n",
       "\t<tr><th scope=row>Hornet 4 Drive</th><td>21.4</td><td>6</td><td>258</td><td>110</td><td>3.08</td><td>3.215</td><td>19.44</td><td>1</td><td>0</td><td>3</td><td>1</td></tr>\n",
       "\t<tr><th scope=row>Hornet Sportabout</th><td>18.7</td><td>8</td><td>360</td><td>175</td><td>3.15</td><td>3.440</td><td>17.02</td><td>0</td><td>0</td><td>3</td><td>2</td></tr>\n",
       "\t<tr><th scope=row>Valiant</th><td>18.1</td><td>6</td><td>225</td><td>105</td><td>2.76</td><td>3.460</td><td>20.22</td><td>1</td><td>0</td><td>3</td><td>1</td></tr>\n",
       "</tbody>\n",
       "</table>\n"
      ],
      "text/latex": [
       "A data.frame: 6 × 11\n",
       "\\begin{tabular}{r|lllllllllll}\n",
       "  & mpg & cyl & disp & hp & drat & wt & qsec & vs & am & gear & carb\\\\\n",
       "  & <dbl> & <dbl> & <dbl> & <dbl> & <dbl> & <dbl> & <dbl> & <dbl> & <dbl> & <dbl> & <dbl>\\\\\n",
       "\\hline\n",
       "\tMazda RX4 & 21.0 & 6 & 160 & 110 & 3.90 & 2.620 & 16.46 & 0 & 1 & 4 & 4\\\\\n",
       "\tMazda RX4 Wag & 21.0 & 6 & 160 & 110 & 3.90 & 2.875 & 17.02 & 0 & 1 & 4 & 4\\\\\n",
       "\tDatsun 710 & 22.8 & 4 & 108 &  93 & 3.85 & 2.320 & 18.61 & 1 & 1 & 4 & 1\\\\\n",
       "\tHornet 4 Drive & 21.4 & 6 & 258 & 110 & 3.08 & 3.215 & 19.44 & 1 & 0 & 3 & 1\\\\\n",
       "\tHornet Sportabout & 18.7 & 8 & 360 & 175 & 3.15 & 3.440 & 17.02 & 0 & 0 & 3 & 2\\\\\n",
       "\tValiant & 18.1 & 6 & 225 & 105 & 2.76 & 3.460 & 20.22 & 1 & 0 & 3 & 1\\\\\n",
       "\\end{tabular}\n"
      ],
      "text/markdown": [
       "\n",
       "A data.frame: 6 × 11\n",
       "\n",
       "| <!--/--> | mpg &lt;dbl&gt; | cyl &lt;dbl&gt; | disp &lt;dbl&gt; | hp &lt;dbl&gt; | drat &lt;dbl&gt; | wt &lt;dbl&gt; | qsec &lt;dbl&gt; | vs &lt;dbl&gt; | am &lt;dbl&gt; | gear &lt;dbl&gt; | carb &lt;dbl&gt; |\n",
       "|---|---|---|---|---|---|---|---|---|---|---|---|\n",
       "| Mazda RX4 | 21.0 | 6 | 160 | 110 | 3.90 | 2.620 | 16.46 | 0 | 1 | 4 | 4 |\n",
       "| Mazda RX4 Wag | 21.0 | 6 | 160 | 110 | 3.90 | 2.875 | 17.02 | 0 | 1 | 4 | 4 |\n",
       "| Datsun 710 | 22.8 | 4 | 108 |  93 | 3.85 | 2.320 | 18.61 | 1 | 1 | 4 | 1 |\n",
       "| Hornet 4 Drive | 21.4 | 6 | 258 | 110 | 3.08 | 3.215 | 19.44 | 1 | 0 | 3 | 1 |\n",
       "| Hornet Sportabout | 18.7 | 8 | 360 | 175 | 3.15 | 3.440 | 17.02 | 0 | 0 | 3 | 2 |\n",
       "| Valiant | 18.1 | 6 | 225 | 105 | 2.76 | 3.460 | 20.22 | 1 | 0 | 3 | 1 |\n",
       "\n"
      ],
      "text/plain": [
       "                  mpg  cyl disp hp  drat wt    qsec  vs am gear carb\n",
       "Mazda RX4         21.0 6   160  110 3.90 2.620 16.46 0  1  4    4   \n",
       "Mazda RX4 Wag     21.0 6   160  110 3.90 2.875 17.02 0  1  4    4   \n",
       "Datsun 710        22.8 4   108   93 3.85 2.320 18.61 1  1  4    1   \n",
       "Hornet 4 Drive    21.4 6   258  110 3.08 3.215 19.44 1  0  3    1   \n",
       "Hornet Sportabout 18.7 8   360  175 3.15 3.440 17.02 0  0  3    2   \n",
       "Valiant           18.1 6   225  105 2.76 3.460 20.22 1  0  3    1   "
      ]
     },
     "metadata": {},
     "output_type": "display_data"
    }
   ],
   "source": [
    "head(mtcars)"
   ]
  },
  {
   "cell_type": "code",
   "execution_count": 4,
   "metadata": {
    "tags": []
   },
   "outputs": [
    {
     "data": {
      "text/html": [
       "\n",
       "<table width=\"100%\" summary=\"page for mtcars {datasets}\"><tr><td>mtcars {datasets}</td><td style=\"text-align: right;\">R Documentation</td></tr></table>\n",
       "\n",
       "<h2>Motor Trend Car Road Tests</h2>\n",
       "\n",
       "<h3>Description</h3>\n",
       "\n",
       "<p>The data was extracted from the 1974 <em>Motor Trend</em> US magazine,\n",
       "and comprises fuel consumption and 10 aspects of\n",
       "automobile design and performance for 32 automobiles (1973&ndash;74\n",
       "models).\n",
       "</p>\n",
       "\n",
       "\n",
       "<h3>Usage</h3>\n",
       "\n",
       "<pre>mtcars</pre>\n",
       "\n",
       "\n",
       "<h3>Format</h3>\n",
       "\n",
       "<p>A data frame with 32 observations on 11 (numeric) variables.\n",
       "</p>\n",
       "\n",
       "<table summary=\"Rd table\">\n",
       "<tr>\n",
       " <td style=\"text-align: right;\">\n",
       "    [, 1] </td><td style=\"text-align: left;\"> mpg  </td><td style=\"text-align: left;\"> Miles/(US) gallon </td>\n",
       "</tr>\n",
       "<tr>\n",
       " <td style=\"text-align: right;\">\n",
       "    [, 2] </td><td style=\"text-align: left;\"> cyl  </td><td style=\"text-align: left;\"> Number of cylinders </td>\n",
       "</tr>\n",
       "<tr>\n",
       " <td style=\"text-align: right;\">\n",
       "    [, 3] </td><td style=\"text-align: left;\"> disp </td><td style=\"text-align: left;\"> Displacement (cu.in.) </td>\n",
       "</tr>\n",
       "<tr>\n",
       " <td style=\"text-align: right;\">\n",
       "    [, 4] </td><td style=\"text-align: left;\"> hp   </td><td style=\"text-align: left;\"> Gross horsepower </td>\n",
       "</tr>\n",
       "<tr>\n",
       " <td style=\"text-align: right;\">\n",
       "    [, 5] </td><td style=\"text-align: left;\"> drat </td><td style=\"text-align: left;\"> Rear axle ratio </td>\n",
       "</tr>\n",
       "<tr>\n",
       " <td style=\"text-align: right;\">\n",
       "    [, 6] </td><td style=\"text-align: left;\"> wt   </td><td style=\"text-align: left;\"> Weight (1000 lbs) </td>\n",
       "</tr>\n",
       "<tr>\n",
       " <td style=\"text-align: right;\">\n",
       "    [, 7] </td><td style=\"text-align: left;\"> qsec </td><td style=\"text-align: left;\"> 1/4 mile time </td>\n",
       "</tr>\n",
       "<tr>\n",
       " <td style=\"text-align: right;\">\n",
       "    [, 8] </td><td style=\"text-align: left;\"> vs   </td><td style=\"text-align: left;\"> Engine (0 = V-shaped, 1 = straight) </td>\n",
       "</tr>\n",
       "<tr>\n",
       " <td style=\"text-align: right;\">\n",
       "    [, 9] </td><td style=\"text-align: left;\"> am   </td><td style=\"text-align: left;\"> Transmission (0 = automatic, 1 = manual) </td>\n",
       "</tr>\n",
       "<tr>\n",
       " <td style=\"text-align: right;\">\n",
       "    [,10] </td><td style=\"text-align: left;\"> gear </td><td style=\"text-align: left;\"> Number of forward gears </td>\n",
       "</tr>\n",
       "<tr>\n",
       " <td style=\"text-align: right;\">\n",
       "    [,11] </td><td style=\"text-align: left;\"> carb </td><td style=\"text-align: left;\"> Number of carburetors\n",
       "  </td>\n",
       "</tr>\n",
       "\n",
       "</table>\n",
       "\n",
       "\n",
       "\n",
       "<h3>Note</h3>\n",
       "\n",
       "<p>Henderson and Velleman (1981) comment in a footnote to Table 1:\n",
       "&lsquo;Hocking [original transcriber]'s noncrucial coding of the\n",
       "Mazda's rotary engine as a straight six-cylinder engine and the\n",
       "Porsche's flat engine as a V engine, as well as the inclusion of the\n",
       "diesel Mercedes 240D, have been retained to enable direct comparisons\n",
       "to be made with previous analyses.&rsquo;\n",
       "</p>\n",
       "\n",
       "\n",
       "<h3>Source</h3>\n",
       "\n",
       "<p>Henderson and Velleman (1981),\n",
       "Building multiple regression models interactively.\n",
       "<em>Biometrics</em>, <b>37</b>, 391&ndash;411.\n",
       "</p>\n",
       "\n",
       "\n",
       "<h3>Examples</h3>\n",
       "\n",
       "<pre>\n",
       "require(graphics)\n",
       "pairs(mtcars, main = \"mtcars data\", gap = 1/4)\n",
       "coplot(mpg ~ disp | as.factor(cyl), data = mtcars,\n",
       "       panel = panel.smooth, rows = 1)\n",
       "## possibly more meaningful, e.g., for summary() or bivariate plots:\n",
       "mtcars2 &lt;- within(mtcars, {\n",
       "   vs &lt;- factor(vs, labels = c(\"V\", \"S\"))\n",
       "   am &lt;- factor(am, labels = c(\"automatic\", \"manual\"))\n",
       "   cyl  &lt;- ordered(cyl)\n",
       "   gear &lt;- ordered(gear)\n",
       "   carb &lt;- ordered(carb)\n",
       "})\n",
       "summary(mtcars2)\n",
       "</pre>\n",
       "\n",
       "<hr /><div style=\"text-align: center;\">[Package <em>datasets</em> version 4.0.3 ]</div>"
      ],
      "text/latex": [
       "\\inputencoding{utf8}\n",
       "\\HeaderA{mtcars}{Motor Trend Car Road Tests}{mtcars}\n",
       "\\keyword{datasets}{mtcars}\n",
       "%\n",
       "\\begin{Description}\\relax\n",
       "The data was extracted from the 1974 \\emph{Motor Trend} US magazine,\n",
       "and comprises fuel consumption and 10 aspects of\n",
       "automobile design and performance for 32 automobiles (1973--74\n",
       "models).\n",
       "\\end{Description}\n",
       "%\n",
       "\\begin{Usage}\n",
       "\\begin{verbatim}\n",
       "mtcars\n",
       "\\end{verbatim}\n",
       "\\end{Usage}\n",
       "%\n",
       "\\begin{Format}\n",
       "A data frame with 32 observations on 11 (numeric) variables.\n",
       "\n",
       "\\Tabular{rll}{\n",
       "[, 1] & mpg  & Miles/(US) gallon \\\\{}\n",
       "[, 2] & cyl  & Number of cylinders \\\\{}\n",
       "[, 3] & disp & Displacement (cu.in.) \\\\{}\n",
       "[, 4] & hp   & Gross horsepower \\\\{}\n",
       "[, 5] & drat & Rear axle ratio \\\\{}\n",
       "[, 6] & wt   & Weight (1000 lbs) \\\\{}\n",
       "[, 7] & qsec & 1/4 mile time \\\\{}\n",
       "[, 8] & vs   & Engine (0 = V-shaped, 1 = straight) \\\\{}\n",
       "[, 9] & am   & Transmission (0 = automatic, 1 = manual) \\\\{}\n",
       "[,10] & gear & Number of forward gears \\\\{}\n",
       "[,11] & carb & Number of carburetors\n",
       "}\n",
       "\\end{Format}\n",
       "%\n",
       "\\begin{Note}\\relax\n",
       "Henderson and Velleman (1981) comment in a footnote to Table 1:\n",
       "`Hocking [original transcriber]'s noncrucial coding of the\n",
       "Mazda's rotary engine as a straight six-cylinder engine and the\n",
       "Porsche's flat engine as a V engine, as well as the inclusion of the\n",
       "diesel Mercedes 240D, have been retained to enable direct comparisons\n",
       "to be made with previous analyses.'\n",
       "\\end{Note}\n",
       "%\n",
       "\\begin{Source}\\relax\n",
       "Henderson and Velleman (1981),\n",
       "Building multiple regression models interactively.\n",
       "\\emph{Biometrics}, \\bold{37}, 391--411.\n",
       "\\end{Source}\n",
       "%\n",
       "\\begin{Examples}\n",
       "\\begin{ExampleCode}\n",
       "require(graphics)\n",
       "pairs(mtcars, main = \"mtcars data\", gap = 1/4)\n",
       "coplot(mpg ~ disp | as.factor(cyl), data = mtcars,\n",
       "       panel = panel.smooth, rows = 1)\n",
       "## possibly more meaningful, e.g., for summary() or bivariate plots:\n",
       "mtcars2 <- within(mtcars, {\n",
       "   vs <- factor(vs, labels = c(\"V\", \"S\"))\n",
       "   am <- factor(am, labels = c(\"automatic\", \"manual\"))\n",
       "   cyl  <- ordered(cyl)\n",
       "   gear <- ordered(gear)\n",
       "   carb <- ordered(carb)\n",
       "})\n",
       "summary(mtcars2)\n",
       "\\end{ExampleCode}\n",
       "\\end{Examples}"
      ],
      "text/plain": [
       "mtcars                package:datasets                 R Documentation\n",
       "\n",
       "_\bM_\bo_\bt_\bo_\br _\bT_\br_\be_\bn_\bd _\bC_\ba_\br _\bR_\bo_\ba_\bd _\bT_\be_\bs_\bt_\bs\n",
       "\n",
       "_\bD_\be_\bs_\bc_\br_\bi_\bp_\bt_\bi_\bo_\bn:\n",
       "\n",
       "     The data was extracted from the 1974 _Motor Trend_ US magazine,\n",
       "     and comprises fuel consumption and 10 aspects of automobile design\n",
       "     and performance for 32 automobiles (1973-74 models).\n",
       "\n",
       "_\bU_\bs_\ba_\bg_\be:\n",
       "\n",
       "     mtcars\n",
       "     \n",
       "_\bF_\bo_\br_\bm_\ba_\bt:\n",
       "\n",
       "     A data frame with 32 observations on 11 (numeric) variables.\n",
       "\n",
       "       [, 1]  mpg   Miles/(US) gallon                        \n",
       "       [, 2]  cyl   Number of cylinders                      \n",
       "       [, 3]  disp  Displacement (cu.in.)                    \n",
       "       [, 4]  hp    Gross horsepower                         \n",
       "       [, 5]  drat  Rear axle ratio                          \n",
       "       [, 6]  wt    Weight (1000 lbs)                        \n",
       "       [, 7]  qsec  1/4 mile time                            \n",
       "       [, 8]  vs    Engine (0 = V-shaped, 1 = straight)      \n",
       "       [, 9]  am    Transmission (0 = automatic, 1 = manual) \n",
       "       [,10]  gear  Number of forward gears                  \n",
       "       [,11]  carb  Number of carburetors                    \n",
       "      \n",
       "_\bN_\bo_\bt_\be:\n",
       "\n",
       "     Henderson and Velleman (1981) comment in a footnote to Table 1:\n",
       "     'Hocking [original transcriber]'s noncrucial coding of the Mazda's\n",
       "     rotary engine as a straight six-cylinder engine and the Porsche's\n",
       "     flat engine as a V engine, as well as the inclusion of the diesel\n",
       "     Mercedes 240D, have been retained to enable direct comparisons to\n",
       "     be made with previous analyses.'\n",
       "\n",
       "_\bS_\bo_\bu_\br_\bc_\be:\n",
       "\n",
       "     Henderson and Velleman (1981), Building multiple regression models\n",
       "     interactively.  _Biometrics_, *37*, 391-411.\n",
       "\n",
       "_\bE_\bx_\ba_\bm_\bp_\bl_\be_\bs:\n",
       "\n",
       "     require(graphics)\n",
       "     pairs(mtcars, main = \"mtcars data\", gap = 1/4)\n",
       "     coplot(mpg ~ disp | as.factor(cyl), data = mtcars,\n",
       "            panel = panel.smooth, rows = 1)\n",
       "     ## possibly more meaningful, e.g., for summary() or bivariate plots:\n",
       "     mtcars2 <- within(mtcars, {\n",
       "        vs <- factor(vs, labels = c(\"V\", \"S\"))\n",
       "        am <- factor(am, labels = c(\"automatic\", \"manual\"))\n",
       "        cyl  <- ordered(cyl)\n",
       "        gear <- ordered(gear)\n",
       "        carb <- ordered(carb)\n",
       "     })\n",
       "     summary(mtcars2)\n",
       "     "
      ]
     },
     "metadata": {},
     "output_type": "display_data"
    }
   ],
   "source": [
    "?mtcars"
   ]
  },
  {
   "cell_type": "code",
   "execution_count": 5,
   "metadata": {
    "tags": []
   },
   "outputs": [
    {
     "data": {
      "text/html": [
       "\n",
       "<table width=\"100%\" summary=\"page for regsubsets {leaps}\"><tr><td>regsubsets {leaps}</td><td style=\"text-align: right;\">R Documentation</td></tr></table>\n",
       "\n",
       "<h2>functions for model selection</h2>\n",
       "\n",
       "<h3>Description</h3>\n",
       "\n",
       "<p>Model selection by exhaustive search, forward or backward\n",
       "stepwise, or sequential replacement</p>\n",
       "\n",
       "\n",
       "<h3>Usage</h3>\n",
       "\n",
       "<pre>\n",
       "regsubsets(x=, ...)\n",
       "\n",
       "## S3 method for class 'formula'\n",
       "regsubsets(x=, data=, weights=NULL, nbest=1, nvmax=8,\n",
       " force.in=NULL, force.out=NULL, intercept=TRUE,\n",
       " method=c(\"exhaustive\", \"backward\", \"forward\", \"seqrep\"),\n",
       " really.big=FALSE,\n",
       " nested=(nbest==1),...)\n",
       "\n",
       "## Default S3 method:\n",
       "regsubsets(x=, y=, weights=rep(1, length(y)), nbest=1, nvmax=8,\n",
       "force.in=NULL, force.out=NULL, intercept=TRUE,\n",
       " method=c(\"exhaustive\",\"backward\", \"forward\", \"seqrep\"),\n",
       "really.big=FALSE,nested=(nbest==1),...)\n",
       "\n",
       "## S3 method for class 'biglm'\n",
       "regsubsets(x,nbest=1,nvmax=8,force.in=NULL,\n",
       "method=c(\"exhaustive\",\"backward\", \"forward\", \"seqrep\"),\n",
       "really.big=FALSE,nested=(nbest==1),...)\n",
       "\n",
       "## S3 method for class 'regsubsets'\n",
       "summary(object,all.best=TRUE,matrix=TRUE,matrix.logical=FALSE,df=NULL,...)\n",
       "\n",
       "## S3 method for class 'regsubsets'\n",
       "coef(object,id,vcov=FALSE,...)\n",
       "## S3 method for class 'regsubsets'\n",
       "vcov(object,id,...)\n",
       "\n",
       "</pre>\n",
       "\n",
       "\n",
       "<h3>Arguments</h3>\n",
       "\n",
       "<table summary=\"R argblock\">\n",
       "<tr valign=\"top\"><td><code>x</code></td>\n",
       "<td>\n",
       "<p>design matrix or model formula for full model, or <code>biglm</code> object</p>\n",
       "</td></tr>\n",
       "<tr valign=\"top\"><td><code>data</code></td>\n",
       "<td>\n",
       "<p>Optional data frame</p>\n",
       "</td></tr>\n",
       "<tr valign=\"top\"><td><code>y</code></td>\n",
       "<td>\n",
       "<p>response vector</p>\n",
       "</td></tr>\n",
       "<tr valign=\"top\"><td><code>weights</code></td>\n",
       "<td>\n",
       "<p>weight vector</p>\n",
       "</td></tr>\n",
       "<tr valign=\"top\"><td><code>nbest</code></td>\n",
       "<td>\n",
       "<p>number of subsets of each size to record</p>\n",
       "</td></tr>\n",
       "<tr valign=\"top\"><td><code>nvmax</code></td>\n",
       "<td>\n",
       "<p>maximum size of subsets to examine</p>\n",
       "</td></tr>\n",
       "<tr valign=\"top\"><td><code>force.in</code></td>\n",
       "<td>\n",
       "<p>index to columns of design matrix that should be in all models</p>\n",
       "</td></tr>\n",
       "<tr valign=\"top\"><td><code>force.out</code></td>\n",
       "<td>\n",
       "<p>index to columns of design matrix that should be in no models</p>\n",
       "</td></tr>\n",
       "<tr valign=\"top\"><td><code>intercept</code></td>\n",
       "<td>\n",
       "<p>Add an intercept?</p>\n",
       "</td></tr>\n",
       "<tr valign=\"top\"><td><code>method</code></td>\n",
       "<td>\n",
       "<p>Use exhaustive search, forward selection, backward selection or sequential replacement to search.</p>\n",
       "</td></tr>\n",
       "<tr valign=\"top\"><td><code>really.big</code></td>\n",
       "<td>\n",
       "<p>Must be TRUE to perform exhaustive search on more than\n",
       "50 variables.</p>\n",
       "</td></tr>\n",
       "<tr valign=\"top\"><td><code>nested</code></td>\n",
       "<td>\n",
       "<p>See the Note below: if <code>nested=FALSE</code>, models with\n",
       "columns 1, 1 and 2, 1-3, and so on, will also be considered</p>\n",
       "</td></tr> \n",
       "<tr valign=\"top\"><td><code>object</code></td>\n",
       "<td>\n",
       "<p>regsubsets object</p>\n",
       "</td></tr>\n",
       "<tr valign=\"top\"><td><code>all.best</code></td>\n",
       "<td>\n",
       "<p>Show all the best subsets or just one of each size</p>\n",
       "</td></tr>\n",
       "<tr valign=\"top\"><td><code>matrix</code></td>\n",
       "<td>\n",
       "<p>Show a matrix of the variables in each model or just summary\n",
       "statistics</p>\n",
       "</td></tr>\n",
       "<tr valign=\"top\"><td><code>matrix.logical</code></td>\n",
       "<td>\n",
       "<p>With <code>matrix=TRUE</code>, the matrix is logical\n",
       "<code>TRUE</code>/<code>FALSE</code> or string <code>\"*\"</code>/<code>\" \"</code></p>\n",
       "</td></tr>\n",
       "<tr valign=\"top\"><td><code>df</code></td>\n",
       "<td>\n",
       "<p>Specify a number of degrees of freedom for the summary\n",
       "statistics. The default is <code>n-1</code></p>\n",
       "</td></tr>\n",
       "<tr valign=\"top\"><td><code>id</code></td>\n",
       "<td>\n",
       "<p>Which model or models (ordered as in the summary output) to\n",
       "return coefficients and variance matrix for</p>\n",
       "</td></tr>\n",
       "<tr valign=\"top\"><td><code>vcov</code></td>\n",
       "<td>\n",
       "<p>If <code>TRUE</code>, return the variance-covariance matrix as an attribute</p>\n",
       "</td></tr>\n",
       "<tr valign=\"top\"><td><code>...</code></td>\n",
       "<td>\n",
       "<p>Other arguments for future methods</p>\n",
       "</td></tr>\n",
       "</table>\n",
       "\n",
       "\n",
       "<h3>Details</h3>\n",
       "\n",
       "<p>Since this function returns separate best models of all sizes up to\n",
       "<code>nvmax</code> and since different model selection criteria such as AIC,\n",
       "BIC, CIC, DIC, ... differ only in how models of different sizes are compared, the\n",
       "results do not depend on the choice of cost-complexity tradeoff.\n",
       "</p>\n",
       "<p>When <code>x</code> is a <code>biglm</code> object it is assumed to be the full\n",
       "model, so <code>force.out</code> is not relevant. If there is an intercept it\n",
       "is forced in by default; specify a <code>force.in</code> as a logical vector\n",
       "with <code>FALSE</code> as the first element to allow the intercept to be\n",
       "dropped.\n",
       "</p>\n",
       "<p>The model search does not actually fit each model, so the returned\n",
       "object does not contain coefficients or standard errors.  Coefficients\n",
       "and the variance-covariance matrix for one or model models can be\n",
       "obtained with the <code>coef</code> and <code>vcov</code> methods.\n",
       "</p>\n",
       "\n",
       "\n",
       "<h3>Value</h3>\n",
       "\n",
       "<p><code>regsubsets</code> returns an object of class &quot;regsubsets&quot; containing no\n",
       "user-serviceable parts. It is designed to be processed by\n",
       "<code>summary.regsubsets</code>.\n",
       "</p>\n",
       "<p><code>summary.regsubsets</code> returns an object with elements\n",
       "</p>\n",
       "<table summary=\"R valueblock\">\n",
       "<tr valign=\"top\"><td><code>which</code></td>\n",
       "<td>\n",
       "<p>A logical matrix indicating which elements are in each\n",
       "model</p>\n",
       "</td></tr>\n",
       "<tr valign=\"top\"><td><code>rsq</code></td>\n",
       "<td>\n",
       "<p>The r-squared for each model</p>\n",
       "</td></tr>\n",
       "<tr valign=\"top\"><td><code>rss</code></td>\n",
       "<td>\n",
       "<p>Residual sum of squares for each model</p>\n",
       "</td></tr>\n",
       "<tr valign=\"top\"><td><code>adjr2</code></td>\n",
       "<td>\n",
       "<p>Adjusted r-squared</p>\n",
       "</td></tr>\n",
       "<tr valign=\"top\"><td><code>cp</code></td>\n",
       "<td>\n",
       "<p>Mallows' Cp</p>\n",
       "</td></tr>\n",
       "<tr valign=\"top\"><td><code>bic</code></td>\n",
       "<td>\n",
       "<p>Schwartz's information criterion, BIC</p>\n",
       "</td></tr>\n",
       "<tr valign=\"top\"><td><code>outmat</code></td>\n",
       "<td>\n",
       "<p>A version of the <code>which</code> component that is formatted\n",
       "for printing</p>\n",
       "</td></tr>\n",
       "<tr valign=\"top\"><td><code>obj</code></td>\n",
       "<td>\n",
       "<p>A copy of the <code>regsubsets</code> object</p>\n",
       "</td></tr>\n",
       "</table>\n",
       "<p>The <code>coef</code> method returns a coefficient vector or list of vectors,\n",
       "the <code>vcov</code> method returns a matrix or list of matrices.\n",
       "</p>\n",
       "\n",
       "\n",
       "<h3>Note</h3>\n",
       "\n",
       "<p>As part of the setup process, the code initially fits models with the\n",
       "first variable in <code>x</code>, the first two, the first three, and so on.\n",
       "For forward and backward selection it is possible that the model with the <code>k</code>\n",
       "first variables will be better than the model with <code>k</code>\n",
       "variables from the selection algorithm. If it is, the model with the\n",
       "first <code>k</code> variables will be returned, with a warning. This can\n",
       "happen for forward and backward selection. It (obviously) can't for\n",
       "exhaustive search.\n",
       "</p>\n",
       "<p>With <code>nbest=1</code> you can avoid these extra models with\n",
       "<code>nested=TRUE</code>, which is the default.\n",
       "</p>\n",
       "\n",
       "\n",
       "<h3>See Also</h3>\n",
       "\n",
       "<p><code>leaps</code>\n",
       "</p>\n",
       "\n",
       "\n",
       "<h3>Examples</h3>\n",
       "\n",
       "<pre>\n",
       "data(swiss)\n",
       "a&lt;-regsubsets(as.matrix(swiss[,-1]),swiss[,1])\n",
       "summary(a)\n",
       "b&lt;-regsubsets(Fertility~.,data=swiss,nbest=2)\n",
       "summary(b)\n",
       "\n",
       "coef(a, 1:3)\n",
       "vcov(a, 3)\n",
       "</pre>\n",
       "\n",
       "<hr /><div style=\"text-align: center;\">[Package <em>leaps</em> version 3.1 ]</div>"
      ],
      "text/latex": [
       "\\inputencoding{utf8}\n",
       "\\HeaderA{regsubsets}{functions for model selection}{regsubsets}\n",
       "\\aliasA{coef.regsubsets}{regsubsets}{coef.regsubsets}\n",
       "\\aliasA{print.regsubsets}{regsubsets}{print.regsubsets}\n",
       "\\aliasA{print.summary.regsubsets}{regsubsets}{print.summary.regsubsets}\n",
       "\\methaliasA{regsubsets.biglm}{regsubsets}{regsubsets.biglm}\n",
       "\\methaliasA{regsubsets.default}{regsubsets}{regsubsets.default}\n",
       "\\methaliasA{regsubsets.formula}{regsubsets}{regsubsets.formula}\n",
       "\\aliasA{summary.regsubsets}{regsubsets}{summary.regsubsets}\n",
       "\\aliasA{vcov.regsubsets}{regsubsets}{vcov.regsubsets}\n",
       "\\keyword{regression}{regsubsets}\n",
       "%\n",
       "\\begin{Description}\\relax\n",
       "Model selection by exhaustive search, forward or backward\n",
       "stepwise, or sequential replacement\n",
       "\\end{Description}\n",
       "%\n",
       "\\begin{Usage}\n",
       "\\begin{verbatim}\n",
       "regsubsets(x=, ...)\n",
       "\n",
       "## S3 method for class 'formula'\n",
       "regsubsets(x=, data=, weights=NULL, nbest=1, nvmax=8,\n",
       " force.in=NULL, force.out=NULL, intercept=TRUE,\n",
       " method=c(\"exhaustive\", \"backward\", \"forward\", \"seqrep\"),\n",
       " really.big=FALSE,\n",
       " nested=(nbest==1),...)\n",
       "\n",
       "## Default S3 method:\n",
       "regsubsets(x=, y=, weights=rep(1, length(y)), nbest=1, nvmax=8,\n",
       "force.in=NULL, force.out=NULL, intercept=TRUE,\n",
       " method=c(\"exhaustive\",\"backward\", \"forward\", \"seqrep\"),\n",
       "really.big=FALSE,nested=(nbest==1),...)\n",
       "\n",
       "## S3 method for class 'biglm'\n",
       "regsubsets(x,nbest=1,nvmax=8,force.in=NULL,\n",
       "method=c(\"exhaustive\",\"backward\", \"forward\", \"seqrep\"),\n",
       "really.big=FALSE,nested=(nbest==1),...)\n",
       "\n",
       "## S3 method for class 'regsubsets'\n",
       "summary(object,all.best=TRUE,matrix=TRUE,matrix.logical=FALSE,df=NULL,...)\n",
       "\n",
       "## S3 method for class 'regsubsets'\n",
       "coef(object,id,vcov=FALSE,...)\n",
       "## S3 method for class 'regsubsets'\n",
       "vcov(object,id,...)\n",
       "\n",
       "\\end{verbatim}\n",
       "\\end{Usage}\n",
       "%\n",
       "\\begin{Arguments}\n",
       "\\begin{ldescription}\n",
       "\\item[\\code{x}] design matrix or model formula for full model, or \\code{biglm} object\n",
       "\\item[\\code{data}] Optional data frame\n",
       "\\item[\\code{y}] response vector\n",
       "\\item[\\code{weights}] weight vector\n",
       "\\item[\\code{nbest}] number of subsets of each size to record\n",
       "\\item[\\code{nvmax}] maximum size of subsets to examine\n",
       "\\item[\\code{force.in}] index to columns of design matrix that should be in all models\n",
       "\\item[\\code{force.out}] index to columns of design matrix that should be in no models\n",
       "\\item[\\code{intercept}] Add an intercept?\n",
       "\\item[\\code{method}] Use exhaustive search, forward selection, backward selection or sequential replacement to search.\n",
       "\\item[\\code{really.big}] Must be TRUE to perform exhaustive search on more than\n",
       "50 variables.\n",
       "\\item[\\code{nested}] See the Note below: if \\code{nested=FALSE}, models with\n",
       "columns 1, 1 and 2, 1-3, and so on, will also be considered\n",
       "\n",
       "\\item[\\code{object}] regsubsets object\n",
       "\\item[\\code{all.best}] Show all the best subsets or just one of each size\n",
       "\\item[\\code{matrix}] Show a matrix of the variables in each model or just summary\n",
       "statistics\n",
       "\\item[\\code{matrix.logical}] With \\code{matrix=TRUE}, the matrix is logical\n",
       "\\code{TRUE}/\\code{FALSE} or string \\code{\"*\"}/\\code{\" \"}\n",
       "\\item[\\code{df}] Specify a number of degrees of freedom for the summary\n",
       "statistics. The default is \\code{n-1}\n",
       "\\item[\\code{id}] Which model or models (ordered as in the summary output) to\n",
       "return coefficients and variance matrix for\n",
       "\\item[\\code{vcov}] If \\code{TRUE}, return the variance-covariance matrix as an attribute\n",
       "\\item[\\code{...}] Other arguments for future methods\n",
       "\\end{ldescription}\n",
       "\\end{Arguments}\n",
       "%\n",
       "\\begin{Details}\\relax\n",
       "\n",
       "Since this function returns separate best models of all sizes up to\n",
       "\\code{nvmax} and since different model selection criteria such as AIC,\n",
       "BIC, CIC, DIC, ... differ only in how models of different sizes are compared, the\n",
       "results do not depend on the choice of cost-complexity tradeoff.\n",
       "\n",
       "When \\code{x} is a \\code{biglm} object it is assumed to be the full\n",
       "model, so \\code{force.out} is not relevant. If there is an intercept it\n",
       "is forced in by default; specify a \\code{force.in} as a logical vector\n",
       "with \\code{FALSE} as the first element to allow the intercept to be\n",
       "dropped.\n",
       "\n",
       "The model search does not actually fit each model, so the returned\n",
       "object does not contain coefficients or standard errors.  Coefficients\n",
       "and the variance-covariance matrix for one or model models can be\n",
       "obtained with the \\code{coef} and \\code{vcov} methods.\n",
       "\\end{Details}\n",
       "%\n",
       "\\begin{Value}\n",
       "\\code{regsubsets} returns an object of class \"regsubsets\" containing no\n",
       "user-serviceable parts. It is designed to be processed by\n",
       "\\code{\\LinkA{summary.regsubsets}{summary.regsubsets}}.\n",
       "\n",
       "\\code{summary.regsubsets} returns an object with elements\n",
       "\\begin{ldescription}\n",
       "\\item[\\code{which}] A logical matrix indicating which elements are in each\n",
       "model\n",
       "\\item[\\code{rsq}] The r-squared for each model\n",
       "\\item[\\code{rss}] Residual sum of squares for each model\n",
       "\\item[\\code{adjr2}] Adjusted r-squared\n",
       "\\item[\\code{cp}] Mallows' Cp\n",
       "\\item[\\code{bic}] Schwartz's information criterion, BIC\n",
       "\\item[\\code{outmat}] A version of the \\code{which} component that is formatted\n",
       "for printing\n",
       "\\item[\\code{obj}] A copy of the \\code{regsubsets} object\n",
       "\n",
       "\\end{ldescription}\n",
       "The \\code{coef} method returns a coefficient vector or list of vectors,\n",
       "the \\code{vcov} method returns a matrix or list of matrices.\n",
       "\\end{Value}\n",
       "%\n",
       "\\begin{Note}\\relax\n",
       "As part of the setup process, the code initially fits models with the\n",
       "first variable in \\code{x}, the first two, the first three, and so on.\n",
       "For forward and backward selection it is possible that the model with the \\code{k}\n",
       "first variables will be better than the model with \\code{k}\n",
       "variables from the selection algorithm. If it is, the model with the\n",
       "first \\code{k} variables will be returned, with a warning. This can\n",
       "happen for forward and backward selection. It (obviously) can't for\n",
       "exhaustive search.\n",
       "\n",
       "With \\code{nbest=1} you can avoid these extra models with\n",
       "\\code{nested=TRUE}, which is the default.\n",
       "\n",
       "\\end{Note}\n",
       "%\n",
       "\\begin{SeeAlso}\\relax\n",
       "\\code{\\LinkA{leaps}{leaps}}\n",
       "\\end{SeeAlso}\n",
       "%\n",
       "\\begin{Examples}\n",
       "\\begin{ExampleCode}\n",
       "data(swiss)\n",
       "a<-regsubsets(as.matrix(swiss[,-1]),swiss[,1])\n",
       "summary(a)\n",
       "b<-regsubsets(Fertility~.,data=swiss,nbest=2)\n",
       "summary(b)\n",
       "\n",
       "coef(a, 1:3)\n",
       "vcov(a, 3)\n",
       "\\end{ExampleCode}\n",
       "\\end{Examples}"
      ],
      "text/plain": [
       "regsubsets                package:leaps                R Documentation\n",
       "\n",
       "_\bf_\bu_\bn_\bc_\bt_\bi_\bo_\bn_\bs _\bf_\bo_\br _\bm_\bo_\bd_\be_\bl _\bs_\be_\bl_\be_\bc_\bt_\bi_\bo_\bn\n",
       "\n",
       "_\bD_\be_\bs_\bc_\br_\bi_\bp_\bt_\bi_\bo_\bn:\n",
       "\n",
       "     Model selection by exhaustive search, forward or backward\n",
       "     stepwise, or sequential replacement\n",
       "\n",
       "_\bU_\bs_\ba_\bg_\be:\n",
       "\n",
       "     regsubsets(x=, ...)\n",
       "     \n",
       "     ## S3 method for class 'formula'\n",
       "     regsubsets(x=, data=, weights=NULL, nbest=1, nvmax=8,\n",
       "      force.in=NULL, force.out=NULL, intercept=TRUE,\n",
       "      method=c(\"exhaustive\", \"backward\", \"forward\", \"seqrep\"),\n",
       "      really.big=FALSE,\n",
       "      nested=(nbest==1),...)\n",
       "     \n",
       "     ## Default S3 method:\n",
       "     regsubsets(x=, y=, weights=rep(1, length(y)), nbest=1, nvmax=8,\n",
       "     force.in=NULL, force.out=NULL, intercept=TRUE,\n",
       "      method=c(\"exhaustive\",\"backward\", \"forward\", \"seqrep\"),\n",
       "     really.big=FALSE,nested=(nbest==1),...)\n",
       "     \n",
       "     ## S3 method for class 'biglm'\n",
       "     regsubsets(x,nbest=1,nvmax=8,force.in=NULL,\n",
       "     method=c(\"exhaustive\",\"backward\", \"forward\", \"seqrep\"),\n",
       "     really.big=FALSE,nested=(nbest==1),...)\n",
       "     \n",
       "     ## S3 method for class 'regsubsets'\n",
       "     summary(object,all.best=TRUE,matrix=TRUE,matrix.logical=FALSE,df=NULL,...)\n",
       "     \n",
       "     ## S3 method for class 'regsubsets'\n",
       "     coef(object,id,vcov=FALSE,...)\n",
       "     ## S3 method for class 'regsubsets'\n",
       "     vcov(object,id,...)\n",
       "     \n",
       "_\bA_\br_\bg_\bu_\bm_\be_\bn_\bt_\bs:\n",
       "\n",
       "       x: design matrix or model formula for full model, or 'biglm'\n",
       "          object\n",
       "\n",
       "    data: Optional data frame\n",
       "\n",
       "       y: response vector\n",
       "\n",
       " weights: weight vector\n",
       "\n",
       "   nbest: number of subsets of each size to record\n",
       "\n",
       "   nvmax: maximum size of subsets to examine\n",
       "\n",
       "force.in: index to columns of design matrix that should be in all\n",
       "          models\n",
       "\n",
       "force.out: index to columns of design matrix that should be in no\n",
       "          models\n",
       "\n",
       "intercept: Add an intercept?\n",
       "\n",
       "  method: Use exhaustive search, forward selection, backward selection\n",
       "          or sequential replacement to search.\n",
       "\n",
       "really.big: Must be TRUE to perform exhaustive search on more than 50\n",
       "          variables.\n",
       "\n",
       "  nested: See the Note below: if 'nested=FALSE', models with columns 1,\n",
       "          1 and 2, 1-3, and so on, will also be considered\n",
       "\n",
       "  object: regsubsets object\n",
       "\n",
       "all.best: Show all the best subsets or just one of each size\n",
       "\n",
       "  matrix: Show a matrix of the variables in each model or just summary\n",
       "          statistics\n",
       "\n",
       "matrix.logical: With 'matrix=TRUE', the matrix is logical\n",
       "          'TRUE'/'FALSE' or string '\"*\"'/'\" \"'\n",
       "\n",
       "      df: Specify a number of degrees of freedom for the summary\n",
       "          statistics. The default is 'n-1'\n",
       "\n",
       "      id: Which model or models (ordered as in the summary output) to\n",
       "          return coefficients and variance matrix for\n",
       "\n",
       "    vcov: If 'TRUE', return the variance-covariance matrix as an\n",
       "          attribute\n",
       "\n",
       "     ...: Other arguments for future methods\n",
       "\n",
       "_\bD_\be_\bt_\ba_\bi_\bl_\bs:\n",
       "\n",
       "     Since this function returns separate best models of all sizes up\n",
       "     to 'nvmax' and since different model selection criteria such as\n",
       "     AIC, BIC, CIC, DIC, ... differ only in how models of different\n",
       "     sizes are compared, the results do not depend on the choice of\n",
       "     cost-complexity tradeoff.\n",
       "\n",
       "     When 'x' is a 'biglm' object it is assumed to be the full model,\n",
       "     so 'force.out' is not relevant. If there is an intercept it is\n",
       "     forced in by default; specify a 'force.in' as a logical vector\n",
       "     with 'FALSE' as the first element to allow the intercept to be\n",
       "     dropped.\n",
       "\n",
       "     The model search does not actually fit each model, so the returned\n",
       "     object does not contain coefficients or standard errors.\n",
       "     Coefficients and the variance-covariance matrix for one or model\n",
       "     models can be obtained with the 'coef' and 'vcov' methods.\n",
       "\n",
       "_\bV_\ba_\bl_\bu_\be:\n",
       "\n",
       "     'regsubsets' returns an object of class \"regsubsets\" containing no\n",
       "     user-serviceable parts. It is designed to be processed by\n",
       "     'summary.regsubsets'.\n",
       "\n",
       "     'summary.regsubsets' returns an object with elements\n",
       "\n",
       "   which: A logical matrix indicating which elements are in each model\n",
       "\n",
       "     rsq: The r-squared for each model\n",
       "\n",
       "     rss: Residual sum of squares for each model\n",
       "\n",
       "   adjr2: Adjusted r-squared\n",
       "\n",
       "      cp: Mallows' Cp\n",
       "\n",
       "     bic: Schwartz's information criterion, BIC\n",
       "\n",
       "  outmat: A version of the 'which' component that is formatted for\n",
       "          printing\n",
       "\n",
       "     obj: A copy of the 'regsubsets' object\n",
       "     The 'coef' method returns a coefficient vector or list of vectors,\n",
       "     the 'vcov' method returns a matrix or list of matrices.\n",
       "\n",
       "_\bN_\bo_\bt_\be:\n",
       "\n",
       "     As part of the setup process, the code initially fits models with\n",
       "     the first variable in 'x', the first two, the first three, and so\n",
       "     on. For forward and backward selection it is possible that the\n",
       "     model with the 'k' first variables will be better than the model\n",
       "     with 'k' variables from the selection algorithm. If it is, the\n",
       "     model with the first 'k' variables will be returned, with a\n",
       "     warning. This can happen for forward and backward selection. It\n",
       "     (obviously) can't for exhaustive search.\n",
       "\n",
       "     With 'nbest=1' you can avoid these extra models with\n",
       "     'nested=TRUE', which is the default.\n",
       "\n",
       "_\bS_\be_\be _\bA_\bl_\bs_\bo:\n",
       "\n",
       "     'leaps'\n",
       "\n",
       "_\bE_\bx_\ba_\bm_\bp_\bl_\be_\bs:\n",
       "\n",
       "     data(swiss)\n",
       "     a<-regsubsets(as.matrix(swiss[,-1]),swiss[,1])\n",
       "     summary(a)\n",
       "     b<-regsubsets(Fertility~.,data=swiss,nbest=2)\n",
       "     summary(b)\n",
       "     \n",
       "     coef(a, 1:3)\n",
       "     vcov(a, 3)\n",
       "     "
      ]
     },
     "metadata": {},
     "output_type": "display_data"
    }
   ],
   "source": [
    "?regsubsets"
   ]
  },
  {
   "cell_type": "code",
   "execution_count": 6,
   "metadata": {},
   "outputs": [
    {
     "data": {
      "text/html": [
       "<style>\n",
       ".list-inline {list-style: none; margin:0; padding: 0}\n",
       ".list-inline>li {display: inline-block}\n",
       ".list-inline>li:not(:last-child)::after {content: \"\\00b7\"; padding: 0 .5ex}\n",
       "</style>\n",
       "<ol class=list-inline><li>32</li><li>11</li></ol>\n"
      ],
      "text/latex": [
       "\\begin{enumerate*}\n",
       "\\item 32\n",
       "\\item 11\n",
       "\\end{enumerate*}\n"
      ],
      "text/markdown": [
       "1. 32\n",
       "2. 11\n",
       "\n",
       "\n"
      ],
      "text/plain": [
       "[1] 32 11"
      ]
     },
     "metadata": {},
     "output_type": "display_data"
    }
   ],
   "source": [
    "dim(mtcars)"
   ]
  },
  {
   "cell_type": "code",
   "execution_count": 7,
   "metadata": {},
   "outputs": [],
   "source": [
    "ss_mods = regsubsets(mpg~.,data=mtcars,method=\"forward\",nvmax=10)"
   ]
  },
  {
   "cell_type": "code",
   "execution_count": 8,
   "metadata": {},
   "outputs": [
    {
     "data": {
      "text/plain": [
       "Subset selection object\n",
       "Call: regsubsets.formula(mpg ~ ., data = mtcars, method = \"forward\", \n",
       "    nvmax = 10)\n",
       "10 Variables  (and intercept)\n",
       "     Forced in Forced out\n",
       "cyl      FALSE      FALSE\n",
       "disp     FALSE      FALSE\n",
       "hp       FALSE      FALSE\n",
       "drat     FALSE      FALSE\n",
       "wt       FALSE      FALSE\n",
       "qsec     FALSE      FALSE\n",
       "vs       FALSE      FALSE\n",
       "am       FALSE      FALSE\n",
       "gear     FALSE      FALSE\n",
       "carb     FALSE      FALSE\n",
       "1 subsets of each size up to 10\n",
       "Selection Algorithm: forward\n",
       "          cyl disp hp  drat wt  qsec vs  am  gear carb\n",
       "1  ( 1 )  \" \" \" \"  \" \" \" \"  \"*\" \" \"  \" \" \" \" \" \"  \" \" \n",
       "2  ( 1 )  \"*\" \" \"  \" \" \" \"  \"*\" \" \"  \" \" \" \" \" \"  \" \" \n",
       "3  ( 1 )  \"*\" \" \"  \"*\" \" \"  \"*\" \" \"  \" \" \" \" \" \"  \" \" \n",
       "4  ( 1 )  \"*\" \" \"  \"*\" \" \"  \"*\" \" \"  \" \" \"*\" \" \"  \" \" \n",
       "5  ( 1 )  \"*\" \" \"  \"*\" \" \"  \"*\" \"*\"  \" \" \"*\" \" \"  \" \" \n",
       "6  ( 1 )  \"*\" \"*\"  \"*\" \" \"  \"*\" \"*\"  \" \" \"*\" \" \"  \" \" \n",
       "7  ( 1 )  \"*\" \"*\"  \"*\" \"*\"  \"*\" \"*\"  \" \" \"*\" \" \"  \" \" \n",
       "8  ( 1 )  \"*\" \"*\"  \"*\" \"*\"  \"*\" \"*\"  \" \" \"*\" \"*\"  \" \" \n",
       "9  ( 1 )  \"*\" \"*\"  \"*\" \"*\"  \"*\" \"*\"  \" \" \"*\" \"*\"  \"*\" \n",
       "10  ( 1 ) \"*\" \"*\"  \"*\" \"*\"  \"*\" \"*\"  \"*\" \"*\" \"*\"  \"*\" "
      ]
     },
     "metadata": {},
     "output_type": "display_data"
    }
   ],
   "source": [
    "summary(ss_mods)"
   ]
  },
  {
   "cell_type": "code",
   "execution_count": 9,
   "metadata": {},
   "outputs": [],
   "source": [
    "ss_mods = regsubsets(mpg~.,data=mtcars,method=\"backward\",nvmax=10)"
   ]
  },
  {
   "cell_type": "code",
   "execution_count": 10,
   "metadata": {},
   "outputs": [
    {
     "data": {
      "text/plain": [
       "Subset selection object\n",
       "Call: regsubsets.formula(mpg ~ ., data = mtcars, method = \"backward\", \n",
       "    nvmax = 10)\n",
       "10 Variables  (and intercept)\n",
       "     Forced in Forced out\n",
       "cyl      FALSE      FALSE\n",
       "disp     FALSE      FALSE\n",
       "hp       FALSE      FALSE\n",
       "drat     FALSE      FALSE\n",
       "wt       FALSE      FALSE\n",
       "qsec     FALSE      FALSE\n",
       "vs       FALSE      FALSE\n",
       "am       FALSE      FALSE\n",
       "gear     FALSE      FALSE\n",
       "carb     FALSE      FALSE\n",
       "1 subsets of each size up to 10\n",
       "Selection Algorithm: backward\n",
       "          cyl disp hp  drat wt  qsec vs  am  gear carb\n",
       "1  ( 1 )  \" \" \" \"  \" \" \" \"  \"*\" \" \"  \" \" \" \" \" \"  \" \" \n",
       "2  ( 1 )  \" \" \" \"  \" \" \" \"  \"*\" \"*\"  \" \" \" \" \" \"  \" \" \n",
       "3  ( 1 )  \" \" \" \"  \" \" \" \"  \"*\" \"*\"  \" \" \"*\" \" \"  \" \" \n",
       "4  ( 1 )  \" \" \" \"  \"*\" \" \"  \"*\" \"*\"  \" \" \"*\" \" \"  \" \" \n",
       "5  ( 1 )  \" \" \"*\"  \"*\" \" \"  \"*\" \"*\"  \" \" \"*\" \" \"  \" \" \n",
       "6  ( 1 )  \" \" \"*\"  \"*\" \"*\"  \"*\" \"*\"  \" \" \"*\" \" \"  \" \" \n",
       "7  ( 1 )  \" \" \"*\"  \"*\" \"*\"  \"*\" \"*\"  \" \" \"*\" \"*\"  \" \" \n",
       "8  ( 1 )  \" \" \"*\"  \"*\" \"*\"  \"*\" \"*\"  \" \" \"*\" \"*\"  \"*\" \n",
       "9  ( 1 )  \" \" \"*\"  \"*\" \"*\"  \"*\" \"*\"  \"*\" \"*\" \"*\"  \"*\" \n",
       "10  ( 1 ) \"*\" \"*\"  \"*\" \"*\"  \"*\" \"*\"  \"*\" \"*\" \"*\"  \"*\" "
      ]
     },
     "metadata": {},
     "output_type": "display_data"
    }
   ],
   "source": [
    "summary(ss_mods)"
   ]
  },
  {
   "cell_type": "code",
   "execution_count": 11,
   "metadata": {},
   "outputs": [],
   "source": [
    "ss_mods = regsubsets(mpg~.,data=mtcars,method=\"exhaustive\",nvmax=10)"
   ]
  },
  {
   "cell_type": "code",
   "execution_count": 12,
   "metadata": {},
   "outputs": [
    {
     "data": {
      "text/plain": [
       "Subset selection object\n",
       "Call: regsubsets.formula(mpg ~ ., data = mtcars, method = \"exhaustive\", \n",
       "    nvmax = 10)\n",
       "10 Variables  (and intercept)\n",
       "     Forced in Forced out\n",
       "cyl      FALSE      FALSE\n",
       "disp     FALSE      FALSE\n",
       "hp       FALSE      FALSE\n",
       "drat     FALSE      FALSE\n",
       "wt       FALSE      FALSE\n",
       "qsec     FALSE      FALSE\n",
       "vs       FALSE      FALSE\n",
       "am       FALSE      FALSE\n",
       "gear     FALSE      FALSE\n",
       "carb     FALSE      FALSE\n",
       "1 subsets of each size up to 10\n",
       "Selection Algorithm: exhaustive\n",
       "          cyl disp hp  drat wt  qsec vs  am  gear carb\n",
       "1  ( 1 )  \" \" \" \"  \" \" \" \"  \"*\" \" \"  \" \" \" \" \" \"  \" \" \n",
       "2  ( 1 )  \"*\" \" \"  \" \" \" \"  \"*\" \" \"  \" \" \" \" \" \"  \" \" \n",
       "3  ( 1 )  \" \" \" \"  \" \" \" \"  \"*\" \"*\"  \" \" \"*\" \" \"  \" \" \n",
       "4  ( 1 )  \" \" \" \"  \"*\" \" \"  \"*\" \"*\"  \" \" \"*\" \" \"  \" \" \n",
       "5  ( 1 )  \" \" \"*\"  \"*\" \" \"  \"*\" \"*\"  \" \" \"*\" \" \"  \" \" \n",
       "6  ( 1 )  \" \" \"*\"  \"*\" \"*\"  \"*\" \"*\"  \" \" \"*\" \" \"  \" \" \n",
       "7  ( 1 )  \" \" \"*\"  \"*\" \"*\"  \"*\" \"*\"  \" \" \"*\" \"*\"  \" \" \n",
       "8  ( 1 )  \" \" \"*\"  \"*\" \"*\"  \"*\" \"*\"  \" \" \"*\" \"*\"  \"*\" \n",
       "9  ( 1 )  \" \" \"*\"  \"*\" \"*\"  \"*\" \"*\"  \"*\" \"*\" \"*\"  \"*\" \n",
       "10  ( 1 ) \"*\" \"*\"  \"*\" \"*\"  \"*\" \"*\"  \"*\" \"*\" \"*\"  \"*\" "
      ]
     },
     "metadata": {},
     "output_type": "display_data"
    }
   ],
   "source": [
    "summary(ss_mods)"
   ]
  },
  {
   "cell_type": "code",
   "execution_count": 13,
   "metadata": {},
   "outputs": [],
   "source": [
    "smry = summary(ss_mods)"
   ]
  },
  {
   "cell_type": "code",
   "execution_count": 14,
   "metadata": {},
   "outputs": [
    {
     "data": {
      "text/html": [
       "<style>\n",
       ".list-inline {list-style: none; margin:0; padding: 0}\n",
       ".list-inline>li {display: inline-block}\n",
       ".list-inline>li:not(:last-child)::after {content: \"\\00b7\"; padding: 0 .5ex}\n",
       "</style>\n",
       "<ol class=list-inline><li>'which'</li><li>'rsq'</li><li>'rss'</li><li>'adjr2'</li><li>'cp'</li><li>'bic'</li><li>'outmat'</li><li>'obj'</li></ol>\n"
      ],
      "text/latex": [
       "\\begin{enumerate*}\n",
       "\\item 'which'\n",
       "\\item 'rsq'\n",
       "\\item 'rss'\n",
       "\\item 'adjr2'\n",
       "\\item 'cp'\n",
       "\\item 'bic'\n",
       "\\item 'outmat'\n",
       "\\item 'obj'\n",
       "\\end{enumerate*}\n"
      ],
      "text/markdown": [
       "1. 'which'\n",
       "2. 'rsq'\n",
       "3. 'rss'\n",
       "4. 'adjr2'\n",
       "5. 'cp'\n",
       "6. 'bic'\n",
       "7. 'outmat'\n",
       "8. 'obj'\n",
       "\n",
       "\n"
      ],
      "text/plain": [
       "[1] \"which\"  \"rsq\"    \"rss\"    \"adjr2\"  \"cp\"     \"bic\"    \"outmat\" \"obj\"   "
      ]
     },
     "metadata": {},
     "output_type": "display_data"
    }
   ],
   "source": [
    "names(smry)"
   ]
  },
  {
   "cell_type": "code",
   "execution_count": 15,
   "metadata": {},
   "outputs": [
    {
     "data": {
      "text/html": [
       "<table class=\"dataframe\">\n",
       "<caption>A matrix: 10 × 11 of type lgl</caption>\n",
       "<thead>\n",
       "\t<tr><th></th><th scope=col>(Intercept)</th><th scope=col>cyl</th><th scope=col>disp</th><th scope=col>hp</th><th scope=col>drat</th><th scope=col>wt</th><th scope=col>qsec</th><th scope=col>vs</th><th scope=col>am</th><th scope=col>gear</th><th scope=col>carb</th></tr>\n",
       "</thead>\n",
       "<tbody>\n",
       "\t<tr><th scope=row>1</th><td>TRUE</td><td>FALSE</td><td>FALSE</td><td>FALSE</td><td>FALSE</td><td>TRUE</td><td>FALSE</td><td>FALSE</td><td>FALSE</td><td>FALSE</td><td>FALSE</td></tr>\n",
       "\t<tr><th scope=row>2</th><td>TRUE</td><td> TRUE</td><td>FALSE</td><td>FALSE</td><td>FALSE</td><td>TRUE</td><td>FALSE</td><td>FALSE</td><td>FALSE</td><td>FALSE</td><td>FALSE</td></tr>\n",
       "\t<tr><th scope=row>3</th><td>TRUE</td><td>FALSE</td><td>FALSE</td><td>FALSE</td><td>FALSE</td><td>TRUE</td><td> TRUE</td><td>FALSE</td><td> TRUE</td><td>FALSE</td><td>FALSE</td></tr>\n",
       "\t<tr><th scope=row>4</th><td>TRUE</td><td>FALSE</td><td>FALSE</td><td> TRUE</td><td>FALSE</td><td>TRUE</td><td> TRUE</td><td>FALSE</td><td> TRUE</td><td>FALSE</td><td>FALSE</td></tr>\n",
       "\t<tr><th scope=row>5</th><td>TRUE</td><td>FALSE</td><td> TRUE</td><td> TRUE</td><td>FALSE</td><td>TRUE</td><td> TRUE</td><td>FALSE</td><td> TRUE</td><td>FALSE</td><td>FALSE</td></tr>\n",
       "\t<tr><th scope=row>6</th><td>TRUE</td><td>FALSE</td><td> TRUE</td><td> TRUE</td><td> TRUE</td><td>TRUE</td><td> TRUE</td><td>FALSE</td><td> TRUE</td><td>FALSE</td><td>FALSE</td></tr>\n",
       "\t<tr><th scope=row>7</th><td>TRUE</td><td>FALSE</td><td> TRUE</td><td> TRUE</td><td> TRUE</td><td>TRUE</td><td> TRUE</td><td>FALSE</td><td> TRUE</td><td> TRUE</td><td>FALSE</td></tr>\n",
       "\t<tr><th scope=row>8</th><td>TRUE</td><td>FALSE</td><td> TRUE</td><td> TRUE</td><td> TRUE</td><td>TRUE</td><td> TRUE</td><td>FALSE</td><td> TRUE</td><td> TRUE</td><td> TRUE</td></tr>\n",
       "\t<tr><th scope=row>9</th><td>TRUE</td><td>FALSE</td><td> TRUE</td><td> TRUE</td><td> TRUE</td><td>TRUE</td><td> TRUE</td><td> TRUE</td><td> TRUE</td><td> TRUE</td><td> TRUE</td></tr>\n",
       "\t<tr><th scope=row>10</th><td>TRUE</td><td> TRUE</td><td> TRUE</td><td> TRUE</td><td> TRUE</td><td>TRUE</td><td> TRUE</td><td> TRUE</td><td> TRUE</td><td> TRUE</td><td> TRUE</td></tr>\n",
       "</tbody>\n",
       "</table>\n"
      ],
      "text/latex": [
       "A matrix: 10 × 11 of type lgl\n",
       "\\begin{tabular}{r|lllllllllll}\n",
       "  & (Intercept) & cyl & disp & hp & drat & wt & qsec & vs & am & gear & carb\\\\\n",
       "\\hline\n",
       "\t1 & TRUE & FALSE & FALSE & FALSE & FALSE & TRUE & FALSE & FALSE & FALSE & FALSE & FALSE\\\\\n",
       "\t2 & TRUE &  TRUE & FALSE & FALSE & FALSE & TRUE & FALSE & FALSE & FALSE & FALSE & FALSE\\\\\n",
       "\t3 & TRUE & FALSE & FALSE & FALSE & FALSE & TRUE &  TRUE & FALSE &  TRUE & FALSE & FALSE\\\\\n",
       "\t4 & TRUE & FALSE & FALSE &  TRUE & FALSE & TRUE &  TRUE & FALSE &  TRUE & FALSE & FALSE\\\\\n",
       "\t5 & TRUE & FALSE &  TRUE &  TRUE & FALSE & TRUE &  TRUE & FALSE &  TRUE & FALSE & FALSE\\\\\n",
       "\t6 & TRUE & FALSE &  TRUE &  TRUE &  TRUE & TRUE &  TRUE & FALSE &  TRUE & FALSE & FALSE\\\\\n",
       "\t7 & TRUE & FALSE &  TRUE &  TRUE &  TRUE & TRUE &  TRUE & FALSE &  TRUE &  TRUE & FALSE\\\\\n",
       "\t8 & TRUE & FALSE &  TRUE &  TRUE &  TRUE & TRUE &  TRUE & FALSE &  TRUE &  TRUE &  TRUE\\\\\n",
       "\t9 & TRUE & FALSE &  TRUE &  TRUE &  TRUE & TRUE &  TRUE &  TRUE &  TRUE &  TRUE &  TRUE\\\\\n",
       "\t10 & TRUE &  TRUE &  TRUE &  TRUE &  TRUE & TRUE &  TRUE &  TRUE &  TRUE &  TRUE &  TRUE\\\\\n",
       "\\end{tabular}\n"
      ],
      "text/markdown": [
       "\n",
       "A matrix: 10 × 11 of type lgl\n",
       "\n",
       "| <!--/--> | (Intercept) | cyl | disp | hp | drat | wt | qsec | vs | am | gear | carb |\n",
       "|---|---|---|---|---|---|---|---|---|---|---|---|\n",
       "| 1 | TRUE | FALSE | FALSE | FALSE | FALSE | TRUE | FALSE | FALSE | FALSE | FALSE | FALSE |\n",
       "| 2 | TRUE |  TRUE | FALSE | FALSE | FALSE | TRUE | FALSE | FALSE | FALSE | FALSE | FALSE |\n",
       "| 3 | TRUE | FALSE | FALSE | FALSE | FALSE | TRUE |  TRUE | FALSE |  TRUE | FALSE | FALSE |\n",
       "| 4 | TRUE | FALSE | FALSE |  TRUE | FALSE | TRUE |  TRUE | FALSE |  TRUE | FALSE | FALSE |\n",
       "| 5 | TRUE | FALSE |  TRUE |  TRUE | FALSE | TRUE |  TRUE | FALSE |  TRUE | FALSE | FALSE |\n",
       "| 6 | TRUE | FALSE |  TRUE |  TRUE |  TRUE | TRUE |  TRUE | FALSE |  TRUE | FALSE | FALSE |\n",
       "| 7 | TRUE | FALSE |  TRUE |  TRUE |  TRUE | TRUE |  TRUE | FALSE |  TRUE |  TRUE | FALSE |\n",
       "| 8 | TRUE | FALSE |  TRUE |  TRUE |  TRUE | TRUE |  TRUE | FALSE |  TRUE |  TRUE |  TRUE |\n",
       "| 9 | TRUE | FALSE |  TRUE |  TRUE |  TRUE | TRUE |  TRUE |  TRUE |  TRUE |  TRUE |  TRUE |\n",
       "| 10 | TRUE |  TRUE |  TRUE |  TRUE |  TRUE | TRUE |  TRUE |  TRUE |  TRUE |  TRUE |  TRUE |\n",
       "\n"
      ],
      "text/plain": [
       "   (Intercept) cyl   disp  hp    drat  wt   qsec  vs    am    gear  carb \n",
       "1  TRUE        FALSE FALSE FALSE FALSE TRUE FALSE FALSE FALSE FALSE FALSE\n",
       "2  TRUE         TRUE FALSE FALSE FALSE TRUE FALSE FALSE FALSE FALSE FALSE\n",
       "3  TRUE        FALSE FALSE FALSE FALSE TRUE  TRUE FALSE  TRUE FALSE FALSE\n",
       "4  TRUE        FALSE FALSE  TRUE FALSE TRUE  TRUE FALSE  TRUE FALSE FALSE\n",
       "5  TRUE        FALSE  TRUE  TRUE FALSE TRUE  TRUE FALSE  TRUE FALSE FALSE\n",
       "6  TRUE        FALSE  TRUE  TRUE  TRUE TRUE  TRUE FALSE  TRUE FALSE FALSE\n",
       "7  TRUE        FALSE  TRUE  TRUE  TRUE TRUE  TRUE FALSE  TRUE  TRUE FALSE\n",
       "8  TRUE        FALSE  TRUE  TRUE  TRUE TRUE  TRUE FALSE  TRUE  TRUE  TRUE\n",
       "9  TRUE        FALSE  TRUE  TRUE  TRUE TRUE  TRUE  TRUE  TRUE  TRUE  TRUE\n",
       "10 TRUE         TRUE  TRUE  TRUE  TRUE TRUE  TRUE  TRUE  TRUE  TRUE  TRUE"
      ]
     },
     "metadata": {},
     "output_type": "display_data"
    }
   ],
   "source": [
    "smry$which"
   ]
  },
  {
   "cell_type": "code",
   "execution_count": 16,
   "metadata": {},
   "outputs": [
    {
     "data": {
      "text/html": [
       "<style>\n",
       ".list-inline {list-style: none; margin:0; padding: 0}\n",
       ".list-inline>li {display: inline-block}\n",
       ".list-inline>li:not(:last-child)::after {content: \"\\00b7\"; padding: 0 .5ex}\n",
       "</style>\n",
       "<ol class=list-inline><li>0.752832793658264</li><li>0.830227393329409</li><li>0.849663556361707</li><li>0.857851019062361</li><li>0.863737676177572</li><li>0.866707845819489</li><li>0.868097637068196</li><li>0.868706368905678</li><li>0.868944833872251</li><li>0.869015764477765</li></ol>\n"
      ],
      "text/latex": [
       "\\begin{enumerate*}\n",
       "\\item 0.752832793658264\n",
       "\\item 0.830227393329409\n",
       "\\item 0.849663556361707\n",
       "\\item 0.857851019062361\n",
       "\\item 0.863737676177572\n",
       "\\item 0.866707845819489\n",
       "\\item 0.868097637068196\n",
       "\\item 0.868706368905678\n",
       "\\item 0.868944833872251\n",
       "\\item 0.869015764477765\n",
       "\\end{enumerate*}\n"
      ],
      "text/markdown": [
       "1. 0.752832793658264\n",
       "2. 0.830227393329409\n",
       "3. 0.849663556361707\n",
       "4. 0.857851019062361\n",
       "5. 0.863737676177572\n",
       "6. 0.866707845819489\n",
       "7. 0.868097637068196\n",
       "8. 0.868706368905678\n",
       "9. 0.868944833872251\n",
       "10. 0.869015764477765\n",
       "\n",
       "\n"
      ],
      "text/plain": [
       " [1] 0.7528328 0.8302274 0.8496636 0.8578510 0.8637377 0.8667078 0.8680976\n",
       " [8] 0.8687064 0.8689448 0.8690158"
      ]
     },
     "metadata": {},
     "output_type": "display_data"
    }
   ],
   "source": [
    "smry$rsq"
   ]
  },
  {
   "cell_type": "code",
   "execution_count": 17,
   "metadata": {},
   "outputs": [
    {
     "data": {
      "image/png": "[encoded data removed]",
      "text/plain": [
       "plot without title"
      ]
     },
     "metadata": {
      "image/png": {
       "height": 420,
       "width": 420
      }
     },
     "output_type": "display_data"
    }
   ],
   "source": [
    "plot(smry$rsq)"
   ]
  },
  {
   "cell_type": "code",
   "execution_count": 18,
   "metadata": {},
   "outputs": [
    {
     "data": {
      "image/png": "[encoded data removed]",
      "text/plain": [
       "plot without title"
      ]
     },
     "metadata": {
      "image/png": {
       "height": 420,
       "width": 420
      }
     },
     "output_type": "display_data"
    }
   ],
   "source": [
    "plot(smry$rss)"
   ]
  },
  {
   "cell_type": "code",
   "execution_count": 19,
   "metadata": {},
   "outputs": [
    {
     "data": {
      "text/html": [
       "<style>\n",
       ".list-inline {list-style: none; margin:0; padding: 0}\n",
       ".list-inline>li {display: inline-block}\n",
       ".list-inline>li:not(:last-child)::after {content: \"\\00b7\"; padding: 0 .5ex}\n",
       "</style>\n",
       "<ol class=list-inline><li>0.744593886780206</li><li>0.818518937696955</li><li>0.833556080257604</li><li>0.836791910775303</li><li>0.837533383134798</li><li>0.834717728816166</li><li>0.829626114546419</li><li>0.823039018959826</li><li>0.81533135681999</li><li>0.806642318990986</li></ol>\n"
      ],
      "text/latex": [
       "\\begin{enumerate*}\n",
       "\\item 0.744593886780206\n",
       "\\item 0.818518937696955\n",
       "\\item 0.833556080257604\n",
       "\\item 0.836791910775303\n",
       "\\item 0.837533383134798\n",
       "\\item 0.834717728816166\n",
       "\\item 0.829626114546419\n",
       "\\item 0.823039018959826\n",
       "\\item 0.81533135681999\n",
       "\\item 0.806642318990986\n",
       "\\end{enumerate*}\n"
      ],
      "text/markdown": [
       "1. 0.744593886780206\n",
       "2. 0.818518937696955\n",
       "3. 0.833556080257604\n",
       "4. 0.836791910775303\n",
       "5. 0.837533383134798\n",
       "6. 0.834717728816166\n",
       "7. 0.829626114546419\n",
       "8. 0.823039018959826\n",
       "9. 0.81533135681999\n",
       "10. 0.806642318990986\n",
       "\n",
       "\n"
      ],
      "text/plain": [
       " [1] 0.7445939 0.8185189 0.8335561 0.8367919 0.8375334 0.8347177 0.8296261\n",
       " [8] 0.8230390 0.8153314 0.8066423"
      ]
     },
     "metadata": {},
     "output_type": "display_data"
    }
   ],
   "source": [
    "smry$adjr2"
   ]
  },
  {
   "cell_type": "code",
   "execution_count": 20,
   "metadata": {},
   "outputs": [
    {
     "data": {
      "image/png": "[encoded data removed]",
      "text/plain": [
       "plot without title"
      ]
     },
     "metadata": {
      "image/png": {
       "height": 420,
       "width": 420
      }
     },
     "output_type": "display_data"
    }
   ],
   "source": [
    "plot(smry$adjr2)"
   ]
  },
  {
   "cell_type": "code",
   "execution_count": 20,
   "metadata": {},
   "outputs": [
    {
     "data": {
      "image/png": "[encoded data removed]",
      "text/plain": [
       "plot without title"
      ]
     },
     "metadata": {
      "image/png": {
       "height": 420,
       "width": 420
      }
     },
     "output_type": "display_data"
    }
   ],
   "source": [
    "plot(smry$bic)"
   ]
  },
  {
   "cell_type": "code",
   "execution_count": 21,
   "metadata": {},
   "outputs": [
    {
     "data": {
      "text/html": [
       "5"
      ],
      "text/latex": [
       "5"
      ],
      "text/markdown": [
       "5"
      ],
      "text/plain": [
       "[1] 5"
      ]
     },
     "metadata": {},
     "output_type": "display_data"
    }
   ],
   "source": [
    "ii = which.max(smry$adjr2)\n",
    "ii"
   ]
  },
  {
   "cell_type": "code",
   "execution_count": 22,
   "metadata": {},
   "outputs": [
    {
     "data": {
      "text/html": [
       "<style>\n",
       ".list-inline {list-style: none; margin:0; padding: 0}\n",
       ".list-inline>li {display: inline-block}\n",
       ".list-inline>li:not(:last-child)::after {content: \"\\00b7\"; padding: 0 .5ex}\n",
       "</style>\n",
       "<ol class=list-inline><li>'disp'</li><li>'hp'</li><li>'wt'</li><li>'qsec'</li><li>'am'</li></ol>\n"
      ],
      "text/latex": [
       "\\begin{enumerate*}\n",
       "\\item 'disp'\n",
       "\\item 'hp'\n",
       "\\item 'wt'\n",
       "\\item 'qsec'\n",
       "\\item 'am'\n",
       "\\end{enumerate*}\n"
      ],
      "text/markdown": [
       "1. 'disp'\n",
       "2. 'hp'\n",
       "3. 'wt'\n",
       "4. 'qsec'\n",
       "5. 'am'\n",
       "\n",
       "\n"
      ],
      "text/plain": [
       "[1] \"disp\" \"hp\"   \"wt\"   \"qsec\" \"am\"  "
      ]
     },
     "metadata": {},
     "output_type": "display_data"
    }
   ],
   "source": [
    "best_vars = colnames(smry$which)[smry$which[ii,]][-1]\n",
    "best_vars"
   ]
  },
  {
   "cell_type": "code",
   "execution_count": 23,
   "metadata": {},
   "outputs": [
    {
     "data": {
      "text/html": [
       "'mpg~disp+hp+wt+qsec+am'"
      ],
      "text/latex": [
       "'mpg\\textasciitilde{}disp+hp+wt+qsec+am'"
      ],
      "text/markdown": [
       "'mpg~disp+hp+wt+qsec+am'"
      ],
      "text/plain": [
       "[1] \"mpg~disp+hp+wt+qsec+am\""
      ]
     },
     "metadata": {},
     "output_type": "display_data"
    }
   ],
   "source": [
    "fmla = paste0(\"mpg~\",paste(best_vars,collapse=\"+\"))\n",
    "fmla"
   ]
  },
  {
   "cell_type": "code",
   "execution_count": 24,
   "metadata": {},
   "outputs": [],
   "source": [
    "best_mod = lm(as.formula(fmla),data=mtcars)"
   ]
  },
  {
   "cell_type": "code",
   "execution_count": 25,
   "metadata": {},
   "outputs": [
    {
     "data": {
      "image/png": "[encoded data removed]",
      "text/plain": [
       "plot without title"
      ]
     },
     "metadata": {
      "image/png": {
       "height": 420,
       "width": 420
      }
     },
     "output_type": "display_data"
    }
   ],
   "source": [
    "plot(mtcars$mpg,predict(best_mod))\n",
    "abline(coef=c(0,1))"
   ]
  }
 ],
 "metadata": {
  "jupytext": {
   "formats": "ipynb,Rmd,R"
  },
  "kernelspec": {
   "display_name": "R",
   "language": "R",
   "name": "ir"
  },
  "language_info": {
   "codemirror_mode": "r",
   "file_extension": ".r",
   "mimetype": "text/x-r-source",
   "name": "R",
   "pygments_lexer": "r",
   "version": "4.0.3"
  }
 },
 "nbformat": 4,
 "nbformat_minor": 4
}
